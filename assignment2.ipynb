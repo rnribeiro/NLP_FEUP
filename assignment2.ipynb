{
 "cells": [
  {
   "cell_type": "markdown",
   "id": "3445c9855ff311e7",
   "metadata": {},
   "source": "# Sentiment Analysis - Labelled Financial News Data Using Transformer Models"
  },
  {
   "cell_type": "code",
   "id": "7fe6ac1d1f0f6129",
   "metadata": {
    "ExecuteTime": {
     "end_time": "2024-05-22T10:57:08.123508Z",
     "start_time": "2024-05-22T10:57:08.116450Z"
    }
   },
   "source": [
    "# Importing the required libraries\n",
    "import pandas as pd\n",
    "import numpy as np\n",
    "from datasets import Dataset, DatasetDict\n",
    "from transformers import AutoTokenizer\n",
    "from transformers import TrainingArguments\n",
    "from transformers import Trainer\n",
    "from transformers import DataCollatorWithPadding\n",
    "from transformers import AutoModelForSequenceClassification\n",
    "import evaluate\n",
    "from sklearn.metrics import confusion_matrix, accuracy_score, precision_score, recall_score, f1_score"
   ],
   "outputs": [],
   "execution_count": 115
  },
  {
   "cell_type": "markdown",
   "id": "b93ec5afcbb2d02a",
   "metadata": {},
   "source": [
    "### Loading the data"
   ]
  },
  {
   "cell_type": "code",
   "id": "aa625c70a8cfa0b8",
   "metadata": {
    "ExecuteTime": {
     "end_time": "2024-05-22T10:31:15.029196Z",
     "start_time": "2024-05-22T10:31:15.003749Z"
    }
   },
   "source": [
    "data = pd.read_csv('data/Fin_cleaned.csv', encoding='utf-8')\n",
    "\n",
    "# duplicate the data\n",
    "news = data.copy()\n",
    "\n",
    "news"
   ],
   "outputs": [
    {
     "data": {
      "text/plain": [
       "    Date_published                                           Headline  \\\n",
       "0       2022-06-21  Banks holding on to subsidy share, say payment...   \n",
       "1       2022-04-19  Digitally ready Bank of Baroda aims to click o...   \n",
       "2       2022-05-27  Karnataka attracted investment commitment of R...   \n",
       "3       2022-04-06  Splitting of provident fund accounts may be de...   \n",
       "4       2022-06-14  Irdai weighs proposal to privatise Insurance I...   \n",
       "..             ...                                                ...   \n",
       "395     2022-06-10      Banks take a cue from RBI, hike lending rates   \n",
       "396     2022-06-29  Sebi issues Rs 27 lakh recovery notice to indi...   \n",
       "397     2022-06-06  Apollo Hospital shares  drop  0.68% as Sensex ...   \n",
       "398     2022-05-16  SBI at Rs 710? What makes analysts see up to 5...   \n",
       "399     2022-05-27  Stock market update: Mining stocks  up  as mar...   \n",
       "\n",
       "                                              Synopsis  \\\n",
       "0    The companies have written to the National Pay...   \n",
       "1    At present, 50% of the bank's retail loans are...   \n",
       "2    Karnataka is at the forefront in attracting in...   \n",
       "3    The EPFO is likely to split accounts only at t...   \n",
       "4    Set up in 2009 as an advisory body, IIB collec...   \n",
       "..                                                 ...   \n",
       "395  These banks raised their respective external b...   \n",
       "396  In the event of non-payment, it will recover t...   \n",
       "397  A total of 10,105 shares changed hands on the ...   \n",
       "398  Calling the stock 'attractively valued' analys...   \n",
       "399  The 30-share BSE Sensex was  up  323.71 points...   \n",
       "\n",
       "                                             Full_text Final Status  \n",
       "0    ReutersPayments companies and banks are at log...     Negative  \n",
       "1    AgenciesThe bank presently has 20 million acti...     Positive  \n",
       "2    PTIKarnataka Chief Minister Basavaraj Bommai.K...     Positive  \n",
       "3    Getty ImagesThe budget for FY22 had imposed in...     Negative  \n",
       "4    AgenciesThere is a view in the insurance indus...     Positive  \n",
       "..                                                 ...          ...  \n",
       "395  PTIICICI Bank, Bank of Baroda, Punjab National...     Negative  \n",
       "396  ReutersThe logo of the Securities and Exchange...     Negative  \n",
       "397  Getty ImagesShrikant Chouhan of Kotak Securiti...     Negative  \n",
       "398  AgenciesThe PSU bank reported a 41.27 per cent...     Positive  \n",
       "399  Shutterstock.comAgarwal said the global econom...     Positive  \n",
       "\n",
       "[400 rows x 5 columns]"
      ],
      "text/html": [
       "<div>\n",
       "<style scoped>\n",
       "    .dataframe tbody tr th:only-of-type {\n",
       "        vertical-align: middle;\n",
       "    }\n",
       "\n",
       "    .dataframe tbody tr th {\n",
       "        vertical-align: top;\n",
       "    }\n",
       "\n",
       "    .dataframe thead th {\n",
       "        text-align: right;\n",
       "    }\n",
       "</style>\n",
       "<table border=\"1\" class=\"dataframe\">\n",
       "  <thead>\n",
       "    <tr style=\"text-align: right;\">\n",
       "      <th></th>\n",
       "      <th>Date_published</th>\n",
       "      <th>Headline</th>\n",
       "      <th>Synopsis</th>\n",
       "      <th>Full_text</th>\n",
       "      <th>Final Status</th>\n",
       "    </tr>\n",
       "  </thead>\n",
       "  <tbody>\n",
       "    <tr>\n",
       "      <th>0</th>\n",
       "      <td>2022-06-21</td>\n",
       "      <td>Banks holding on to subsidy share, say payment...</td>\n",
       "      <td>The companies have written to the National Pay...</td>\n",
       "      <td>ReutersPayments companies and banks are at log...</td>\n",
       "      <td>Negative</td>\n",
       "    </tr>\n",
       "    <tr>\n",
       "      <th>1</th>\n",
       "      <td>2022-04-19</td>\n",
       "      <td>Digitally ready Bank of Baroda aims to click o...</td>\n",
       "      <td>At present, 50% of the bank's retail loans are...</td>\n",
       "      <td>AgenciesThe bank presently has 20 million acti...</td>\n",
       "      <td>Positive</td>\n",
       "    </tr>\n",
       "    <tr>\n",
       "      <th>2</th>\n",
       "      <td>2022-05-27</td>\n",
       "      <td>Karnataka attracted investment commitment of R...</td>\n",
       "      <td>Karnataka is at the forefront in attracting in...</td>\n",
       "      <td>PTIKarnataka Chief Minister Basavaraj Bommai.K...</td>\n",
       "      <td>Positive</td>\n",
       "    </tr>\n",
       "    <tr>\n",
       "      <th>3</th>\n",
       "      <td>2022-04-06</td>\n",
       "      <td>Splitting of provident fund accounts may be de...</td>\n",
       "      <td>The EPFO is likely to split accounts only at t...</td>\n",
       "      <td>Getty ImagesThe budget for FY22 had imposed in...</td>\n",
       "      <td>Negative</td>\n",
       "    </tr>\n",
       "    <tr>\n",
       "      <th>4</th>\n",
       "      <td>2022-06-14</td>\n",
       "      <td>Irdai weighs proposal to privatise Insurance I...</td>\n",
       "      <td>Set up in 2009 as an advisory body, IIB collec...</td>\n",
       "      <td>AgenciesThere is a view in the insurance indus...</td>\n",
       "      <td>Positive</td>\n",
       "    </tr>\n",
       "    <tr>\n",
       "      <th>...</th>\n",
       "      <td>...</td>\n",
       "      <td>...</td>\n",
       "      <td>...</td>\n",
       "      <td>...</td>\n",
       "      <td>...</td>\n",
       "    </tr>\n",
       "    <tr>\n",
       "      <th>395</th>\n",
       "      <td>2022-06-10</td>\n",
       "      <td>Banks take a cue from RBI, hike lending rates</td>\n",
       "      <td>These banks raised their respective external b...</td>\n",
       "      <td>PTIICICI Bank, Bank of Baroda, Punjab National...</td>\n",
       "      <td>Negative</td>\n",
       "    </tr>\n",
       "    <tr>\n",
       "      <th>396</th>\n",
       "      <td>2022-06-29</td>\n",
       "      <td>Sebi issues Rs 27 lakh recovery notice to indi...</td>\n",
       "      <td>In the event of non-payment, it will recover t...</td>\n",
       "      <td>ReutersThe logo of the Securities and Exchange...</td>\n",
       "      <td>Negative</td>\n",
       "    </tr>\n",
       "    <tr>\n",
       "      <th>397</th>\n",
       "      <td>2022-06-06</td>\n",
       "      <td>Apollo Hospital shares  drop  0.68% as Sensex ...</td>\n",
       "      <td>A total of 10,105 shares changed hands on the ...</td>\n",
       "      <td>Getty ImagesShrikant Chouhan of Kotak Securiti...</td>\n",
       "      <td>Negative</td>\n",
       "    </tr>\n",
       "    <tr>\n",
       "      <th>398</th>\n",
       "      <td>2022-05-16</td>\n",
       "      <td>SBI at Rs 710? What makes analysts see up to 5...</td>\n",
       "      <td>Calling the stock 'attractively valued' analys...</td>\n",
       "      <td>AgenciesThe PSU bank reported a 41.27 per cent...</td>\n",
       "      <td>Positive</td>\n",
       "    </tr>\n",
       "    <tr>\n",
       "      <th>399</th>\n",
       "      <td>2022-05-27</td>\n",
       "      <td>Stock market update: Mining stocks  up  as mar...</td>\n",
       "      <td>The 30-share BSE Sensex was  up  323.71 points...</td>\n",
       "      <td>Shutterstock.comAgarwal said the global econom...</td>\n",
       "      <td>Positive</td>\n",
       "    </tr>\n",
       "  </tbody>\n",
       "</table>\n",
       "<p>400 rows × 5 columns</p>\n",
       "</div>"
      ]
     },
     "execution_count": 88,
     "metadata": {},
     "output_type": "execute_result"
    }
   ],
   "execution_count": 88
  },
  {
   "cell_type": "markdown",
   "id": "d5cb83a1a8d98f7a",
   "metadata": {},
   "source": [
    "### Data Preprocessing"
   ]
  },
  {
   "cell_type": "code",
   "id": "a5d6d1dadbee521b",
   "metadata": {
    "ExecuteTime": {
     "end_time": "2024-05-22T10:31:16.125602Z",
     "start_time": "2024-05-22T10:31:16.109936Z"
    }
   },
   "source": [
    "# Fill the missing value with an empty string\n",
    "news['Synopsis'] = news['Synopsis'].fillna('')\n",
    "\n",
    "# Rename columns\n",
    "news = news.rename(\n",
    "    columns={'Date_published': 'date', 'Headline': 'headline', 'Synopsis': 'synopsis', 'Full_text': 'text',\n",
    "             'Final Status': 'label'})\n",
    "\n",
    "# Remove the spaces from the labels\n",
    "news['label'] = news['label'].str.strip()\n",
    "\n",
    "# Combine the headline, synopsis, and text columns\n",
    "news['combined_text'] = news['headline'] + ' ' + news['synopsis'] + ' ' + news['text']\n",
    "\n",
    "# Convert labels to binary\n",
    "news['label'] = news['label'].apply(lambda x: 1 if x == 'Positive' else 0)\n",
    "\n",
    "news"
   ],
   "outputs": [
    {
     "data": {
      "text/plain": [
       "           date                                           headline  \\\n",
       "0    2022-06-21  Banks holding on to subsidy share, say payment...   \n",
       "1    2022-04-19  Digitally ready Bank of Baroda aims to click o...   \n",
       "2    2022-05-27  Karnataka attracted investment commitment of R...   \n",
       "3    2022-04-06  Splitting of provident fund accounts may be de...   \n",
       "4    2022-06-14  Irdai weighs proposal to privatise Insurance I...   \n",
       "..          ...                                                ...   \n",
       "395  2022-06-10      Banks take a cue from RBI, hike lending rates   \n",
       "396  2022-06-29  Sebi issues Rs 27 lakh recovery notice to indi...   \n",
       "397  2022-06-06  Apollo Hospital shares  drop  0.68% as Sensex ...   \n",
       "398  2022-05-16  SBI at Rs 710? What makes analysts see up to 5...   \n",
       "399  2022-05-27  Stock market update: Mining stocks  up  as mar...   \n",
       "\n",
       "                                              synopsis  \\\n",
       "0    The companies have written to the National Pay...   \n",
       "1    At present, 50% of the bank's retail loans are...   \n",
       "2    Karnataka is at the forefront in attracting in...   \n",
       "3    The EPFO is likely to split accounts only at t...   \n",
       "4    Set up in 2009 as an advisory body, IIB collec...   \n",
       "..                                                 ...   \n",
       "395  These banks raised their respective external b...   \n",
       "396  In the event of non-payment, it will recover t...   \n",
       "397  A total of 10,105 shares changed hands on the ...   \n",
       "398  Calling the stock 'attractively valued' analys...   \n",
       "399  The 30-share BSE Sensex was  up  323.71 points...   \n",
       "\n",
       "                                                  text  label  \\\n",
       "0    ReutersPayments companies and banks are at log...      0   \n",
       "1    AgenciesThe bank presently has 20 million acti...      1   \n",
       "2    PTIKarnataka Chief Minister Basavaraj Bommai.K...      1   \n",
       "3    Getty ImagesThe budget for FY22 had imposed in...      0   \n",
       "4    AgenciesThere is a view in the insurance indus...      1   \n",
       "..                                                 ...    ...   \n",
       "395  PTIICICI Bank, Bank of Baroda, Punjab National...      0   \n",
       "396  ReutersThe logo of the Securities and Exchange...      0   \n",
       "397  Getty ImagesShrikant Chouhan of Kotak Securiti...      0   \n",
       "398  AgenciesThe PSU bank reported a 41.27 per cent...      1   \n",
       "399  Shutterstock.comAgarwal said the global econom...      1   \n",
       "\n",
       "                                         combined_text  \n",
       "0    Banks holding on to subsidy share, say payment...  \n",
       "1    Digitally ready Bank of Baroda aims to click o...  \n",
       "2    Karnataka attracted investment commitment of R...  \n",
       "3    Splitting of provident fund accounts may be de...  \n",
       "4    Irdai weighs proposal to privatise Insurance I...  \n",
       "..                                                 ...  \n",
       "395  Banks take a cue from RBI, hike lending rates ...  \n",
       "396  Sebi issues Rs 27 lakh recovery notice to indi...  \n",
       "397  Apollo Hospital shares  drop  0.68% as Sensex ...  \n",
       "398  SBI at Rs 710? What makes analysts see up to 5...  \n",
       "399  Stock market update: Mining stocks  up  as mar...  \n",
       "\n",
       "[400 rows x 6 columns]"
      ],
      "text/html": [
       "<div>\n",
       "<style scoped>\n",
       "    .dataframe tbody tr th:only-of-type {\n",
       "        vertical-align: middle;\n",
       "    }\n",
       "\n",
       "    .dataframe tbody tr th {\n",
       "        vertical-align: top;\n",
       "    }\n",
       "\n",
       "    .dataframe thead th {\n",
       "        text-align: right;\n",
       "    }\n",
       "</style>\n",
       "<table border=\"1\" class=\"dataframe\">\n",
       "  <thead>\n",
       "    <tr style=\"text-align: right;\">\n",
       "      <th></th>\n",
       "      <th>date</th>\n",
       "      <th>headline</th>\n",
       "      <th>synopsis</th>\n",
       "      <th>text</th>\n",
       "      <th>label</th>\n",
       "      <th>combined_text</th>\n",
       "    </tr>\n",
       "  </thead>\n",
       "  <tbody>\n",
       "    <tr>\n",
       "      <th>0</th>\n",
       "      <td>2022-06-21</td>\n",
       "      <td>Banks holding on to subsidy share, say payment...</td>\n",
       "      <td>The companies have written to the National Pay...</td>\n",
       "      <td>ReutersPayments companies and banks are at log...</td>\n",
       "      <td>0</td>\n",
       "      <td>Banks holding on to subsidy share, say payment...</td>\n",
       "    </tr>\n",
       "    <tr>\n",
       "      <th>1</th>\n",
       "      <td>2022-04-19</td>\n",
       "      <td>Digitally ready Bank of Baroda aims to click o...</td>\n",
       "      <td>At present, 50% of the bank's retail loans are...</td>\n",
       "      <td>AgenciesThe bank presently has 20 million acti...</td>\n",
       "      <td>1</td>\n",
       "      <td>Digitally ready Bank of Baroda aims to click o...</td>\n",
       "    </tr>\n",
       "    <tr>\n",
       "      <th>2</th>\n",
       "      <td>2022-05-27</td>\n",
       "      <td>Karnataka attracted investment commitment of R...</td>\n",
       "      <td>Karnataka is at the forefront in attracting in...</td>\n",
       "      <td>PTIKarnataka Chief Minister Basavaraj Bommai.K...</td>\n",
       "      <td>1</td>\n",
       "      <td>Karnataka attracted investment commitment of R...</td>\n",
       "    </tr>\n",
       "    <tr>\n",
       "      <th>3</th>\n",
       "      <td>2022-04-06</td>\n",
       "      <td>Splitting of provident fund accounts may be de...</td>\n",
       "      <td>The EPFO is likely to split accounts only at t...</td>\n",
       "      <td>Getty ImagesThe budget for FY22 had imposed in...</td>\n",
       "      <td>0</td>\n",
       "      <td>Splitting of provident fund accounts may be de...</td>\n",
       "    </tr>\n",
       "    <tr>\n",
       "      <th>4</th>\n",
       "      <td>2022-06-14</td>\n",
       "      <td>Irdai weighs proposal to privatise Insurance I...</td>\n",
       "      <td>Set up in 2009 as an advisory body, IIB collec...</td>\n",
       "      <td>AgenciesThere is a view in the insurance indus...</td>\n",
       "      <td>1</td>\n",
       "      <td>Irdai weighs proposal to privatise Insurance I...</td>\n",
       "    </tr>\n",
       "    <tr>\n",
       "      <th>...</th>\n",
       "      <td>...</td>\n",
       "      <td>...</td>\n",
       "      <td>...</td>\n",
       "      <td>...</td>\n",
       "      <td>...</td>\n",
       "      <td>...</td>\n",
       "    </tr>\n",
       "    <tr>\n",
       "      <th>395</th>\n",
       "      <td>2022-06-10</td>\n",
       "      <td>Banks take a cue from RBI, hike lending rates</td>\n",
       "      <td>These banks raised their respective external b...</td>\n",
       "      <td>PTIICICI Bank, Bank of Baroda, Punjab National...</td>\n",
       "      <td>0</td>\n",
       "      <td>Banks take a cue from RBI, hike lending rates ...</td>\n",
       "    </tr>\n",
       "    <tr>\n",
       "      <th>396</th>\n",
       "      <td>2022-06-29</td>\n",
       "      <td>Sebi issues Rs 27 lakh recovery notice to indi...</td>\n",
       "      <td>In the event of non-payment, it will recover t...</td>\n",
       "      <td>ReutersThe logo of the Securities and Exchange...</td>\n",
       "      <td>0</td>\n",
       "      <td>Sebi issues Rs 27 lakh recovery notice to indi...</td>\n",
       "    </tr>\n",
       "    <tr>\n",
       "      <th>397</th>\n",
       "      <td>2022-06-06</td>\n",
       "      <td>Apollo Hospital shares  drop  0.68% as Sensex ...</td>\n",
       "      <td>A total of 10,105 shares changed hands on the ...</td>\n",
       "      <td>Getty ImagesShrikant Chouhan of Kotak Securiti...</td>\n",
       "      <td>0</td>\n",
       "      <td>Apollo Hospital shares  drop  0.68% as Sensex ...</td>\n",
       "    </tr>\n",
       "    <tr>\n",
       "      <th>398</th>\n",
       "      <td>2022-05-16</td>\n",
       "      <td>SBI at Rs 710? What makes analysts see up to 5...</td>\n",
       "      <td>Calling the stock 'attractively valued' analys...</td>\n",
       "      <td>AgenciesThe PSU bank reported a 41.27 per cent...</td>\n",
       "      <td>1</td>\n",
       "      <td>SBI at Rs 710? What makes analysts see up to 5...</td>\n",
       "    </tr>\n",
       "    <tr>\n",
       "      <th>399</th>\n",
       "      <td>2022-05-27</td>\n",
       "      <td>Stock market update: Mining stocks  up  as mar...</td>\n",
       "      <td>The 30-share BSE Sensex was  up  323.71 points...</td>\n",
       "      <td>Shutterstock.comAgarwal said the global econom...</td>\n",
       "      <td>1</td>\n",
       "      <td>Stock market update: Mining stocks  up  as mar...</td>\n",
       "    </tr>\n",
       "  </tbody>\n",
       "</table>\n",
       "<p>400 rows × 6 columns</p>\n",
       "</div>"
      ]
     },
     "execution_count": 89,
     "metadata": {},
     "output_type": "execute_result"
    }
   ],
   "execution_count": 89
  },
  {
   "metadata": {},
   "cell_type": "markdown",
   "source": "## Create a dataset dictionary",
   "id": "41318a80f738bc14"
  },
  {
   "metadata": {
    "ExecuteTime": {
     "end_time": "2024-05-22T10:31:17.374181Z",
     "start_time": "2024-05-22T10:31:17.354604Z"
    }
   },
   "cell_type": "code",
   "source": [
    "# Create a dataset dictionary\n",
    "dataset = Dataset.from_pandas(news[[\"combined_text\", 'label']])\n",
    "\n",
    "# Display the dataset dictionary    \n",
    "dataset"
   ],
   "id": "f1fff9f65bd23923",
   "outputs": [
    {
     "data": {
      "text/plain": [
       "Dataset({\n",
       "    features: ['combined_text', 'label'],\n",
       "    num_rows: 400\n",
       "})"
      ]
     },
     "execution_count": 90,
     "metadata": {},
     "output_type": "execute_result"
    }
   ],
   "execution_count": 90
  },
  {
   "cell_type": "markdown",
   "id": "1bf44a3c66ec506d",
   "metadata": {},
   "source": "## Split the dataset into training and testing sets"
  },
  {
   "cell_type": "code",
   "id": "d52ffcdfbb353e31",
   "metadata": {
    "ExecuteTime": {
     "end_time": "2024-05-22T10:31:18.457596Z",
     "start_time": "2024-05-22T10:31:18.447400Z"
    }
   },
   "source": [
    "# We will split the dataset into 80% training and 20% testing\n",
    "train_test = dataset.train_test_split(test_size=0.2, seed=42)"
   ],
   "outputs": [],
   "execution_count": 91
  },
  {
   "cell_type": "code",
   "id": "2fa832572163e894",
   "metadata": {
    "ExecuteTime": {
     "end_time": "2024-05-22T10:31:18.856191Z",
     "start_time": "2024-05-22T10:31:18.844851Z"
    }
   },
   "source": [
    "# Now we will split the test set into 50% validation and 50% test\n",
    "valid_test = train_test['test'].train_test_split(test_size=0.5, seed=42)"
   ],
   "outputs": [],
   "execution_count": 92
  },
  {
   "metadata": {},
   "cell_type": "markdown",
   "source": "## Create a final dataset dictionary",
   "id": "fd370551a0f7a174"
  },
  {
   "cell_type": "code",
   "id": "7a69fdc07ed9c9b2",
   "metadata": {
    "ExecuteTime": {
     "end_time": "2024-05-22T10:31:20.252966Z",
     "start_time": "2024-05-22T10:31:20.247662Z"
    }
   },
   "source": [
    "# Combine the training, validation, and testing sets into a single dictionary\n",
    "final_dataset = DatasetDict({\n",
    "    'train': train_test['train'],\n",
    "    'validation': valid_test['train'],\n",
    "    'test': valid_test['test']\n",
    "})\n",
    "\n",
    "final_dataset"
   ],
   "outputs": [
    {
     "data": {
      "text/plain": [
       "DatasetDict({\n",
       "    train: Dataset({\n",
       "        features: ['combined_text', 'label'],\n",
       "        num_rows: 320\n",
       "    })\n",
       "    validation: Dataset({\n",
       "        features: ['combined_text', 'label'],\n",
       "        num_rows: 40\n",
       "    })\n",
       "    test: Dataset({\n",
       "        features: ['combined_text', 'label'],\n",
       "        num_rows: 40\n",
       "    })\n",
       "})"
      ]
     },
     "execution_count": 93,
     "metadata": {},
     "output_type": "execute_result"
    }
   ],
   "execution_count": 93
  },
  {
   "metadata": {},
   "cell_type": "markdown",
   "source": "## Defining models",
   "id": "87f2c09209b67c36"
  },
  {
   "metadata": {},
   "cell_type": "markdown",
   "source": [
    "1. [Fine-tuned DistilRoBERTa for Financial News Sentiment Analysis](https://huggingface.co/mrm8488/distilroberta-finetuned-financial-news-sentiment-analysis)\n",
    "\n",
    "    This model is a distilled version of the RoBERTa-base model. It follows the same training procedure as DistilBERT. The model has 6 layers, 768 dimension and 12 heads, totalizing 82M parameters (compared to 125M parameters for RoBERTa-base). On average DistilRoBERTa is twice as fast as Roberta-base.\n",
    "2. [DistilBERTa](https://huggingface.co/distilbert/distilbert-base-uncased)\n",
    "\n",
    "    DistilBERTa is a transformers model, smaller and faster than BERT, which was pretrained on the same corpus in a self-supervised fashion, using the BERT base model as a teacher. This means it was pretrained on the raw texts only, with no humans labelling them in any way (which is why it can use lots of publicly available data) with an automatic process to generate inputs and labels from those texts using the BERT base model.\n",
    "\n",
    "3. [FinBERT](https://huggingface.co/ProsusAI/finbert)\n",
    "\n",
    "    FinBERT is a pre-trained NLP model to analyze sentiment of financial text. It is built by further training the BERT language model in the finance domain, using a large financial corpus and thereby fine-tuning it for financial sentiment classification."
   ],
   "id": "e67a9d47418ca2c6"
  },
  {
   "metadata": {
    "ExecuteTime": {
     "end_time": "2024-05-22T10:41:35.387130Z",
     "start_time": "2024-05-22T10:41:34.138783Z"
    }
   },
   "cell_type": "code",
   "source": [
    "# Models names\n",
    "model_names = [\n",
    "    \"mrm8488/distilroberta-finetuned-financial-news-sentiment-analysis\",\n",
    "    \"distilbert-base-uncased\",\n",
    "    \"ProsusAI/finbert\"\n",
    "]\n",
    "\n",
    "# Hugging Face organization name for the models saving\n",
    "huggingface_owner = \"NLP-FEUP/\"\n",
    "\n",
    "# Create a models dictionary\n",
    "models = {\n",
    "    model: {\n",
    "        'ft_saving_dir': huggingface_owner + \"FT-\" + model.replace(\"/\", \"-\"),\n",
    "        'tokenizer': AutoTokenizer.from_pretrained(model),\n",
    "        'ft_dataset': DatasetDict({\n",
    "            'train': train_test['train'],\n",
    "            'validation': valid_test['train'],\n",
    "            'test': valid_test['test']\n",
    "        }),  # Dataset for Fine-tuning\n",
    "    }\n",
    "    for model in model_names\n",
    "}\n"
   ],
   "id": "6f37417161dce39d",
   "outputs": [],
   "execution_count": 96
  },
  {
   "metadata": {},
   "cell_type": "markdown",
   "source": "## Tokenization of the dataset",
   "id": "8028f5cdd8eb41e"
  },
  {
   "metadata": {
    "ExecuteTime": {
     "end_time": "2024-05-22T10:41:40.877473Z",
     "start_time": "2024-05-22T10:41:38.980511Z"
    }
   },
   "cell_type": "code",
   "source": [
    "# Function to tokenize the dataset\n",
    "def ft_tokenize_function(model, examples):\n",
    "    return model['tokenizer'](examples['combined_text'], truncation=True, padding='max_length')\n",
    "\n",
    "\n",
    "# Tokenize the dataset\n",
    "for model in model_names:\n",
    "    models[model]['ft_dataset'] = models[model]['ft_dataset'].map(\n",
    "        lambda examples: ft_tokenize_function(models[model], examples),\n",
    "        batched=True)\n",
    "\n",
    "models[model_names[0]]['ft_dataset']"
   ],
   "id": "ee371373db9a236c",
   "outputs": [
    {
     "data": {
      "text/plain": [
       "Map:   0%|          | 0/320 [00:00<?, ? examples/s]"
      ],
      "application/vnd.jupyter.widget-view+json": {
       "version_major": 2,
       "version_minor": 0,
       "model_id": "fdc4bd08f7034a098cdf04ab5b97c070"
      }
     },
     "metadata": {},
     "output_type": "display_data"
    },
    {
     "data": {
      "text/plain": [
       "Map:   0%|          | 0/40 [00:00<?, ? examples/s]"
      ],
      "application/vnd.jupyter.widget-view+json": {
       "version_major": 2,
       "version_minor": 0,
       "model_id": "62c2d423fb6b435dab9b1caaff53b349"
      }
     },
     "metadata": {},
     "output_type": "display_data"
    },
    {
     "data": {
      "text/plain": [
       "Map:   0%|          | 0/40 [00:00<?, ? examples/s]"
      ],
      "application/vnd.jupyter.widget-view+json": {
       "version_major": 2,
       "version_minor": 0,
       "model_id": "2ab0bbb035924a8a9f0113a2d283deb5"
      }
     },
     "metadata": {},
     "output_type": "display_data"
    },
    {
     "data": {
      "text/plain": [
       "Map:   0%|          | 0/320 [00:00<?, ? examples/s]"
      ],
      "application/vnd.jupyter.widget-view+json": {
       "version_major": 2,
       "version_minor": 0,
       "model_id": "9e0dbf4cee974588aec8f77a580a56aa"
      }
     },
     "metadata": {},
     "output_type": "display_data"
    },
    {
     "data": {
      "text/plain": [
       "Map:   0%|          | 0/40 [00:00<?, ? examples/s]"
      ],
      "application/vnd.jupyter.widget-view+json": {
       "version_major": 2,
       "version_minor": 0,
       "model_id": "3199013122744459b6327091798a578d"
      }
     },
     "metadata": {},
     "output_type": "display_data"
    },
    {
     "data": {
      "text/plain": [
       "Map:   0%|          | 0/40 [00:00<?, ? examples/s]"
      ],
      "application/vnd.jupyter.widget-view+json": {
       "version_major": 2,
       "version_minor": 0,
       "model_id": "23ef94c0b4b744abb81d5f95bf098899"
      }
     },
     "metadata": {},
     "output_type": "display_data"
    },
    {
     "data": {
      "text/plain": [
       "Map:   0%|          | 0/320 [00:00<?, ? examples/s]"
      ],
      "application/vnd.jupyter.widget-view+json": {
       "version_major": 2,
       "version_minor": 0,
       "model_id": "964b7d897d384831878267f9dcfd6b8f"
      }
     },
     "metadata": {},
     "output_type": "display_data"
    },
    {
     "data": {
      "text/plain": [
       "Map:   0%|          | 0/40 [00:00<?, ? examples/s]"
      ],
      "application/vnd.jupyter.widget-view+json": {
       "version_major": 2,
       "version_minor": 0,
       "model_id": "6a1b73fd661546c1abd90dd83f22610c"
      }
     },
     "metadata": {},
     "output_type": "display_data"
    },
    {
     "data": {
      "text/plain": [
       "Map:   0%|          | 0/40 [00:00<?, ? examples/s]"
      ],
      "application/vnd.jupyter.widget-view+json": {
       "version_major": 2,
       "version_minor": 0,
       "model_id": "51b15225a43f47ed8a137becdbaffdcb"
      }
     },
     "metadata": {},
     "output_type": "display_data"
    },
    {
     "data": {
      "text/plain": [
       "DatasetDict({\n",
       "    train: Dataset({\n",
       "        features: ['combined_text', 'label', 'input_ids', 'attention_mask'],\n",
       "        num_rows: 320\n",
       "    })\n",
       "    validation: Dataset({\n",
       "        features: ['combined_text', 'label', 'input_ids', 'attention_mask'],\n",
       "        num_rows: 40\n",
       "    })\n",
       "    test: Dataset({\n",
       "        features: ['combined_text', 'label', 'input_ids', 'attention_mask'],\n",
       "        num_rows: 40\n",
       "    })\n",
       "})"
      ]
     },
     "execution_count": 97,
     "metadata": {},
     "output_type": "execute_result"
    }
   ],
   "execution_count": 97
  },
  {
   "cell_type": "markdown",
   "id": "7944232b173f18f7",
   "metadata": {},
   "source": "## Loading models"
  },
  {
   "cell_type": "code",
   "id": "d24baee96a243fd7",
   "metadata": {
    "ExecuteTime": {
     "end_time": "2024-05-22T10:43:04.010383Z",
     "start_time": "2024-05-22T10:41:43.814737Z"
    }
   },
   "source": [
    "# Load the metric\n",
    "metric = evaluate.load(\"accuracy\")\n",
    "\n",
    "\n",
    "# Define the function to compute the metrics\n",
    "def compute_metrics(eval_pred):\n",
    "    logits, labels = eval_pred\n",
    "    predictions = np.argmax(logits, axis=-1)\n",
    "    return metric.compute(predictions=predictions, references=labels)\n",
    "\n",
    "\n",
    "# Load all models\n",
    "for model in model_names:\n",
    "    # Load the model for fine-tuning\n",
    "    models[model]['ft_model'] = AutoModelForSequenceClassification.from_pretrained(\n",
    "        model, num_labels=2, ignore_mismatched_sizes=True\n",
    "    )\n",
    "\n",
    "    # Define the training arguments\n",
    "    models[model]['ft_training_args'] = TrainingArguments(\n",
    "        output_dir=\"./ft_training_results/\" + model.replace(\"/\", \"-\"),\n",
    "        learning_rate=2e-5,\n",
    "        per_device_train_batch_size=8,\n",
    "        per_device_eval_batch_size=8,\n",
    "        num_train_epochs=3,\n",
    "        weight_decay=0.01,\n",
    "        eval_strategy='epoch',\n",
    "        save_strategy='epoch',\n",
    "        load_best_model_at_end=True,\n",
    "        push_to_hub=True,\n",
    "        hub_model_id=models[model]['ft_saving_dir'],\n",
    "    )\n",
    "\n",
    "    # Define the data collator\n",
    "    models[model]['ft_data_collator'] = DataCollatorWithPadding(tokenizer=models[model]['tokenizer'])\n",
    "\n",
    "    # Define the trainer\n",
    "    models[model]['ft_trainer'] = Trainer(\n",
    "        model=models[model]['ft_model'],\n",
    "        args=models[model]['ft_training_args'],\n",
    "        train_dataset=models[model]['ft_dataset']['train'],\n",
    "        eval_dataset=models[model]['ft_dataset']['validation'],\n",
    "        data_collator=models[model]['ft_data_collator'],\n",
    "        compute_metrics=compute_metrics,\n",
    "        tokenizer=models[model]['tokenizer']\n",
    "    )"
   ],
   "outputs": [
    {
     "data": {
      "text/plain": [
       "config.json:   0%|          | 0.00/933 [00:00<?, ?B/s]"
      ],
      "application/vnd.jupyter.widget-view+json": {
       "version_major": 2,
       "version_minor": 0,
       "model_id": "b124ad24b2bd43e3b784223ea46503ab"
      }
     },
     "metadata": {},
     "output_type": "display_data"
    },
    {
     "data": {
      "text/plain": [
       "model.safetensors:   0%|          | 0.00/328M [00:00<?, ?B/s]"
      ],
      "application/vnd.jupyter.widget-view+json": {
       "version_major": 2,
       "version_minor": 0,
       "model_id": "d492f844440f40e7b689d4dfc1b1299a"
      }
     },
     "metadata": {},
     "output_type": "display_data"
    },
    {
     "name": "stderr",
     "output_type": "stream",
     "text": [
      "Some weights of RobertaForSequenceClassification were not initialized from the model checkpoint at mrm8488/distilroberta-finetuned-financial-news-sentiment-analysis and are newly initialized because the shapes did not match:\n",
      "- classifier.out_proj.bias: found shape torch.Size([3]) in the checkpoint and torch.Size([2]) in the model instantiated\n",
      "- classifier.out_proj.weight: found shape torch.Size([3, 768]) in the checkpoint and torch.Size([2, 768]) in the model instantiated\n",
      "You should probably TRAIN this model on a down-stream task to be able to use it for predictions and inference.\n"
     ]
    },
    {
     "data": {
      "text/plain": [
       "model.safetensors:   0%|          | 0.00/268M [00:00<?, ?B/s]"
      ],
      "application/vnd.jupyter.widget-view+json": {
       "version_major": 2,
       "version_minor": 0,
       "model_id": "0b16cc0d0abf4f428059ab238c2dd02f"
      }
     },
     "metadata": {},
     "output_type": "display_data"
    },
    {
     "name": "stderr",
     "output_type": "stream",
     "text": [
      "Some weights of DistilBertForSequenceClassification were not initialized from the model checkpoint at distilbert-base-uncased and are newly initialized: ['classifier.bias', 'classifier.weight', 'pre_classifier.bias', 'pre_classifier.weight']\n",
      "You should probably TRAIN this model on a down-stream task to be able to use it for predictions and inference.\n"
     ]
    },
    {
     "data": {
      "text/plain": [
       "pytorch_model.bin:   0%|          | 0.00/438M [00:00<?, ?B/s]"
      ],
      "application/vnd.jupyter.widget-view+json": {
       "version_major": 2,
       "version_minor": 0,
       "model_id": "4c031598fb1f44ab96c12b9b18f70622"
      }
     },
     "metadata": {},
     "output_type": "display_data"
    },
    {
     "name": "stderr",
     "output_type": "stream",
     "text": [
      "Some weights of BertForSequenceClassification were not initialized from the model checkpoint at ProsusAI/finbert and are newly initialized because the shapes did not match:\n",
      "- classifier.weight: found shape torch.Size([3, 768]) in the checkpoint and torch.Size([2, 768]) in the model instantiated\n",
      "- classifier.bias: found shape torch.Size([3]) in the checkpoint and torch.Size([2]) in the model instantiated\n",
      "You should probably TRAIN this model on a down-stream task to be able to use it for predictions and inference.\n"
     ]
    }
   ],
   "execution_count": 98
  },
  {
   "cell_type": "markdown",
   "id": "c0f87b79edc8c83e",
   "metadata": {},
   "source": "## Fine-tuning the models"
  },
  {
   "cell_type": "code",
   "id": "f907b9f3980215c0",
   "metadata": {
    "ExecuteTime": {
     "end_time": "2024-05-21T09:19:02.903153Z",
     "start_time": "2024-05-21T09:11:31.182955Z"
    }
   },
   "source": [
    "# Train the model\n",
    "ft_train = True\n",
    "if ft_train:\n",
    "    for model in model_names:\n",
    "        print(f\"Training {model}...\")\n",
    "        models[model]['ft_trainer'].train()"
   ],
   "outputs": [
    {
     "name": "stdout",
     "output_type": "stream",
     "text": [
      "Training mrm8488/distilroberta-finetuned-financial-news-sentiment-analysis...\n"
     ]
    },
    {
     "data": {
      "text/plain": [
       "<IPython.core.display.HTML object>"
      ],
      "text/html": [
       "\n",
       "    <div>\n",
       "      \n",
       "      <progress value='120' max='120' style='width:300px; height:20px; vertical-align: middle;'></progress>\n",
       "      [120/120 01:17, Epoch 3/3]\n",
       "    </div>\n",
       "    <table border=\"1\" class=\"dataframe\">\n",
       "  <thead>\n",
       " <tr style=\"text-align: left;\">\n",
       "      <th>Epoch</th>\n",
       "      <th>Training Loss</th>\n",
       "      <th>Validation Loss</th>\n",
       "      <th>Accuracy</th>\n",
       "    </tr>\n",
       "  </thead>\n",
       "  <tbody>\n",
       "    <tr>\n",
       "      <td>1</td>\n",
       "      <td>No log</td>\n",
       "      <td>0.198142</td>\n",
       "      <td>0.925000</td>\n",
       "    </tr>\n",
       "    <tr>\n",
       "      <td>2</td>\n",
       "      <td>No log</td>\n",
       "      <td>0.237997</td>\n",
       "      <td>0.925000</td>\n",
       "    </tr>\n",
       "    <tr>\n",
       "      <td>3</td>\n",
       "      <td>No log</td>\n",
       "      <td>0.330608</td>\n",
       "      <td>0.900000</td>\n",
       "    </tr>\n",
       "  </tbody>\n",
       "</table><p>"
      ]
     },
     "metadata": {},
     "output_type": "display_data"
    },
    {
     "name": "stdout",
     "output_type": "stream",
     "text": [
      "Training distilbert-base-uncased...\n"
     ]
    },
    {
     "data": {
      "text/plain": [
       "<IPython.core.display.HTML object>"
      ],
      "text/html": [
       "\n",
       "    <div>\n",
       "      \n",
       "      <progress value='120' max='120' style='width:300px; height:20px; vertical-align: middle;'></progress>\n",
       "      [120/120 01:15, Epoch 3/3]\n",
       "    </div>\n",
       "    <table border=\"1\" class=\"dataframe\">\n",
       "  <thead>\n",
       " <tr style=\"text-align: left;\">\n",
       "      <th>Epoch</th>\n",
       "      <th>Training Loss</th>\n",
       "      <th>Validation Loss</th>\n",
       "      <th>Accuracy</th>\n",
       "    </tr>\n",
       "  </thead>\n",
       "  <tbody>\n",
       "    <tr>\n",
       "      <td>1</td>\n",
       "      <td>No log</td>\n",
       "      <td>0.681962</td>\n",
       "      <td>0.575000</td>\n",
       "    </tr>\n",
       "    <tr>\n",
       "      <td>2</td>\n",
       "      <td>No log</td>\n",
       "      <td>0.635410</td>\n",
       "      <td>0.725000</td>\n",
       "    </tr>\n",
       "    <tr>\n",
       "      <td>3</td>\n",
       "      <td>No log</td>\n",
       "      <td>0.595720</td>\n",
       "      <td>0.700000</td>\n",
       "    </tr>\n",
       "  </tbody>\n",
       "</table><p>"
      ]
     },
     "metadata": {},
     "output_type": "display_data"
    },
    {
     "name": "stdout",
     "output_type": "stream",
     "text": [
      "Training ProsusAI/finbert...\n"
     ]
    },
    {
     "data": {
      "text/plain": [
       "<IPython.core.display.HTML object>"
      ],
      "text/html": [
       "\n",
       "    <div>\n",
       "      \n",
       "      <progress value='120' max='120' style='width:300px; height:20px; vertical-align: middle;'></progress>\n",
       "      [120/120 03:55, Epoch 3/3]\n",
       "    </div>\n",
       "    <table border=\"1\" class=\"dataframe\">\n",
       "  <thead>\n",
       " <tr style=\"text-align: left;\">\n",
       "      <th>Epoch</th>\n",
       "      <th>Training Loss</th>\n",
       "      <th>Validation Loss</th>\n",
       "      <th>Accuracy</th>\n",
       "    </tr>\n",
       "  </thead>\n",
       "  <tbody>\n",
       "    <tr>\n",
       "      <td>1</td>\n",
       "      <td>No log</td>\n",
       "      <td>0.397955</td>\n",
       "      <td>0.825000</td>\n",
       "    </tr>\n",
       "    <tr>\n",
       "      <td>2</td>\n",
       "      <td>No log</td>\n",
       "      <td>0.436315</td>\n",
       "      <td>0.875000</td>\n",
       "    </tr>\n",
       "    <tr>\n",
       "      <td>3</td>\n",
       "      <td>No log</td>\n",
       "      <td>0.391965</td>\n",
       "      <td>0.850000</td>\n",
       "    </tr>\n",
       "  </tbody>\n",
       "</table><p>"
      ]
     },
     "metadata": {},
     "output_type": "display_data"
    }
   ],
   "execution_count": 27
  },
  {
   "cell_type": "code",
   "id": "bd1e9f3b8b910063",
   "metadata": {
    "ExecuteTime": {
     "end_time": "2024-05-21T09:19:18.166018Z",
     "start_time": "2024-05-21T09:19:02.915922Z"
    }
   },
   "source": [
    "# Evaluate the model\n",
    "if ft_train:\n",
    "    for model in model_names:\n",
    "        print(f\"Evaluating {model}...\")\n",
    "        models[model]['ft_trainer'].evaluate()"
   ],
   "outputs": [
    {
     "name": "stdout",
     "output_type": "stream",
     "text": [
      "Evaluating mrm8488/distilroberta-finetuned-financial-news-sentiment-analysis...\n"
     ]
    },
    {
     "data": {
      "text/plain": [
       "<IPython.core.display.HTML object>"
      ],
      "text/html": [
       "\n",
       "    <div>\n",
       "      \n",
       "      <progress value='5' max='5' style='width:300px; height:20px; vertical-align: middle;'></progress>\n",
       "      [5/5 00:00]\n",
       "    </div>\n",
       "    "
      ]
     },
     "metadata": {},
     "output_type": "display_data"
    },
    {
     "name": "stdout",
     "output_type": "stream",
     "text": [
      "Evaluating distilbert-base-uncased...\n"
     ]
    },
    {
     "data": {
      "text/plain": [
       "<IPython.core.display.HTML object>"
      ],
      "text/html": [
       "\n",
       "    <div>\n",
       "      \n",
       "      <progress value='5' max='5' style='width:300px; height:20px; vertical-align: middle;'></progress>\n",
       "      [5/5 00:00]\n",
       "    </div>\n",
       "    "
      ]
     },
     "metadata": {},
     "output_type": "display_data"
    },
    {
     "name": "stdout",
     "output_type": "stream",
     "text": [
      "Evaluating ProsusAI/finbert...\n"
     ]
    },
    {
     "data": {
      "text/plain": [
       "<IPython.core.display.HTML object>"
      ],
      "text/html": [
       "\n",
       "    <div>\n",
       "      \n",
       "      <progress value='5' max='5' style='width:300px; height:20px; vertical-align: middle;'></progress>\n",
       "      [5/5 00:01]\n",
       "    </div>\n",
       "    "
      ]
     },
     "metadata": {},
     "output_type": "display_data"
    }
   ],
   "execution_count": 28
  },
  {
   "metadata": {
    "ExecuteTime": {
     "end_time": "2024-05-21T09:19:32.094533Z",
     "start_time": "2024-05-21T09:19:18.181793Z"
    }
   },
   "cell_type": "code",
   "source": [
    "# Save the model to the hub\n",
    "if ft_train:\n",
    "    for model in model_names:\n",
    "        print(f\"Pushing {model} to Hugging Face...\")\n",
    "        models[model]['ft_trainer'].push_to_hub()"
   ],
   "id": "7495d10ea661f5c3",
   "outputs": [
    {
     "name": "stdout",
     "output_type": "stream",
     "text": [
      "Pushing mrm8488/distilroberta-finetuned-financial-news-sentiment-analysis to Hugging Face...\n",
      "Pushing distilbert-base-uncased to Hugging Face...\n",
      "Pushing ProsusAI/finbert to Hugging Face...\n"
     ]
    }
   ],
   "execution_count": 29
  },
  {
   "metadata": {},
   "cell_type": "markdown",
   "source": "## Loading trained models",
   "id": "ce7bee7a399148d0"
  },
  {
   "metadata": {
    "ExecuteTime": {
     "end_time": "2024-05-22T10:49:50.324726Z",
     "start_time": "2024-05-22T10:48:15.202194Z"
    }
   },
   "cell_type": "code",
   "source": [
    "for model in model_names:\n",
    "    # Load the tokenizer for the fine-tuned model\n",
    "    models[model]['tokenizer_loaded'] = AutoTokenizer.from_pretrained(models[model]['ft_saving_dir'])\n",
    "\n",
    "    # Load the model\n",
    "    models[model]['ft_model_loaded'] = AutoModelForSequenceClassification.from_pretrained(\n",
    "        models[model]['ft_saving_dir'],\n",
    "        num_labels=2)\n",
    "    # Define the trainer\n",
    "    models[model]['ft_trainer_loaded'] = Trainer(\n",
    "        model=models[model]['ft_model_loaded'],\n",
    "        tokenizer=models[model]['tokenizer_loaded'],\n",
    "        compute_metrics=compute_metrics,\n",
    "    )"
   ],
   "id": "86df551b6aa2cdd",
   "outputs": [
    {
     "data": {
      "text/plain": [
       "model.safetensors:   0%|          | 0.00/328M [00:00<?, ?B/s]"
      ],
      "application/vnd.jupyter.widget-view+json": {
       "version_major": 2,
       "version_minor": 0,
       "model_id": "f3f23973ab8d42d48e5008b4d5d34196"
      }
     },
     "metadata": {},
     "output_type": "display_data"
    },
    {
     "data": {
      "text/plain": [
       "tokenizer_config.json:   0%|          | 0.00/1.20k [00:00<?, ?B/s]"
      ],
      "application/vnd.jupyter.widget-view+json": {
       "version_major": 2,
       "version_minor": 0,
       "model_id": "33c67a4fc1eb40438dc7af24c9695202"
      }
     },
     "metadata": {},
     "output_type": "display_data"
    },
    {
     "data": {
      "text/plain": [
       "vocab.txt:   0%|          | 0.00/232k [00:00<?, ?B/s]"
      ],
      "application/vnd.jupyter.widget-view+json": {
       "version_major": 2,
       "version_minor": 0,
       "model_id": "85eb2d56e19c49f29e4ccaa1547301ff"
      }
     },
     "metadata": {},
     "output_type": "display_data"
    },
    {
     "data": {
      "text/plain": [
       "tokenizer.json:   0%|          | 0.00/712k [00:00<?, ?B/s]"
      ],
      "application/vnd.jupyter.widget-view+json": {
       "version_major": 2,
       "version_minor": 0,
       "model_id": "ea74129874434c33a82aa0f9479b4795"
      }
     },
     "metadata": {},
     "output_type": "display_data"
    },
    {
     "data": {
      "text/plain": [
       "special_tokens_map.json:   0%|          | 0.00/125 [00:00<?, ?B/s]"
      ],
      "application/vnd.jupyter.widget-view+json": {
       "version_major": 2,
       "version_minor": 0,
       "model_id": "a7d3a8bd6a0543f09d7689c000e8bb24"
      }
     },
     "metadata": {},
     "output_type": "display_data"
    },
    {
     "data": {
      "text/plain": [
       "config.json:   0%|          | 0.00/615 [00:00<?, ?B/s]"
      ],
      "application/vnd.jupyter.widget-view+json": {
       "version_major": 2,
       "version_minor": 0,
       "model_id": "24f75eec85a64cb78928d4c6a36e5af7"
      }
     },
     "metadata": {},
     "output_type": "display_data"
    },
    {
     "data": {
      "text/plain": [
       "model.safetensors:   0%|          | 0.00/268M [00:00<?, ?B/s]"
      ],
      "application/vnd.jupyter.widget-view+json": {
       "version_major": 2,
       "version_minor": 0,
       "model_id": "c58758a9222347b1a12d9a2cf01a2c9c"
      }
     },
     "metadata": {},
     "output_type": "display_data"
    },
    {
     "data": {
      "text/plain": [
       "tokenizer_config.json:   0%|          | 0.00/1.24k [00:00<?, ?B/s]"
      ],
      "application/vnd.jupyter.widget-view+json": {
       "version_major": 2,
       "version_minor": 0,
       "model_id": "fd63cab0620c47beb83fdc12f497b6a6"
      }
     },
     "metadata": {},
     "output_type": "display_data"
    },
    {
     "data": {
      "text/plain": [
       "vocab.txt:   0%|          | 0.00/232k [00:00<?, ?B/s]"
      ],
      "application/vnd.jupyter.widget-view+json": {
       "version_major": 2,
       "version_minor": 0,
       "model_id": "eb0ea24d632c42d28c82345b7e0dbcbb"
      }
     },
     "metadata": {},
     "output_type": "display_data"
    },
    {
     "data": {
      "text/plain": [
       "tokenizer.json:   0%|          | 0.00/712k [00:00<?, ?B/s]"
      ],
      "application/vnd.jupyter.widget-view+json": {
       "version_major": 2,
       "version_minor": 0,
       "model_id": "b47e860335244bc7bdcd839ca56b5bf2"
      }
     },
     "metadata": {},
     "output_type": "display_data"
    },
    {
     "data": {
      "text/plain": [
       "special_tokens_map.json:   0%|          | 0.00/125 [00:00<?, ?B/s]"
      ],
      "application/vnd.jupyter.widget-view+json": {
       "version_major": 2,
       "version_minor": 0,
       "model_id": "cb7f8f006ca84baf8ea6ee755c5d3144"
      }
     },
     "metadata": {},
     "output_type": "display_data"
    },
    {
     "data": {
      "text/plain": [
       "config.json:   0%|          | 0.00/726 [00:00<?, ?B/s]"
      ],
      "application/vnd.jupyter.widget-view+json": {
       "version_major": 2,
       "version_minor": 0,
       "model_id": "90eb19b2c44841abb45ffb124f662695"
      }
     },
     "metadata": {},
     "output_type": "display_data"
    },
    {
     "data": {
      "text/plain": [
       "model.safetensors:   0%|          | 0.00/438M [00:00<?, ?B/s]"
      ],
      "application/vnd.jupyter.widget-view+json": {
       "version_major": 2,
       "version_minor": 0,
       "model_id": "2561e93ca4884268ab4bc7a596507b1f"
      }
     },
     "metadata": {},
     "output_type": "display_data"
    }
   ],
   "execution_count": 100
  },
  {
   "metadata": {},
   "cell_type": "markdown",
   "source": "## Evaluate the model",
   "id": "d52db478729f7691"
  },
  {
   "metadata": {
    "ExecuteTime": {
     "end_time": "2024-05-22T10:50:46.394472Z",
     "start_time": "2024-05-22T10:50:05.262869Z"
    }
   },
   "cell_type": "code",
   "source": [
    "# Predict the test set\n",
    "for model in model_names:\n",
    "    print(f\"Predicting {model}...\")\n",
    "    models[model]['ft_predictions'] = models[model]['ft_trainer_loaded'].predict(models[model]['ft_dataset']['test'])"
   ],
   "id": "e8e6d4fa7dd17399",
   "outputs": [
    {
     "name": "stdout",
     "output_type": "stream",
     "text": [
      "Predicting mrm8488/distilroberta-finetuned-financial-news-sentiment-analysis...\n"
     ]
    },
    {
     "data": {
      "text/plain": [
       "<IPython.core.display.HTML object>"
      ],
      "text/html": []
     },
     "metadata": {},
     "output_type": "display_data"
    },
    {
     "name": "stdout",
     "output_type": "stream",
     "text": [
      "Predicting distilbert-base-uncased...\n"
     ]
    },
    {
     "data": {
      "text/plain": [
       "<IPython.core.display.HTML object>"
      ],
      "text/html": []
     },
     "metadata": {},
     "output_type": "display_data"
    },
    {
     "name": "stdout",
     "output_type": "stream",
     "text": [
      "Predicting ProsusAI/finbert...\n"
     ]
    },
    {
     "data": {
      "text/plain": [
       "<IPython.core.display.HTML object>"
      ],
      "text/html": []
     },
     "metadata": {},
     "output_type": "display_data"
    }
   ],
   "execution_count": 101
  },
  {
   "metadata": {
    "ExecuteTime": {
     "end_time": "2024-05-22T10:50:46.418304Z",
     "start_time": "2024-05-22T10:50:46.397182Z"
    }
   },
   "cell_type": "code",
   "source": [
    "# Display the predictions\n",
    "models[model_names[0]]['ft_predictions']"
   ],
   "id": "2beee24282f504bd",
   "outputs": [
    {
     "data": {
      "text/plain": [
       "PredictionOutput(predictions=array([[-1.0612382 ,  1.5146047 ],\n",
       "       [ 1.575191  , -1.8632282 ],\n",
       "       [-1.0152328 ,  1.5673753 ],\n",
       "       [-0.85307145,  1.3295594 ],\n",
       "       [ 1.4402982 , -1.6953844 ],\n",
       "       [ 1.5586556 , -1.8569938 ],\n",
       "       [-1.3161249 ,  1.8476328 ],\n",
       "       [ 1.5201246 , -1.8928953 ],\n",
       "       [ 1.4187825 , -1.6084824 ],\n",
       "       [ 1.5430518 , -1.8358659 ],\n",
       "       [-1.3577205 ,  1.8995434 ],\n",
       "       [ 1.4820267 , -1.8462063 ],\n",
       "       [ 1.5272502 , -1.9022475 ],\n",
       "       [-1.2950958 ,  1.8081238 ],\n",
       "       [-0.77065444,  1.326239  ],\n",
       "       [ 1.5616184 , -1.8905199 ],\n",
       "       [ 0.920575  , -0.94779855],\n",
       "       [-1.3700954 ,  1.9410344 ],\n",
       "       [ 1.5607334 , -1.7942139 ],\n",
       "       [ 1.560798  , -1.8969575 ],\n",
       "       [ 0.35795453, -0.10159986],\n",
       "       [ 1.533297  , -1.8700018 ],\n",
       "       [ 1.5325478 , -1.8366865 ],\n",
       "       [ 1.535094  , -1.8930444 ],\n",
       "       [ 1.5863767 , -1.886815  ],\n",
       "       [-1.2188569 ,  1.7556137 ],\n",
       "       [-1.3520945 ,  1.869646  ],\n",
       "       [-1.1023163 ,  1.7703515 ],\n",
       "       [ 1.5725979 , -1.8903041 ],\n",
       "       [-0.88726884,  1.4467899 ],\n",
       "       [ 1.5426586 , -1.8747185 ],\n",
       "       [-1.4745578 ,  1.8742306 ],\n",
       "       [ 1.5616432 , -1.883296  ],\n",
       "       [-1.1653382 ,  1.747408  ],\n",
       "       [ 1.0254995 , -1.1011139 ],\n",
       "       [ 1.326707  , -1.4860481 ],\n",
       "       [ 1.5109093 , -1.915812  ],\n",
       "       [ 1.459129  , -1.7062024 ],\n",
       "       [-0.96753615,  1.5526189 ],\n",
       "       [-1.3176149 ,  1.8359358 ]], dtype=float32), label_ids=array([1, 0, 1, 1, 1, 0, 1, 0, 0, 0, 1, 0, 0, 1, 1, 0, 0, 1, 0, 0, 0, 0,\n",
       "       0, 0, 0, 1, 1, 1, 0, 1, 0, 1, 0, 0, 0, 0, 0, 0, 1, 1], dtype=int64), metrics={'test_loss': 0.2125891149044037, 'test_accuracy': 0.95, 'test_runtime': 10.4516, 'test_samples_per_second': 3.827, 'test_steps_per_second': 0.478})"
      ]
     },
     "execution_count": 102,
     "metadata": {},
     "output_type": "execute_result"
    }
   ],
   "execution_count": 102
  },
  {
   "metadata": {},
   "cell_type": "markdown",
   "source": "## Compute relevant metrics",
   "id": "7ca2c4b7f95de2dd"
  },
  {
   "metadata": {
    "ExecuteTime": {
     "end_time": "2024-05-22T10:50:46.482174Z",
     "start_time": "2024-05-22T10:50:46.420309Z"
    }
   },
   "cell_type": "code",
   "source": [
    "# Initialize a dictionary to store the results\n",
    "results_ft = {}\n",
    "\n",
    "# Iterate over the model names\n",
    "for model in model_names:\n",
    "    # Get the predicted labels\n",
    "    predicted_labels = np.argmax(models[model]['ft_predictions'].predictions, axis=-1)\n",
    "\n",
    "    # Get the true labels\n",
    "    true_labels = models[model]['ft_predictions'].label_ids\n",
    "\n",
    "    # Compute the confusion matrix\n",
    "    confusion = confusion_matrix(true_labels, predicted_labels)\n",
    "\n",
    "    # Compute the accuracy\n",
    "    accuracy = accuracy_score(true_labels, predicted_labels)\n",
    "\n",
    "    # Compute the precision\n",
    "    precision = precision_score(true_labels, predicted_labels)\n",
    "\n",
    "    # Compute the recall\n",
    "    recall = recall_score(true_labels, predicted_labels)\n",
    "\n",
    "    # Compute the F1 score\n",
    "    f1 = f1_score(true_labels, predicted_labels)\n",
    "\n",
    "    # Store the results in the dictionary\n",
    "    results_ft[model] = {\n",
    "        'confusion_matrix': confusion,\n",
    "        'accuracy': accuracy,\n",
    "        'precision': precision,\n",
    "        'recall': recall,\n",
    "        'f1_score': f1\n",
    "    }"
   ],
   "id": "6c7554a9349bf7a7",
   "outputs": [],
   "execution_count": 103
  },
  {
   "metadata": {
    "ExecuteTime": {
     "end_time": "2024-05-22T10:50:46.536756Z",
     "start_time": "2024-05-22T10:50:46.483189Z"
    }
   },
   "cell_type": "code",
   "source": [
    "# Save the results to a dataframe\n",
    "results_transformers = []\n",
    "for model, metrics in results_ft.items():\n",
    "    results_transformers.append({\n",
    "        'Model': model,\n",
    "        'Feature Representation': 'N/A',\n",
    "        'Columns': 'combined_text',\n",
    "        'F1-score': metrics['f1_score'],\n",
    "        'Accuracy': metrics['accuracy'],\n",
    "        'Precision': metrics['precision'],\n",
    "        'Recall': metrics['recall'],\n",
    "    })\n",
    "\n",
    "# Create a dataframe from the results\n",
    "results_transformers_ft = pd.DataFrame(results_transformers)\n",
    "\n",
    "results_transformers_ft.sort_values(by='F1-score', ascending=False)"
   ],
   "id": "2ac6a7929c582eff",
   "outputs": [
    {
     "data": {
      "text/plain": [
       "                                               Model Feature Representation  \\\n",
       "0  mrm8488/distilroberta-finetuned-financial-news...                    N/A   \n",
       "2                                   ProsusAI/finbert                    N/A   \n",
       "1                            distilbert-base-uncased                    N/A   \n",
       "\n",
       "         Columns  F1-score  Accuracy  Precision  Recall  \n",
       "0  combined_text  0.937500      0.95     0.9375  0.9375  \n",
       "2  combined_text  0.937500      0.95     0.9375  0.9375  \n",
       "1  combined_text  0.777778      0.80     0.7000  0.8750  "
      ],
      "text/html": [
       "<div>\n",
       "<style scoped>\n",
       "    .dataframe tbody tr th:only-of-type {\n",
       "        vertical-align: middle;\n",
       "    }\n",
       "\n",
       "    .dataframe tbody tr th {\n",
       "        vertical-align: top;\n",
       "    }\n",
       "\n",
       "    .dataframe thead th {\n",
       "        text-align: right;\n",
       "    }\n",
       "</style>\n",
       "<table border=\"1\" class=\"dataframe\">\n",
       "  <thead>\n",
       "    <tr style=\"text-align: right;\">\n",
       "      <th></th>\n",
       "      <th>Model</th>\n",
       "      <th>Feature Representation</th>\n",
       "      <th>Columns</th>\n",
       "      <th>F1-score</th>\n",
       "      <th>Accuracy</th>\n",
       "      <th>Precision</th>\n",
       "      <th>Recall</th>\n",
       "    </tr>\n",
       "  </thead>\n",
       "  <tbody>\n",
       "    <tr>\n",
       "      <th>0</th>\n",
       "      <td>mrm8488/distilroberta-finetuned-financial-news...</td>\n",
       "      <td>N/A</td>\n",
       "      <td>combined_text</td>\n",
       "      <td>0.937500</td>\n",
       "      <td>0.95</td>\n",
       "      <td>0.9375</td>\n",
       "      <td>0.9375</td>\n",
       "    </tr>\n",
       "    <tr>\n",
       "      <th>2</th>\n",
       "      <td>ProsusAI/finbert</td>\n",
       "      <td>N/A</td>\n",
       "      <td>combined_text</td>\n",
       "      <td>0.937500</td>\n",
       "      <td>0.95</td>\n",
       "      <td>0.9375</td>\n",
       "      <td>0.9375</td>\n",
       "    </tr>\n",
       "    <tr>\n",
       "      <th>1</th>\n",
       "      <td>distilbert-base-uncased</td>\n",
       "      <td>N/A</td>\n",
       "      <td>combined_text</td>\n",
       "      <td>0.777778</td>\n",
       "      <td>0.80</td>\n",
       "      <td>0.7000</td>\n",
       "      <td>0.8750</td>\n",
       "    </tr>\n",
       "  </tbody>\n",
       "</table>\n",
       "</div>"
      ]
     },
     "execution_count": 104,
     "metadata": {},
     "output_type": "execute_result"
    }
   ],
   "execution_count": 104
  },
  {
   "metadata": {},
   "cell_type": "markdown",
   "source": "## Plot an F1-score comparison bar chart",
   "id": "77b2ea7f8748863c"
  },
  {
   "metadata": {
    "ExecuteTime": {
     "end_time": "2024-05-22T10:50:48.380623Z",
     "start_time": "2024-05-22T10:50:46.539761Z"
    }
   },
   "cell_type": "code",
   "source": [
    "import matplotlib.pyplot as plt\n",
    "\n",
    "data = results_transformers_ft.sort_values(by='F1-score', ascending=False)\n",
    "\n",
    "# Create a bar chart\n",
    "plt.figure(figsize=(10, 6))\n",
    "plt.bar(data['Model'], data['F1-score'], color='skyblue', width=0.5)\n",
    "plt.xlabel('Model')\n",
    "plt.ylabel('F1-score')\n",
    "plt.title('F1-score comparison')\n",
    "plt.ylim(0, 1)\n",
    "plt.tight_layout()\n",
    "# Show values on the bars\n",
    "for i, value in enumerate(data['F1-score']):\n",
    "    plt.text(i, value + 0.01, f'{value:.4f}', ha='center')\n",
    "plt.show()\n",
    "\n"
   ],
   "id": "425cd1b94ecdba83",
   "outputs": [
    {
     "data": {
      "text/plain": [
       "<Figure size 1000x600 with 1 Axes>"
      ],
      "image/png": "[encoded data removed]"
     },
     "metadata": {},
     "output_type": "display_data"
    }
   ],
   "execution_count": 105
  },
  {
   "metadata": {},
   "cell_type": "markdown",
   "source": "## Plot the confusion matrix for the best model",
   "id": "6bf2c6d35cee04f6"
  },
  {
   "metadata": {
    "ExecuteTime": {
     "end_time": "2024-05-22T10:50:48.528165Z",
     "start_time": "2024-05-22T10:50:48.381666Z"
    }
   },
   "cell_type": "code",
   "source": [
    "# Plot the confusion matrix\n",
    "import seaborn as sns\n",
    "\n",
    "# Define the labels\n",
    "labels = ['Negative', 'Positive']\n",
    "\n",
    "# Get the name of the model with the highest F1-score in results_transformers_ft\n",
    "best_model = results_transformers_ft.loc[results_transformers_ft['F1-score'].idxmax()]['Model']\n",
    "\n",
    "# Get the confusion matrix for the best model\n",
    "confusion_matrix = results_ft[best_model]['confusion_matrix']\n",
    "\n",
    "# Create the confusion matrix plot\n",
    "plt.figure(figsize=(6, 5))\n",
    "sns.heatmap(confusion_matrix, annot=True, fmt='d', xticklabels=labels, yticklabels=labels, cmap='Blues')\n",
    "plt.xlabel('Predicted labels')\n",
    "plt.ylabel('True labels')\n",
    "plt.title('Confusion Matrix')\n",
    "plt.show()"
   ],
   "id": "1bd4b822af320999",
   "outputs": [
    {
     "data": {
      "text/plain": [
       "<Figure size 600x500 with 2 Axes>"
      ],
      "image/png": "[encoded data removed]"
     },
     "metadata": {},
     "output_type": "display_data"
    }
   ],
   "execution_count": 106
  },
  {
   "metadata": {},
   "cell_type": "markdown",
   "source": "## Load results from previous assignment",
   "id": "eee507257c19662c"
  },
  {
   "metadata": {
    "ExecuteTime": {
     "end_time": "2024-05-22T10:50:48.548469Z",
     "start_time": "2024-05-22T10:50:48.529184Z"
    }
   },
   "cell_type": "code",
   "source": [
    "# Load the results from the previous assignment to a list of dictionaries\n",
    "previous_results = pd.read_csv('results/assignment1_comparison.csv')\n",
    "\n",
    "# Display the previous results\n",
    "previous_results"
   ],
   "id": "93f13e42bad5899e",
   "outputs": [
    {
     "data": {
      "text/plain": [
       "                    Model                                   Columns  \\\n",
       "0                   VADER                             combined_text   \n",
       "1  Multi-Layer Perceptron  headline_embeddings, synopsis_embeddings   \n",
       "2       Loughran-McDonald                             combined_text   \n",
       "\n",
       "  Feature Representation  F1-score  Accuracy  Precision    Recall  \n",
       "0                    NaN  0.723549     0.595   0.572973  0.981481  \n",
       "1    Word2Vec FinText AI  0.751323     0.755   0.758598  0.751341  \n",
       "2                    NaN  0.734545     0.635   0.604790  0.935185  "
      ],
      "text/html": [
       "<div>\n",
       "<style scoped>\n",
       "    .dataframe tbody tr th:only-of-type {\n",
       "        vertical-align: middle;\n",
       "    }\n",
       "\n",
       "    .dataframe tbody tr th {\n",
       "        vertical-align: top;\n",
       "    }\n",
       "\n",
       "    .dataframe thead th {\n",
       "        text-align: right;\n",
       "    }\n",
       "</style>\n",
       "<table border=\"1\" class=\"dataframe\">\n",
       "  <thead>\n",
       "    <tr style=\"text-align: right;\">\n",
       "      <th></th>\n",
       "      <th>Model</th>\n",
       "      <th>Columns</th>\n",
       "      <th>Feature Representation</th>\n",
       "      <th>F1-score</th>\n",
       "      <th>Accuracy</th>\n",
       "      <th>Precision</th>\n",
       "      <th>Recall</th>\n",
       "    </tr>\n",
       "  </thead>\n",
       "  <tbody>\n",
       "    <tr>\n",
       "      <th>0</th>\n",
       "      <td>VADER</td>\n",
       "      <td>combined_text</td>\n",
       "      <td>NaN</td>\n",
       "      <td>0.723549</td>\n",
       "      <td>0.595</td>\n",
       "      <td>0.572973</td>\n",
       "      <td>0.981481</td>\n",
       "    </tr>\n",
       "    <tr>\n",
       "      <th>1</th>\n",
       "      <td>Multi-Layer Perceptron</td>\n",
       "      <td>headline_embeddings, synopsis_embeddings</td>\n",
       "      <td>Word2Vec FinText AI</td>\n",
       "      <td>0.751323</td>\n",
       "      <td>0.755</td>\n",
       "      <td>0.758598</td>\n",
       "      <td>0.751341</td>\n",
       "    </tr>\n",
       "    <tr>\n",
       "      <th>2</th>\n",
       "      <td>Loughran-McDonald</td>\n",
       "      <td>combined_text</td>\n",
       "      <td>NaN</td>\n",
       "      <td>0.734545</td>\n",
       "      <td>0.635</td>\n",
       "      <td>0.604790</td>\n",
       "      <td>0.935185</td>\n",
       "    </tr>\n",
       "  </tbody>\n",
       "</table>\n",
       "</div>"
      ]
     },
     "execution_count": 107,
     "metadata": {},
     "output_type": "execute_result"
    }
   ],
   "execution_count": 107
  },
  {
   "metadata": {
    "ExecuteTime": {
     "end_time": "2024-05-22T10:50:48.573244Z",
     "start_time": "2024-05-22T10:50:48.549476Z"
    }
   },
   "cell_type": "code",
   "source": [
    "# Concatenate the results\n",
    "results = pd.concat([previous_results.copy(), results_transformers_ft], ignore_index=True)\n",
    "\n",
    "# Save the results to a CSV file\n",
    "results.to_csv('results/assignment2_comparison.csv', index=False)\n",
    "\n",
    "# Sort the results by f1-score\n",
    "results = results.sort_values(by='F1-score', ascending=False)\n",
    "\n",
    "results"
   ],
   "id": "f4a79acf98eb6802",
   "outputs": [
    {
     "data": {
      "text/plain": [
       "                                               Model  \\\n",
       "3  mrm8488/distilroberta-finetuned-financial-news...   \n",
       "5                                   ProsusAI/finbert   \n",
       "4                            distilbert-base-uncased   \n",
       "1                             Multi-Layer Perceptron   \n",
       "2                                  Loughran-McDonald   \n",
       "0                                              VADER   \n",
       "\n",
       "                                    Columns Feature Representation  F1-score  \\\n",
       "3                             combined_text                    N/A  0.937500   \n",
       "5                             combined_text                    N/A  0.937500   \n",
       "4                             combined_text                    N/A  0.777778   \n",
       "1  headline_embeddings, synopsis_embeddings    Word2Vec FinText AI  0.751323   \n",
       "2                             combined_text                    NaN  0.734545   \n",
       "0                             combined_text                    NaN  0.723549   \n",
       "\n",
       "   Accuracy  Precision    Recall  \n",
       "3     0.950   0.937500  0.937500  \n",
       "5     0.950   0.937500  0.937500  \n",
       "4     0.800   0.700000  0.875000  \n",
       "1     0.755   0.758598  0.751341  \n",
       "2     0.635   0.604790  0.935185  \n",
       "0     0.595   0.572973  0.981481  "
      ],
      "text/html": [
       "<div>\n",
       "<style scoped>\n",
       "    .dataframe tbody tr th:only-of-type {\n",
       "        vertical-align: middle;\n",
       "    }\n",
       "\n",
       "    .dataframe tbody tr th {\n",
       "        vertical-align: top;\n",
       "    }\n",
       "\n",
       "    .dataframe thead th {\n",
       "        text-align: right;\n",
       "    }\n",
       "</style>\n",
       "<table border=\"1\" class=\"dataframe\">\n",
       "  <thead>\n",
       "    <tr style=\"text-align: right;\">\n",
       "      <th></th>\n",
       "      <th>Model</th>\n",
       "      <th>Columns</th>\n",
       "      <th>Feature Representation</th>\n",
       "      <th>F1-score</th>\n",
       "      <th>Accuracy</th>\n",
       "      <th>Precision</th>\n",
       "      <th>Recall</th>\n",
       "    </tr>\n",
       "  </thead>\n",
       "  <tbody>\n",
       "    <tr>\n",
       "      <th>3</th>\n",
       "      <td>mrm8488/distilroberta-finetuned-financial-news...</td>\n",
       "      <td>combined_text</td>\n",
       "      <td>N/A</td>\n",
       "      <td>0.937500</td>\n",
       "      <td>0.950</td>\n",
       "      <td>0.937500</td>\n",
       "      <td>0.937500</td>\n",
       "    </tr>\n",
       "    <tr>\n",
       "      <th>5</th>\n",
       "      <td>ProsusAI/finbert</td>\n",
       "      <td>combined_text</td>\n",
       "      <td>N/A</td>\n",
       "      <td>0.937500</td>\n",
       "      <td>0.950</td>\n",
       "      <td>0.937500</td>\n",
       "      <td>0.937500</td>\n",
       "    </tr>\n",
       "    <tr>\n",
       "      <th>4</th>\n",
       "      <td>distilbert-base-uncased</td>\n",
       "      <td>combined_text</td>\n",
       "      <td>N/A</td>\n",
       "      <td>0.777778</td>\n",
       "      <td>0.800</td>\n",
       "      <td>0.700000</td>\n",
       "      <td>0.875000</td>\n",
       "    </tr>\n",
       "    <tr>\n",
       "      <th>1</th>\n",
       "      <td>Multi-Layer Perceptron</td>\n",
       "      <td>headline_embeddings, synopsis_embeddings</td>\n",
       "      <td>Word2Vec FinText AI</td>\n",
       "      <td>0.751323</td>\n",
       "      <td>0.755</td>\n",
       "      <td>0.758598</td>\n",
       "      <td>0.751341</td>\n",
       "    </tr>\n",
       "    <tr>\n",
       "      <th>2</th>\n",
       "      <td>Loughran-McDonald</td>\n",
       "      <td>combined_text</td>\n",
       "      <td>NaN</td>\n",
       "      <td>0.734545</td>\n",
       "      <td>0.635</td>\n",
       "      <td>0.604790</td>\n",
       "      <td>0.935185</td>\n",
       "    </tr>\n",
       "    <tr>\n",
       "      <th>0</th>\n",
       "      <td>VADER</td>\n",
       "      <td>combined_text</td>\n",
       "      <td>NaN</td>\n",
       "      <td>0.723549</td>\n",
       "      <td>0.595</td>\n",
       "      <td>0.572973</td>\n",
       "      <td>0.981481</td>\n",
       "    </tr>\n",
       "  </tbody>\n",
       "</table>\n",
       "</div>"
      ]
     },
     "execution_count": 108,
     "metadata": {},
     "output_type": "execute_result"
    }
   ],
   "execution_count": 108
  },
  {
   "metadata": {},
   "cell_type": "markdown",
   "source": "## Fine-tuning after domain adaptation",
   "id": "f746098fa4db8444"
  },
  {
   "metadata": {},
   "cell_type": "markdown",
   "source": "### Tokenization of the dataset",
   "id": "b3bce27a340e330f"
  },
  {
   "metadata": {
    "ExecuteTime": {
     "end_time": "2024-05-22T10:51:36.386757Z",
     "start_time": "2024-05-22T10:50:48.574253Z"
    }
   },
   "cell_type": "code",
   "source": [
    "# Tokenization function for domain adaptation dataset\n",
    "def da_tokenize_function(model, examples):\n",
    "    return model['da_ft_tokenizer'](examples[\"combined_text\"], truncation=True, padding='max_length')\n",
    "\n",
    "\n",
    "for model in model_names:\n",
    "    # Define the saving directory of the domain adaptation model\n",
    "    models[model]['da_saving_dir'] = huggingface_owner + \"DA-\" + model.replace(\"/\", \"-\")\n",
    "\n",
    "    # Load the tokenizer\n",
    "    models[model]['da_ft_tokenizer'] = AutoTokenizer.from_pretrained(models[model]['da_saving_dir'])\n",
    "\n",
    "    # Create a dataset dictionary for fine-tuning after domain adaptation\n",
    "    models[model]['da_ft_dataset'] = DatasetDict({\n",
    "        'train': train_test['train'],\n",
    "        'validation': valid_test['train'],\n",
    "        'test': valid_test['test']\n",
    "    })\n",
    "\n",
    "    # Tokenize the dataset\n",
    "    models[model]['da_ft_dataset'] = models[model]['da_ft_dataset'].map(\n",
    "        lambda examples: da_tokenize_function(models[model], examples),\n",
    "        batched=True\n",
    "    )"
   ],
   "id": "fe5cccb19a0932a6",
   "outputs": [
    {
     "data": {
      "text/plain": [
       "tokenizer_config.json:   0%|          | 0.00/1.33k [00:00<?, ?B/s]"
      ],
      "application/vnd.jupyter.widget-view+json": {
       "version_major": 2,
       "version_minor": 0,
       "model_id": "c0b596fb1e98450a84555acbcb30c86b"
      }
     },
     "metadata": {},
     "output_type": "display_data"
    },
    {
     "data": {
      "text/plain": [
       "vocab.json:   0%|          | 0.00/798k [00:00<?, ?B/s]"
      ],
      "application/vnd.jupyter.widget-view+json": {
       "version_major": 2,
       "version_minor": 0,
       "model_id": "2188d9a1e2b341d3b85824daaa2a2a98"
      }
     },
     "metadata": {},
     "output_type": "display_data"
    },
    {
     "data": {
      "text/plain": [
       "merges.txt:   0%|          | 0.00/456k [00:00<?, ?B/s]"
      ],
      "application/vnd.jupyter.widget-view+json": {
       "version_major": 2,
       "version_minor": 0,
       "model_id": "20d87e63b8fc4bb89ea516e6630e5a5d"
      }
     },
     "metadata": {},
     "output_type": "display_data"
    },
    {
     "data": {
      "text/plain": [
       "tokenizer.json:   0%|          | 0.00/2.11M [00:00<?, ?B/s]"
      ],
      "application/vnd.jupyter.widget-view+json": {
       "version_major": 2,
       "version_minor": 0,
       "model_id": "8aa495852c4d40fdadf9521bf3b52989"
      }
     },
     "metadata": {},
     "output_type": "display_data"
    },
    {
     "data": {
      "text/plain": [
       "special_tokens_map.json:   0%|          | 0.00/964 [00:00<?, ?B/s]"
      ],
      "application/vnd.jupyter.widget-view+json": {
       "version_major": 2,
       "version_minor": 0,
       "model_id": "b889efe37f4841ef93dc6027e80c3872"
      }
     },
     "metadata": {},
     "output_type": "display_data"
    },
    {
     "data": {
      "text/plain": [
       "Map:   0%|          | 0/320 [00:00<?, ? examples/s]"
      ],
      "application/vnd.jupyter.widget-view+json": {
       "version_major": 2,
       "version_minor": 0,
       "model_id": "fbcccd43ac80447bad62946517dba00f"
      }
     },
     "metadata": {},
     "output_type": "display_data"
    },
    {
     "data": {
      "text/plain": [
       "Map:   0%|          | 0/40 [00:00<?, ? examples/s]"
      ],
      "application/vnd.jupyter.widget-view+json": {
       "version_major": 2,
       "version_minor": 0,
       "model_id": "00ca4dc1ec3a4c9e8dff46b826593f71"
      }
     },
     "metadata": {},
     "output_type": "display_data"
    },
    {
     "data": {
      "text/plain": [
       "Map:   0%|          | 0/40 [00:00<?, ? examples/s]"
      ],
      "application/vnd.jupyter.widget-view+json": {
       "version_major": 2,
       "version_minor": 0,
       "model_id": "a784345d88ed4e89877b2331a152621a"
      }
     },
     "metadata": {},
     "output_type": "display_data"
    },
    {
     "data": {
      "text/plain": [
       "tokenizer_config.json:   0%|          | 0.00/1.20k [00:00<?, ?B/s]"
      ],
      "application/vnd.jupyter.widget-view+json": {
       "version_major": 2,
       "version_minor": 0,
       "model_id": "164c7a627c3c4606910a4fefc388afdf"
      }
     },
     "metadata": {},
     "output_type": "display_data"
    },
    {
     "data": {
      "text/plain": [
       "vocab.txt:   0%|          | 0.00/232k [00:00<?, ?B/s]"
      ],
      "application/vnd.jupyter.widget-view+json": {
       "version_major": 2,
       "version_minor": 0,
       "model_id": "e92ca6529b244d6bb56519a6cb7feb7b"
      }
     },
     "metadata": {},
     "output_type": "display_data"
    },
    {
     "data": {
      "text/plain": [
       "tokenizer.json:   0%|          | 0.00/712k [00:00<?, ?B/s]"
      ],
      "application/vnd.jupyter.widget-view+json": {
       "version_major": 2,
       "version_minor": 0,
       "model_id": "94f671db000647d68a13fc1ff2447bd5"
      }
     },
     "metadata": {},
     "output_type": "display_data"
    },
    {
     "data": {
      "text/plain": [
       "special_tokens_map.json:   0%|          | 0.00/125 [00:00<?, ?B/s]"
      ],
      "application/vnd.jupyter.widget-view+json": {
       "version_major": 2,
       "version_minor": 0,
       "model_id": "865fad5e65c24e9e8458c8e25b3cf8f6"
      }
     },
     "metadata": {},
     "output_type": "display_data"
    },
    {
     "data": {
      "text/plain": [
       "Map:   0%|          | 0/320 [00:00<?, ? examples/s]"
      ],
      "application/vnd.jupyter.widget-view+json": {
       "version_major": 2,
       "version_minor": 0,
       "model_id": "826939267e36427a8de3430047f52f95"
      }
     },
     "metadata": {},
     "output_type": "display_data"
    },
    {
     "data": {
      "text/plain": [
       "Map:   0%|          | 0/40 [00:00<?, ? examples/s]"
      ],
      "application/vnd.jupyter.widget-view+json": {
       "version_major": 2,
       "version_minor": 0,
       "model_id": "ce5f6cf678084bc7ad9d529faeee2249"
      }
     },
     "metadata": {},
     "output_type": "display_data"
    },
    {
     "data": {
      "text/plain": [
       "Map:   0%|          | 0/40 [00:00<?, ? examples/s]"
      ],
      "application/vnd.jupyter.widget-view+json": {
       "version_major": 2,
       "version_minor": 0,
       "model_id": "9691cbc268434d198c56513ab58e7ad8"
      }
     },
     "metadata": {},
     "output_type": "display_data"
    },
    {
     "data": {
      "text/plain": [
       "tokenizer_config.json:   0%|          | 0.00/1.24k [00:00<?, ?B/s]"
      ],
      "application/vnd.jupyter.widget-view+json": {
       "version_major": 2,
       "version_minor": 0,
       "model_id": "32867dc2a40d40b4a3c4534787f9fbe0"
      }
     },
     "metadata": {},
     "output_type": "display_data"
    },
    {
     "data": {
      "text/plain": [
       "vocab.txt:   0%|          | 0.00/232k [00:00<?, ?B/s]"
      ],
      "application/vnd.jupyter.widget-view+json": {
       "version_major": 2,
       "version_minor": 0,
       "model_id": "fb67d4a3d0c34c178e2034a1e2057bac"
      }
     },
     "metadata": {},
     "output_type": "display_data"
    },
    {
     "data": {
      "text/plain": [
       "tokenizer.json:   0%|          | 0.00/712k [00:00<?, ?B/s]"
      ],
      "application/vnd.jupyter.widget-view+json": {
       "version_major": 2,
       "version_minor": 0,
       "model_id": "b0cdc197c940420d9f36e2ee614fe67e"
      }
     },
     "metadata": {},
     "output_type": "display_data"
    },
    {
     "data": {
      "text/plain": [
       "special_tokens_map.json:   0%|          | 0.00/125 [00:00<?, ?B/s]"
      ],
      "application/vnd.jupyter.widget-view+json": {
       "version_major": 2,
       "version_minor": 0,
       "model_id": "9085eac566e34ab5b8f6670aca14e3c0"
      }
     },
     "metadata": {},
     "output_type": "display_data"
    },
    {
     "data": {
      "text/plain": [
       "Map:   0%|          | 0/320 [00:00<?, ? examples/s]"
      ],
      "application/vnd.jupyter.widget-view+json": {
       "version_major": 2,
       "version_minor": 0,
       "model_id": "254fa04e4a6d4fadbd288b1823c79486"
      }
     },
     "metadata": {},
     "output_type": "display_data"
    },
    {
     "data": {
      "text/plain": [
       "Map:   0%|          | 0/40 [00:00<?, ? examples/s]"
      ],
      "application/vnd.jupyter.widget-view+json": {
       "version_major": 2,
       "version_minor": 0,
       "model_id": "c2343d5ed1134bada0ae363d3763fe30"
      }
     },
     "metadata": {},
     "output_type": "display_data"
    },
    {
     "data": {
      "text/plain": [
       "Map:   0%|          | 0/40 [00:00<?, ? examples/s]"
      ],
      "application/vnd.jupyter.widget-view+json": {
       "version_major": 2,
       "version_minor": 0,
       "model_id": "858970f443b84a1a8dd7cfb4ee4a6dfe"
      }
     },
     "metadata": {},
     "output_type": "display_data"
    }
   ],
   "execution_count": 109
  },
  {
   "metadata": {},
   "cell_type": "markdown",
   "source": "### Loading models for fine-tuning after domain adaptation",
   "id": "2cbdc18b1b917830"
  },
  {
   "metadata": {
    "ExecuteTime": {
     "end_time": "2024-05-22T10:53:27.539558Z",
     "start_time": "2024-05-22T10:51:36.391772Z"
    }
   },
   "cell_type": "code",
   "source": [
    "for model in model_names:\n",
    "    # Define the saving directory\n",
    "    models[model]['da_ft_saving_dir'] = huggingface_owner + \"DA-FT-\" + model.replace(\"/\", \"-\")\n",
    "\n",
    "    # Load the model\n",
    "    models[model]['da_ft_model'] = AutoModelForSequenceClassification.from_pretrained(models[model]['da_saving_dir'],\n",
    "                                                                                      num_labels=2)\n",
    "\n",
    "    # Define the training arguments\n",
    "    models[model]['da_ft_training_args'] = TrainingArguments(\n",
    "        output_dir=\"./da_ft_training_results/\" + model.replace(\"/\", \"-\"),\n",
    "        learning_rate=2e-5,\n",
    "        per_device_train_batch_size=8,\n",
    "        per_device_eval_batch_size=8,\n",
    "        num_train_epochs=3,\n",
    "        weight_decay=0.01,\n",
    "        eval_strategy='epoch',\n",
    "        save_strategy='epoch',\n",
    "        load_best_model_at_end=True,\n",
    "        push_to_hub=True,\n",
    "        hub_model_id=models[model]['da_ft_saving_dir'],\n",
    "    )\n",
    "\n",
    "    # Define the data collator\n",
    "    models[model]['da_ft_data_collator'] = DataCollatorWithPadding(tokenizer=models[model]['da_ft_tokenizer'])\n",
    "\n",
    "    # Define the trainer\n",
    "    models[model]['da_ft_trainer'] = Trainer(\n",
    "        model=models[model]['da_ft_model'],\n",
    "        args=models[model]['da_ft_training_args'],\n",
    "        train_dataset=models[model]['da_ft_dataset']['train'],\n",
    "        eval_dataset=models[model]['da_ft_dataset']['validation'],\n",
    "        data_collator=models[model]['da_ft_data_collator'],\n",
    "        compute_metrics=compute_metrics,\n",
    "        tokenizer=models[model]['da_ft_tokenizer']\n",
    "    )\n",
    "\n"
   ],
   "id": "94424e71bfe5ffb4",
   "outputs": [
    {
     "data": {
      "text/plain": [
       "config.json:   0%|          | 0.00/966 [00:00<?, ?B/s]"
      ],
      "application/vnd.jupyter.widget-view+json": {
       "version_major": 2,
       "version_minor": 0,
       "model_id": "01bf26d9c5c445f3912c25b1960222a6"
      }
     },
     "metadata": {},
     "output_type": "display_data"
    },
    {
     "data": {
      "text/plain": [
       "model.safetensors:   0%|          | 0.00/329M [00:00<?, ?B/s]"
      ],
      "application/vnd.jupyter.widget-view+json": {
       "version_major": 2,
       "version_minor": 0,
       "model_id": "e54f758db6194b918077ccdae3f52e87"
      }
     },
     "metadata": {},
     "output_type": "display_data"
    },
    {
     "name": "stderr",
     "output_type": "stream",
     "text": [
      "Some weights of RobertaForSequenceClassification were not initialized from the model checkpoint at NLP-FEUP/DA-mrm8488-distilroberta-finetuned-financial-news-sentiment-analysis and are newly initialized: ['classifier.dense.bias', 'classifier.dense.weight', 'classifier.out_proj.bias', 'classifier.out_proj.weight']\n",
      "You should probably TRAIN this model on a down-stream task to be able to use it for predictions and inference.\n"
     ]
    },
    {
     "data": {
      "text/plain": [
       "config.json:   0%|          | 0.00/552 [00:00<?, ?B/s]"
      ],
      "application/vnd.jupyter.widget-view+json": {
       "version_major": 2,
       "version_minor": 0,
       "model_id": "007ee75d8e1b4f7e937ba7d13898c642"
      }
     },
     "metadata": {},
     "output_type": "display_data"
    },
    {
     "data": {
      "text/plain": [
       "model.safetensors:   0%|          | 0.00/268M [00:00<?, ?B/s]"
      ],
      "application/vnd.jupyter.widget-view+json": {
       "version_major": 2,
       "version_minor": 0,
       "model_id": "e49691301a684da38514f9fda2973cc8"
      }
     },
     "metadata": {},
     "output_type": "display_data"
    },
    {
     "name": "stderr",
     "output_type": "stream",
     "text": [
      "Some weights of DistilBertForSequenceClassification were not initialized from the model checkpoint at NLP-FEUP/DA-distilbert-base-uncased and are newly initialized: ['classifier.bias', 'classifier.weight', 'pre_classifier.bias', 'pre_classifier.weight']\n",
      "You should probably TRAIN this model on a down-stream task to be able to use it for predictions and inference.\n"
     ]
    },
    {
     "data": {
      "text/plain": [
       "config.json:   0%|          | 0.00/821 [00:00<?, ?B/s]"
      ],
      "application/vnd.jupyter.widget-view+json": {
       "version_major": 2,
       "version_minor": 0,
       "model_id": "ce7cc5381a3242df9e9ee3fd15bc79e5"
      }
     },
     "metadata": {},
     "output_type": "display_data"
    },
    {
     "data": {
      "text/plain": [
       "model.safetensors:   0%|          | 0.00/438M [00:00<?, ?B/s]"
      ],
      "application/vnd.jupyter.widget-view+json": {
       "version_major": 2,
       "version_minor": 0,
       "model_id": "30b626853c1047b78bdf07037278947a"
      }
     },
     "metadata": {},
     "output_type": "display_data"
    },
    {
     "name": "stderr",
     "output_type": "stream",
     "text": [
      "Some weights of BertForSequenceClassification were not initialized from the model checkpoint at NLP-FEUP/DA-ProsusAI-finbert and are newly initialized: ['bert.pooler.dense.bias', 'bert.pooler.dense.weight', 'classifier.bias', 'classifier.weight']\n",
      "You should probably TRAIN this model on a down-stream task to be able to use it for predictions and inference.\n"
     ]
    }
   ],
   "execution_count": 110
  },
  {
   "metadata": {},
   "cell_type": "markdown",
   "source": "### Fine-tuning the models after domain adaptation",
   "id": "438bccbef75f801e"
  },
  {
   "metadata": {
    "ExecuteTime": {
     "end_time": "2024-05-21T11:00:00.212584Z",
     "start_time": "2024-05-21T10:50:59.350480Z"
    }
   },
   "cell_type": "code",
   "source": [
    "da_ft_train = True\n",
    "if da_ft_train:\n",
    "    # Train the models\n",
    "    for model in model_names:\n",
    "        print(f\"Training {model}...\")\n",
    "        models[model]['da_ft_trainer'].train()"
   ],
   "id": "80b9ecd40f0340b3",
   "outputs": [
    {
     "name": "stdout",
     "output_type": "stream",
     "text": [
      "Training mrm8488/distilroberta-finetuned-financial-news-sentiment-analysis...\n"
     ]
    },
    {
     "data": {
      "text/plain": [
       "<IPython.core.display.HTML object>"
      ],
      "text/html": [
       "\n",
       "    <div>\n",
       "      \n",
       "      <progress value='120' max='120' style='width:300px; height:20px; vertical-align: middle;'></progress>\n",
       "      [120/120 01:20, Epoch 3/3]\n",
       "    </div>\n",
       "    <table border=\"1\" class=\"dataframe\">\n",
       "  <thead>\n",
       " <tr style=\"text-align: left;\">\n",
       "      <th>Epoch</th>\n",
       "      <th>Training Loss</th>\n",
       "      <th>Validation Loss</th>\n",
       "      <th>Accuracy</th>\n",
       "    </tr>\n",
       "  </thead>\n",
       "  <tbody>\n",
       "    <tr>\n",
       "      <td>1</td>\n",
       "      <td>No log</td>\n",
       "      <td>0.322127</td>\n",
       "      <td>0.900000</td>\n",
       "    </tr>\n",
       "    <tr>\n",
       "      <td>2</td>\n",
       "      <td>No log</td>\n",
       "      <td>0.283001</td>\n",
       "      <td>0.875000</td>\n",
       "    </tr>\n",
       "    <tr>\n",
       "      <td>3</td>\n",
       "      <td>No log</td>\n",
       "      <td>0.301845</td>\n",
       "      <td>0.875000</td>\n",
       "    </tr>\n",
       "  </tbody>\n",
       "</table><p>"
      ]
     },
     "metadata": {},
     "output_type": "display_data"
    },
    {
     "name": "stdout",
     "output_type": "stream",
     "text": [
      "Training distilbert-base-uncased...\n"
     ]
    },
    {
     "data": {
      "text/plain": [
       "<IPython.core.display.HTML object>"
      ],
      "text/html": [
       "\n",
       "    <div>\n",
       "      \n",
       "      <progress value='120' max='120' style='width:300px; height:20px; vertical-align: middle;'></progress>\n",
       "      [120/120 01:22, Epoch 3/3]\n",
       "    </div>\n",
       "    <table border=\"1\" class=\"dataframe\">\n",
       "  <thead>\n",
       " <tr style=\"text-align: left;\">\n",
       "      <th>Epoch</th>\n",
       "      <th>Training Loss</th>\n",
       "      <th>Validation Loss</th>\n",
       "      <th>Accuracy</th>\n",
       "    </tr>\n",
       "  </thead>\n",
       "  <tbody>\n",
       "    <tr>\n",
       "      <td>1</td>\n",
       "      <td>No log</td>\n",
       "      <td>0.676688</td>\n",
       "      <td>0.625000</td>\n",
       "    </tr>\n",
       "    <tr>\n",
       "      <td>2</td>\n",
       "      <td>No log</td>\n",
       "      <td>0.647639</td>\n",
       "      <td>0.675000</td>\n",
       "    </tr>\n",
       "    <tr>\n",
       "      <td>3</td>\n",
       "      <td>No log</td>\n",
       "      <td>0.620466</td>\n",
       "      <td>0.725000</td>\n",
       "    </tr>\n",
       "  </tbody>\n",
       "</table><p>"
      ]
     },
     "metadata": {},
     "output_type": "display_data"
    },
    {
     "name": "stdout",
     "output_type": "stream",
     "text": [
      "Training ProsusAI/finbert...\n"
     ]
    },
    {
     "data": {
      "text/plain": [
       "<IPython.core.display.HTML object>"
      ],
      "text/html": [
       "\n",
       "    <div>\n",
       "      \n",
       "      <progress value='120' max='120' style='width:300px; height:20px; vertical-align: middle;'></progress>\n",
       "      [120/120 05:19, Epoch 3/3]\n",
       "    </div>\n",
       "    <table border=\"1\" class=\"dataframe\">\n",
       "  <thead>\n",
       " <tr style=\"text-align: left;\">\n",
       "      <th>Epoch</th>\n",
       "      <th>Training Loss</th>\n",
       "      <th>Validation Loss</th>\n",
       "      <th>Accuracy</th>\n",
       "    </tr>\n",
       "  </thead>\n",
       "  <tbody>\n",
       "    <tr>\n",
       "      <td>1</td>\n",
       "      <td>No log</td>\n",
       "      <td>0.524330</td>\n",
       "      <td>0.675000</td>\n",
       "    </tr>\n",
       "    <tr>\n",
       "      <td>2</td>\n",
       "      <td>No log</td>\n",
       "      <td>0.433225</td>\n",
       "      <td>0.775000</td>\n",
       "    </tr>\n",
       "    <tr>\n",
       "      <td>3</td>\n",
       "      <td>No log</td>\n",
       "      <td>0.376607</td>\n",
       "      <td>0.875000</td>\n",
       "    </tr>\n",
       "  </tbody>\n",
       "</table><p>"
      ]
     },
     "metadata": {},
     "output_type": "display_data"
    }
   ],
   "execution_count": 32
  },
  {
   "metadata": {},
   "cell_type": "markdown",
   "source": "### Evaluating the models after fine-tuning",
   "id": "752b22155036db51"
  },
  {
   "metadata": {
    "ExecuteTime": {
     "end_time": "2024-05-21T11:00:11.528584Z",
     "start_time": "2024-05-21T11:00:00.228613Z"
    }
   },
   "cell_type": "code",
   "source": [
    "if da_ft_train:\n",
    "    # Evaluate the models\n",
    "    for model in model_names:\n",
    "        print(f\"Evaluating {model}...\")\n",
    "        models[model]['da_ft_trainer'].evaluate()"
   ],
   "id": "d75253384b54399d",
   "outputs": [
    {
     "name": "stdout",
     "output_type": "stream",
     "text": [
      "Evaluating mrm8488/distilroberta-finetuned-financial-news-sentiment-analysis...\n"
     ]
    },
    {
     "data": {
      "text/plain": [
       "<IPython.core.display.HTML object>"
      ],
      "text/html": [
       "\n",
       "    <div>\n",
       "      \n",
       "      <progress value='5' max='5' style='width:300px; height:20px; vertical-align: middle;'></progress>\n",
       "      [5/5 00:00]\n",
       "    </div>\n",
       "    "
      ]
     },
     "metadata": {},
     "output_type": "display_data"
    },
    {
     "name": "stdout",
     "output_type": "stream",
     "text": [
      "Evaluating distilbert-base-uncased...\n"
     ]
    },
    {
     "data": {
      "text/plain": [
       "<IPython.core.display.HTML object>"
      ],
      "text/html": [
       "\n",
       "    <div>\n",
       "      \n",
       "      <progress value='5' max='5' style='width:300px; height:20px; vertical-align: middle;'></progress>\n",
       "      [5/5 00:00]\n",
       "    </div>\n",
       "    "
      ]
     },
     "metadata": {},
     "output_type": "display_data"
    },
    {
     "name": "stdout",
     "output_type": "stream",
     "text": [
      "Evaluating ProsusAI/finbert...\n"
     ]
    },
    {
     "data": {
      "text/plain": [
       "<IPython.core.display.HTML object>"
      ],
      "text/html": [
       "\n",
       "    <div>\n",
       "      \n",
       "      <progress value='5' max='5' style='width:300px; height:20px; vertical-align: middle;'></progress>\n",
       "      [5/5 00:01]\n",
       "    </div>\n",
       "    "
      ]
     },
     "metadata": {},
     "output_type": "display_data"
    }
   ],
   "execution_count": 33
  },
  {
   "metadata": {},
   "cell_type": "markdown",
   "source": "### Saving the models to the hub after fine-tuning",
   "id": "4253bbcec5c1bc6"
  },
  {
   "metadata": {
    "ExecuteTime": {
     "end_time": "2024-05-21T11:00:18.889155Z",
     "start_time": "2024-05-21T11:00:11.529377Z"
    }
   },
   "cell_type": "code",
   "source": [
    "if da_ft_train:\n",
    "    # Save the models to the hub\n",
    "    for model in model_names:\n",
    "        print(f\"Pushing {model} to Hugging Face...\")\n",
    "        models[model]['da_ft_trainer'].push_to_hub()"
   ],
   "id": "8273e7a6e17d8840",
   "outputs": [
    {
     "name": "stdout",
     "output_type": "stream",
     "text": [
      "Pushing mrm8488/distilroberta-finetuned-financial-news-sentiment-analysis to Hugging Face...\n",
      "Pushing distilbert-base-uncased to Hugging Face...\n",
      "Pushing ProsusAI/finbert to Hugging Face...\n"
     ]
    }
   ],
   "execution_count": 34
  },
  {
   "metadata": {},
   "cell_type": "markdown",
   "source": "### Loading trained models after fine-tuning",
   "id": "2b623c76e00a48e6"
  },
  {
   "metadata": {
    "ExecuteTime": {
     "end_time": "2024-05-22T10:55:50.803288Z",
     "start_time": "2024-05-22T10:53:27.543576Z"
    }
   },
   "cell_type": "code",
   "source": [
    "for model in model_names:\n",
    "    # Load the tokenizer\n",
    "    models[model]['da_ft_tokenizer_loaded'] = AutoTokenizer.from_pretrained(models[model]['da_ft_saving_dir'])\n",
    "\n",
    "    # Load the model\n",
    "    models[model]['da_ft_model_loaded'] = AutoModelForSequenceClassification.from_pretrained(\n",
    "        models[model]['da_ft_saving_dir'], num_labels=2)\n",
    "    # Define the trainer\n",
    "    models[model]['da_ft_trainer_loaded'] = Trainer(\n",
    "        model=models[model]['da_ft_model_loaded'],\n",
    "        tokenizer=models[model]['da_ft_tokenizer_loaded'],\n",
    "        compute_metrics=compute_metrics,\n",
    "    )"
   ],
   "id": "1a8b2cc15219b647",
   "outputs": [
    {
     "data": {
      "text/plain": [
       "tokenizer_config.json:   0%|          | 0.00/1.41k [00:00<?, ?B/s]"
      ],
      "application/vnd.jupyter.widget-view+json": {
       "version_major": 2,
       "version_minor": 0,
       "model_id": "67d39be05062455fae6463f6315f7a62"
      }
     },
     "metadata": {},
     "output_type": "display_data"
    },
    {
     "data": {
      "text/plain": [
       "vocab.json:   0%|          | 0.00/798k [00:00<?, ?B/s]"
      ],
      "application/vnd.jupyter.widget-view+json": {
       "version_major": 2,
       "version_minor": 0,
       "model_id": "5cf482090a3f4d158bdf7bd1a280d937"
      }
     },
     "metadata": {},
     "output_type": "display_data"
    },
    {
     "data": {
      "text/plain": [
       "merges.txt:   0%|          | 0.00/456k [00:00<?, ?B/s]"
      ],
      "application/vnd.jupyter.widget-view+json": {
       "version_major": 2,
       "version_minor": 0,
       "model_id": "fc387110a26c4d0dae7138ccf7b93474"
      }
     },
     "metadata": {},
     "output_type": "display_data"
    },
    {
     "data": {
      "text/plain": [
       "tokenizer.json:   0%|          | 0.00/2.11M [00:00<?, ?B/s]"
      ],
      "application/vnd.jupyter.widget-view+json": {
       "version_major": 2,
       "version_minor": 0,
       "model_id": "9d5cc9644bcd42dfb9c58dda19b49998"
      }
     },
     "metadata": {},
     "output_type": "display_data"
    },
    {
     "data": {
      "text/plain": [
       "special_tokens_map.json:   0%|          | 0.00/964 [00:00<?, ?B/s]"
      ],
      "application/vnd.jupyter.widget-view+json": {
       "version_major": 2,
       "version_minor": 0,
       "model_id": "aa7bdd7089534c659789187389bb4fa7"
      }
     },
     "metadata": {},
     "output_type": "display_data"
    },
    {
     "data": {
      "text/plain": [
       "config.json:   0%|          | 0.00/834 [00:00<?, ?B/s]"
      ],
      "application/vnd.jupyter.widget-view+json": {
       "version_major": 2,
       "version_minor": 0,
       "model_id": "1f21e7009212411bb307ed38e9a61258"
      }
     },
     "metadata": {},
     "output_type": "display_data"
    },
    {
     "data": {
      "text/plain": [
       "model.safetensors:   0%|          | 0.00/328M [00:00<?, ?B/s]"
      ],
      "application/vnd.jupyter.widget-view+json": {
       "version_major": 2,
       "version_minor": 0,
       "model_id": "927a812abbba4bbdbcb3dc6c85e44802"
      }
     },
     "metadata": {},
     "output_type": "display_data"
    },
    {
     "data": {
      "text/plain": [
       "tokenizer_config.json:   0%|          | 0.00/1.39k [00:00<?, ?B/s]"
      ],
      "application/vnd.jupyter.widget-view+json": {
       "version_major": 2,
       "version_minor": 0,
       "model_id": "938ae11830474dc9923357b7d96b48eb"
      }
     },
     "metadata": {},
     "output_type": "display_data"
    },
    {
     "data": {
      "text/plain": [
       "vocab.txt:   0%|          | 0.00/232k [00:00<?, ?B/s]"
      ],
      "application/vnd.jupyter.widget-view+json": {
       "version_major": 2,
       "version_minor": 0,
       "model_id": "054ccdc1a327424ba2fd0f1952a8a883"
      }
     },
     "metadata": {},
     "output_type": "display_data"
    },
    {
     "data": {
      "text/plain": [
       "tokenizer.json:   0%|          | 0.00/712k [00:00<?, ?B/s]"
      ],
      "application/vnd.jupyter.widget-view+json": {
       "version_major": 2,
       "version_minor": 0,
       "model_id": "1fe12012f2744a79931a60d18e0a6cb6"
      }
     },
     "metadata": {},
     "output_type": "display_data"
    },
    {
     "data": {
      "text/plain": [
       "special_tokens_map.json:   0%|          | 0.00/695 [00:00<?, ?B/s]"
      ],
      "application/vnd.jupyter.widget-view+json": {
       "version_major": 2,
       "version_minor": 0,
       "model_id": "6f9012e5db5f4751b571f2124a9d1dfe"
      }
     },
     "metadata": {},
     "output_type": "display_data"
    },
    {
     "data": {
      "text/plain": [
       "config.json:   0%|          | 0.00/627 [00:00<?, ?B/s]"
      ],
      "application/vnd.jupyter.widget-view+json": {
       "version_major": 2,
       "version_minor": 0,
       "model_id": "ae1b2165dacb4d85bfe9b81db467a1ff"
      }
     },
     "metadata": {},
     "output_type": "display_data"
    },
    {
     "data": {
      "text/plain": [
       "model.safetensors:   0%|          | 0.00/268M [00:00<?, ?B/s]"
      ],
      "application/vnd.jupyter.widget-view+json": {
       "version_major": 2,
       "version_minor": 0,
       "model_id": "52eb5eb07efc475ca8d3d8d3652549d9"
      }
     },
     "metadata": {},
     "output_type": "display_data"
    },
    {
     "data": {
      "text/plain": [
       "tokenizer_config.json:   0%|          | 0.00/1.43k [00:00<?, ?B/s]"
      ],
      "application/vnd.jupyter.widget-view+json": {
       "version_major": 2,
       "version_minor": 0,
       "model_id": "5ac7e201f5d340b6b24e64fd1049f91e"
      }
     },
     "metadata": {},
     "output_type": "display_data"
    },
    {
     "data": {
      "text/plain": [
       "vocab.txt:   0%|          | 0.00/232k [00:00<?, ?B/s]"
      ],
      "application/vnd.jupyter.widget-view+json": {
       "version_major": 2,
       "version_minor": 0,
       "model_id": "5fa95df77b04491eacf8523d93659559"
      }
     },
     "metadata": {},
     "output_type": "display_data"
    },
    {
     "data": {
      "text/plain": [
       "tokenizer.json:   0%|          | 0.00/712k [00:00<?, ?B/s]"
      ],
      "application/vnd.jupyter.widget-view+json": {
       "version_major": 2,
       "version_minor": 0,
       "model_id": "3b90661133f048bf904fc60ac7891fac"
      }
     },
     "metadata": {},
     "output_type": "display_data"
    },
    {
     "data": {
      "text/plain": [
       "special_tokens_map.json:   0%|          | 0.00/695 [00:00<?, ?B/s]"
      ],
      "application/vnd.jupyter.widget-view+json": {
       "version_major": 2,
       "version_minor": 0,
       "model_id": "346cb726ad9641bd938a46e25cf300a1"
      }
     },
     "metadata": {},
     "output_type": "display_data"
    },
    {
     "data": {
      "text/plain": [
       "config.json:   0%|          | 0.00/738 [00:00<?, ?B/s]"
      ],
      "application/vnd.jupyter.widget-view+json": {
       "version_major": 2,
       "version_minor": 0,
       "model_id": "24e323f5f3874713bdeb4f4c7953bf27"
      }
     },
     "metadata": {},
     "output_type": "display_data"
    },
    {
     "data": {
      "text/plain": [
       "model.safetensors:   0%|          | 0.00/438M [00:00<?, ?B/s]"
      ],
      "application/vnd.jupyter.widget-view+json": {
       "version_major": 2,
       "version_minor": 0,
       "model_id": "3af8cd079c664134b54f852b72804533"
      }
     },
     "metadata": {},
     "output_type": "display_data"
    }
   ],
   "execution_count": 111
  },
  {
   "metadata": {},
   "cell_type": "markdown",
   "source": "### Predicting the test set",
   "id": "63974c4d0de8b153"
  },
  {
   "metadata": {
    "ExecuteTime": {
     "end_time": "2024-05-22T10:56:27.355013Z",
     "start_time": "2024-05-22T10:55:50.808955Z"
    }
   },
   "cell_type": "code",
   "source": [
    "for model in model_names:\n",
    "    # Predict the test set\n",
    "    print(f\"Predicting {model}...\")\n",
    "    models[model]['da_predictions'] = models[model]['da_ft_trainer_loaded'].predict(\n",
    "        models[model]['da_ft_dataset']['test'])"
   ],
   "id": "962038257249011a",
   "outputs": [
    {
     "name": "stdout",
     "output_type": "stream",
     "text": [
      "Predicting mrm8488/distilroberta-finetuned-financial-news-sentiment-analysis...\n"
     ]
    },
    {
     "data": {
      "text/plain": [
       "<IPython.core.display.HTML object>"
      ],
      "text/html": []
     },
     "metadata": {},
     "output_type": "display_data"
    },
    {
     "name": "stdout",
     "output_type": "stream",
     "text": [
      "Predicting distilbert-base-uncased...\n"
     ]
    },
    {
     "data": {
      "text/plain": [
       "<IPython.core.display.HTML object>"
      ],
      "text/html": []
     },
     "metadata": {},
     "output_type": "display_data"
    },
    {
     "name": "stdout",
     "output_type": "stream",
     "text": [
      "Predicting ProsusAI/finbert...\n"
     ]
    },
    {
     "data": {
      "text/plain": [
       "<IPython.core.display.HTML object>"
      ],
      "text/html": []
     },
     "metadata": {},
     "output_type": "display_data"
    }
   ],
   "execution_count": 112
  },
  {
   "metadata": {
    "ExecuteTime": {
     "end_time": "2024-05-22T10:56:27.369327Z",
     "start_time": "2024-05-22T10:56:27.357017Z"
    }
   },
   "cell_type": "code",
   "source": [
    "# Display the predictions\n",
    "models[model_names[0]]['da_predictions']"
   ],
   "id": "4e231c28c950be05",
   "outputs": [
    {
     "data": {
      "text/plain": [
       "PredictionOutput(predictions=array([[-1.4143077 ,  1.8865217 ],\n",
       "       [ 1.5758506 , -1.7415456 ],\n",
       "       [-1.2952677 ,  1.780877  ],\n",
       "       [-1.2761613 ,  1.6741959 ],\n",
       "       [-1.0812666 ,  1.4666804 ],\n",
       "       [ 1.3374413 , -1.4681642 ],\n",
       "       [-1.4673434 ,  1.9599478 ],\n",
       "       [ 1.6264772 , -1.7845808 ],\n",
       "       [-1.0004382 ,  1.3872668 ],\n",
       "       [-0.65440357,  1.0551432 ],\n",
       "       [-1.425289  ,  1.7941784 ],\n",
       "       [ 1.1762983 , -1.1160709 ],\n",
       "       [ 1.5977942 , -1.8039314 ],\n",
       "       [-1.4831957 ,  1.8444029 ],\n",
       "       [-1.2450815 ,  1.6688418 ],\n",
       "       [ 1.6578315 , -1.8594109 ],\n",
       "       [ 0.7709983 , -0.72900677],\n",
       "       [-1.4354419 ,  1.7787657 ],\n",
       "       [ 1.0136076 , -1.0861514 ],\n",
       "       [ 1.715759  , -1.9160928 ],\n",
       "       [ 0.17809583, -0.04435887],\n",
       "       [ 1.6115366 , -1.803603  ],\n",
       "       [-0.68443954,  0.9134275 ],\n",
       "       [ 1.5628493 , -1.7143179 ],\n",
       "       [ 1.7336373 , -1.8856356 ],\n",
       "       [-1.2569096 ,  1.7686116 ],\n",
       "       [-1.4757544 ,  1.9414469 ],\n",
       "       [-1.4593319 ,  1.8805939 ],\n",
       "       [ 1.6189969 , -1.7820128 ],\n",
       "       [-1.207811  ,  1.626603  ],\n",
       "       [ 1.664798  , -1.8540677 ],\n",
       "       [-1.5036951 ,  1.8945847 ],\n",
       "       [ 1.6091512 , -1.7884816 ],\n",
       "       [-1.3264627 ,  1.7657219 ],\n",
       "       [-0.35678568,  0.5079205 ],\n",
       "       [ 1.001983  , -1.036199  ],\n",
       "       [ 1.5573387 , -1.7408472 ],\n",
       "       [ 1.2262138 , -1.376806  ],\n",
       "       [-1.1514502 ,  1.4244488 ],\n",
       "       [-1.2567571 ,  1.7069361 ]], dtype=float32), label_ids=array([1, 0, 1, 1, 1, 0, 1, 0, 0, 0, 1, 0, 0, 1, 1, 0, 0, 1, 0, 0, 0, 0,\n",
       "       0, 0, 0, 1, 1, 1, 0, 1, 0, 1, 0, 0, 0, 0, 0, 0, 1, 1], dtype=int64), metrics={'test_loss': 0.3214472234249115, 'test_accuracy': 0.875, 'test_runtime': 8.7195, 'test_samples_per_second': 4.587, 'test_steps_per_second': 0.573})"
      ]
     },
     "execution_count": 113,
     "metadata": {},
     "output_type": "execute_result"
    }
   ],
   "execution_count": 113
  },
  {
   "metadata": {},
   "cell_type": "markdown",
   "source": "### Compute relevant metrics\n",
   "id": "c07a6dc009462c6d"
  },
  {
   "metadata": {
    "ExecuteTime": {
     "end_time": "2024-05-22T10:57:23.039071Z",
     "start_time": "2024-05-22T10:57:23.014218Z"
    }
   },
   "cell_type": "code",
   "source": [
    "# Initialize a dictionary to store the results\n",
    "results_da = {}\n",
    "\n",
    "# Iterate over the model names\n",
    "for model in model_names:\n",
    "    # Get the predicted labels\n",
    "    predicted_labels = np.argmax(models[model]['da_predictions'].predictions, axis=-1)\n",
    "\n",
    "    # Get the true labels\n",
    "    true_labels = models[model]['da_predictions'].label_ids\n",
    "\n",
    "    # Compute the confusion matrix\n",
    "    confusion = confusion_matrix(true_labels, predicted_labels)\n",
    "\n",
    "    # Compute the accuracy\n",
    "    accuracy = accuracy_score(true_labels, predicted_labels)\n",
    "\n",
    "    # Compute the precision\n",
    "    precision = precision_score(true_labels, predicted_labels)\n",
    "\n",
    "    # Compute the recall\n",
    "    recall = recall_score(true_labels, predicted_labels)\n",
    "\n",
    "    # Compute the F1 score\n",
    "    f1 = f1_score(true_labels, predicted_labels)\n",
    "\n",
    "    # Store the results in the dictionary\n",
    "    results_da[model] = {\n",
    "        'confusion_matrix': confusion,\n",
    "        'accuracy': accuracy,\n",
    "        'precision': precision,\n",
    "        'recall': recall,\n",
    "        'f1_score': f1\n",
    "    }"
   ],
   "id": "9a25a8512e1264a7",
   "outputs": [],
   "execution_count": 116
  },
  {
   "metadata": {},
   "cell_type": "markdown",
   "source": "### Save the results to a dataframe",
   "id": "dd9de6f31ea6a07d"
  },
  {
   "metadata": {
    "ExecuteTime": {
     "end_time": "2024-05-22T10:57:25.709706Z",
     "start_time": "2024-05-22T10:57:25.674171Z"
    }
   },
   "cell_type": "code",
   "source": [
    "results_transformers_da = []\n",
    "for model, metrics in results_da.items():\n",
    "    results_transformers_da.append({\n",
    "        'Model': \"DA-\" + model,\n",
    "        'Feature Representation': 'N/A',\n",
    "        'Columns': 'combined_text',\n",
    "        'F1-score': metrics['f1_score'],\n",
    "        'Accuracy': metrics['accuracy'],\n",
    "        'Precision': metrics['precision'],\n",
    "        'Recall': metrics['recall'],\n",
    "    })\n",
    "\n",
    "# Create a dataframe from the results\n",
    "results_da = pd.DataFrame(results_transformers_da)\n",
    "\n",
    "results_da"
   ],
   "id": "4c6cb16a312063b3",
   "outputs": [
    {
     "data": {
      "text/plain": [
       "                                               Model Feature Representation  \\\n",
       "0  DA-mrm8488/distilroberta-finetuned-financial-n...                    N/A   \n",
       "1                         DA-distilbert-base-uncased                    N/A   \n",
       "2                                DA-ProsusAI/finbert                    N/A   \n",
       "\n",
       "         Columns  F1-score  Accuracy  Precision  Recall  \n",
       "0  combined_text  0.864865     0.875   0.761905  1.0000  \n",
       "1  combined_text  0.684211     0.700   0.590909  0.8125  \n",
       "2  combined_text  0.941176     0.950   0.888889  1.0000  "
      ],
      "text/html": [
       "<div>\n",
       "<style scoped>\n",
       "    .dataframe tbody tr th:only-of-type {\n",
       "        vertical-align: middle;\n",
       "    }\n",
       "\n",
       "    .dataframe tbody tr th {\n",
       "        vertical-align: top;\n",
       "    }\n",
       "\n",
       "    .dataframe thead th {\n",
       "        text-align: right;\n",
       "    }\n",
       "</style>\n",
       "<table border=\"1\" class=\"dataframe\">\n",
       "  <thead>\n",
       "    <tr style=\"text-align: right;\">\n",
       "      <th></th>\n",
       "      <th>Model</th>\n",
       "      <th>Feature Representation</th>\n",
       "      <th>Columns</th>\n",
       "      <th>F1-score</th>\n",
       "      <th>Accuracy</th>\n",
       "      <th>Precision</th>\n",
       "      <th>Recall</th>\n",
       "    </tr>\n",
       "  </thead>\n",
       "  <tbody>\n",
       "    <tr>\n",
       "      <th>0</th>\n",
       "      <td>DA-mrm8488/distilroberta-finetuned-financial-n...</td>\n",
       "      <td>N/A</td>\n",
       "      <td>combined_text</td>\n",
       "      <td>0.864865</td>\n",
       "      <td>0.875</td>\n",
       "      <td>0.761905</td>\n",
       "      <td>1.0000</td>\n",
       "    </tr>\n",
       "    <tr>\n",
       "      <th>1</th>\n",
       "      <td>DA-distilbert-base-uncased</td>\n",
       "      <td>N/A</td>\n",
       "      <td>combined_text</td>\n",
       "      <td>0.684211</td>\n",
       "      <td>0.700</td>\n",
       "      <td>0.590909</td>\n",
       "      <td>0.8125</td>\n",
       "    </tr>\n",
       "    <tr>\n",
       "      <th>2</th>\n",
       "      <td>DA-ProsusAI/finbert</td>\n",
       "      <td>N/A</td>\n",
       "      <td>combined_text</td>\n",
       "      <td>0.941176</td>\n",
       "      <td>0.950</td>\n",
       "      <td>0.888889</td>\n",
       "      <td>1.0000</td>\n",
       "    </tr>\n",
       "  </tbody>\n",
       "</table>\n",
       "</div>"
      ]
     },
     "execution_count": 117,
     "metadata": {},
     "output_type": "execute_result"
    }
   ],
   "execution_count": 117
  },
  {
   "metadata": {},
   "cell_type": "markdown",
   "source": "### Plot an F1-score comparison bar chart",
   "id": "9266c969715d4e6e"
  },
  {
   "metadata": {
    "ExecuteTime": {
     "end_time": "2024-05-22T13:08:03.177979Z",
     "start_time": "2024-05-22T13:08:02.918192Z"
    }
   },
   "cell_type": "code",
   "source": [
    "data = results_da.sort_values(by='F1-score', ascending=False)\n",
    "\n",
    "# Create a bar chart\n",
    "plt.figure(figsize=(10, 6))\n",
    "plt.bar(data['Model'], data['F1-score'], color='lightcoral', width=0.5)\n",
    "plt.xlabel('Model')\n",
    "plt.ylabel('F1-score')\n",
    "plt.title('F1-score comparison after domain adaptation')\n",
    "plt.ylim(0, 1)\n",
    "plt.tight_layout()\n",
    "# Show values on the bars\n",
    "for i, value in enumerate(data['F1-score']):\n",
    "    plt.text(i, value + 0.01, f'{value:.4f}', ha='center')\n",
    "    \n",
    "plt.show()"
   ],
   "id": "e758d27741cd8545",
   "outputs": [
    {
     "data": {
      "text/plain": [
       "<Figure size 1000x600 with 1 Axes>"
      ],
      "image/png": "[encoded data removed]"
     },
     "metadata": {},
     "output_type": "display_data"
    }
   ],
   "execution_count": 141
  },
  {
   "metadata": {},
   "cell_type": "markdown",
   "source": "### Compare with previous results",
   "id": "e8bbf278e35aeed"
  },
  {
   "metadata": {
    "ExecuteTime": {
     "end_time": "2024-05-22T10:57:30.315464Z",
     "start_time": "2024-05-22T10:57:30.287297Z"
    }
   },
   "cell_type": "code",
   "source": [
    "# Concatenate the results\n",
    "results = pd.concat([results, results_da], ignore_index=True)\n",
    "\n",
    "# Save the results to a CSV file\n",
    "results.to_csv('results/assignment2_comparison_da.csv', index=False)\n",
    "\n",
    "# Sort the results by f1-score\n",
    "results = results.sort_values(by='F1-score', ascending=False)\n",
    "\n",
    "results"
   ],
   "id": "9da7a223aacef436",
   "outputs": [
    {
     "data": {
      "text/plain": [
       "                                               Model  \\\n",
       "8                                DA-ProsusAI/finbert   \n",
       "0  mrm8488/distilroberta-finetuned-financial-news...   \n",
       "1                                   ProsusAI/finbert   \n",
       "6  DA-mrm8488/distilroberta-finetuned-financial-n...   \n",
       "2                            distilbert-base-uncased   \n",
       "3                             Multi-Layer Perceptron   \n",
       "4                                  Loughran-McDonald   \n",
       "5                                              VADER   \n",
       "7                         DA-distilbert-base-uncased   \n",
       "\n",
       "                                    Columns Feature Representation  F1-score  \\\n",
       "8                             combined_text                    N/A  0.941176   \n",
       "0                             combined_text                    N/A  0.937500   \n",
       "1                             combined_text                    N/A  0.937500   \n",
       "6                             combined_text                    N/A  0.864865   \n",
       "2                             combined_text                    N/A  0.777778   \n",
       "3  headline_embeddings, synopsis_embeddings    Word2Vec FinText AI  0.751323   \n",
       "4                             combined_text                    NaN  0.734545   \n",
       "5                             combined_text                    NaN  0.723549   \n",
       "7                             combined_text                    N/A  0.684211   \n",
       "\n",
       "   Accuracy  Precision    Recall  \n",
       "8     0.950   0.888889  1.000000  \n",
       "0     0.950   0.937500  0.937500  \n",
       "1     0.950   0.937500  0.937500  \n",
       "6     0.875   0.761905  1.000000  \n",
       "2     0.800   0.700000  0.875000  \n",
       "3     0.755   0.758598  0.751341  \n",
       "4     0.635   0.604790  0.935185  \n",
       "5     0.595   0.572973  0.981481  \n",
       "7     0.700   0.590909  0.812500  "
      ],
      "text/html": [
       "<div>\n",
       "<style scoped>\n",
       "    .dataframe tbody tr th:only-of-type {\n",
       "        vertical-align: middle;\n",
       "    }\n",
       "\n",
       "    .dataframe tbody tr th {\n",
       "        vertical-align: top;\n",
       "    }\n",
       "\n",
       "    .dataframe thead th {\n",
       "        text-align: right;\n",
       "    }\n",
       "</style>\n",
       "<table border=\"1\" class=\"dataframe\">\n",
       "  <thead>\n",
       "    <tr style=\"text-align: right;\">\n",
       "      <th></th>\n",
       "      <th>Model</th>\n",
       "      <th>Columns</th>\n",
       "      <th>Feature Representation</th>\n",
       "      <th>F1-score</th>\n",
       "      <th>Accuracy</th>\n",
       "      <th>Precision</th>\n",
       "      <th>Recall</th>\n",
       "    </tr>\n",
       "  </thead>\n",
       "  <tbody>\n",
       "    <tr>\n",
       "      <th>8</th>\n",
       "      <td>DA-ProsusAI/finbert</td>\n",
       "      <td>combined_text</td>\n",
       "      <td>N/A</td>\n",
       "      <td>0.941176</td>\n",
       "      <td>0.950</td>\n",
       "      <td>0.888889</td>\n",
       "      <td>1.000000</td>\n",
       "    </tr>\n",
       "    <tr>\n",
       "      <th>0</th>\n",
       "      <td>mrm8488/distilroberta-finetuned-financial-news...</td>\n",
       "      <td>combined_text</td>\n",
       "      <td>N/A</td>\n",
       "      <td>0.937500</td>\n",
       "      <td>0.950</td>\n",
       "      <td>0.937500</td>\n",
       "      <td>0.937500</td>\n",
       "    </tr>\n",
       "    <tr>\n",
       "      <th>1</th>\n",
       "      <td>ProsusAI/finbert</td>\n",
       "      <td>combined_text</td>\n",
       "      <td>N/A</td>\n",
       "      <td>0.937500</td>\n",
       "      <td>0.950</td>\n",
       "      <td>0.937500</td>\n",
       "      <td>0.937500</td>\n",
       "    </tr>\n",
       "    <tr>\n",
       "      <th>6</th>\n",
       "      <td>DA-mrm8488/distilroberta-finetuned-financial-n...</td>\n",
       "      <td>combined_text</td>\n",
       "      <td>N/A</td>\n",
       "      <td>0.864865</td>\n",
       "      <td>0.875</td>\n",
       "      <td>0.761905</td>\n",
       "      <td>1.000000</td>\n",
       "    </tr>\n",
       "    <tr>\n",
       "      <th>2</th>\n",
       "      <td>distilbert-base-uncased</td>\n",
       "      <td>combined_text</td>\n",
       "      <td>N/A</td>\n",
       "      <td>0.777778</td>\n",
       "      <td>0.800</td>\n",
       "      <td>0.700000</td>\n",
       "      <td>0.875000</td>\n",
       "    </tr>\n",
       "    <tr>\n",
       "      <th>3</th>\n",
       "      <td>Multi-Layer Perceptron</td>\n",
       "      <td>headline_embeddings, synopsis_embeddings</td>\n",
       "      <td>Word2Vec FinText AI</td>\n",
       "      <td>0.751323</td>\n",
       "      <td>0.755</td>\n",
       "      <td>0.758598</td>\n",
       "      <td>0.751341</td>\n",
       "    </tr>\n",
       "    <tr>\n",
       "      <th>4</th>\n",
       "      <td>Loughran-McDonald</td>\n",
       "      <td>combined_text</td>\n",
       "      <td>NaN</td>\n",
       "      <td>0.734545</td>\n",
       "      <td>0.635</td>\n",
       "      <td>0.604790</td>\n",
       "      <td>0.935185</td>\n",
       "    </tr>\n",
       "    <tr>\n",
       "      <th>5</th>\n",
       "      <td>VADER</td>\n",
       "      <td>combined_text</td>\n",
       "      <td>NaN</td>\n",
       "      <td>0.723549</td>\n",
       "      <td>0.595</td>\n",
       "      <td>0.572973</td>\n",
       "      <td>0.981481</td>\n",
       "    </tr>\n",
       "    <tr>\n",
       "      <th>7</th>\n",
       "      <td>DA-distilbert-base-uncased</td>\n",
       "      <td>combined_text</td>\n",
       "      <td>N/A</td>\n",
       "      <td>0.684211</td>\n",
       "      <td>0.700</td>\n",
       "      <td>0.590909</td>\n",
       "      <td>0.812500</td>\n",
       "    </tr>\n",
       "  </tbody>\n",
       "</table>\n",
       "</div>"
      ]
     },
     "execution_count": 118,
     "metadata": {},
     "output_type": "execute_result"
    }
   ],
   "execution_count": 118
  },
  {
   "metadata": {},
   "cell_type": "markdown",
   "source": "### Plot a comparison bar chart",
   "id": "22484212c85999a3"
  },
  {
   "metadata": {
    "ExecuteTime": {
     "end_time": "2024-05-22T13:36:43.013753Z",
     "start_time": "2024-05-22T13:36:42.761654Z"
    }
   },
   "cell_type": "code",
   "source": [
    "from matplotlib.patches import Patch\n",
    "\n",
    "data = results.sort_values(by='F1-score', ascending=False)\n",
    "\n",
    "# Define the colors\n",
    "colors = []\n",
    "for model in data['Model']:\n",
    "    if model.startswith('DA-'):\n",
    "        colors.append('lightcoral')\n",
    "    elif model in model_names:\n",
    "        colors.append('skyblue')\n",
    "    else:\n",
    "        colors.append('lightgray')\n",
    "\n",
    "# Trim the model names to avoid overlap\n",
    "data['Model'] = data['Model'].apply(lambda x: x[:25] + \"...\")\n",
    "\n",
    "# Create a bar chart\n",
    "plt.figure(figsize=(10, 6))\n",
    "bars = plt.bar(data['Model'], data['F1-score'], color=colors, width=0.5)\n",
    "plt.xlabel('Model')\n",
    "plt.ylabel('F1-score')\n",
    "plt.title('F1-score comparison')\n",
    "plt.xticks(rotation=45, ha='right')\n",
    "plt.ylim(0, 1)\n",
    "plt.tight_layout()\n",
    "\n",
    "# Create custom legend\n",
    "legend_elements = [Patch(facecolor='lightcoral', label='Domain Adaptation'),\n",
    "                   Patch(facecolor='skyblue', label='Fine-tuned'),\n",
    "                   Patch(facecolor='lightgray', label='Other')]\n",
    "\n",
    "plt.legend(handles=legend_elements, loc='upper right')\n",
    "\n",
    "# Show values on the bars\n",
    "for i, value in enumerate(data['F1-score']):\n",
    "    plt.text(i, value + 0.01, f'{value:.4f}', ha='center')\n",
    "\n",
    "plt.show()\n"
   ],
   "id": "9d597beaf539afb7",
   "outputs": [
    {
     "data": {
      "text/plain": [
       "<Figure size 1000x600 with 1 Axes>"
      ],
      "image/png": "[encoded data removed]"
     },
     "metadata": {},
     "output_type": "display_data"
    }
   ],
   "execution_count": 142
  },
  {
   "metadata": {},
   "cell_type": "markdown",
   "source": [
    "The chart above demonstrates the F1-score comparison between all the models tested so far.\n",
    "\n",
    "We can see a clear improvement with the introduction of transformers in this assignment comparing to the previous one. \n",
    "\n",
    "The best result was obtaining by the FinbertAI model after domain adaptation with an F1-score of 0.9412, which is remarkably higher than the best model from the previous assignment (Multi-Layer Perceptron).\n",
    "\n",
    "Another score to notice if the performance of the distilbert model after domain adaptation, which achieved the lowest score from the other 8 models."
   ],
   "id": "b9d74fa8fd57e10a"
  }
 ],
 "metadata": {
  "kernelspec": {
   "display_name": "Python 3",
   "language": "python",
   "name": "python3"
  },
  "language_info": {
   "codemirror_mode": {
    "name": "ipython",
    "version": 3
   },
   "file_extension": ".py",
   "mimetype": "text/x-python",
   "name": "python",
   "nbconvert_exporter": "python",
   "pygments_lexer": "ipython3",
   "version": "3.11.5"
  }
 },
 "nbformat": 4,
 "nbformat_minor": 5
}
