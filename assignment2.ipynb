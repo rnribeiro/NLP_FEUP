{
 "cells": [
  {
   "cell_type": "markdown",
   "id": "3445c9855ff311e7",
   "metadata": {},
   "source": [
    "# Sentiment Analysis - Labelled Financial News Data Using Transformer Models\n"
   ]
  },
  {
   "cell_type": "code",
   "id": "7fe6ac1d1f0f6129",
   "metadata": {
    "ExecuteTime": {
     "end_time": "2024-05-21T12:43:29.077581Z",
     "start_time": "2024-05-21T12:43:29.074100Z"
    }
   },
   "source": [
    "# Importing the required libraries\n",
    "import pandas as pd\n",
    "import numpy as np\n",
    "from datasets import Dataset, DatasetDict\n",
    "from transformers import AutoTokenizer\n",
    "from transformers import TrainingArguments\n",
    "from transformers import Trainer\n",
    "from transformers import DataCollatorWithPadding\n",
    "from transformers import AutoModelForSequenceClassification\n",
    "import evaluate\n",
    "from sklearn.metrics import confusion_matrix, accuracy_score, precision_score, recall_score, f1_score"
   ],
   "outputs": [],
   "execution_count": 43
  },
  {
   "cell_type": "markdown",
   "id": "b93ec5afcbb2d02a",
   "metadata": {},
   "source": [
    "### Loading the data"
   ]
  },
  {
   "cell_type": "code",
   "id": "aa625c70a8cfa0b8",
   "metadata": {
    "ExecuteTime": {
     "end_time": "2024-05-21T10:44:16.627027Z",
     "start_time": "2024-05-21T10:44:16.605940Z"
    }
   },
   "source": [
    "data = pd.read_csv('data/Fin_cleaned.csv', encoding='utf-8')\n",
    "\n",
    "# duplicate the data\n",
    "news = data.copy()\n",
    "\n",
    "news"
   ],
   "outputs": [
    {
     "data": {
      "text/plain": [
       "    Date_published                                           Headline  \\\n",
       "0       2022-06-21  Banks holding on to subsidy share, say payment...   \n",
       "1       2022-04-19  Digitally ready Bank of Baroda aims to click o...   \n",
       "2       2022-05-27  Karnataka attracted investment commitment of R...   \n",
       "3       2022-04-06  Splitting of provident fund accounts may be de...   \n",
       "4       2022-06-14  Irdai weighs proposal to privatise Insurance I...   \n",
       "..             ...                                                ...   \n",
       "395     2022-06-10      Banks take a cue from RBI, hike lending rates   \n",
       "396     2022-06-29  Sebi issues Rs 27 lakh recovery notice to indi...   \n",
       "397     2022-06-06  Apollo Hospital shares  drop  0.68% as Sensex ...   \n",
       "398     2022-05-16  SBI at Rs 710? What makes analysts see up to 5...   \n",
       "399     2022-05-27  Stock market update: Mining stocks  up  as mar...   \n",
       "\n",
       "                                              Synopsis  \\\n",
       "0    The companies have written to the National Pay...   \n",
       "1    At present, 50% of the bank's retail loans are...   \n",
       "2    Karnataka is at the forefront in attracting in...   \n",
       "3    The EPFO is likely to split accounts only at t...   \n",
       "4    Set up in 2009 as an advisory body, IIB collec...   \n",
       "..                                                 ...   \n",
       "395  These banks raised their respective external b...   \n",
       "396  In the event of non-payment, it will recover t...   \n",
       "397  A total of 10,105 shares changed hands on the ...   \n",
       "398  Calling the stock 'attractively valued' analys...   \n",
       "399  The 30-share BSE Sensex was  up  323.71 points...   \n",
       "\n",
       "                                             Full_text Final Status  \n",
       "0    ReutersPayments companies and banks are at log...     Negative  \n",
       "1    AgenciesThe bank presently has 20 million acti...     Positive  \n",
       "2    PTIKarnataka Chief Minister Basavaraj Bommai.K...     Positive  \n",
       "3    Getty ImagesThe budget for FY22 had imposed in...     Negative  \n",
       "4    AgenciesThere is a view in the insurance indus...     Positive  \n",
       "..                                                 ...          ...  \n",
       "395  PTIICICI Bank, Bank of Baroda, Punjab National...     Negative  \n",
       "396  ReutersThe logo of the Securities and Exchange...     Negative  \n",
       "397  Getty ImagesShrikant Chouhan of Kotak Securiti...     Negative  \n",
       "398  AgenciesThe PSU bank reported a 41.27 per cent...     Positive  \n",
       "399  Shutterstock.comAgarwal said the global econom...     Positive  \n",
       "\n",
       "[400 rows x 5 columns]"
      ],
      "text/html": [
       "<div>\n",
       "<style scoped>\n",
       "    .dataframe tbody tr th:only-of-type {\n",
       "        vertical-align: middle;\n",
       "    }\n",
       "\n",
       "    .dataframe tbody tr th {\n",
       "        vertical-align: top;\n",
       "    }\n",
       "\n",
       "    .dataframe thead th {\n",
       "        text-align: right;\n",
       "    }\n",
       "</style>\n",
       "<table border=\"1\" class=\"dataframe\">\n",
       "  <thead>\n",
       "    <tr style=\"text-align: right;\">\n",
       "      <th></th>\n",
       "      <th>Date_published</th>\n",
       "      <th>Headline</th>\n",
       "      <th>Synopsis</th>\n",
       "      <th>Full_text</th>\n",
       "      <th>Final Status</th>\n",
       "    </tr>\n",
       "  </thead>\n",
       "  <tbody>\n",
       "    <tr>\n",
       "      <th>0</th>\n",
       "      <td>2022-06-21</td>\n",
       "      <td>Banks holding on to subsidy share, say payment...</td>\n",
       "      <td>The companies have written to the National Pay...</td>\n",
       "      <td>ReutersPayments companies and banks are at log...</td>\n",
       "      <td>Negative</td>\n",
       "    </tr>\n",
       "    <tr>\n",
       "      <th>1</th>\n",
       "      <td>2022-04-19</td>\n",
       "      <td>Digitally ready Bank of Baroda aims to click o...</td>\n",
       "      <td>At present, 50% of the bank's retail loans are...</td>\n",
       "      <td>AgenciesThe bank presently has 20 million acti...</td>\n",
       "      <td>Positive</td>\n",
       "    </tr>\n",
       "    <tr>\n",
       "      <th>2</th>\n",
       "      <td>2022-05-27</td>\n",
       "      <td>Karnataka attracted investment commitment of R...</td>\n",
       "      <td>Karnataka is at the forefront in attracting in...</td>\n",
       "      <td>PTIKarnataka Chief Minister Basavaraj Bommai.K...</td>\n",
       "      <td>Positive</td>\n",
       "    </tr>\n",
       "    <tr>\n",
       "      <th>3</th>\n",
       "      <td>2022-04-06</td>\n",
       "      <td>Splitting of provident fund accounts may be de...</td>\n",
       "      <td>The EPFO is likely to split accounts only at t...</td>\n",
       "      <td>Getty ImagesThe budget for FY22 had imposed in...</td>\n",
       "      <td>Negative</td>\n",
       "    </tr>\n",
       "    <tr>\n",
       "      <th>4</th>\n",
       "      <td>2022-06-14</td>\n",
       "      <td>Irdai weighs proposal to privatise Insurance I...</td>\n",
       "      <td>Set up in 2009 as an advisory body, IIB collec...</td>\n",
       "      <td>AgenciesThere is a view in the insurance indus...</td>\n",
       "      <td>Positive</td>\n",
       "    </tr>\n",
       "    <tr>\n",
       "      <th>...</th>\n",
       "      <td>...</td>\n",
       "      <td>...</td>\n",
       "      <td>...</td>\n",
       "      <td>...</td>\n",
       "      <td>...</td>\n",
       "    </tr>\n",
       "    <tr>\n",
       "      <th>395</th>\n",
       "      <td>2022-06-10</td>\n",
       "      <td>Banks take a cue from RBI, hike lending rates</td>\n",
       "      <td>These banks raised their respective external b...</td>\n",
       "      <td>PTIICICI Bank, Bank of Baroda, Punjab National...</td>\n",
       "      <td>Negative</td>\n",
       "    </tr>\n",
       "    <tr>\n",
       "      <th>396</th>\n",
       "      <td>2022-06-29</td>\n",
       "      <td>Sebi issues Rs 27 lakh recovery notice to indi...</td>\n",
       "      <td>In the event of non-payment, it will recover t...</td>\n",
       "      <td>ReutersThe logo of the Securities and Exchange...</td>\n",
       "      <td>Negative</td>\n",
       "    </tr>\n",
       "    <tr>\n",
       "      <th>397</th>\n",
       "      <td>2022-06-06</td>\n",
       "      <td>Apollo Hospital shares  drop  0.68% as Sensex ...</td>\n",
       "      <td>A total of 10,105 shares changed hands on the ...</td>\n",
       "      <td>Getty ImagesShrikant Chouhan of Kotak Securiti...</td>\n",
       "      <td>Negative</td>\n",
       "    </tr>\n",
       "    <tr>\n",
       "      <th>398</th>\n",
       "      <td>2022-05-16</td>\n",
       "      <td>SBI at Rs 710? What makes analysts see up to 5...</td>\n",
       "      <td>Calling the stock 'attractively valued' analys...</td>\n",
       "      <td>AgenciesThe PSU bank reported a 41.27 per cent...</td>\n",
       "      <td>Positive</td>\n",
       "    </tr>\n",
       "    <tr>\n",
       "      <th>399</th>\n",
       "      <td>2022-05-27</td>\n",
       "      <td>Stock market update: Mining stocks  up  as mar...</td>\n",
       "      <td>The 30-share BSE Sensex was  up  323.71 points...</td>\n",
       "      <td>Shutterstock.comAgarwal said the global econom...</td>\n",
       "      <td>Positive</td>\n",
       "    </tr>\n",
       "  </tbody>\n",
       "</table>\n",
       "<p>400 rows × 5 columns</p>\n",
       "</div>"
      ]
     },
     "execution_count": 13,
     "metadata": {},
     "output_type": "execute_result"
    }
   ],
   "execution_count": 13
  },
  {
   "cell_type": "markdown",
   "id": "d5cb83a1a8d98f7a",
   "metadata": {},
   "source": [
    "### Data Preprocessing"
   ]
  },
  {
   "cell_type": "code",
   "id": "a5d6d1dadbee521b",
   "metadata": {
    "ExecuteTime": {
     "end_time": "2024-05-21T10:44:20.177811Z",
     "start_time": "2024-05-21T10:44:20.166684Z"
    }
   },
   "source": [
    "# Fill the missing value with an empty string\n",
    "news['Synopsis'] = news['Synopsis'].fillna('')\n",
    "\n",
    "# Rename columns\n",
    "news = news.rename(\n",
    "    columns={'Date_published': 'date', 'Headline': 'headline', 'Synopsis': 'synopsis', 'Full_text': 'text',\n",
    "             'Final Status': 'label'})\n",
    "\n",
    "# Remove the spaces from the labels\n",
    "news['label'] = news['label'].str.strip()\n",
    "\n",
    "# Combine the headline, synopsis, and text columns\n",
    "news['full_text'] = news['headline'] + ' ' + news['synopsis'] + ' ' + news['text']\n",
    "\n",
    "# Convert labels to binary\n",
    "news['label'] = news['label'].apply(lambda x: 1 if x == 'Positive' else 0)\n",
    "\n",
    "news"
   ],
   "outputs": [
    {
     "data": {
      "text/plain": [
       "           date                                           headline  \\\n",
       "0    2022-06-21  Banks holding on to subsidy share, say payment...   \n",
       "1    2022-04-19  Digitally ready Bank of Baroda aims to click o...   \n",
       "2    2022-05-27  Karnataka attracted investment commitment of R...   \n",
       "3    2022-04-06  Splitting of provident fund accounts may be de...   \n",
       "4    2022-06-14  Irdai weighs proposal to privatise Insurance I...   \n",
       "..          ...                                                ...   \n",
       "395  2022-06-10      Banks take a cue from RBI, hike lending rates   \n",
       "396  2022-06-29  Sebi issues Rs 27 lakh recovery notice to indi...   \n",
       "397  2022-06-06  Apollo Hospital shares  drop  0.68% as Sensex ...   \n",
       "398  2022-05-16  SBI at Rs 710? What makes analysts see up to 5...   \n",
       "399  2022-05-27  Stock market update: Mining stocks  up  as mar...   \n",
       "\n",
       "                                              synopsis  \\\n",
       "0    The companies have written to the National Pay...   \n",
       "1    At present, 50% of the bank's retail loans are...   \n",
       "2    Karnataka is at the forefront in attracting in...   \n",
       "3    The EPFO is likely to split accounts only at t...   \n",
       "4    Set up in 2009 as an advisory body, IIB collec...   \n",
       "..                                                 ...   \n",
       "395  These banks raised their respective external b...   \n",
       "396  In the event of non-payment, it will recover t...   \n",
       "397  A total of 10,105 shares changed hands on the ...   \n",
       "398  Calling the stock 'attractively valued' analys...   \n",
       "399  The 30-share BSE Sensex was  up  323.71 points...   \n",
       "\n",
       "                                                  text  label  \\\n",
       "0    ReutersPayments companies and banks are at log...      0   \n",
       "1    AgenciesThe bank presently has 20 million acti...      1   \n",
       "2    PTIKarnataka Chief Minister Basavaraj Bommai.K...      1   \n",
       "3    Getty ImagesThe budget for FY22 had imposed in...      0   \n",
       "4    AgenciesThere is a view in the insurance indus...      1   \n",
       "..                                                 ...    ...   \n",
       "395  PTIICICI Bank, Bank of Baroda, Punjab National...      0   \n",
       "396  ReutersThe logo of the Securities and Exchange...      0   \n",
       "397  Getty ImagesShrikant Chouhan of Kotak Securiti...      0   \n",
       "398  AgenciesThe PSU bank reported a 41.27 per cent...      1   \n",
       "399  Shutterstock.comAgarwal said the global econom...      1   \n",
       "\n",
       "                                             full_text  \n",
       "0    Banks holding on to subsidy share, say payment...  \n",
       "1    Digitally ready Bank of Baroda aims to click o...  \n",
       "2    Karnataka attracted investment commitment of R...  \n",
       "3    Splitting of provident fund accounts may be de...  \n",
       "4    Irdai weighs proposal to privatise Insurance I...  \n",
       "..                                                 ...  \n",
       "395  Banks take a cue from RBI, hike lending rates ...  \n",
       "396  Sebi issues Rs 27 lakh recovery notice to indi...  \n",
       "397  Apollo Hospital shares  drop  0.68% as Sensex ...  \n",
       "398  SBI at Rs 710? What makes analysts see up to 5...  \n",
       "399  Stock market update: Mining stocks  up  as mar...  \n",
       "\n",
       "[400 rows x 6 columns]"
      ],
      "text/html": [
       "<div>\n",
       "<style scoped>\n",
       "    .dataframe tbody tr th:only-of-type {\n",
       "        vertical-align: middle;\n",
       "    }\n",
       "\n",
       "    .dataframe tbody tr th {\n",
       "        vertical-align: top;\n",
       "    }\n",
       "\n",
       "    .dataframe thead th {\n",
       "        text-align: right;\n",
       "    }\n",
       "</style>\n",
       "<table border=\"1\" class=\"dataframe\">\n",
       "  <thead>\n",
       "    <tr style=\"text-align: right;\">\n",
       "      <th></th>\n",
       "      <th>date</th>\n",
       "      <th>headline</th>\n",
       "      <th>synopsis</th>\n",
       "      <th>text</th>\n",
       "      <th>label</th>\n",
       "      <th>full_text</th>\n",
       "    </tr>\n",
       "  </thead>\n",
       "  <tbody>\n",
       "    <tr>\n",
       "      <th>0</th>\n",
       "      <td>2022-06-21</td>\n",
       "      <td>Banks holding on to subsidy share, say payment...</td>\n",
       "      <td>The companies have written to the National Pay...</td>\n",
       "      <td>ReutersPayments companies and banks are at log...</td>\n",
       "      <td>0</td>\n",
       "      <td>Banks holding on to subsidy share, say payment...</td>\n",
       "    </tr>\n",
       "    <tr>\n",
       "      <th>1</th>\n",
       "      <td>2022-04-19</td>\n",
       "      <td>Digitally ready Bank of Baroda aims to click o...</td>\n",
       "      <td>At present, 50% of the bank's retail loans are...</td>\n",
       "      <td>AgenciesThe bank presently has 20 million acti...</td>\n",
       "      <td>1</td>\n",
       "      <td>Digitally ready Bank of Baroda aims to click o...</td>\n",
       "    </tr>\n",
       "    <tr>\n",
       "      <th>2</th>\n",
       "      <td>2022-05-27</td>\n",
       "      <td>Karnataka attracted investment commitment of R...</td>\n",
       "      <td>Karnataka is at the forefront in attracting in...</td>\n",
       "      <td>PTIKarnataka Chief Minister Basavaraj Bommai.K...</td>\n",
       "      <td>1</td>\n",
       "      <td>Karnataka attracted investment commitment of R...</td>\n",
       "    </tr>\n",
       "    <tr>\n",
       "      <th>3</th>\n",
       "      <td>2022-04-06</td>\n",
       "      <td>Splitting of provident fund accounts may be de...</td>\n",
       "      <td>The EPFO is likely to split accounts only at t...</td>\n",
       "      <td>Getty ImagesThe budget for FY22 had imposed in...</td>\n",
       "      <td>0</td>\n",
       "      <td>Splitting of provident fund accounts may be de...</td>\n",
       "    </tr>\n",
       "    <tr>\n",
       "      <th>4</th>\n",
       "      <td>2022-06-14</td>\n",
       "      <td>Irdai weighs proposal to privatise Insurance I...</td>\n",
       "      <td>Set up in 2009 as an advisory body, IIB collec...</td>\n",
       "      <td>AgenciesThere is a view in the insurance indus...</td>\n",
       "      <td>1</td>\n",
       "      <td>Irdai weighs proposal to privatise Insurance I...</td>\n",
       "    </tr>\n",
       "    <tr>\n",
       "      <th>...</th>\n",
       "      <td>...</td>\n",
       "      <td>...</td>\n",
       "      <td>...</td>\n",
       "      <td>...</td>\n",
       "      <td>...</td>\n",
       "      <td>...</td>\n",
       "    </tr>\n",
       "    <tr>\n",
       "      <th>395</th>\n",
       "      <td>2022-06-10</td>\n",
       "      <td>Banks take a cue from RBI, hike lending rates</td>\n",
       "      <td>These banks raised their respective external b...</td>\n",
       "      <td>PTIICICI Bank, Bank of Baroda, Punjab National...</td>\n",
       "      <td>0</td>\n",
       "      <td>Banks take a cue from RBI, hike lending rates ...</td>\n",
       "    </tr>\n",
       "    <tr>\n",
       "      <th>396</th>\n",
       "      <td>2022-06-29</td>\n",
       "      <td>Sebi issues Rs 27 lakh recovery notice to indi...</td>\n",
       "      <td>In the event of non-payment, it will recover t...</td>\n",
       "      <td>ReutersThe logo of the Securities and Exchange...</td>\n",
       "      <td>0</td>\n",
       "      <td>Sebi issues Rs 27 lakh recovery notice to indi...</td>\n",
       "    </tr>\n",
       "    <tr>\n",
       "      <th>397</th>\n",
       "      <td>2022-06-06</td>\n",
       "      <td>Apollo Hospital shares  drop  0.68% as Sensex ...</td>\n",
       "      <td>A total of 10,105 shares changed hands on the ...</td>\n",
       "      <td>Getty ImagesShrikant Chouhan of Kotak Securiti...</td>\n",
       "      <td>0</td>\n",
       "      <td>Apollo Hospital shares  drop  0.68% as Sensex ...</td>\n",
       "    </tr>\n",
       "    <tr>\n",
       "      <th>398</th>\n",
       "      <td>2022-05-16</td>\n",
       "      <td>SBI at Rs 710? What makes analysts see up to 5...</td>\n",
       "      <td>Calling the stock 'attractively valued' analys...</td>\n",
       "      <td>AgenciesThe PSU bank reported a 41.27 per cent...</td>\n",
       "      <td>1</td>\n",
       "      <td>SBI at Rs 710? What makes analysts see up to 5...</td>\n",
       "    </tr>\n",
       "    <tr>\n",
       "      <th>399</th>\n",
       "      <td>2022-05-27</td>\n",
       "      <td>Stock market update: Mining stocks  up  as mar...</td>\n",
       "      <td>The 30-share BSE Sensex was  up  323.71 points...</td>\n",
       "      <td>Shutterstock.comAgarwal said the global econom...</td>\n",
       "      <td>1</td>\n",
       "      <td>Stock market update: Mining stocks  up  as mar...</td>\n",
       "    </tr>\n",
       "  </tbody>\n",
       "</table>\n",
       "<p>400 rows × 6 columns</p>\n",
       "</div>"
      ]
     },
     "execution_count": 14,
     "metadata": {},
     "output_type": "execute_result"
    }
   ],
   "execution_count": 14
  },
  {
   "metadata": {},
   "cell_type": "markdown",
   "source": "## Create a dataset dictionary",
   "id": "41318a80f738bc14"
  },
  {
   "metadata": {
    "ExecuteTime": {
     "end_time": "2024-05-21T10:44:23.000980Z",
     "start_time": "2024-05-21T10:44:22.983560Z"
    }
   },
   "cell_type": "code",
   "source": [
    "# Create a dataset dictionary\n",
    "dataset = Dataset.from_pandas(news[[\"full_text\", 'label']])\n",
    "\n",
    "# Display the dataset dictionary    \n",
    "dataset"
   ],
   "id": "f1fff9f65bd23923",
   "outputs": [
    {
     "data": {
      "text/plain": [
       "Dataset({\n",
       "    features: ['full_text', 'label'],\n",
       "    num_rows: 400\n",
       "})"
      ]
     },
     "execution_count": 15,
     "metadata": {},
     "output_type": "execute_result"
    }
   ],
   "execution_count": 15
  },
  {
   "cell_type": "markdown",
   "id": "1bf44a3c66ec506d",
   "metadata": {},
   "source": "## Split the dataset into training and testing sets"
  },
  {
   "cell_type": "code",
   "id": "d52ffcdfbb353e31",
   "metadata": {
    "ExecuteTime": {
     "end_time": "2024-05-21T10:44:25.525251Z",
     "start_time": "2024-05-21T10:44:25.514457Z"
    }
   },
   "source": [
    "# We will split the dataset into 80% training and 20% testing\n",
    "train_test = dataset.train_test_split(test_size=0.2, seed=42)"
   ],
   "outputs": [],
   "execution_count": 16
  },
  {
   "cell_type": "code",
   "id": "2fa832572163e894",
   "metadata": {
    "ExecuteTime": {
     "end_time": "2024-05-21T10:44:27.598334Z",
     "start_time": "2024-05-21T10:44:27.592376Z"
    }
   },
   "source": [
    "# Now we will split the test set into 50% validation and 50% test\n",
    "valid_test = train_test['test'].train_test_split(test_size=0.5, seed=42)"
   ],
   "outputs": [],
   "execution_count": 17
  },
  {
   "metadata": {},
   "cell_type": "markdown",
   "source": "## Create a final dataset dictionary",
   "id": "fd370551a0f7a174"
  },
  {
   "cell_type": "code",
   "id": "7a69fdc07ed9c9b2",
   "metadata": {
    "ExecuteTime": {
     "end_time": "2024-05-21T10:44:42.813367Z",
     "start_time": "2024-05-21T10:44:42.809856Z"
    }
   },
   "source": [
    "# Combine the training, validation, and testing sets into a single dictionary\n",
    "final_dataset = DatasetDict({\n",
    "    'train': train_test['train'],\n",
    "    'validation': valid_test['train'],\n",
    "    'test': valid_test['test']\n",
    "})\n",
    "\n",
    "final_dataset"
   ],
   "outputs": [
    {
     "data": {
      "text/plain": [
       "DatasetDict({\n",
       "    train: Dataset({\n",
       "        features: ['full_text', 'label'],\n",
       "        num_rows: 320\n",
       "    })\n",
       "    validation: Dataset({\n",
       "        features: ['full_text', 'label'],\n",
       "        num_rows: 40\n",
       "    })\n",
       "    test: Dataset({\n",
       "        features: ['full_text', 'label'],\n",
       "        num_rows: 40\n",
       "    })\n",
       "})"
      ]
     },
     "execution_count": 18,
     "metadata": {},
     "output_type": "execute_result"
    }
   ],
   "execution_count": 18
  },
  {
   "metadata": {},
   "cell_type": "markdown",
   "source": "## Defining models",
   "id": "87f2c09209b67c36"
  },
  {
   "metadata": {
    "ExecuteTime": {
     "end_time": "2024-05-21T10:44:47.701820Z",
     "start_time": "2024-05-21T10:44:46.006087Z"
    }
   },
   "cell_type": "code",
   "source": [
    "# Models names\n",
    "model_names = [\n",
    "    \"mrm8488/distilroberta-finetuned-financial-news-sentiment-analysis\",\n",
    "    \"distilbert-base-uncased\",\n",
    "    \"ProsusAI/finbert\"\n",
    "]\n",
    "\n",
    "# Hugging Face organization name for the models saving\n",
    "huggingface_owner = \"NLP-FEUP/\"\n",
    "\n",
    "# Create a models dictionary\n",
    "models = {\n",
    "    model: {\n",
    "        'ft_saving_dir': huggingface_owner + \"FT-\" + model.replace(\"/\", \"-\"),\n",
    "        'tokenizer': AutoTokenizer.from_pretrained(model),\n",
    "        'ft_dataset': DatasetDict({\n",
    "            'train': train_test['train'],\n",
    "            'validation': valid_test['train'],\n",
    "            'test': valid_test['test']\n",
    "        }),  # Dataset for Fine-tuning\n",
    "    }\n",
    "    for model in model_names\n",
    "}\n"
   ],
   "id": "6f37417161dce39d",
   "outputs": [],
   "execution_count": 19
  },
  {
   "metadata": {},
   "cell_type": "markdown",
   "source": "## Tokenization of the dataset",
   "id": "8028f5cdd8eb41e"
  },
  {
   "metadata": {
    "ExecuteTime": {
     "end_time": "2024-05-21T10:45:03.901094Z",
     "start_time": "2024-05-21T10:45:03.193037Z"
    }
   },
   "cell_type": "code",
   "source": [
    "# Function to tokenize the dataset\n",
    "def ft_tokenize_function(model, examples):\n",
    "    return model['tokenizer'](examples['full_text'], truncation=True, padding='max_length')\n",
    "\n",
    "# Tokenize the dataset\n",
    "for model in model_names:\n",
    "    models[model]['ft_dataset'] = models[model]['ft_dataset'].map(\n",
    "        lambda examples: ft_tokenize_function(models[model], examples),\n",
    "        batched=True)\n",
    "\n",
    "models[model_names[0]]['ft_dataset']"
   ],
   "id": "ee371373db9a236c",
   "outputs": [
    {
     "data": {
      "text/plain": [
       "Map:   0%|          | 0/320 [00:00<?, ? examples/s]"
      ],
      "application/vnd.jupyter.widget-view+json": {
       "version_major": 2,
       "version_minor": 0,
       "model_id": "2b7f434f3d494bc6a464caf56805e13a"
      }
     },
     "metadata": {},
     "output_type": "display_data"
    },
    {
     "data": {
      "text/plain": [
       "Map:   0%|          | 0/40 [00:00<?, ? examples/s]"
      ],
      "application/vnd.jupyter.widget-view+json": {
       "version_major": 2,
       "version_minor": 0,
       "model_id": "64132a5dfd5e45f588da4dd6353c1d06"
      }
     },
     "metadata": {},
     "output_type": "display_data"
    },
    {
     "data": {
      "text/plain": [
       "Map:   0%|          | 0/40 [00:00<?, ? examples/s]"
      ],
      "application/vnd.jupyter.widget-view+json": {
       "version_major": 2,
       "version_minor": 0,
       "model_id": "cf6496aeddf24d1d935af903d52a17ef"
      }
     },
     "metadata": {},
     "output_type": "display_data"
    },
    {
     "data": {
      "text/plain": [
       "Map:   0%|          | 0/320 [00:00<?, ? examples/s]"
      ],
      "application/vnd.jupyter.widget-view+json": {
       "version_major": 2,
       "version_minor": 0,
       "model_id": "57f5c0cc26cf4781aedce44198dd2887"
      }
     },
     "metadata": {},
     "output_type": "display_data"
    },
    {
     "data": {
      "text/plain": [
       "Map:   0%|          | 0/40 [00:00<?, ? examples/s]"
      ],
      "application/vnd.jupyter.widget-view+json": {
       "version_major": 2,
       "version_minor": 0,
       "model_id": "9c480ef4a55747e78d51d0958817280b"
      }
     },
     "metadata": {},
     "output_type": "display_data"
    },
    {
     "data": {
      "text/plain": [
       "Map:   0%|          | 0/40 [00:00<?, ? examples/s]"
      ],
      "application/vnd.jupyter.widget-view+json": {
       "version_major": 2,
       "version_minor": 0,
       "model_id": "0156cf42b1ff4ef7bce04eefc0692224"
      }
     },
     "metadata": {},
     "output_type": "display_data"
    },
    {
     "data": {
      "text/plain": [
       "Map:   0%|          | 0/320 [00:00<?, ? examples/s]"
      ],
      "application/vnd.jupyter.widget-view+json": {
       "version_major": 2,
       "version_minor": 0,
       "model_id": "92169231713d4976b4cc39c0f57e924a"
      }
     },
     "metadata": {},
     "output_type": "display_data"
    },
    {
     "data": {
      "text/plain": [
       "Map:   0%|          | 0/40 [00:00<?, ? examples/s]"
      ],
      "application/vnd.jupyter.widget-view+json": {
       "version_major": 2,
       "version_minor": 0,
       "model_id": "429b874008f1439ea767c690b9de4081"
      }
     },
     "metadata": {},
     "output_type": "display_data"
    },
    {
     "data": {
      "text/plain": [
       "Map:   0%|          | 0/40 [00:00<?, ? examples/s]"
      ],
      "application/vnd.jupyter.widget-view+json": {
       "version_major": 2,
       "version_minor": 0,
       "model_id": "a763de269ee849e0b0a3b94bae5d7166"
      }
     },
     "metadata": {},
     "output_type": "display_data"
    },
    {
     "data": {
      "text/plain": [
       "DatasetDict({\n",
       "    train: Dataset({\n",
       "        features: ['full_text', 'label', 'input_ids', 'attention_mask'],\n",
       "        num_rows: 320\n",
       "    })\n",
       "    validation: Dataset({\n",
       "        features: ['full_text', 'label', 'input_ids', 'attention_mask'],\n",
       "        num_rows: 40\n",
       "    })\n",
       "    test: Dataset({\n",
       "        features: ['full_text', 'label', 'input_ids', 'attention_mask'],\n",
       "        num_rows: 40\n",
       "    })\n",
       "})"
      ]
     },
     "execution_count": 20,
     "metadata": {},
     "output_type": "execute_result"
    }
   ],
   "execution_count": 20
  },
  {
   "cell_type": "markdown",
   "id": "7944232b173f18f7",
   "metadata": {},
   "source": "## Loading models"
  },
  {
   "cell_type": "markdown",
   "id": "869b1164b2d66cb2",
   "metadata": {},
   "source": [
    "This model is a distilled version of the RoBERTa-base model. It follows the same training procedure as DistilBERT.\n",
    "The model has 6 layers, 768 dimension and 12 heads, totalizing 82M parameters (compared to 125M parameters for RoBERTa-base). On average DistilRoBERTa is twice as fast as Roberta-base."
   ]
  },
  {
   "cell_type": "code",
   "id": "d24baee96a243fd7",
   "metadata": {
    "ExecuteTime": {
     "end_time": "2024-05-21T10:45:13.788863Z",
     "start_time": "2024-05-21T10:45:06.897472Z"
    }
   },
   "source": [
    "# Load the metric\n",
    "metric = evaluate.load(\"accuracy\")\n",
    "\n",
    "\n",
    "# Define the function to compute the metrics\n",
    "def compute_metrics(eval_pred):\n",
    "    logits, labels = eval_pred\n",
    "    predictions = np.argmax(logits, axis=-1)\n",
    "    return metric.compute(predictions=predictions, references=labels)\n",
    "\n",
    "\n",
    "# Load all models\n",
    "for model in model_names:\n",
    "    # Load the model for fine-tuning\n",
    "    models[model]['ft_model'] = AutoModelForSequenceClassification.from_pretrained(\n",
    "        model, num_labels=2, ignore_mismatched_sizes=True\n",
    "    )\n",
    "\n",
    "    # Define the training arguments\n",
    "    models[model]['ft_training_args'] = TrainingArguments(\n",
    "        output_dir=\"./ft_training_results/\" + model.replace(\"/\", \"-\"),\n",
    "        learning_rate=2e-5,\n",
    "        per_device_train_batch_size=8,\n",
    "        per_device_eval_batch_size=8,\n",
    "        num_train_epochs=3,\n",
    "        weight_decay=0.01,\n",
    "        evaluation_strategy='epoch',\n",
    "        save_strategy='epoch',\n",
    "        load_best_model_at_end=True,\n",
    "        push_to_hub=True,\n",
    "        hub_model_id=models[model]['ft_saving_dir'],\n",
    "    )\n",
    "\n",
    "    # Define the data collator\n",
    "    models[model]['ft_data_collator'] = DataCollatorWithPadding(tokenizer=models[model]['tokenizer'])\n",
    "\n",
    "    # Define the trainer\n",
    "    models[model]['ft_trainer'] = Trainer(\n",
    "        model=models[model]['ft_model'],\n",
    "        args=models[model]['ft_training_args'],\n",
    "        train_dataset=models[model]['ft_dataset']['train'],\n",
    "        eval_dataset=models[model]['ft_dataset']['validation'],\n",
    "        data_collator=models[model]['ft_data_collator'],\n",
    "        compute_metrics=compute_metrics,\n",
    "        tokenizer=models[model]['tokenizer']\n",
    "    )"
   ],
   "outputs": [
    {
     "name": "stderr",
     "output_type": "stream",
     "text": [
      "Some weights of RobertaForSequenceClassification were not initialized from the model checkpoint at mrm8488/distilroberta-finetuned-financial-news-sentiment-analysis and are newly initialized because the shapes did not match:\n",
      "- classifier.out_proj.bias: found shape torch.Size([3]) in the checkpoint and torch.Size([2]) in the model instantiated\n",
      "- classifier.out_proj.weight: found shape torch.Size([3, 768]) in the checkpoint and torch.Size([2, 768]) in the model instantiated\n",
      "You should probably TRAIN this model on a down-stream task to be able to use it for predictions and inference.\n",
      "/Library/Frameworks/Python.framework/Versions/3.12/lib/python3.12/site-packages/transformers/training_args.py:1474: FutureWarning: `evaluation_strategy` is deprecated and will be removed in version 4.46 of 🤗 Transformers. Use `eval_strategy` instead\n",
      "  warnings.warn(\n",
      "Some weights of DistilBertForSequenceClassification were not initialized from the model checkpoint at distilbert-base-uncased and are newly initialized: ['classifier.bias', 'classifier.weight', 'pre_classifier.bias', 'pre_classifier.weight']\n",
      "You should probably TRAIN this model on a down-stream task to be able to use it for predictions and inference.\n",
      "Some weights of BertForSequenceClassification were not initialized from the model checkpoint at ProsusAI/finbert and are newly initialized because the shapes did not match:\n",
      "- classifier.weight: found shape torch.Size([3, 768]) in the checkpoint and torch.Size([2, 768]) in the model instantiated\n",
      "- classifier.bias: found shape torch.Size([3]) in the checkpoint and torch.Size([2]) in the model instantiated\n",
      "You should probably TRAIN this model on a down-stream task to be able to use it for predictions and inference.\n"
     ]
    }
   ],
   "execution_count": 21
  },
  {
   "cell_type": "markdown",
   "id": "c0f87b79edc8c83e",
   "metadata": {},
   "source": "## Fine-tuning the models"
  },
  {
   "cell_type": "code",
   "id": "f907b9f3980215c0",
   "metadata": {
    "ExecuteTime": {
     "end_time": "2024-05-21T09:19:02.903153Z",
     "start_time": "2024-05-21T09:11:31.182955Z"
    }
   },
   "source": [
    "# Train the model\n",
    "ft_train = True\n",
    "if ft_train:\n",
    "    for model in model_names:\n",
    "        print(f\"Training {model}...\")\n",
    "        models[model]['ft_trainer'].train()"
   ],
   "outputs": [
    {
     "name": "stdout",
     "output_type": "stream",
     "text": [
      "Training mrm8488/distilroberta-finetuned-financial-news-sentiment-analysis...\n"
     ]
    },
    {
     "data": {
      "text/plain": [
       "<IPython.core.display.HTML object>"
      ],
      "text/html": [
       "\n",
       "    <div>\n",
       "      \n",
       "      <progress value='120' max='120' style='width:300px; height:20px; vertical-align: middle;'></progress>\n",
       "      [120/120 01:17, Epoch 3/3]\n",
       "    </div>\n",
       "    <table border=\"1\" class=\"dataframe\">\n",
       "  <thead>\n",
       " <tr style=\"text-align: left;\">\n",
       "      <th>Epoch</th>\n",
       "      <th>Training Loss</th>\n",
       "      <th>Validation Loss</th>\n",
       "      <th>Accuracy</th>\n",
       "    </tr>\n",
       "  </thead>\n",
       "  <tbody>\n",
       "    <tr>\n",
       "      <td>1</td>\n",
       "      <td>No log</td>\n",
       "      <td>0.198142</td>\n",
       "      <td>0.925000</td>\n",
       "    </tr>\n",
       "    <tr>\n",
       "      <td>2</td>\n",
       "      <td>No log</td>\n",
       "      <td>0.237997</td>\n",
       "      <td>0.925000</td>\n",
       "    </tr>\n",
       "    <tr>\n",
       "      <td>3</td>\n",
       "      <td>No log</td>\n",
       "      <td>0.330608</td>\n",
       "      <td>0.900000</td>\n",
       "    </tr>\n",
       "  </tbody>\n",
       "</table><p>"
      ]
     },
     "metadata": {},
     "output_type": "display_data"
    },
    {
     "name": "stdout",
     "output_type": "stream",
     "text": [
      "Training distilbert-base-uncased...\n"
     ]
    },
    {
     "data": {
      "text/plain": [
       "<IPython.core.display.HTML object>"
      ],
      "text/html": [
       "\n",
       "    <div>\n",
       "      \n",
       "      <progress value='120' max='120' style='width:300px; height:20px; vertical-align: middle;'></progress>\n",
       "      [120/120 01:15, Epoch 3/3]\n",
       "    </div>\n",
       "    <table border=\"1\" class=\"dataframe\">\n",
       "  <thead>\n",
       " <tr style=\"text-align: left;\">\n",
       "      <th>Epoch</th>\n",
       "      <th>Training Loss</th>\n",
       "      <th>Validation Loss</th>\n",
       "      <th>Accuracy</th>\n",
       "    </tr>\n",
       "  </thead>\n",
       "  <tbody>\n",
       "    <tr>\n",
       "      <td>1</td>\n",
       "      <td>No log</td>\n",
       "      <td>0.681962</td>\n",
       "      <td>0.575000</td>\n",
       "    </tr>\n",
       "    <tr>\n",
       "      <td>2</td>\n",
       "      <td>No log</td>\n",
       "      <td>0.635410</td>\n",
       "      <td>0.725000</td>\n",
       "    </tr>\n",
       "    <tr>\n",
       "      <td>3</td>\n",
       "      <td>No log</td>\n",
       "      <td>0.595720</td>\n",
       "      <td>0.700000</td>\n",
       "    </tr>\n",
       "  </tbody>\n",
       "</table><p>"
      ]
     },
     "metadata": {},
     "output_type": "display_data"
    },
    {
     "name": "stdout",
     "output_type": "stream",
     "text": [
      "Training ProsusAI/finbert...\n"
     ]
    },
    {
     "data": {
      "text/plain": [
       "<IPython.core.display.HTML object>"
      ],
      "text/html": [
       "\n",
       "    <div>\n",
       "      \n",
       "      <progress value='120' max='120' style='width:300px; height:20px; vertical-align: middle;'></progress>\n",
       "      [120/120 03:55, Epoch 3/3]\n",
       "    </div>\n",
       "    <table border=\"1\" class=\"dataframe\">\n",
       "  <thead>\n",
       " <tr style=\"text-align: left;\">\n",
       "      <th>Epoch</th>\n",
       "      <th>Training Loss</th>\n",
       "      <th>Validation Loss</th>\n",
       "      <th>Accuracy</th>\n",
       "    </tr>\n",
       "  </thead>\n",
       "  <tbody>\n",
       "    <tr>\n",
       "      <td>1</td>\n",
       "      <td>No log</td>\n",
       "      <td>0.397955</td>\n",
       "      <td>0.825000</td>\n",
       "    </tr>\n",
       "    <tr>\n",
       "      <td>2</td>\n",
       "      <td>No log</td>\n",
       "      <td>0.436315</td>\n",
       "      <td>0.875000</td>\n",
       "    </tr>\n",
       "    <tr>\n",
       "      <td>3</td>\n",
       "      <td>No log</td>\n",
       "      <td>0.391965</td>\n",
       "      <td>0.850000</td>\n",
       "    </tr>\n",
       "  </tbody>\n",
       "</table><p>"
      ]
     },
     "metadata": {},
     "output_type": "display_data"
    }
   ],
   "execution_count": 27
  },
  {
   "cell_type": "code",
   "id": "bd1e9f3b8b910063",
   "metadata": {
    "ExecuteTime": {
     "end_time": "2024-05-21T09:19:18.166018Z",
     "start_time": "2024-05-21T09:19:02.915922Z"
    }
   },
   "source": [
    "# Evaluate the model\n",
    "if ft_train:\n",
    "    for model in model_names:\n",
    "        print(f\"Evaluating {model}...\")\n",
    "        models[model]['ft_trainer'].evaluate()"
   ],
   "outputs": [
    {
     "name": "stdout",
     "output_type": "stream",
     "text": [
      "Evaluating mrm8488/distilroberta-finetuned-financial-news-sentiment-analysis...\n"
     ]
    },
    {
     "data": {
      "text/plain": [
       "<IPython.core.display.HTML object>"
      ],
      "text/html": [
       "\n",
       "    <div>\n",
       "      \n",
       "      <progress value='5' max='5' style='width:300px; height:20px; vertical-align: middle;'></progress>\n",
       "      [5/5 00:00]\n",
       "    </div>\n",
       "    "
      ]
     },
     "metadata": {},
     "output_type": "display_data"
    },
    {
     "name": "stdout",
     "output_type": "stream",
     "text": [
      "Evaluating distilbert-base-uncased...\n"
     ]
    },
    {
     "data": {
      "text/plain": [
       "<IPython.core.display.HTML object>"
      ],
      "text/html": [
       "\n",
       "    <div>\n",
       "      \n",
       "      <progress value='5' max='5' style='width:300px; height:20px; vertical-align: middle;'></progress>\n",
       "      [5/5 00:00]\n",
       "    </div>\n",
       "    "
      ]
     },
     "metadata": {},
     "output_type": "display_data"
    },
    {
     "name": "stdout",
     "output_type": "stream",
     "text": [
      "Evaluating ProsusAI/finbert...\n"
     ]
    },
    {
     "data": {
      "text/plain": [
       "<IPython.core.display.HTML object>"
      ],
      "text/html": [
       "\n",
       "    <div>\n",
       "      \n",
       "      <progress value='5' max='5' style='width:300px; height:20px; vertical-align: middle;'></progress>\n",
       "      [5/5 00:01]\n",
       "    </div>\n",
       "    "
      ]
     },
     "metadata": {},
     "output_type": "display_data"
    }
   ],
   "execution_count": 28
  },
  {
   "metadata": {
    "ExecuteTime": {
     "end_time": "2024-05-21T09:19:32.094533Z",
     "start_time": "2024-05-21T09:19:18.181793Z"
    }
   },
   "cell_type": "code",
   "source": [
    "# Save the model to the hub\n",
    "if ft_train:\n",
    "    for model in model_names:\n",
    "        print(f\"Pushing {model} to Hugging Face...\")\n",
    "        models[model]['ft_trainer'].push_to_hub()"
   ],
   "id": "7495d10ea661f5c3",
   "outputs": [
    {
     "name": "stdout",
     "output_type": "stream",
     "text": [
      "Pushing mrm8488/distilroberta-finetuned-financial-news-sentiment-analysis to Hugging Face...\n",
      "Pushing distilbert-base-uncased to Hugging Face...\n",
      "Pushing ProsusAI/finbert to Hugging Face...\n"
     ]
    }
   ],
   "execution_count": 29
  },
  {
   "metadata": {},
   "cell_type": "markdown",
   "source": "## Loading trained models",
   "id": "ce7bee7a399148d0"
  },
  {
   "metadata": {
    "ExecuteTime": {
     "end_time": "2024-05-21T10:45:23.986972Z",
     "start_time": "2024-05-21T10:45:21.529537Z"
    }
   },
   "cell_type": "code",
   "source": [
    "for model in model_names:\n",
    "    # Load the tokenizer for the fine-tuned model\n",
    "    models[model]['tokenizer_loaded'] = AutoTokenizer.from_pretrained(models[model]['ft_saving_dir'])\n",
    "\n",
    "    # Load the model\n",
    "    models[model]['ft_model_loaded'] = AutoModelForSequenceClassification.from_pretrained(models[model]['ft_saving_dir'],\n",
    "                                                                                    num_labels=2)\n",
    "    # Define the trainer\n",
    "    models[model]['ft_trainer_loaded'] = Trainer(\n",
    "        model=models[model]['ft_model_loaded'],\n",
    "        tokenizer=models[model]['tokenizer_loaded'],\n",
    "        compute_metrics=compute_metrics,\n",
    "    )"
   ],
   "id": "86df551b6aa2cdd",
   "outputs": [],
   "execution_count": 22
  },
  {
   "metadata": {},
   "cell_type": "markdown",
   "source": "## Evaluate the model",
   "id": "d52db478729f7691"
  },
  {
   "metadata": {
    "ExecuteTime": {
     "end_time": "2024-05-21T10:45:31.184444Z",
     "start_time": "2024-05-21T10:45:27.391086Z"
    }
   },
   "cell_type": "code",
   "source": [
    "# Predict the test set\n",
    "for model in model_names:\n",
    "    print(f\"Predicting {model}...\")\n",
    "    models[model]['ft_predictions'] = models[model]['ft_trainer_loaded'].predict(models[model]['ft_dataset']['test'])"
   ],
   "id": "e8e6d4fa7dd17399",
   "outputs": [
    {
     "name": "stdout",
     "output_type": "stream",
     "text": [
      "Predicting mrm8488/distilroberta-finetuned-financial-news-sentiment-analysis...\n"
     ]
    },
    {
     "data": {
      "text/plain": [
       "<IPython.core.display.HTML object>"
      ],
      "text/html": []
     },
     "metadata": {},
     "output_type": "display_data"
    },
    {
     "name": "stdout",
     "output_type": "stream",
     "text": [
      "Predicting distilbert-base-uncased...\n"
     ]
    },
    {
     "data": {
      "text/plain": [
       "<IPython.core.display.HTML object>"
      ],
      "text/html": []
     },
     "metadata": {},
     "output_type": "display_data"
    },
    {
     "name": "stdout",
     "output_type": "stream",
     "text": [
      "Predicting ProsusAI/finbert...\n"
     ]
    },
    {
     "data": {
      "text/plain": [
       "<IPython.core.display.HTML object>"
      ],
      "text/html": []
     },
     "metadata": {},
     "output_type": "display_data"
    }
   ],
   "execution_count": 23
  },
  {
   "metadata": {
    "ExecuteTime": {
     "end_time": "2024-05-21T10:45:34.141609Z",
     "start_time": "2024-05-21T10:45:34.138096Z"
    }
   },
   "cell_type": "code",
   "source": [
    "# Display the predictions\n",
    "models[model_names[0]]['ft_predictions']"
   ],
   "id": "2beee24282f504bd",
   "outputs": [
    {
     "data": {
      "text/plain": [
       "PredictionOutput(predictions=array([[-0.99078995,  1.4745857 ],\n",
       "       [ 1.5842077 , -1.8662168 ],\n",
       "       [-0.8765944 ,  1.4747893 ],\n",
       "       [-0.7905086 ,  1.3084503 ],\n",
       "       [ 1.4901997 , -1.7203604 ],\n",
       "       [ 1.5747787 , -1.8346763 ],\n",
       "       [-1.2753847 ,  1.842337  ],\n",
       "       [ 1.5647087 , -1.8927987 ],\n",
       "       [ 1.523125  , -1.7733709 ],\n",
       "       [ 1.5872092 , -1.8601437 ],\n",
       "       [-1.2764746 ,  1.8289893 ],\n",
       "       [ 1.5250387 , -1.8317784 ],\n",
       "       [ 1.5705789 , -1.9138856 ],\n",
       "       [-1.2499143 ,  1.7667545 ],\n",
       "       [-0.76186633,  1.3774432 ],\n",
       "       [ 1.6058304 , -1.8899233 ],\n",
       "       [ 1.0791494 , -1.0970317 ],\n",
       "       [-0.9234053 ,  1.6225804 ],\n",
       "       [ 1.6089941 , -1.846693  ],\n",
       "       [ 1.6078749 , -1.9106945 ],\n",
       "       [ 0.73152936, -0.63048834],\n",
       "       [ 1.559065  , -1.8828883 ],\n",
       "       [ 1.26163   , -1.359809  ],\n",
       "       [ 1.5612148 , -1.9005659 ],\n",
       "       [ 1.6072344 , -1.8708237 ],\n",
       "       [-1.1811899 ,  1.7186574 ],\n",
       "       [-1.27546   ,  1.8297956 ],\n",
       "       [-1.0478643 ,  1.7190706 ],\n",
       "       [ 1.6028527 , -1.8895925 ],\n",
       "       [-0.6636076 ,  1.2075657 ],\n",
       "       [ 1.5722806 , -1.88129   ],\n",
       "       [-1.4517473 ,  1.8701783 ],\n",
       "       [ 1.6109406 , -1.8777643 ],\n",
       "       [-1.0454832 ,  1.5813316 ],\n",
       "       [ 0.37486038,  0.07236985],\n",
       "       [ 1.3235364 , -1.4578741 ],\n",
       "       [ 1.5509759 , -1.9204854 ],\n",
       "       [ 1.4678326 , -1.6833376 ],\n",
       "       [-0.7208704 ,  1.3155789 ],\n",
       "       [-1.2662311 ,  1.8262687 ]], dtype=float32), label_ids=array([1, 0, 1, 1, 1, 0, 1, 0, 0, 0, 1, 0, 0, 1, 1, 0, 0, 1, 0, 0, 0, 0,\n",
       "       0, 0, 0, 1, 1, 1, 0, 1, 0, 1, 0, 0, 0, 0, 0, 0, 1, 1]), metrics={'test_loss': 0.21633383631706238, 'test_accuracy': 0.95, 'test_runtime': 1.2213, 'test_samples_per_second': 32.752, 'test_steps_per_second': 4.094})"
      ]
     },
     "execution_count": 24,
     "metadata": {},
     "output_type": "execute_result"
    }
   ],
   "execution_count": 24
  },
  {
   "metadata": {},
   "cell_type": "markdown",
   "source": "## Compute relevant metrics",
   "id": "7ca2c4b7f95de2dd"
  },
  {
   "metadata": {
    "ExecuteTime": {
     "end_time": "2024-05-21T10:45:39.511129Z",
     "start_time": "2024-05-21T10:45:39.495814Z"
    }
   },
   "cell_type": "code",
   "source": [
    "# Initialize a dictionary to store the results\n",
    "results_ft = {}\n",
    "\n",
    "# Iterate over the model names\n",
    "for model in model_names:\n",
    "    # Get the predicted labels\n",
    "    predicted_labels = np.argmax(models[model]['ft_predictions'].predictions, axis=-1)\n",
    "\n",
    "    # Get the true labels\n",
    "    true_labels = models[model]['ft_predictions'].label_ids\n",
    "\n",
    "    # Compute the confusion matrix\n",
    "    confusion = confusion_matrix(true_labels, predicted_labels)\n",
    "\n",
    "    # Compute the accuracy\n",
    "    accuracy = accuracy_score(true_labels, predicted_labels)\n",
    "\n",
    "    # Compute the precision\n",
    "    precision = precision_score(true_labels, predicted_labels)\n",
    "\n",
    "    # Compute the recall\n",
    "    recall = recall_score(true_labels, predicted_labels)\n",
    "\n",
    "    # Compute the F1 score\n",
    "    f1 = f1_score(true_labels, predicted_labels)\n",
    "\n",
    "    # Store the results in the dictionary\n",
    "    results_ft[model] = {\n",
    "        'confusion_matrix': confusion,\n",
    "        'accuracy': accuracy,\n",
    "        'precision': precision,\n",
    "        'recall': recall,\n",
    "        'f1_score': f1\n",
    "    }"
   ],
   "id": "6c7554a9349bf7a7",
   "outputs": [],
   "execution_count": 25
  },
  {
   "metadata": {
    "ExecuteTime": {
     "end_time": "2024-05-21T10:45:44.118770Z",
     "start_time": "2024-05-21T10:45:44.111380Z"
    }
   },
   "cell_type": "code",
   "source": [
    "# Save the results to a dataframe\n",
    "results_transformers = []\n",
    "for model, metrics in results_ft.items():\n",
    "    results_transformers.append({\n",
    "        'Model': model,\n",
    "        'Feature Representation': 'N/A',\n",
    "        'Columns': 'text',\n",
    "        'F1-score': metrics['f1_score'],\n",
    "        'Accuracy': metrics['accuracy'],\n",
    "        'Precision': metrics['precision'],\n",
    "        'Recall': metrics['recall'],\n",
    "    })\n",
    "\n",
    "# Create a dataframe from the results\n",
    "results_transformers_ft = pd.DataFrame(results_transformers)\n",
    "\n",
    "results_transformers_ft.sort_values(by='F1-score', ascending=False)"
   ],
   "id": "2ac6a7929c582eff",
   "outputs": [
    {
     "data": {
      "text/plain": [
       "                                               Model Feature Representation  \\\n",
       "0  mrm8488/distilroberta-finetuned-financial-news...                    N/A   \n",
       "2                                   ProsusAI/finbert                    N/A   \n",
       "1                            distilbert-base-uncased                    N/A   \n",
       "\n",
       "  Columns  F1-score  Accuracy  Precision  Recall  \n",
       "0    text  0.937500      0.95     0.9375  0.9375  \n",
       "2    text  0.937500      0.95     0.9375  0.9375  \n",
       "1    text  0.777778      0.80     0.7000  0.8750  "
      ],
      "text/html": [
       "<div>\n",
       "<style scoped>\n",
       "    .dataframe tbody tr th:only-of-type {\n",
       "        vertical-align: middle;\n",
       "    }\n",
       "\n",
       "    .dataframe tbody tr th {\n",
       "        vertical-align: top;\n",
       "    }\n",
       "\n",
       "    .dataframe thead th {\n",
       "        text-align: right;\n",
       "    }\n",
       "</style>\n",
       "<table border=\"1\" class=\"dataframe\">\n",
       "  <thead>\n",
       "    <tr style=\"text-align: right;\">\n",
       "      <th></th>\n",
       "      <th>Model</th>\n",
       "      <th>Feature Representation</th>\n",
       "      <th>Columns</th>\n",
       "      <th>F1-score</th>\n",
       "      <th>Accuracy</th>\n",
       "      <th>Precision</th>\n",
       "      <th>Recall</th>\n",
       "    </tr>\n",
       "  </thead>\n",
       "  <tbody>\n",
       "    <tr>\n",
       "      <th>0</th>\n",
       "      <td>mrm8488/distilroberta-finetuned-financial-news...</td>\n",
       "      <td>N/A</td>\n",
       "      <td>text</td>\n",
       "      <td>0.937500</td>\n",
       "      <td>0.95</td>\n",
       "      <td>0.9375</td>\n",
       "      <td>0.9375</td>\n",
       "    </tr>\n",
       "    <tr>\n",
       "      <th>2</th>\n",
       "      <td>ProsusAI/finbert</td>\n",
       "      <td>N/A</td>\n",
       "      <td>text</td>\n",
       "      <td>0.937500</td>\n",
       "      <td>0.95</td>\n",
       "      <td>0.9375</td>\n",
       "      <td>0.9375</td>\n",
       "    </tr>\n",
       "    <tr>\n",
       "      <th>1</th>\n",
       "      <td>distilbert-base-uncased</td>\n",
       "      <td>N/A</td>\n",
       "      <td>text</td>\n",
       "      <td>0.777778</td>\n",
       "      <td>0.80</td>\n",
       "      <td>0.7000</td>\n",
       "      <td>0.8750</td>\n",
       "    </tr>\n",
       "  </tbody>\n",
       "</table>\n",
       "</div>"
      ]
     },
     "execution_count": 26,
     "metadata": {},
     "output_type": "execute_result"
    }
   ],
   "execution_count": 26
  },
  {
   "metadata": {},
   "cell_type": "markdown",
   "source": "## Plot the confusion matrix for the best model",
   "id": "6bf2c6d35cee04f6"
  },
  {
   "metadata": {
    "ExecuteTime": {
     "end_time": "2024-05-21T10:45:47.328515Z",
     "start_time": "2024-05-21T10:45:47.143145Z"
    }
   },
   "cell_type": "code",
   "source": [
    "# Plot the confusion matrix\n",
    "import seaborn as sns\n",
    "import matplotlib.pyplot as plt\n",
    "\n",
    "# Define the labels\n",
    "labels = ['Negative', 'Positive']\n",
    "\n",
    "# Get the name of the model with the highest F1-score in results_transformers_ft\n",
    "best_model = results_transformers_ft.loc[results_transformers_ft['F1-score'].idxmax()]['Model']\n",
    "\n",
    "# Get the confusion matrix for the best model\n",
    "confusion_matrix = results_ft[best_model]['confusion_matrix']\n",
    "\n",
    "# Create the confusion matrix plot\n",
    "plt.figure(figsize=(6, 5))\n",
    "sns.heatmap(confusion_matrix, annot=True, fmt='d', xticklabels=labels, yticklabels=labels, cmap='Blues')\n",
    "plt.xlabel('Predicted labels')\n",
    "plt.ylabel('True labels')\n",
    "plt.title('Confusion Matrix')\n",
    "plt.show()"
   ],
   "id": "1bd4b822af320999",
   "outputs": [
    {
     "data": {
      "text/plain": [
       "<Figure size 600x500 with 2 Axes>"
      ],
      "image/png": "[encoded data removed]"
     },
     "metadata": {},
     "output_type": "display_data"
    }
   ],
   "execution_count": 27
  },
  {
   "metadata": {},
   "cell_type": "markdown",
   "source": "## Load results from previous assignment",
   "id": "eee507257c19662c"
  },
  {
   "metadata": {
    "ExecuteTime": {
     "end_time": "2024-05-21T10:45:51.296635Z",
     "start_time": "2024-05-21T10:45:51.288938Z"
    }
   },
   "cell_type": "code",
   "source": [
    "# Load the results from the previous assignment to a list of dictionaries\n",
    "previous_results = pd.read_csv('results/assignment1_comparison.csv')\n",
    "\n",
    "# Display the previous results\n",
    "previous_results"
   ],
   "id": "93f13e42bad5899e",
   "outputs": [
    {
     "data": {
      "text/plain": [
       "                    Model                                   Columns  \\\n",
       "0                   VADER                             combined_text   \n",
       "1  Multi-Layer Perceptron  headline_embeddings, synopsis_embeddings   \n",
       "2       Loughran-McDonald                             combined_text   \n",
       "\n",
       "  Feature Representation  F1-score  Accuracy  Precision    Recall  \n",
       "0                    NaN  0.723549     0.595   0.572973  0.981481  \n",
       "1    Word2Vec FinText AI  0.751323     0.755   0.758598  0.751341  \n",
       "2                    NaN  0.734545     0.635   0.604790  0.935185  "
      ],
      "text/html": [
       "<div>\n",
       "<style scoped>\n",
       "    .dataframe tbody tr th:only-of-type {\n",
       "        vertical-align: middle;\n",
       "    }\n",
       "\n",
       "    .dataframe tbody tr th {\n",
       "        vertical-align: top;\n",
       "    }\n",
       "\n",
       "    .dataframe thead th {\n",
       "        text-align: right;\n",
       "    }\n",
       "</style>\n",
       "<table border=\"1\" class=\"dataframe\">\n",
       "  <thead>\n",
       "    <tr style=\"text-align: right;\">\n",
       "      <th></th>\n",
       "      <th>Model</th>\n",
       "      <th>Columns</th>\n",
       "      <th>Feature Representation</th>\n",
       "      <th>F1-score</th>\n",
       "      <th>Accuracy</th>\n",
       "      <th>Precision</th>\n",
       "      <th>Recall</th>\n",
       "    </tr>\n",
       "  </thead>\n",
       "  <tbody>\n",
       "    <tr>\n",
       "      <th>0</th>\n",
       "      <td>VADER</td>\n",
       "      <td>combined_text</td>\n",
       "      <td>NaN</td>\n",
       "      <td>0.723549</td>\n",
       "      <td>0.595</td>\n",
       "      <td>0.572973</td>\n",
       "      <td>0.981481</td>\n",
       "    </tr>\n",
       "    <tr>\n",
       "      <th>1</th>\n",
       "      <td>Multi-Layer Perceptron</td>\n",
       "      <td>headline_embeddings, synopsis_embeddings</td>\n",
       "      <td>Word2Vec FinText AI</td>\n",
       "      <td>0.751323</td>\n",
       "      <td>0.755</td>\n",
       "      <td>0.758598</td>\n",
       "      <td>0.751341</td>\n",
       "    </tr>\n",
       "    <tr>\n",
       "      <th>2</th>\n",
       "      <td>Loughran-McDonald</td>\n",
       "      <td>combined_text</td>\n",
       "      <td>NaN</td>\n",
       "      <td>0.734545</td>\n",
       "      <td>0.635</td>\n",
       "      <td>0.604790</td>\n",
       "      <td>0.935185</td>\n",
       "    </tr>\n",
       "  </tbody>\n",
       "</table>\n",
       "</div>"
      ]
     },
     "execution_count": 28,
     "metadata": {},
     "output_type": "execute_result"
    }
   ],
   "execution_count": 28
  },
  {
   "metadata": {
    "ExecuteTime": {
     "end_time": "2024-05-21T10:45:54.085171Z",
     "start_time": "2024-05-21T10:45:54.073026Z"
    }
   },
   "cell_type": "code",
   "source": [
    "# Concatenate the results\n",
    "results = pd.concat([previous_results.copy(), results_transformers_ft], ignore_index=True)\n",
    "\n",
    "# Save the results to a CSV file\n",
    "results.to_csv('results/assignment2_comparison.csv', index=False)\n",
    "\n",
    "# Sort the results by f1-score\n",
    "results = results.sort_values(by='F1-score', ascending=False)\n",
    "\n",
    "results"
   ],
   "id": "f4a79acf98eb6802",
   "outputs": [
    {
     "data": {
      "text/plain": [
       "                                               Model  \\\n",
       "3  mrm8488/distilroberta-finetuned-financial-news...   \n",
       "5                                   ProsusAI/finbert   \n",
       "4                            distilbert-base-uncased   \n",
       "1                             Multi-Layer Perceptron   \n",
       "2                                  Loughran-McDonald   \n",
       "0                                              VADER   \n",
       "\n",
       "                                    Columns Feature Representation  F1-score  \\\n",
       "3                                      text                    N/A  0.937500   \n",
       "5                                      text                    N/A  0.937500   \n",
       "4                                      text                    N/A  0.777778   \n",
       "1  headline_embeddings, synopsis_embeddings    Word2Vec FinText AI  0.751323   \n",
       "2                             combined_text                    NaN  0.734545   \n",
       "0                             combined_text                    NaN  0.723549   \n",
       "\n",
       "   Accuracy  Precision    Recall  \n",
       "3     0.950   0.937500  0.937500  \n",
       "5     0.950   0.937500  0.937500  \n",
       "4     0.800   0.700000  0.875000  \n",
       "1     0.755   0.758598  0.751341  \n",
       "2     0.635   0.604790  0.935185  \n",
       "0     0.595   0.572973  0.981481  "
      ],
      "text/html": [
       "<div>\n",
       "<style scoped>\n",
       "    .dataframe tbody tr th:only-of-type {\n",
       "        vertical-align: middle;\n",
       "    }\n",
       "\n",
       "    .dataframe tbody tr th {\n",
       "        vertical-align: top;\n",
       "    }\n",
       "\n",
       "    .dataframe thead th {\n",
       "        text-align: right;\n",
       "    }\n",
       "</style>\n",
       "<table border=\"1\" class=\"dataframe\">\n",
       "  <thead>\n",
       "    <tr style=\"text-align: right;\">\n",
       "      <th></th>\n",
       "      <th>Model</th>\n",
       "      <th>Columns</th>\n",
       "      <th>Feature Representation</th>\n",
       "      <th>F1-score</th>\n",
       "      <th>Accuracy</th>\n",
       "      <th>Precision</th>\n",
       "      <th>Recall</th>\n",
       "    </tr>\n",
       "  </thead>\n",
       "  <tbody>\n",
       "    <tr>\n",
       "      <th>3</th>\n",
       "      <td>mrm8488/distilroberta-finetuned-financial-news...</td>\n",
       "      <td>text</td>\n",
       "      <td>N/A</td>\n",
       "      <td>0.937500</td>\n",
       "      <td>0.950</td>\n",
       "      <td>0.937500</td>\n",
       "      <td>0.937500</td>\n",
       "    </tr>\n",
       "    <tr>\n",
       "      <th>5</th>\n",
       "      <td>ProsusAI/finbert</td>\n",
       "      <td>text</td>\n",
       "      <td>N/A</td>\n",
       "      <td>0.937500</td>\n",
       "      <td>0.950</td>\n",
       "      <td>0.937500</td>\n",
       "      <td>0.937500</td>\n",
       "    </tr>\n",
       "    <tr>\n",
       "      <th>4</th>\n",
       "      <td>distilbert-base-uncased</td>\n",
       "      <td>text</td>\n",
       "      <td>N/A</td>\n",
       "      <td>0.777778</td>\n",
       "      <td>0.800</td>\n",
       "      <td>0.700000</td>\n",
       "      <td>0.875000</td>\n",
       "    </tr>\n",
       "    <tr>\n",
       "      <th>1</th>\n",
       "      <td>Multi-Layer Perceptron</td>\n",
       "      <td>headline_embeddings, synopsis_embeddings</td>\n",
       "      <td>Word2Vec FinText AI</td>\n",
       "      <td>0.751323</td>\n",
       "      <td>0.755</td>\n",
       "      <td>0.758598</td>\n",
       "      <td>0.751341</td>\n",
       "    </tr>\n",
       "    <tr>\n",
       "      <th>2</th>\n",
       "      <td>Loughran-McDonald</td>\n",
       "      <td>combined_text</td>\n",
       "      <td>NaN</td>\n",
       "      <td>0.734545</td>\n",
       "      <td>0.635</td>\n",
       "      <td>0.604790</td>\n",
       "      <td>0.935185</td>\n",
       "    </tr>\n",
       "    <tr>\n",
       "      <th>0</th>\n",
       "      <td>VADER</td>\n",
       "      <td>combined_text</td>\n",
       "      <td>NaN</td>\n",
       "      <td>0.723549</td>\n",
       "      <td>0.595</td>\n",
       "      <td>0.572973</td>\n",
       "      <td>0.981481</td>\n",
       "    </tr>\n",
       "  </tbody>\n",
       "</table>\n",
       "</div>"
      ]
     },
     "execution_count": 29,
     "metadata": {},
     "output_type": "execute_result"
    }
   ],
   "execution_count": 29
  },
  {
   "metadata": {},
   "cell_type": "markdown",
   "source": "## Fine-tuning after domain adaptation",
   "id": "f746098fa4db8444"
  },
  {
   "metadata": {},
   "cell_type": "markdown",
   "source": "### Tokenization of the dataset",
   "id": "b3bce27a340e330f"
  },
  {
   "metadata": {
    "ExecuteTime": {
     "end_time": "2024-05-21T10:50:55.917512Z",
     "start_time": "2024-05-21T10:46:04.449865Z"
    }
   },
   "cell_type": "code",
   "source": [
    "# Tokenization function for domain adaptation dataset\n",
    "def da_tokenize_function(model, examples):  \n",
    "    return model['da_ft_tokenizer'](examples[\"full_text\"], truncation=True, padding='max_length')\n",
    "\n",
    "for model in model_names:\n",
    "    # Define the saving directory of the domain adaptation model\n",
    "    models[model]['da_saving_dir'] = huggingface_owner + \"DA-\" + model.replace(\"/\", \"-\")\n",
    "    \n",
    "    # Load the tokenizer\n",
    "    models[model]['da_ft_tokenizer'] = AutoTokenizer.from_pretrained(models[model]['da_saving_dir'])\n",
    "    \n",
    "    # Create a dataset dictionary for fine-tuning after domain adaptation\n",
    "    models[model]['da_ft_dataset'] = DatasetDict({\n",
    "        'train': train_test['train'],\n",
    "        'validation': valid_test['train'],\n",
    "        'test': valid_test['test']\n",
    "    })\n",
    "    \n",
    "    # Tokenize the dataset\n",
    "    models[model]['da_ft_dataset'] = models[model]['da_ft_dataset'].map(\n",
    "        lambda examples: da_tokenize_function(models[model], examples),\n",
    "        batched=True\n",
    "    )"
   ],
   "id": "fe5cccb19a0932a6",
   "outputs": [
    {
     "name": "stderr",
     "output_type": "stream",
     "text": [
      "Parameter 'function'=<function <lambda> at 0x33f292840> of the transform datasets.arrow_dataset.Dataset._map_single couldn't be hashed properly, a random hash was used instead. Make sure your transforms and parameters are serializable with pickle or dill for the dataset fingerprinting and caching to work. If you reuse this transform, the caching mechanism will consider it to be different from the previous calls and recompute everything. This warning is only showed once. Subsequent hashing failures won't be showed.\n"
     ]
    },
    {
     "data": {
      "text/plain": [
       "Map:   0%|          | 0/320 [00:00<?, ? examples/s]"
      ],
      "application/vnd.jupyter.widget-view+json": {
       "version_major": 2,
       "version_minor": 0,
       "model_id": "2e501e51d65640fe9d764573dfbefdb8"
      }
     },
     "metadata": {},
     "output_type": "display_data"
    },
    {
     "data": {
      "text/plain": [
       "Map:   0%|          | 0/40 [00:00<?, ? examples/s]"
      ],
      "application/vnd.jupyter.widget-view+json": {
       "version_major": 2,
       "version_minor": 0,
       "model_id": "7018bc210c2c410ea8d2789b2599d44f"
      }
     },
     "metadata": {},
     "output_type": "display_data"
    },
    {
     "data": {
      "text/plain": [
       "Map:   0%|          | 0/40 [00:00<?, ? examples/s]"
      ],
      "application/vnd.jupyter.widget-view+json": {
       "version_major": 2,
       "version_minor": 0,
       "model_id": "006a25aa522b4454b27e687919c0adcf"
      }
     },
     "metadata": {},
     "output_type": "display_data"
    },
    {
     "data": {
      "text/plain": [
       "Map:   0%|          | 0/320 [00:00<?, ? examples/s]"
      ],
      "application/vnd.jupyter.widget-view+json": {
       "version_major": 2,
       "version_minor": 0,
       "model_id": "735c63d0ae89470e908890ce20e0f877"
      }
     },
     "metadata": {},
     "output_type": "display_data"
    },
    {
     "data": {
      "text/plain": [
       "Map:   0%|          | 0/40 [00:00<?, ? examples/s]"
      ],
      "application/vnd.jupyter.widget-view+json": {
       "version_major": 2,
       "version_minor": 0,
       "model_id": "a94a95443bec4018a690d43d5b31e273"
      }
     },
     "metadata": {},
     "output_type": "display_data"
    },
    {
     "data": {
      "text/plain": [
       "Map:   0%|          | 0/40 [00:00<?, ? examples/s]"
      ],
      "application/vnd.jupyter.widget-view+json": {
       "version_major": 2,
       "version_minor": 0,
       "model_id": "5ef664d1500b4e97b976b608cc53574f"
      }
     },
     "metadata": {},
     "output_type": "display_data"
    },
    {
     "data": {
      "text/plain": [
       "Map:   0%|          | 0/320 [00:00<?, ? examples/s]"
      ],
      "application/vnd.jupyter.widget-view+json": {
       "version_major": 2,
       "version_minor": 0,
       "model_id": "a6f234c05b7346009b8a64a245d56ce0"
      }
     },
     "metadata": {},
     "output_type": "display_data"
    },
    {
     "data": {
      "text/plain": [
       "Map:   0%|          | 0/40 [00:00<?, ? examples/s]"
      ],
      "application/vnd.jupyter.widget-view+json": {
       "version_major": 2,
       "version_minor": 0,
       "model_id": "033e75236909487880cf2dfdc37f4196"
      }
     },
     "metadata": {},
     "output_type": "display_data"
    },
    {
     "data": {
      "text/plain": [
       "Map:   0%|          | 0/40 [00:00<?, ? examples/s]"
      ],
      "application/vnd.jupyter.widget-view+json": {
       "version_major": 2,
       "version_minor": 0,
       "model_id": "bcd276b0ac334750b302cca90283a4ef"
      }
     },
     "metadata": {},
     "output_type": "display_data"
    }
   ],
   "execution_count": 30
  },
  {
   "metadata": {},
   "cell_type": "markdown",
   "source": "### Loading models for fine-tuning after domain adaptation",
   "id": "2cbdc18b1b917830"
  },
  {
   "metadata": {
    "ExecuteTime": {
     "end_time": "2024-05-21T10:50:59.349884Z",
     "start_time": "2024-05-21T10:50:55.919011Z"
    }
   },
   "cell_type": "code",
   "source": [
    "for model in model_names:\n",
    "    # Define the saving directory\n",
    "    models[model]['da_ft_saving_dir'] = huggingface_owner + \"DA-FT-\" + model.replace(\"/\", \"-\")\n",
    "\n",
    "    # Load the model\n",
    "    models[model]['da_ft_model'] = AutoModelForSequenceClassification.from_pretrained(models[model]['da_saving_dir'],\n",
    "                                                                                      num_labels=2)\n",
    "\n",
    "    # Define the training arguments\n",
    "    models[model]['da_ft_training_args'] = TrainingArguments(\n",
    "        output_dir=\"./da_ft_training_results/\" + model.replace(\"/\", \"-\"),\n",
    "        learning_rate=2e-5,\n",
    "        per_device_train_batch_size=8,\n",
    "        per_device_eval_batch_size=8,\n",
    "        num_train_epochs=3,\n",
    "        weight_decay=0.01,\n",
    "        evaluation_strategy='epoch',\n",
    "        save_strategy='epoch',\n",
    "        load_best_model_at_end=True,\n",
    "        push_to_hub=True,\n",
    "        hub_model_id=models[model]['da_ft_saving_dir'],\n",
    "    )\n",
    "\n",
    "    # Define the data collator\n",
    "    models[model]['da_ft_data_collator'] = DataCollatorWithPadding(tokenizer=models[model]['da_ft_tokenizer'])\n",
    "\n",
    "    # Define the trainer\n",
    "    models[model]['da_ft_trainer'] = Trainer(\n",
    "        model=models[model]['da_ft_model'],\n",
    "        args=models[model]['da_ft_training_args'],\n",
    "        train_dataset=models[model]['da_ft_dataset']['train'],\n",
    "        eval_dataset=models[model]['da_ft_dataset']['validation'],\n",
    "        data_collator=models[model]['da_ft_data_collator'],\n",
    "        compute_metrics=compute_metrics,\n",
    "        tokenizer=models[model]['da_ft_tokenizer']\n",
    "    )\n",
    "\n"
   ],
   "id": "94424e71bfe5ffb4",
   "outputs": [
    {
     "name": "stderr",
     "output_type": "stream",
     "text": [
      "Some weights of RobertaForSequenceClassification were not initialized from the model checkpoint at NLP-FEUP/DA-mrm8488-distilroberta-finetuned-financial-news-sentiment-analysis and are newly initialized: ['classifier.dense.bias', 'classifier.dense.weight', 'classifier.out_proj.bias', 'classifier.out_proj.weight']\n",
      "You should probably TRAIN this model on a down-stream task to be able to use it for predictions and inference.\n",
      "/Library/Frameworks/Python.framework/Versions/3.12/lib/python3.12/site-packages/transformers/training_args.py:1474: FutureWarning: `evaluation_strategy` is deprecated and will be removed in version 4.46 of 🤗 Transformers. Use `eval_strategy` instead\n",
      "  warnings.warn(\n",
      "Some weights of DistilBertForSequenceClassification were not initialized from the model checkpoint at NLP-FEUP/DA-distilbert-base-uncased and are newly initialized: ['classifier.bias', 'classifier.weight', 'pre_classifier.bias', 'pre_classifier.weight']\n",
      "You should probably TRAIN this model on a down-stream task to be able to use it for predictions and inference.\n",
      "Some weights of BertForSequenceClassification were not initialized from the model checkpoint at NLP-FEUP/DA-ProsusAI-finbert and are newly initialized: ['bert.pooler.dense.bias', 'bert.pooler.dense.weight', 'classifier.bias', 'classifier.weight']\n",
      "You should probably TRAIN this model on a down-stream task to be able to use it for predictions and inference.\n"
     ]
    }
   ],
   "execution_count": 31
  },
  {
   "metadata": {},
   "cell_type": "markdown",
   "source": "### Fine-tuning the models after domain adaptation",
   "id": "438bccbef75f801e"
  },
  {
   "metadata": {
    "ExecuteTime": {
     "end_time": "2024-05-21T11:00:00.212584Z",
     "start_time": "2024-05-21T10:50:59.350480Z"
    }
   },
   "cell_type": "code",
   "source": [
    "da_ft_train = True\n",
    "if da_ft_train:\n",
    "    # Train the models\n",
    "    for model in model_names:\n",
    "        print(f\"Training {model}...\")\n",
    "        models[model]['da_ft_trainer'].train()"
   ],
   "id": "80b9ecd40f0340b3",
   "outputs": [
    {
     "name": "stdout",
     "output_type": "stream",
     "text": [
      "Training mrm8488/distilroberta-finetuned-financial-news-sentiment-analysis...\n"
     ]
    },
    {
     "data": {
      "text/plain": [
       "<IPython.core.display.HTML object>"
      ],
      "text/html": [
       "\n",
       "    <div>\n",
       "      \n",
       "      <progress value='120' max='120' style='width:300px; height:20px; vertical-align: middle;'></progress>\n",
       "      [120/120 01:20, Epoch 3/3]\n",
       "    </div>\n",
       "    <table border=\"1\" class=\"dataframe\">\n",
       "  <thead>\n",
       " <tr style=\"text-align: left;\">\n",
       "      <th>Epoch</th>\n",
       "      <th>Training Loss</th>\n",
       "      <th>Validation Loss</th>\n",
       "      <th>Accuracy</th>\n",
       "    </tr>\n",
       "  </thead>\n",
       "  <tbody>\n",
       "    <tr>\n",
       "      <td>1</td>\n",
       "      <td>No log</td>\n",
       "      <td>0.322127</td>\n",
       "      <td>0.900000</td>\n",
       "    </tr>\n",
       "    <tr>\n",
       "      <td>2</td>\n",
       "      <td>No log</td>\n",
       "      <td>0.283001</td>\n",
       "      <td>0.875000</td>\n",
       "    </tr>\n",
       "    <tr>\n",
       "      <td>3</td>\n",
       "      <td>No log</td>\n",
       "      <td>0.301845</td>\n",
       "      <td>0.875000</td>\n",
       "    </tr>\n",
       "  </tbody>\n",
       "</table><p>"
      ]
     },
     "metadata": {},
     "output_type": "display_data"
    },
    {
     "name": "stdout",
     "output_type": "stream",
     "text": [
      "Training distilbert-base-uncased...\n"
     ]
    },
    {
     "data": {
      "text/plain": [
       "<IPython.core.display.HTML object>"
      ],
      "text/html": [
       "\n",
       "    <div>\n",
       "      \n",
       "      <progress value='120' max='120' style='width:300px; height:20px; vertical-align: middle;'></progress>\n",
       "      [120/120 01:22, Epoch 3/3]\n",
       "    </div>\n",
       "    <table border=\"1\" class=\"dataframe\">\n",
       "  <thead>\n",
       " <tr style=\"text-align: left;\">\n",
       "      <th>Epoch</th>\n",
       "      <th>Training Loss</th>\n",
       "      <th>Validation Loss</th>\n",
       "      <th>Accuracy</th>\n",
       "    </tr>\n",
       "  </thead>\n",
       "  <tbody>\n",
       "    <tr>\n",
       "      <td>1</td>\n",
       "      <td>No log</td>\n",
       "      <td>0.676688</td>\n",
       "      <td>0.625000</td>\n",
       "    </tr>\n",
       "    <tr>\n",
       "      <td>2</td>\n",
       "      <td>No log</td>\n",
       "      <td>0.647639</td>\n",
       "      <td>0.675000</td>\n",
       "    </tr>\n",
       "    <tr>\n",
       "      <td>3</td>\n",
       "      <td>No log</td>\n",
       "      <td>0.620466</td>\n",
       "      <td>0.725000</td>\n",
       "    </tr>\n",
       "  </tbody>\n",
       "</table><p>"
      ]
     },
     "metadata": {},
     "output_type": "display_data"
    },
    {
     "name": "stdout",
     "output_type": "stream",
     "text": [
      "Training ProsusAI/finbert...\n"
     ]
    },
    {
     "data": {
      "text/plain": [
       "<IPython.core.display.HTML object>"
      ],
      "text/html": [
       "\n",
       "    <div>\n",
       "      \n",
       "      <progress value='120' max='120' style='width:300px; height:20px; vertical-align: middle;'></progress>\n",
       "      [120/120 05:19, Epoch 3/3]\n",
       "    </div>\n",
       "    <table border=\"1\" class=\"dataframe\">\n",
       "  <thead>\n",
       " <tr style=\"text-align: left;\">\n",
       "      <th>Epoch</th>\n",
       "      <th>Training Loss</th>\n",
       "      <th>Validation Loss</th>\n",
       "      <th>Accuracy</th>\n",
       "    </tr>\n",
       "  </thead>\n",
       "  <tbody>\n",
       "    <tr>\n",
       "      <td>1</td>\n",
       "      <td>No log</td>\n",
       "      <td>0.524330</td>\n",
       "      <td>0.675000</td>\n",
       "    </tr>\n",
       "    <tr>\n",
       "      <td>2</td>\n",
       "      <td>No log</td>\n",
       "      <td>0.433225</td>\n",
       "      <td>0.775000</td>\n",
       "    </tr>\n",
       "    <tr>\n",
       "      <td>3</td>\n",
       "      <td>No log</td>\n",
       "      <td>0.376607</td>\n",
       "      <td>0.875000</td>\n",
       "    </tr>\n",
       "  </tbody>\n",
       "</table><p>"
      ]
     },
     "metadata": {},
     "output_type": "display_data"
    }
   ],
   "execution_count": 32
  },
  {
   "metadata": {},
   "cell_type": "markdown",
   "source": "### Evaluating the models after fine-tuning",
   "id": "752b22155036db51"
  },
  {
   "metadata": {
    "ExecuteTime": {
     "end_time": "2024-05-21T11:00:11.528584Z",
     "start_time": "2024-05-21T11:00:00.228613Z"
    }
   },
   "cell_type": "code",
   "source": [
    "if da_ft_train:\n",
    "    # Evaluate the models\n",
    "    for model in model_names:\n",
    "        print(f\"Evaluating {model}...\")\n",
    "        models[model]['da_ft_trainer'].evaluate()"
   ],
   "id": "d75253384b54399d",
   "outputs": [
    {
     "name": "stdout",
     "output_type": "stream",
     "text": [
      "Evaluating mrm8488/distilroberta-finetuned-financial-news-sentiment-analysis...\n"
     ]
    },
    {
     "data": {
      "text/plain": [
       "<IPython.core.display.HTML object>"
      ],
      "text/html": [
       "\n",
       "    <div>\n",
       "      \n",
       "      <progress value='5' max='5' style='width:300px; height:20px; vertical-align: middle;'></progress>\n",
       "      [5/5 00:00]\n",
       "    </div>\n",
       "    "
      ]
     },
     "metadata": {},
     "output_type": "display_data"
    },
    {
     "name": "stdout",
     "output_type": "stream",
     "text": [
      "Evaluating distilbert-base-uncased...\n"
     ]
    },
    {
     "data": {
      "text/plain": [
       "<IPython.core.display.HTML object>"
      ],
      "text/html": [
       "\n",
       "    <div>\n",
       "      \n",
       "      <progress value='5' max='5' style='width:300px; height:20px; vertical-align: middle;'></progress>\n",
       "      [5/5 00:00]\n",
       "    </div>\n",
       "    "
      ]
     },
     "metadata": {},
     "output_type": "display_data"
    },
    {
     "name": "stdout",
     "output_type": "stream",
     "text": [
      "Evaluating ProsusAI/finbert...\n"
     ]
    },
    {
     "data": {
      "text/plain": [
       "<IPython.core.display.HTML object>"
      ],
      "text/html": [
       "\n",
       "    <div>\n",
       "      \n",
       "      <progress value='5' max='5' style='width:300px; height:20px; vertical-align: middle;'></progress>\n",
       "      [5/5 00:01]\n",
       "    </div>\n",
       "    "
      ]
     },
     "metadata": {},
     "output_type": "display_data"
    }
   ],
   "execution_count": 33
  },
  {
   "metadata": {},
   "cell_type": "markdown",
   "source": "### Saving the models to the hub after fine-tuning",
   "id": "4253bbcec5c1bc6"
  },
  {
   "metadata": {
    "ExecuteTime": {
     "end_time": "2024-05-21T11:00:18.889155Z",
     "start_time": "2024-05-21T11:00:11.529377Z"
    }
   },
   "cell_type": "code",
   "source": [
    "if da_ft_train:\n",
    "    # Save the models to the hub\n",
    "    for model in model_names:\n",
    "        print(f\"Pushing {model} to Hugging Face...\")\n",
    "        models[model]['da_ft_trainer'].push_to_hub()"
   ],
   "id": "8273e7a6e17d8840",
   "outputs": [
    {
     "name": "stdout",
     "output_type": "stream",
     "text": [
      "Pushing mrm8488/distilroberta-finetuned-financial-news-sentiment-analysis to Hugging Face...\n",
      "Pushing distilbert-base-uncased to Hugging Face...\n",
      "Pushing ProsusAI/finbert to Hugging Face...\n"
     ]
    }
   ],
   "execution_count": 34
  },
  {
   "metadata": {},
   "cell_type": "markdown",
   "source": "### Loading trained models after fine-tuning",
   "id": "2b623c76e00a48e6"
  },
  {
   "metadata": {
    "ExecuteTime": {
     "end_time": "2024-05-21T11:01:31.769096Z",
     "start_time": "2024-05-21T11:00:18.890948Z"
    }
   },
   "cell_type": "code",
   "source": [
    "for model in model_names:\n",
    "    # Load the tokenizer\n",
    "    models[model]['da_ft_tokenizer_loaded'] = AutoTokenizer.from_pretrained(models[model]['da_ft_saving_dir'])\n",
    "\n",
    "    # Load the model\n",
    "    models[model]['da_ft_model_loaded'] = AutoModelForSequenceClassification.from_pretrained(\n",
    "        models[model]['da_ft_saving_dir'], num_labels=2)\n",
    "    # Define the trainer\n",
    "    models[model]['da_ft_trainer_loaded'] = Trainer(\n",
    "        model=models[model]['da_ft_model_loaded'],\n",
    "        tokenizer=models[model]['da_ft_tokenizer_loaded'],\n",
    "        compute_metrics=compute_metrics,\n",
    "    )"
   ],
   "id": "1a8b2cc15219b647",
   "outputs": [
    {
     "data": {
      "text/plain": [
       "tokenizer_config.json:   0%|          | 0.00/1.41k [00:00<?, ?B/s]"
      ],
      "application/vnd.jupyter.widget-view+json": {
       "version_major": 2,
       "version_minor": 0,
       "model_id": "2fb68774cdf74274b2d4eb29ceaf76c1"
      }
     },
     "metadata": {},
     "output_type": "display_data"
    },
    {
     "data": {
      "text/plain": [
       "vocab.json:   0%|          | 0.00/798k [00:00<?, ?B/s]"
      ],
      "application/vnd.jupyter.widget-view+json": {
       "version_major": 2,
       "version_minor": 0,
       "model_id": "88edf58995a34b13a4d878e56088feb6"
      }
     },
     "metadata": {},
     "output_type": "display_data"
    },
    {
     "data": {
      "text/plain": [
       "merges.txt:   0%|          | 0.00/456k [00:00<?, ?B/s]"
      ],
      "application/vnd.jupyter.widget-view+json": {
       "version_major": 2,
       "version_minor": 0,
       "model_id": "72fa86d80d234b228f3588b76443ddc6"
      }
     },
     "metadata": {},
     "output_type": "display_data"
    },
    {
     "data": {
      "text/plain": [
       "tokenizer.json:   0%|          | 0.00/2.11M [00:00<?, ?B/s]"
      ],
      "application/vnd.jupyter.widget-view+json": {
       "version_major": 2,
       "version_minor": 0,
       "model_id": "9322f31feb374aa983395418ff4b0ed9"
      }
     },
     "metadata": {},
     "output_type": "display_data"
    },
    {
     "data": {
      "text/plain": [
       "special_tokens_map.json:   0%|          | 0.00/964 [00:00<?, ?B/s]"
      ],
      "application/vnd.jupyter.widget-view+json": {
       "version_major": 2,
       "version_minor": 0,
       "model_id": "f178cdbccbac4b9284f8c6b8dacdbc0f"
      }
     },
     "metadata": {},
     "output_type": "display_data"
    },
    {
     "data": {
      "text/plain": [
       "config.json:   0%|          | 0.00/834 [00:00<?, ?B/s]"
      ],
      "application/vnd.jupyter.widget-view+json": {
       "version_major": 2,
       "version_minor": 0,
       "model_id": "2e11eae7f60e4e5f9acaf173ad305d96"
      }
     },
     "metadata": {},
     "output_type": "display_data"
    },
    {
     "data": {
      "text/plain": [
       "model.safetensors:   0%|          | 0.00/328M [00:00<?, ?B/s]"
      ],
      "application/vnd.jupyter.widget-view+json": {
       "version_major": 2,
       "version_minor": 0,
       "model_id": "4d2fabb10fa047f299917f148e067197"
      }
     },
     "metadata": {},
     "output_type": "display_data"
    },
    {
     "data": {
      "text/plain": [
       "tokenizer_config.json:   0%|          | 0.00/1.39k [00:00<?, ?B/s]"
      ],
      "application/vnd.jupyter.widget-view+json": {
       "version_major": 2,
       "version_minor": 0,
       "model_id": "519a00811a16437da16eb925dcba9da0"
      }
     },
     "metadata": {},
     "output_type": "display_data"
    },
    {
     "data": {
      "text/plain": [
       "vocab.txt:   0%|          | 0.00/232k [00:00<?, ?B/s]"
      ],
      "application/vnd.jupyter.widget-view+json": {
       "version_major": 2,
       "version_minor": 0,
       "model_id": "627f0d50307641679e661601029ccc4c"
      }
     },
     "metadata": {},
     "output_type": "display_data"
    },
    {
     "data": {
      "text/plain": [
       "tokenizer.json:   0%|          | 0.00/712k [00:00<?, ?B/s]"
      ],
      "application/vnd.jupyter.widget-view+json": {
       "version_major": 2,
       "version_minor": 0,
       "model_id": "ccdbbfc512a541eeb2923f9355f6bccd"
      }
     },
     "metadata": {},
     "output_type": "display_data"
    },
    {
     "data": {
      "text/plain": [
       "special_tokens_map.json:   0%|          | 0.00/695 [00:00<?, ?B/s]"
      ],
      "application/vnd.jupyter.widget-view+json": {
       "version_major": 2,
       "version_minor": 0,
       "model_id": "c4159b3f95894f9e8ebd4913415dcf7a"
      }
     },
     "metadata": {},
     "output_type": "display_data"
    },
    {
     "data": {
      "text/plain": [
       "config.json:   0%|          | 0.00/627 [00:00<?, ?B/s]"
      ],
      "application/vnd.jupyter.widget-view+json": {
       "version_major": 2,
       "version_minor": 0,
       "model_id": "03ae387abd1549ffa366ed17ccc25db5"
      }
     },
     "metadata": {},
     "output_type": "display_data"
    },
    {
     "data": {
      "text/plain": [
       "model.safetensors:   0%|          | 0.00/268M [00:00<?, ?B/s]"
      ],
      "application/vnd.jupyter.widget-view+json": {
       "version_major": 2,
       "version_minor": 0,
       "model_id": "e5c06c3355a24912960b1516ad5719ef"
      }
     },
     "metadata": {},
     "output_type": "display_data"
    },
    {
     "data": {
      "text/plain": [
       "tokenizer_config.json:   0%|          | 0.00/1.43k [00:00<?, ?B/s]"
      ],
      "application/vnd.jupyter.widget-view+json": {
       "version_major": 2,
       "version_minor": 0,
       "model_id": "e0e6a16cd69942d19c20084ecfc4efac"
      }
     },
     "metadata": {},
     "output_type": "display_data"
    },
    {
     "data": {
      "text/plain": [
       "vocab.txt:   0%|          | 0.00/232k [00:00<?, ?B/s]"
      ],
      "application/vnd.jupyter.widget-view+json": {
       "version_major": 2,
       "version_minor": 0,
       "model_id": "9a5beae3e5f74904900b545d7fbc548d"
      }
     },
     "metadata": {},
     "output_type": "display_data"
    },
    {
     "data": {
      "text/plain": [
       "tokenizer.json:   0%|          | 0.00/712k [00:00<?, ?B/s]"
      ],
      "application/vnd.jupyter.widget-view+json": {
       "version_major": 2,
       "version_minor": 0,
       "model_id": "16b79448a34b4be2b0a64a515d33c75e"
      }
     },
     "metadata": {},
     "output_type": "display_data"
    },
    {
     "data": {
      "text/plain": [
       "special_tokens_map.json:   0%|          | 0.00/695 [00:00<?, ?B/s]"
      ],
      "application/vnd.jupyter.widget-view+json": {
       "version_major": 2,
       "version_minor": 0,
       "model_id": "0c9a0a10d4164d828125a6aa25f60225"
      }
     },
     "metadata": {},
     "output_type": "display_data"
    },
    {
     "data": {
      "text/plain": [
       "config.json:   0%|          | 0.00/738 [00:00<?, ?B/s]"
      ],
      "application/vnd.jupyter.widget-view+json": {
       "version_major": 2,
       "version_minor": 0,
       "model_id": "af05e647e1b44960b4397aac94a72d95"
      }
     },
     "metadata": {},
     "output_type": "display_data"
    },
    {
     "data": {
      "text/plain": [
       "model.safetensors:   0%|          | 0.00/438M [00:00<?, ?B/s]"
      ],
      "application/vnd.jupyter.widget-view+json": {
       "version_major": 2,
       "version_minor": 0,
       "model_id": "0171484eac66486e9f16c0fe4d1b765d"
      }
     },
     "metadata": {},
     "output_type": "display_data"
    }
   ],
   "execution_count": 35
  },
  {
   "metadata": {},
   "cell_type": "markdown",
   "source": "### Predicting the test set",
   "id": "63974c4d0de8b153"
  },
  {
   "metadata": {
    "ExecuteTime": {
     "end_time": "2024-05-21T12:38:14.227798Z",
     "start_time": "2024-05-21T12:37:49.648334Z"
    }
   },
   "cell_type": "code",
   "source": [
    "for model in model_names:\n",
    "    # Predict the test set\n",
    "    print(f\"Predicting {model}...\")\n",
    "    models[model]['da_predictions'] = models[model]['da_ft_trainer_loaded'].predict(models[model]['da_ft_dataset']['test'])"
   ],
   "id": "962038257249011a",
   "outputs": [
    {
     "name": "stdout",
     "output_type": "stream",
     "text": [
      "Predicting mrm8488/distilroberta-finetuned-financial-news-sentiment-analysis...\n"
     ]
    },
    {
     "data": {
      "text/plain": [
       "<IPython.core.display.HTML object>"
      ],
      "text/html": []
     },
     "metadata": {},
     "output_type": "display_data"
    },
    {
     "name": "stdout",
     "output_type": "stream",
     "text": [
      "Predicting distilbert-base-uncased...\n"
     ]
    },
    {
     "data": {
      "text/plain": [
       "<IPython.core.display.HTML object>"
      ],
      "text/html": []
     },
     "metadata": {},
     "output_type": "display_data"
    },
    {
     "name": "stdout",
     "output_type": "stream",
     "text": [
      "Predicting ProsusAI/finbert...\n"
     ]
    },
    {
     "data": {
      "text/plain": [
       "<IPython.core.display.HTML object>"
      ],
      "text/html": []
     },
     "metadata": {},
     "output_type": "display_data"
    }
   ],
   "execution_count": 39
  },
  {
   "metadata": {},
   "cell_type": "markdown",
   "source": "",
   "id": "be303a86ac1ff705"
  },
  {
   "metadata": {
    "ExecuteTime": {
     "end_time": "2024-05-21T12:38:22.104879Z",
     "start_time": "2024-05-21T12:38:22.098927Z"
    }
   },
   "cell_type": "code",
   "source": [
    "# Display the predictions\n",
    "models[model_names[0]]['da_predictions']"
   ],
   "id": "4e231c28c950be05",
   "outputs": [
    {
     "data": {
      "text/plain": [
       "PredictionOutput(predictions=array([[-1.4383192 ,  1.9121916 ],\n",
       "       [ 1.554315  , -1.7097615 ],\n",
       "       [-1.293135  ,  1.7848418 ],\n",
       "       [-1.2547474 ,  1.6697551 ],\n",
       "       [-1.0322549 ,  1.381102  ],\n",
       "       [ 1.3232898 , -1.4447643 ],\n",
       "       [-1.465223  ,  1.979575  ],\n",
       "       [ 1.6427982 , -1.7928532 ],\n",
       "       [-0.8482116 ,  1.146716  ],\n",
       "       [-0.71356934,  1.1196896 ],\n",
       "       [-1.405374  ,  1.7731603 ],\n",
       "       [ 1.3356158 , -1.3333625 ],\n",
       "       [ 1.6459191 , -1.8617392 ],\n",
       "       [-1.5047764 ,  1.9064686 ],\n",
       "       [-1.2619044 ,  1.6862006 ],\n",
       "       [ 1.6558005 , -1.8718163 ],\n",
       "       [ 0.9138253 , -0.88902926],\n",
       "       [-1.4425876 ,  1.8065631 ],\n",
       "       [ 1.2962086 , -1.4202977 ],\n",
       "       [ 1.7348855 , -1.9327369 ],\n",
       "       [ 0.6073763 , -0.532041  ],\n",
       "       [ 1.6615548 , -1.8633848 ],\n",
       "       [-0.6270725 ,  0.8335148 ],\n",
       "       [ 1.6500092 , -1.8127054 ],\n",
       "       [ 1.7374051 , -1.8944063 ],\n",
       "       [-1.2750007 ,  1.7754908 ],\n",
       "       [-1.4681967 ,  1.995008  ],\n",
       "       [-1.4391812 ,  1.8976916 ],\n",
       "       [ 1.6692458 , -1.8273965 ],\n",
       "       [-1.1977986 ,  1.6287103 ],\n",
       "       [ 1.6927099 , -1.8783596 ],\n",
       "       [-1.5080283 ,  1.9074482 ],\n",
       "       [ 1.628626  , -1.8113855 ],\n",
       "       [-1.2943121 ,  1.7377565 ],\n",
       "       [-0.44720304,  0.6189835 ],\n",
       "       [ 1.0320987 , -1.0362357 ],\n",
       "       [ 1.5856717 , -1.7846514 ],\n",
       "       [ 1.2678609 , -1.4221088 ],\n",
       "       [-1.0278723 ,  1.3241923 ],\n",
       "       [-1.2733718 ,  1.7134199 ]], dtype=float32), label_ids=array([1, 0, 1, 1, 1, 0, 1, 0, 0, 0, 1, 0, 0, 1, 1, 0, 0, 1, 0, 0, 0, 0,\n",
       "       0, 0, 0, 1, 1, 1, 0, 1, 0, 1, 0, 0, 0, 0, 0, 0, 1, 1]), metrics={'test_loss': 0.30341777205467224, 'test_accuracy': 0.875, 'test_runtime': 15.5172, 'test_samples_per_second': 2.578, 'test_steps_per_second': 0.322})"
      ]
     },
     "execution_count": 40,
     "metadata": {},
     "output_type": "execute_result"
    }
   ],
   "execution_count": 40
  },
  {
   "metadata": {},
   "cell_type": "markdown",
   "source": "### Compute relevant metrics\n",
   "id": "c07a6dc009462c6d"
  },
  {
   "metadata": {
    "ExecuteTime": {
     "end_time": "2024-05-21T12:44:02.060236Z",
     "start_time": "2024-05-21T12:44:02.048458Z"
    }
   },
   "cell_type": "code",
   "source": [
    "# Initialize a dictionary to store the results\n",
    "results_da = {}\n",
    "\n",
    "# Iterate over the model names\n",
    "for model in model_names:\n",
    "    # Get the predicted labels\n",
    "    predicted_labels = np.argmax(models[model]['da_predictions'].predictions, axis=-1)\n",
    "    \n",
    "    # Get the true labels\n",
    "    true_labels = models[model]['da_predictions'].label_ids\n",
    "    \n",
    "    # Compute the confusion matrix\n",
    "    confusion = confusion_matrix(true_labels, predicted_labels)\n",
    "\n",
    "    # Compute the accuracy\n",
    "    accuracy = accuracy_score(true_labels, predicted_labels)\n",
    "\n",
    "    # Compute the precision\n",
    "    precision = precision_score(true_labels, predicted_labels)\n",
    "\n",
    "    # Compute the recall\n",
    "    recall = recall_score(true_labels, predicted_labels)\n",
    "\n",
    "    # Compute the F1 score\n",
    "    f1 = f1_score(true_labels, predicted_labels)\n",
    "\n",
    "    # Store the results in the dictionary\n",
    "    results_da[model] = {\n",
    "        'confusion_matrix': confusion,\n",
    "        'accuracy': accuracy,\n",
    "        'precision': precision,\n",
    "        'recall': recall,\n",
    "        'f1_score': f1\n",
    "    }"
   ],
   "id": "9a25a8512e1264a7",
   "outputs": [],
   "execution_count": 45
  },
  {
   "metadata": {},
   "cell_type": "markdown",
   "source": "### Save the results to a dataframe",
   "id": "dd9de6f31ea6a07d"
  },
  {
   "metadata": {
    "ExecuteTime": {
     "end_time": "2024-05-21T12:44:04.366504Z",
     "start_time": "2024-05-21T12:44:04.359527Z"
    }
   },
   "cell_type": "code",
   "source": [
    "results_transformers_da = []\n",
    "for model, metrics in results_da.items():\n",
    "    results_transformers_da.append({\n",
    "        'Model': \"DA-\" + model,\n",
    "        'Feature Representation': 'N/A',\n",
    "        'Columns': 'text',\n",
    "        'F1-score': metrics['f1_score'],\n",
    "        'Accuracy': metrics['accuracy'],\n",
    "        'Precision': metrics['precision'],\n",
    "        'Recall': metrics['recall'],\n",
    "    })\n",
    "\n",
    "# Create a dataframe from the results\n",
    "results_da = pd.DataFrame(results_transformers_da)\n",
    "\n",
    "results_da"
   ],
   "id": "4c6cb16a312063b3",
   "outputs": [
    {
     "data": {
      "text/plain": [
       "                                               Model Feature Representation  \\\n",
       "0  DA-mrm8488/distilroberta-finetuned-financial-n...                    N/A   \n",
       "1                         DA-distilbert-base-uncased                    N/A   \n",
       "2                                DA-ProsusAI/finbert                    N/A   \n",
       "\n",
       "  Columns  F1-score  Accuracy  Precision  Recall  \n",
       "0    text  0.864865     0.875   0.761905  1.0000  \n",
       "1    text  0.684211     0.700   0.590909  0.8125  \n",
       "2    text  0.941176     0.950   0.888889  1.0000  "
      ],
      "text/html": [
       "<div>\n",
       "<style scoped>\n",
       "    .dataframe tbody tr th:only-of-type {\n",
       "        vertical-align: middle;\n",
       "    }\n",
       "\n",
       "    .dataframe tbody tr th {\n",
       "        vertical-align: top;\n",
       "    }\n",
       "\n",
       "    .dataframe thead th {\n",
       "        text-align: right;\n",
       "    }\n",
       "</style>\n",
       "<table border=\"1\" class=\"dataframe\">\n",
       "  <thead>\n",
       "    <tr style=\"text-align: right;\">\n",
       "      <th></th>\n",
       "      <th>Model</th>\n",
       "      <th>Feature Representation</th>\n",
       "      <th>Columns</th>\n",
       "      <th>F1-score</th>\n",
       "      <th>Accuracy</th>\n",
       "      <th>Precision</th>\n",
       "      <th>Recall</th>\n",
       "    </tr>\n",
       "  </thead>\n",
       "  <tbody>\n",
       "    <tr>\n",
       "      <th>0</th>\n",
       "      <td>DA-mrm8488/distilroberta-finetuned-financial-n...</td>\n",
       "      <td>N/A</td>\n",
       "      <td>text</td>\n",
       "      <td>0.864865</td>\n",
       "      <td>0.875</td>\n",
       "      <td>0.761905</td>\n",
       "      <td>1.0000</td>\n",
       "    </tr>\n",
       "    <tr>\n",
       "      <th>1</th>\n",
       "      <td>DA-distilbert-base-uncased</td>\n",
       "      <td>N/A</td>\n",
       "      <td>text</td>\n",
       "      <td>0.684211</td>\n",
       "      <td>0.700</td>\n",
       "      <td>0.590909</td>\n",
       "      <td>0.8125</td>\n",
       "    </tr>\n",
       "    <tr>\n",
       "      <th>2</th>\n",
       "      <td>DA-ProsusAI/finbert</td>\n",
       "      <td>N/A</td>\n",
       "      <td>text</td>\n",
       "      <td>0.941176</td>\n",
       "      <td>0.950</td>\n",
       "      <td>0.888889</td>\n",
       "      <td>1.0000</td>\n",
       "    </tr>\n",
       "  </tbody>\n",
       "</table>\n",
       "</div>"
      ]
     },
     "execution_count": 46,
     "metadata": {},
     "output_type": "execute_result"
    }
   ],
   "execution_count": 46
  },
  {
   "metadata": {},
   "cell_type": "markdown",
   "source": "### Compare with previous results",
   "id": "e8bbf278e35aeed"
  },
  {
   "metadata": {
    "ExecuteTime": {
     "end_time": "2024-05-21T12:44:18.433627Z",
     "start_time": "2024-05-21T12:44:18.416561Z"
    }
   },
   "cell_type": "code",
   "source": [
    "# Concatenate the results\n",
    "results = pd.concat([results, results_da], ignore_index=True)\n",
    "\n",
    "# Save the results to a CSV file\n",
    "results.to_csv('results/assignment2_comparison_da.csv', index=False)\n",
    "\n",
    "# Sort the results by f1-score\n",
    "results = results.sort_values(by='F1-score', ascending=False)\n",
    "\n",
    "results"
   ],
   "id": "9da7a223aacef436",
   "outputs": [
    {
     "data": {
      "text/plain": [
       "                                               Model  \\\n",
       "8                                DA-ProsusAI/finbert   \n",
       "0  mrm8488/distilroberta-finetuned-financial-news...   \n",
       "1                                   ProsusAI/finbert   \n",
       "6  DA-mrm8488/distilroberta-finetuned-financial-n...   \n",
       "2                            distilbert-base-uncased   \n",
       "3                             Multi-Layer Perceptron   \n",
       "4                                  Loughran-McDonald   \n",
       "5                                              VADER   \n",
       "7                         DA-distilbert-base-uncased   \n",
       "\n",
       "                                    Columns Feature Representation  F1-score  \\\n",
       "8                                      text                    N/A  0.941176   \n",
       "0                                      text                    N/A  0.937500   \n",
       "1                                      text                    N/A  0.937500   \n",
       "6                                      text                    N/A  0.864865   \n",
       "2                                      text                    N/A  0.777778   \n",
       "3  headline_embeddings, synopsis_embeddings    Word2Vec FinText AI  0.751323   \n",
       "4                             combined_text                    NaN  0.734545   \n",
       "5                             combined_text                    NaN  0.723549   \n",
       "7                                      text                    N/A  0.684211   \n",
       "\n",
       "   Accuracy  Precision    Recall  \n",
       "8     0.950   0.888889  1.000000  \n",
       "0     0.950   0.937500  0.937500  \n",
       "1     0.950   0.937500  0.937500  \n",
       "6     0.875   0.761905  1.000000  \n",
       "2     0.800   0.700000  0.875000  \n",
       "3     0.755   0.758598  0.751341  \n",
       "4     0.635   0.604790  0.935185  \n",
       "5     0.595   0.572973  0.981481  \n",
       "7     0.700   0.590909  0.812500  "
      ],
      "text/html": [
       "<div>\n",
       "<style scoped>\n",
       "    .dataframe tbody tr th:only-of-type {\n",
       "        vertical-align: middle;\n",
       "    }\n",
       "\n",
       "    .dataframe tbody tr th {\n",
       "        vertical-align: top;\n",
       "    }\n",
       "\n",
       "    .dataframe thead th {\n",
       "        text-align: right;\n",
       "    }\n",
       "</style>\n",
       "<table border=\"1\" class=\"dataframe\">\n",
       "  <thead>\n",
       "    <tr style=\"text-align: right;\">\n",
       "      <th></th>\n",
       "      <th>Model</th>\n",
       "      <th>Columns</th>\n",
       "      <th>Feature Representation</th>\n",
       "      <th>F1-score</th>\n",
       "      <th>Accuracy</th>\n",
       "      <th>Precision</th>\n",
       "      <th>Recall</th>\n",
       "    </tr>\n",
       "  </thead>\n",
       "  <tbody>\n",
       "    <tr>\n",
       "      <th>8</th>\n",
       "      <td>DA-ProsusAI/finbert</td>\n",
       "      <td>text</td>\n",
       "      <td>N/A</td>\n",
       "      <td>0.941176</td>\n",
       "      <td>0.950</td>\n",
       "      <td>0.888889</td>\n",
       "      <td>1.000000</td>\n",
       "    </tr>\n",
       "    <tr>\n",
       "      <th>0</th>\n",
       "      <td>mrm8488/distilroberta-finetuned-financial-news...</td>\n",
       "      <td>text</td>\n",
       "      <td>N/A</td>\n",
       "      <td>0.937500</td>\n",
       "      <td>0.950</td>\n",
       "      <td>0.937500</td>\n",
       "      <td>0.937500</td>\n",
       "    </tr>\n",
       "    <tr>\n",
       "      <th>1</th>\n",
       "      <td>ProsusAI/finbert</td>\n",
       "      <td>text</td>\n",
       "      <td>N/A</td>\n",
       "      <td>0.937500</td>\n",
       "      <td>0.950</td>\n",
       "      <td>0.937500</td>\n",
       "      <td>0.937500</td>\n",
       "    </tr>\n",
       "    <tr>\n",
       "      <th>6</th>\n",
       "      <td>DA-mrm8488/distilroberta-finetuned-financial-n...</td>\n",
       "      <td>text</td>\n",
       "      <td>N/A</td>\n",
       "      <td>0.864865</td>\n",
       "      <td>0.875</td>\n",
       "      <td>0.761905</td>\n",
       "      <td>1.000000</td>\n",
       "    </tr>\n",
       "    <tr>\n",
       "      <th>2</th>\n",
       "      <td>distilbert-base-uncased</td>\n",
       "      <td>text</td>\n",
       "      <td>N/A</td>\n",
       "      <td>0.777778</td>\n",
       "      <td>0.800</td>\n",
       "      <td>0.700000</td>\n",
       "      <td>0.875000</td>\n",
       "    </tr>\n",
       "    <tr>\n",
       "      <th>3</th>\n",
       "      <td>Multi-Layer Perceptron</td>\n",
       "      <td>headline_embeddings, synopsis_embeddings</td>\n",
       "      <td>Word2Vec FinText AI</td>\n",
       "      <td>0.751323</td>\n",
       "      <td>0.755</td>\n",
       "      <td>0.758598</td>\n",
       "      <td>0.751341</td>\n",
       "    </tr>\n",
       "    <tr>\n",
       "      <th>4</th>\n",
       "      <td>Loughran-McDonald</td>\n",
       "      <td>combined_text</td>\n",
       "      <td>NaN</td>\n",
       "      <td>0.734545</td>\n",
       "      <td>0.635</td>\n",
       "      <td>0.604790</td>\n",
       "      <td>0.935185</td>\n",
       "    </tr>\n",
       "    <tr>\n",
       "      <th>5</th>\n",
       "      <td>VADER</td>\n",
       "      <td>combined_text</td>\n",
       "      <td>NaN</td>\n",
       "      <td>0.723549</td>\n",
       "      <td>0.595</td>\n",
       "      <td>0.572973</td>\n",
       "      <td>0.981481</td>\n",
       "    </tr>\n",
       "    <tr>\n",
       "      <th>7</th>\n",
       "      <td>DA-distilbert-base-uncased</td>\n",
       "      <td>text</td>\n",
       "      <td>N/A</td>\n",
       "      <td>0.684211</td>\n",
       "      <td>0.700</td>\n",
       "      <td>0.590909</td>\n",
       "      <td>0.812500</td>\n",
       "    </tr>\n",
       "  </tbody>\n",
       "</table>\n",
       "</div>"
      ]
     },
     "execution_count": 47,
     "metadata": {},
     "output_type": "execute_result"
    }
   ],
   "execution_count": 47
  },
  {
   "metadata": {},
   "cell_type": "markdown",
   "source": "",
   "id": "22484212c85999a3"
  }
 ],
 "metadata": {
  "kernelspec": {
   "display_name": "Python 3",
   "language": "python",
   "name": "python3"
  },
  "language_info": {
   "codemirror_mode": {
    "name": "ipython",
    "version": 3
   },
   "file_extension": ".py",
   "mimetype": "text/x-python",
   "name": "python",
   "nbconvert_exporter": "python",
   "pygments_lexer": "ipython3",
   "version": "3.11.5"
  }
 },
 "nbformat": 4,
 "nbformat_minor": 5
}
