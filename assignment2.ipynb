{
 "cells": [
  {
   "cell_type": "markdown",
   "id": "3445c9855ff311e7",
   "metadata": {},
   "source": [
    "# Sentiment Analysis - Labelled Financial News Data Using Transformer Models\n"
   ]
  },
  {
   "cell_type": "code",
   "id": "7fe6ac1d1f0f6129",
   "metadata": {
    "ExecuteTime": {
     "end_time": "2024-05-06T20:25:43.504918Z",
     "start_time": "2024-05-06T20:25:37.107696Z"
    }
   },
   "source": [
    "# Importing the required libraries\n",
    "import pandas as pd\n",
    "import numpy as np\n",
    "from datasets import Dataset, DatasetDict\n",
    "from transformers import AutoTokenizer\n",
    "from transformers import TrainingArguments\n",
    "from transformers import Trainer\n",
    "from transformers import DataCollatorWithPadding\n",
    "from transformers import AutoModelForSequenceClassification\n",
    "import evaluate"
   ],
   "outputs": [],
   "execution_count": 1
  },
  {
   "cell_type": "markdown",
   "id": "b93ec5afcbb2d02a",
   "metadata": {},
   "source": [
    "### Loading the data"
   ]
  },
  {
   "cell_type": "code",
   "id": "aa625c70a8cfa0b8",
   "metadata": {
    "ExecuteTime": {
     "end_time": "2024-05-06T20:25:43.534343Z",
     "start_time": "2024-05-06T20:25:43.504918Z"
    }
   },
   "source": [
    "data = pd.read_csv('data/Fin_cleaned.csv', encoding='utf-8')\n",
    "\n",
    "# duplicate the data\n",
    "news = data.copy()\n",
    "\n",
    "news"
   ],
   "outputs": [
    {
     "data": {
      "text/plain": [
       "    Date_published                                           Headline  \\\n",
       "0       2022-06-21  Banks holding on to subsidy share, say payment...   \n",
       "1       2022-04-19  Digitally ready Bank of Baroda aims to click o...   \n",
       "2       2022-05-27  Karnataka attracted investment commitment of R...   \n",
       "3       2022-04-06  Splitting of provident fund accounts may be de...   \n",
       "4       2022-06-14  Irdai weighs proposal to privatise Insurance I...   \n",
       "..             ...                                                ...   \n",
       "395     2022-06-10      Banks take a cue from RBI, hike lending rates   \n",
       "396     2022-06-29  Sebi issues Rs 27 lakh recovery notice to indi...   \n",
       "397     2022-06-06  Apollo Hospital shares  drop  0.68% as Sensex ...   \n",
       "398     2022-05-16  SBI at Rs 710? What makes analysts see up to 5...   \n",
       "399     2022-05-27  Stock market update: Mining stocks  up  as mar...   \n",
       "\n",
       "                                              Synopsis  \\\n",
       "0    The companies have written to the National Pay...   \n",
       "1    At present, 50% of the bank's retail loans are...   \n",
       "2    Karnataka is at the forefront in attracting in...   \n",
       "3    The EPFO is likely to split accounts only at t...   \n",
       "4    Set up in 2009 as an advisory body, IIB collec...   \n",
       "..                                                 ...   \n",
       "395  These banks raised their respective external b...   \n",
       "396  In the event of non-payment, it will recover t...   \n",
       "397  A total of 10,105 shares changed hands on the ...   \n",
       "398  Calling the stock 'attractively valued' analys...   \n",
       "399  The 30-share BSE Sensex was  up  323.71 points...   \n",
       "\n",
       "                                             Full_text Final Status  \n",
       "0    ReutersPayments companies and banks are at log...     Negative  \n",
       "1    AgenciesThe bank presently has 20 million acti...     Positive  \n",
       "2    PTIKarnataka Chief Minister Basavaraj Bommai.K...     Positive  \n",
       "3    Getty ImagesThe budget for FY22 had imposed in...     Negative  \n",
       "4    AgenciesThere is a view in the insurance indus...     Positive  \n",
       "..                                                 ...          ...  \n",
       "395  PTIICICI Bank, Bank of Baroda, Punjab National...     Negative  \n",
       "396  ReutersThe logo of the Securities and Exchange...     Negative  \n",
       "397  Getty ImagesShrikant Chouhan of Kotak Securiti...     Negative  \n",
       "398  AgenciesThe PSU bank reported a 41.27 per cent...     Positive  \n",
       "399  Shutterstock.comAgarwal said the global econom...     Positive  \n",
       "\n",
       "[400 rows x 5 columns]"
      ],
      "text/html": [
       "<div>\n",
       "<style scoped>\n",
       "    .dataframe tbody tr th:only-of-type {\n",
       "        vertical-align: middle;\n",
       "    }\n",
       "\n",
       "    .dataframe tbody tr th {\n",
       "        vertical-align: top;\n",
       "    }\n",
       "\n",
       "    .dataframe thead th {\n",
       "        text-align: right;\n",
       "    }\n",
       "</style>\n",
       "<table border=\"1\" class=\"dataframe\">\n",
       "  <thead>\n",
       "    <tr style=\"text-align: right;\">\n",
       "      <th></th>\n",
       "      <th>Date_published</th>\n",
       "      <th>Headline</th>\n",
       "      <th>Synopsis</th>\n",
       "      <th>Full_text</th>\n",
       "      <th>Final Status</th>\n",
       "    </tr>\n",
       "  </thead>\n",
       "  <tbody>\n",
       "    <tr>\n",
       "      <th>0</th>\n",
       "      <td>2022-06-21</td>\n",
       "      <td>Banks holding on to subsidy share, say payment...</td>\n",
       "      <td>The companies have written to the National Pay...</td>\n",
       "      <td>ReutersPayments companies and banks are at log...</td>\n",
       "      <td>Negative</td>\n",
       "    </tr>\n",
       "    <tr>\n",
       "      <th>1</th>\n",
       "      <td>2022-04-19</td>\n",
       "      <td>Digitally ready Bank of Baroda aims to click o...</td>\n",
       "      <td>At present, 50% of the bank's retail loans are...</td>\n",
       "      <td>AgenciesThe bank presently has 20 million acti...</td>\n",
       "      <td>Positive</td>\n",
       "    </tr>\n",
       "    <tr>\n",
       "      <th>2</th>\n",
       "      <td>2022-05-27</td>\n",
       "      <td>Karnataka attracted investment commitment of R...</td>\n",
       "      <td>Karnataka is at the forefront in attracting in...</td>\n",
       "      <td>PTIKarnataka Chief Minister Basavaraj Bommai.K...</td>\n",
       "      <td>Positive</td>\n",
       "    </tr>\n",
       "    <tr>\n",
       "      <th>3</th>\n",
       "      <td>2022-04-06</td>\n",
       "      <td>Splitting of provident fund accounts may be de...</td>\n",
       "      <td>The EPFO is likely to split accounts only at t...</td>\n",
       "      <td>Getty ImagesThe budget for FY22 had imposed in...</td>\n",
       "      <td>Negative</td>\n",
       "    </tr>\n",
       "    <tr>\n",
       "      <th>4</th>\n",
       "      <td>2022-06-14</td>\n",
       "      <td>Irdai weighs proposal to privatise Insurance I...</td>\n",
       "      <td>Set up in 2009 as an advisory body, IIB collec...</td>\n",
       "      <td>AgenciesThere is a view in the insurance indus...</td>\n",
       "      <td>Positive</td>\n",
       "    </tr>\n",
       "    <tr>\n",
       "      <th>...</th>\n",
       "      <td>...</td>\n",
       "      <td>...</td>\n",
       "      <td>...</td>\n",
       "      <td>...</td>\n",
       "      <td>...</td>\n",
       "    </tr>\n",
       "    <tr>\n",
       "      <th>395</th>\n",
       "      <td>2022-06-10</td>\n",
       "      <td>Banks take a cue from RBI, hike lending rates</td>\n",
       "      <td>These banks raised their respective external b...</td>\n",
       "      <td>PTIICICI Bank, Bank of Baroda, Punjab National...</td>\n",
       "      <td>Negative</td>\n",
       "    </tr>\n",
       "    <tr>\n",
       "      <th>396</th>\n",
       "      <td>2022-06-29</td>\n",
       "      <td>Sebi issues Rs 27 lakh recovery notice to indi...</td>\n",
       "      <td>In the event of non-payment, it will recover t...</td>\n",
       "      <td>ReutersThe logo of the Securities and Exchange...</td>\n",
       "      <td>Negative</td>\n",
       "    </tr>\n",
       "    <tr>\n",
       "      <th>397</th>\n",
       "      <td>2022-06-06</td>\n",
       "      <td>Apollo Hospital shares  drop  0.68% as Sensex ...</td>\n",
       "      <td>A total of 10,105 shares changed hands on the ...</td>\n",
       "      <td>Getty ImagesShrikant Chouhan of Kotak Securiti...</td>\n",
       "      <td>Negative</td>\n",
       "    </tr>\n",
       "    <tr>\n",
       "      <th>398</th>\n",
       "      <td>2022-05-16</td>\n",
       "      <td>SBI at Rs 710? What makes analysts see up to 5...</td>\n",
       "      <td>Calling the stock 'attractively valued' analys...</td>\n",
       "      <td>AgenciesThe PSU bank reported a 41.27 per cent...</td>\n",
       "      <td>Positive</td>\n",
       "    </tr>\n",
       "    <tr>\n",
       "      <th>399</th>\n",
       "      <td>2022-05-27</td>\n",
       "      <td>Stock market update: Mining stocks  up  as mar...</td>\n",
       "      <td>The 30-share BSE Sensex was  up  323.71 points...</td>\n",
       "      <td>Shutterstock.comAgarwal said the global econom...</td>\n",
       "      <td>Positive</td>\n",
       "    </tr>\n",
       "  </tbody>\n",
       "</table>\n",
       "<p>400 rows × 5 columns</p>\n",
       "</div>"
      ]
     },
     "execution_count": 2,
     "metadata": {},
     "output_type": "execute_result"
    }
   ],
   "execution_count": 2
  },
  {
   "cell_type": "markdown",
   "id": "d5cb83a1a8d98f7a",
   "metadata": {},
   "source": [
    "### Data Preprocessing"
   ]
  },
  {
   "cell_type": "code",
   "id": "a5d6d1dadbee521b",
   "metadata": {
    "ExecuteTime": {
     "end_time": "2024-05-06T20:25:43.547857Z",
     "start_time": "2024-05-06T20:25:43.534343Z"
    }
   },
   "source": [
    "# Fill the missing value with an empty string\n",
    "news['Synopsis'] = news['Synopsis'].fillna('')\n",
    "\n",
    "# Rename columns\n",
    "news = news.rename(\n",
    "    columns={'Date_published': 'date', 'Headline': 'headline', 'Synopsis': 'synopsis', 'Full_text': 'text',\n",
    "             'Final Status': 'label'})\n",
    "\n",
    "# Remove the spaces from the labels\n",
    "news['label'] = news['label'].str.strip()\n",
    "\n",
    "# Convert labels to binary\n",
    "news['label'] = news['label'].apply(lambda x: 1 if x == 'Positive' else 0)\n",
    "\n",
    "news"
   ],
   "outputs": [
    {
     "data": {
      "text/plain": [
       "           date                                           headline  \\\n",
       "0    2022-06-21  Banks holding on to subsidy share, say payment...   \n",
       "1    2022-04-19  Digitally ready Bank of Baroda aims to click o...   \n",
       "2    2022-05-27  Karnataka attracted investment commitment of R...   \n",
       "3    2022-04-06  Splitting of provident fund accounts may be de...   \n",
       "4    2022-06-14  Irdai weighs proposal to privatise Insurance I...   \n",
       "..          ...                                                ...   \n",
       "395  2022-06-10      Banks take a cue from RBI, hike lending rates   \n",
       "396  2022-06-29  Sebi issues Rs 27 lakh recovery notice to indi...   \n",
       "397  2022-06-06  Apollo Hospital shares  drop  0.68% as Sensex ...   \n",
       "398  2022-05-16  SBI at Rs 710? What makes analysts see up to 5...   \n",
       "399  2022-05-27  Stock market update: Mining stocks  up  as mar...   \n",
       "\n",
       "                                              synopsis  \\\n",
       "0    The companies have written to the National Pay...   \n",
       "1    At present, 50% of the bank's retail loans are...   \n",
       "2    Karnataka is at the forefront in attracting in...   \n",
       "3    The EPFO is likely to split accounts only at t...   \n",
       "4    Set up in 2009 as an advisory body, IIB collec...   \n",
       "..                                                 ...   \n",
       "395  These banks raised their respective external b...   \n",
       "396  In the event of non-payment, it will recover t...   \n",
       "397  A total of 10,105 shares changed hands on the ...   \n",
       "398  Calling the stock 'attractively valued' analys...   \n",
       "399  The 30-share BSE Sensex was  up  323.71 points...   \n",
       "\n",
       "                                                  text  label  \n",
       "0    ReutersPayments companies and banks are at log...      0  \n",
       "1    AgenciesThe bank presently has 20 million acti...      1  \n",
       "2    PTIKarnataka Chief Minister Basavaraj Bommai.K...      1  \n",
       "3    Getty ImagesThe budget for FY22 had imposed in...      0  \n",
       "4    AgenciesThere is a view in the insurance indus...      1  \n",
       "..                                                 ...    ...  \n",
       "395  PTIICICI Bank, Bank of Baroda, Punjab National...      0  \n",
       "396  ReutersThe logo of the Securities and Exchange...      0  \n",
       "397  Getty ImagesShrikant Chouhan of Kotak Securiti...      0  \n",
       "398  AgenciesThe PSU bank reported a 41.27 per cent...      1  \n",
       "399  Shutterstock.comAgarwal said the global econom...      1  \n",
       "\n",
       "[400 rows x 5 columns]"
      ],
      "text/html": [
       "<div>\n",
       "<style scoped>\n",
       "    .dataframe tbody tr th:only-of-type {\n",
       "        vertical-align: middle;\n",
       "    }\n",
       "\n",
       "    .dataframe tbody tr th {\n",
       "        vertical-align: top;\n",
       "    }\n",
       "\n",
       "    .dataframe thead th {\n",
       "        text-align: right;\n",
       "    }\n",
       "</style>\n",
       "<table border=\"1\" class=\"dataframe\">\n",
       "  <thead>\n",
       "    <tr style=\"text-align: right;\">\n",
       "      <th></th>\n",
       "      <th>date</th>\n",
       "      <th>headline</th>\n",
       "      <th>synopsis</th>\n",
       "      <th>text</th>\n",
       "      <th>label</th>\n",
       "    </tr>\n",
       "  </thead>\n",
       "  <tbody>\n",
       "    <tr>\n",
       "      <th>0</th>\n",
       "      <td>2022-06-21</td>\n",
       "      <td>Banks holding on to subsidy share, say payment...</td>\n",
       "      <td>The companies have written to the National Pay...</td>\n",
       "      <td>ReutersPayments companies and banks are at log...</td>\n",
       "      <td>0</td>\n",
       "    </tr>\n",
       "    <tr>\n",
       "      <th>1</th>\n",
       "      <td>2022-04-19</td>\n",
       "      <td>Digitally ready Bank of Baroda aims to click o...</td>\n",
       "      <td>At present, 50% of the bank's retail loans are...</td>\n",
       "      <td>AgenciesThe bank presently has 20 million acti...</td>\n",
       "      <td>1</td>\n",
       "    </tr>\n",
       "    <tr>\n",
       "      <th>2</th>\n",
       "      <td>2022-05-27</td>\n",
       "      <td>Karnataka attracted investment commitment of R...</td>\n",
       "      <td>Karnataka is at the forefront in attracting in...</td>\n",
       "      <td>PTIKarnataka Chief Minister Basavaraj Bommai.K...</td>\n",
       "      <td>1</td>\n",
       "    </tr>\n",
       "    <tr>\n",
       "      <th>3</th>\n",
       "      <td>2022-04-06</td>\n",
       "      <td>Splitting of provident fund accounts may be de...</td>\n",
       "      <td>The EPFO is likely to split accounts only at t...</td>\n",
       "      <td>Getty ImagesThe budget for FY22 had imposed in...</td>\n",
       "      <td>0</td>\n",
       "    </tr>\n",
       "    <tr>\n",
       "      <th>4</th>\n",
       "      <td>2022-06-14</td>\n",
       "      <td>Irdai weighs proposal to privatise Insurance I...</td>\n",
       "      <td>Set up in 2009 as an advisory body, IIB collec...</td>\n",
       "      <td>AgenciesThere is a view in the insurance indus...</td>\n",
       "      <td>1</td>\n",
       "    </tr>\n",
       "    <tr>\n",
       "      <th>...</th>\n",
       "      <td>...</td>\n",
       "      <td>...</td>\n",
       "      <td>...</td>\n",
       "      <td>...</td>\n",
       "      <td>...</td>\n",
       "    </tr>\n",
       "    <tr>\n",
       "      <th>395</th>\n",
       "      <td>2022-06-10</td>\n",
       "      <td>Banks take a cue from RBI, hike lending rates</td>\n",
       "      <td>These banks raised their respective external b...</td>\n",
       "      <td>PTIICICI Bank, Bank of Baroda, Punjab National...</td>\n",
       "      <td>0</td>\n",
       "    </tr>\n",
       "    <tr>\n",
       "      <th>396</th>\n",
       "      <td>2022-06-29</td>\n",
       "      <td>Sebi issues Rs 27 lakh recovery notice to indi...</td>\n",
       "      <td>In the event of non-payment, it will recover t...</td>\n",
       "      <td>ReutersThe logo of the Securities and Exchange...</td>\n",
       "      <td>0</td>\n",
       "    </tr>\n",
       "    <tr>\n",
       "      <th>397</th>\n",
       "      <td>2022-06-06</td>\n",
       "      <td>Apollo Hospital shares  drop  0.68% as Sensex ...</td>\n",
       "      <td>A total of 10,105 shares changed hands on the ...</td>\n",
       "      <td>Getty ImagesShrikant Chouhan of Kotak Securiti...</td>\n",
       "      <td>0</td>\n",
       "    </tr>\n",
       "    <tr>\n",
       "      <th>398</th>\n",
       "      <td>2022-05-16</td>\n",
       "      <td>SBI at Rs 710? What makes analysts see up to 5...</td>\n",
       "      <td>Calling the stock 'attractively valued' analys...</td>\n",
       "      <td>AgenciesThe PSU bank reported a 41.27 per cent...</td>\n",
       "      <td>1</td>\n",
       "    </tr>\n",
       "    <tr>\n",
       "      <th>399</th>\n",
       "      <td>2022-05-27</td>\n",
       "      <td>Stock market update: Mining stocks  up  as mar...</td>\n",
       "      <td>The 30-share BSE Sensex was  up  323.71 points...</td>\n",
       "      <td>Shutterstock.comAgarwal said the global econom...</td>\n",
       "      <td>1</td>\n",
       "    </tr>\n",
       "  </tbody>\n",
       "</table>\n",
       "<p>400 rows × 5 columns</p>\n",
       "</div>"
      ]
     },
     "execution_count": 3,
     "metadata": {},
     "output_type": "execute_result"
    }
   ],
   "execution_count": 3
  },
  {
   "cell_type": "markdown",
   "id": "41318a80f738bc14",
   "metadata": {},
   "source": [
    "## Create a dataset dictionary"
   ]
  },
  {
   "cell_type": "code",
   "id": "f1fff9f65bd23923",
   "metadata": {
    "ExecuteTime": {
     "end_time": "2024-05-06T20:25:43.571936Z",
     "start_time": "2024-05-06T20:25:43.547857Z"
    }
   },
   "source": [
    "# Create a dataset dictionary\n",
    "dataset = Dataset.from_pandas(news)\n",
    "\n",
    "# Display the dataset dictionary    \n",
    "dataset"
   ],
   "outputs": [
    {
     "data": {
      "text/plain": [
       "Dataset({\n",
       "    features: ['date', 'headline', 'synopsis', 'text', 'label'],\n",
       "    num_rows: 400\n",
       "})"
      ]
     },
     "execution_count": 4,
     "metadata": {},
     "output_type": "execute_result"
    }
   ],
   "execution_count": 4
  },
  {
   "cell_type": "markdown",
   "id": "1bf44a3c66ec506d",
   "metadata": {},
   "source": [
    "### Split the dataset into training and testing sets"
   ]
  },
  {
   "cell_type": "code",
   "id": "d52ffcdfbb353e31",
   "metadata": {
    "ExecuteTime": {
     "end_time": "2024-05-06T20:25:43.583600Z",
     "start_time": "2024-05-06T20:25:43.571936Z"
    }
   },
   "source": [
    "# We will split the dataset into 80% training and 20% testing\n",
    "train_test = dataset.train_test_split(test_size=0.2)"
   ],
   "outputs": [],
   "execution_count": 5
  },
  {
   "cell_type": "code",
   "id": "2fa832572163e894",
   "metadata": {
    "ExecuteTime": {
     "end_time": "2024-05-06T20:25:43.592849Z",
     "start_time": "2024-05-06T20:25:43.583600Z"
    }
   },
   "source": [
    "# Now we will split the test set into 50% validation and 50% test\n",
    "valid_test = train_test['test'].train_test_split(test_size=0.5)"
   ],
   "outputs": [],
   "execution_count": 6
  },
  {
   "metadata": {},
   "cell_type": "markdown",
   "source": "### Create a final dataset dictionary",
   "id": "fd370551a0f7a174"
  },
  {
   "cell_type": "code",
   "id": "7a69fdc07ed9c9b2",
   "metadata": {
    "ExecuteTime": {
     "end_time": "2024-05-06T20:25:43.597398Z",
     "start_time": "2024-05-06T20:25:43.592849Z"
    }
   },
   "source": [
    "# Combine the training, validation, and testing sets into a single dictionary\n",
    "final_dataset = DatasetDict({\n",
    "    'train': train_test['train'],\n",
    "    'validation': valid_test['train'],\n",
    "    'test': valid_test['test']\n",
    "})\n",
    "\n",
    "final_dataset"
   ],
   "outputs": [
    {
     "data": {
      "text/plain": [
       "DatasetDict({\n",
       "    train: Dataset({\n",
       "        features: ['date', 'headline', 'synopsis', 'text', 'label'],\n",
       "        num_rows: 320\n",
       "    })\n",
       "    validation: Dataset({\n",
       "        features: ['date', 'headline', 'synopsis', 'text', 'label'],\n",
       "        num_rows: 40\n",
       "    })\n",
       "    test: Dataset({\n",
       "        features: ['date', 'headline', 'synopsis', 'text', 'label'],\n",
       "        num_rows: 40\n",
       "    })\n",
       "})"
      ]
     },
     "execution_count": 7,
     "metadata": {},
     "output_type": "execute_result"
    }
   ],
   "execution_count": 7
  },
  {
   "cell_type": "markdown",
   "id": "48cc44727ead8947",
   "metadata": {},
   "source": [
    "## Dataset Tokenization"
   ]
  },
  {
   "cell_type": "code",
   "id": "6f37417161dce39d",
   "metadata": {
    "ExecuteTime": {
     "end_time": "2024-05-06T20:25:46.818768Z",
     "start_time": "2024-05-06T20:25:43.597398Z"
    }
   },
   "source": [
    "# Model name\n",
    "model_name = \"mrm8488/distilroberta-finetuned-financial-news-sentiment-analysis\"\n",
    "\n",
    "# Load the tokenizer\n",
    "tokenizer = AutoTokenizer.from_pretrained(model_name)\n",
    "\n",
    "# Function to tokenize the dataset\n",
    "def tokenize_function(examples, column):\n",
    "    return tokenizer(examples[column], truncation=True, padding='max_length')\n",
    "\n",
    "# list of text columns\n",
    "text_columns = ['headline', 'synopsis', 'text']\n",
    "\n",
    "# Tokenize the dataset\n",
    "for column in text_columns:\n",
    "    tokenized_datasets = final_dataset.map(lambda examples: tokenize_function(examples, column), batched=True)"
   ],
   "outputs": [
    {
     "data": {
      "text/plain": [
       "tokenizer_config.json:   0%|          | 0.00/333 [00:00<?, ?B/s]"
      ],
      "application/vnd.jupyter.widget-view+json": {
       "version_major": 2,
       "version_minor": 0,
       "model_id": "594405a6660948cc8983e5ff56d5d6a3"
      }
     },
     "metadata": {},
     "output_type": "display_data"
    },
    {
     "data": {
      "text/plain": [
       "vocab.json:   0%|          | 0.00/798k [00:00<?, ?B/s]"
      ],
      "application/vnd.jupyter.widget-view+json": {
       "version_major": 2,
       "version_minor": 0,
       "model_id": "5e12ef0bee784334a77200544479e13d"
      }
     },
     "metadata": {},
     "output_type": "display_data"
    },
    {
     "data": {
      "text/plain": [
       "merges.txt:   0%|          | 0.00/456k [00:00<?, ?B/s]"
      ],
      "application/vnd.jupyter.widget-view+json": {
       "version_major": 2,
       "version_minor": 0,
       "model_id": "946fc5d43b7f46a28a4b701df3bcf9b4"
      }
     },
     "metadata": {},
     "output_type": "display_data"
    },
    {
     "data": {
      "text/plain": [
       "tokenizer.json:   0%|          | 0.00/1.36M [00:00<?, ?B/s]"
      ],
      "application/vnd.jupyter.widget-view+json": {
       "version_major": 2,
       "version_minor": 0,
       "model_id": "aaaf5308c1714ab1af3c24b381916ccc"
      }
     },
     "metadata": {},
     "output_type": "display_data"
    },
    {
     "data": {
      "text/plain": [
       "special_tokens_map.json:   0%|          | 0.00/239 [00:00<?, ?B/s]"
      ],
      "application/vnd.jupyter.widget-view+json": {
       "version_major": 2,
       "version_minor": 0,
       "model_id": "d78755b32dff4fc990ab6dd07dad8d58"
      }
     },
     "metadata": {},
     "output_type": "display_data"
    },
    {
     "data": {
      "text/plain": [
       "Map:   0%|          | 0/320 [00:00<?, ? examples/s]"
      ],
      "application/vnd.jupyter.widget-view+json": {
       "version_major": 2,
       "version_minor": 0,
       "model_id": "823275327a0f4b06973a2d9573c2dc14"
      }
     },
     "metadata": {},
     "output_type": "display_data"
    },
    {
     "data": {
      "text/plain": [
       "Map:   0%|          | 0/40 [00:00<?, ? examples/s]"
      ],
      "application/vnd.jupyter.widget-view+json": {
       "version_major": 2,
       "version_minor": 0,
       "model_id": "3cb872eda1d7496d99f47c45368bb5b3"
      }
     },
     "metadata": {},
     "output_type": "display_data"
    },
    {
     "data": {
      "text/plain": [
       "Map:   0%|          | 0/40 [00:00<?, ? examples/s]"
      ],
      "application/vnd.jupyter.widget-view+json": {
       "version_major": 2,
       "version_minor": 0,
       "model_id": "ddb3eb0dec0c4778be03376a8ac05381"
      }
     },
     "metadata": {},
     "output_type": "display_data"
    },
    {
     "data": {
      "text/plain": [
       "Map:   0%|          | 0/320 [00:00<?, ? examples/s]"
      ],
      "application/vnd.jupyter.widget-view+json": {
       "version_major": 2,
       "version_minor": 0,
       "model_id": "165e53d0b5e14cedbaf489d04159595f"
      }
     },
     "metadata": {},
     "output_type": "display_data"
    },
    {
     "data": {
      "text/plain": [
       "Map:   0%|          | 0/40 [00:00<?, ? examples/s]"
      ],
      "application/vnd.jupyter.widget-view+json": {
       "version_major": 2,
       "version_minor": 0,
       "model_id": "fbdbfe2f0c5543b6b415c6dc801bf1c5"
      }
     },
     "metadata": {},
     "output_type": "display_data"
    },
    {
     "data": {
      "text/plain": [
       "Map:   0%|          | 0/40 [00:00<?, ? examples/s]"
      ],
      "application/vnd.jupyter.widget-view+json": {
       "version_major": 2,
       "version_minor": 0,
       "model_id": "e822ba88847c46a9a26b371f7623c53f"
      }
     },
     "metadata": {},
     "output_type": "display_data"
    },
    {
     "data": {
      "text/plain": [
       "Map:   0%|          | 0/320 [00:00<?, ? examples/s]"
      ],
      "application/vnd.jupyter.widget-view+json": {
       "version_major": 2,
       "version_minor": 0,
       "model_id": "39691fa2ee2d46eabda870e363c408ef"
      }
     },
     "metadata": {},
     "output_type": "display_data"
    },
    {
     "data": {
      "text/plain": [
       "Map:   0%|          | 0/40 [00:00<?, ? examples/s]"
      ],
      "application/vnd.jupyter.widget-view+json": {
       "version_major": 2,
       "version_minor": 0,
       "model_id": "0f35230eb03243c288a55d58c604f78d"
      }
     },
     "metadata": {},
     "output_type": "display_data"
    },
    {
     "data": {
      "text/plain": [
       "Map:   0%|          | 0/40 [00:00<?, ? examples/s]"
      ],
      "application/vnd.jupyter.widget-view+json": {
       "version_major": 2,
       "version_minor": 0,
       "model_id": "3ae6d418c4b94eb497ff542db21c1297"
      }
     },
     "metadata": {},
     "output_type": "display_data"
    }
   ],
   "execution_count": 8
  },
  {
   "cell_type": "markdown",
   "id": "7944232b173f18f7",
   "metadata": {},
   "source": "## Loading & Fine-tuning the model"
  },
  {
   "cell_type": "markdown",
   "id": "869b1164b2d66cb2",
   "metadata": {},
   "source": [
    "This model is a distilled version of the RoBERTa-base model. It follows the same training procedure as DistilBERT.\n",
    "The model has 6 layers, 768 dimension and 12 heads, totalizing 82M parameters (compared to 125M parameters for RoBERTa-base). On average DistilRoBERTa is twice as fast as Roberta-base."
   ]
  },
  {
   "cell_type": "code",
   "id": "d24baee96a243fd7",
   "metadata": {
    "ExecuteTime": {
     "end_time": "2024-05-06T20:25:56.089619Z",
     "start_time": "2024-05-06T20:25:46.820772Z"
    }
   },
   "source": [
    "# Load the model\n",
    "model = AutoModelForSequenceClassification.from_pretrained(model_name, num_labels=2, ignore_mismatched_sizes=True)\n",
    "\n",
    "# Load the metric\n",
    "metric = evaluate.load(\"accuracy\")\n",
    "\n",
    "huggingface_org = \"NLP-FEUP/\"\n",
    "saving_dir = huggingface_org + model_name.replace(\"/\", \"-\")\n",
    "\n",
    "# Define the training arguments\n",
    "training_args = TrainingArguments(\n",
    "    output_dir=\"./training_results/\" + model_name.replace(\"/\", \"-\"),\n",
    "    learning_rate=2e-5,\n",
    "    per_device_train_batch_size=8,\n",
    "    per_device_eval_batch_size=8,\n",
    "    num_train_epochs=5,\n",
    "    weight_decay=0.01,\n",
    "    evaluation_strategy='epoch',\n",
    "    save_strategy='epoch',\n",
    "    load_best_model_at_end=True,\n",
    "    push_to_hub=True,\n",
    "    hub_model_id=saving_dir,\n",
    ")\n",
    "\n",
    "# Define the data collator\n",
    "data_collator = DataCollatorWithPadding(tokenizer=tokenizer)\n",
    "\n",
    "\n",
    "# Define the function to compute the metrics\n",
    "def compute_metrics(eval_pred):\n",
    "    logits, labels = eval_pred\n",
    "    predictions = np.argmax(logits, axis=-1)\n",
    "    return metric.compute(predictions=predictions, references=labels)\n",
    "\n",
    "\n",
    "# Define the trainer\n",
    "trainer = Trainer(\n",
    "    model=model,\n",
    "    args=training_args,\n",
    "    train_dataset=tokenized_datasets['train'],\n",
    "    eval_dataset=tokenized_datasets['validation'],\n",
    "    data_collator=data_collator,\n",
    "    compute_metrics=compute_metrics,\n",
    "    tokenizer=tokenizer\n",
    ")"
   ],
   "outputs": [
    {
     "data": {
      "text/plain": [
       "config.json:   0%|          | 0.00/933 [00:00<?, ?B/s]"
      ],
      "application/vnd.jupyter.widget-view+json": {
       "version_major": 2,
       "version_minor": 0,
       "model_id": "2718f760e71947018ebbc793a3e8d0fd"
      }
     },
     "metadata": {},
     "output_type": "display_data"
    },
    {
     "data": {
      "text/plain": [
       "model.safetensors:   0%|          | 0.00/328M [00:00<?, ?B/s]"
      ],
      "application/vnd.jupyter.widget-view+json": {
       "version_major": 2,
       "version_minor": 0,
       "model_id": "6f1a425380b849fa9d55d566577d6bfd"
      }
     },
     "metadata": {},
     "output_type": "display_data"
    },
    {
     "name": "stderr",
     "output_type": "stream",
     "text": [
      "Some weights of RobertaForSequenceClassification were not initialized from the model checkpoint at mrm8488/distilroberta-finetuned-financial-news-sentiment-analysis and are newly initialized because the shapes did not match:\n",
      "- classifier.out_proj.bias: found shape torch.Size([3]) in the checkpoint and torch.Size([2]) in the model instantiated\n",
      "- classifier.out_proj.weight: found shape torch.Size([3, 768]) in the checkpoint and torch.Size([2, 768]) in the model instantiated\n",
      "You should probably TRAIN this model on a down-stream task to be able to use it for predictions and inference.\n",
      "c:\\Users\\rnrib\\miniconda3\\Lib\\site-packages\\accelerate\\accelerator.py:436: FutureWarning: Passing the following arguments to `Accelerator` is deprecated and will be removed in version 1.0 of Accelerate: dict_keys(['dispatch_batches', 'split_batches', 'even_batches', 'use_seedable_sampler']). Please pass an `accelerate.DataLoaderConfiguration` instead: \n",
      "dataloader_config = DataLoaderConfiguration(dispatch_batches=None, split_batches=False, even_batches=True, use_seedable_sampler=True)\n",
      "  warnings.warn(\n"
     ]
    }
   ],
   "execution_count": 9
  },
  {
   "cell_type": "markdown",
   "id": "c0f87b79edc8c83e",
   "metadata": {},
   "source": [
    "## Training the model"
   ]
  },
  {
   "cell_type": "code",
   "id": "f907b9f3980215c0",
   "metadata": {
    "ExecuteTime": {
     "end_time": "2024-05-06T20:45:24.015530Z",
     "start_time": "2024-05-06T20:25:56.089619Z"
    }
   },
   "source": [
    "# Train the model\n",
    "train = False\n",
    "if train:\n",
    "    trainer.train()"
   ],
   "outputs": [
    {
     "data": {
      "text/plain": [
       "<IPython.core.display.HTML object>"
      ],
      "text/html": [
       "\n",
       "    <div>\n",
       "      \n",
       "      <progress value='200' max='200' style='width:300px; height:20px; vertical-align: middle;'></progress>\n",
       "      [200/200 18:50, Epoch 5/5]\n",
       "    </div>\n",
       "    <table border=\"1\" class=\"dataframe\">\n",
       "  <thead>\n",
       " <tr style=\"text-align: left;\">\n",
       "      <th>Epoch</th>\n",
       "      <th>Training Loss</th>\n",
       "      <th>Validation Loss</th>\n",
       "      <th>Accuracy</th>\n",
       "    </tr>\n",
       "  </thead>\n",
       "  <tbody>\n",
       "    <tr>\n",
       "      <td>1</td>\n",
       "      <td>No log</td>\n",
       "      <td>0.154011</td>\n",
       "      <td>0.975000</td>\n",
       "    </tr>\n",
       "    <tr>\n",
       "      <td>2</td>\n",
       "      <td>No log</td>\n",
       "      <td>0.332762</td>\n",
       "      <td>0.925000</td>\n",
       "    </tr>\n",
       "    <tr>\n",
       "      <td>3</td>\n",
       "      <td>No log</td>\n",
       "      <td>0.112278</td>\n",
       "      <td>0.975000</td>\n",
       "    </tr>\n",
       "    <tr>\n",
       "      <td>4</td>\n",
       "      <td>No log</td>\n",
       "      <td>0.384003</td>\n",
       "      <td>0.925000</td>\n",
       "    </tr>\n",
       "    <tr>\n",
       "      <td>5</td>\n",
       "      <td>No log</td>\n",
       "      <td>0.380687</td>\n",
       "      <td>0.925000</td>\n",
       "    </tr>\n",
       "  </tbody>\n",
       "</table><p>"
      ]
     },
     "metadata": {},
     "output_type": "display_data"
    },
    {
     "data": {
      "text/plain": [
       "TrainOutput(global_step=200, training_loss=0.29832317352294924, metrics={'train_runtime': 1135.676, 'train_samples_per_second': 1.409, 'train_steps_per_second': 0.176, 'total_flos': 211947837849600.0, 'train_loss': 0.29832317352294924, 'epoch': 5.0})"
      ]
     },
     "execution_count": 10,
     "metadata": {},
     "output_type": "execute_result"
    }
   ],
   "execution_count": 10
  },
  {
   "cell_type": "code",
   "id": "bd1e9f3b8b910063",
   "metadata": {
    "ExecuteTime": {
     "end_time": "2024-05-06T20:45:34.747601Z",
     "start_time": "2024-05-06T20:45:24.031945Z"
    }
   },
   "source": [
    "# Evaluate the model\n",
    "if train:\n",
    "    trainer.evaluate()"
   ],
   "outputs": [
    {
     "data": {
      "text/plain": [
       "<IPython.core.display.HTML object>"
      ],
      "text/html": [
       "\n",
       "    <div>\n",
       "      \n",
       "      <progress value='5' max='5' style='width:300px; height:20px; vertical-align: middle;'></progress>\n",
       "      [5/5 00:08]\n",
       "    </div>\n",
       "    "
      ]
     },
     "metadata": {},
     "output_type": "display_data"
    },
    {
     "data": {
      "text/plain": [
       "<IPython.core.display.HTML object>"
      ],
      "text/html": []
     },
     "metadata": {},
     "output_type": "display_data"
    }
   ],
   "execution_count": 11
  },
  {
   "metadata": {
    "ExecuteTime": {
     "end_time": "2024-05-06T20:45:37.681831Z",
     "start_time": "2024-05-06T20:45:34.748740Z"
    }
   },
   "cell_type": "code",
   "source": [
    "# Save the model to the hub\n",
    "if train:\n",
    "    trainer.push_to_hub()"
   ],
   "id": "7495d10ea661f5c3",
   "outputs": [
    {
     "data": {
      "text/plain": [
       "CommitInfo(commit_url='https://huggingface.co/NLP-FEUP/mrm8488-distilroberta-finetuned-financial-news-sentiment-analysis/commit/a45baf078e685f2c0eb1b65b5d412c2b88152902', commit_message='End of training', commit_description='', oid='a45baf078e685f2c0eb1b65b5d412c2b88152902', pr_url=None, pr_revision=None, pr_num=None)"
      ]
     },
     "execution_count": 12,
     "metadata": {},
     "output_type": "execute_result"
    }
   ],
   "execution_count": 12
  },
  {
   "metadata": {},
   "cell_type": "markdown",
   "source": "## Loading trained model",
   "id": "ce7bee7a399148d0"
  },
  {
   "metadata": {
    "ExecuteTime": {
     "end_time": "2024-05-06T20:49:02.186385Z",
     "start_time": "2024-05-06T20:48:56.422828Z"
    }
   },
   "cell_type": "code",
   "source": [
    "# Load the tokenizer\n",
    "tokenizer2 = AutoTokenizer.from_pretrained(saving_dir)"
   ],
   "id": "8c65122363298c94",
   "outputs": [
    {
     "data": {
      "text/plain": [
       "tokenizer_config.json:   0%|          | 0.00/1.39k [00:00<?, ?B/s]"
      ],
      "application/vnd.jupyter.widget-view+json": {
       "version_major": 2,
       "version_minor": 0,
       "model_id": "6dde0eb6aa0847858d0e7b4341d2d139"
      }
     },
     "metadata": {},
     "output_type": "display_data"
    },
    {
     "data": {
      "text/plain": [
       "vocab.json:   0%|          | 0.00/798k [00:00<?, ?B/s]"
      ],
      "application/vnd.jupyter.widget-view+json": {
       "version_major": 2,
       "version_minor": 0,
       "model_id": "392a4091dd8744dc968bf8fd6da9d82a"
      }
     },
     "metadata": {},
     "output_type": "display_data"
    },
    {
     "data": {
      "text/plain": [
       "merges.txt:   0%|          | 0.00/456k [00:00<?, ?B/s]"
      ],
      "application/vnd.jupyter.widget-view+json": {
       "version_major": 2,
       "version_minor": 0,
       "model_id": "d456181811e84592b266e73defc8911a"
      }
     },
     "metadata": {},
     "output_type": "display_data"
    },
    {
     "data": {
      "text/plain": [
       "tokenizer.json:   0%|          | 0.00/2.11M [00:00<?, ?B/s]"
      ],
      "application/vnd.jupyter.widget-view+json": {
       "version_major": 2,
       "version_minor": 0,
       "model_id": "00eae9d0a2284610bb040b83d6bc2153"
      }
     },
     "metadata": {},
     "output_type": "display_data"
    },
    {
     "data": {
      "text/plain": [
       "special_tokens_map.json:   0%|          | 0.00/1.01k [00:00<?, ?B/s]"
      ],
      "application/vnd.jupyter.widget-view+json": {
       "version_major": 2,
       "version_minor": 0,
       "model_id": "7172c250e34940ee8cbc2b8de8f4bc34"
      }
     },
     "metadata": {},
     "output_type": "display_data"
    }
   ],
   "execution_count": 15
  },
  {
   "metadata": {
    "ExecuteTime": {
     "end_time": "2024-05-06T20:51:06.190711Z",
     "start_time": "2024-05-06T20:51:05.841766Z"
    }
   },
   "cell_type": "code",
   "source": [
    "# Load the model\n",
    "model2 = AutoModelForSequenceClassification.from_pretrained(saving_dir, num_labels=2)"
   ],
   "id": "206155c74580de5e",
   "outputs": [],
   "execution_count": 22
  },
  {
   "metadata": {
    "ExecuteTime": {
     "end_time": "2024-05-06T21:00:52.672490Z",
     "start_time": "2024-05-06T21:00:52.649500Z"
    }
   },
   "cell_type": "code",
   "source": [
    "# Define the trainer\n",
    "trainer2 = Trainer(\n",
    "    model=model2,\n",
    "    tokenizer=tokenizer2,\n",
    "    compute_metrics=compute_metrics,\n",
    ")"
   ],
   "id": "86df551b6aa2cdd",
   "outputs": [
    {
     "name": "stderr",
     "output_type": "stream",
     "text": [
      "c:\\Users\\rnrib\\miniconda3\\Lib\\site-packages\\accelerate\\accelerator.py:436: FutureWarning: Passing the following arguments to `Accelerator` is deprecated and will be removed in version 1.0 of Accelerate: dict_keys(['dispatch_batches', 'split_batches', 'even_batches', 'use_seedable_sampler']). Please pass an `accelerate.DataLoaderConfiguration` instead: \n",
      "dataloader_config = DataLoaderConfiguration(dispatch_batches=None, split_batches=False, even_batches=True, use_seedable_sampler=True)\n",
      "  warnings.warn(\n"
     ]
    }
   ],
   "execution_count": 33
  },
  {
   "metadata": {},
   "cell_type": "markdown",
   "source": "## Evaluate the model",
   "id": "d52db478729f7691"
  },
  {
   "metadata": {
    "ExecuteTime": {
     "end_time": "2024-05-06T21:35:44.723076Z",
     "start_time": "2024-05-06T21:35:37.219107Z"
    }
   },
   "cell_type": "code",
   "source": [
    "# Predict the test set\n",
    "predictions = trainer2.predict(tokenized_datasets['test'])"
   ],
   "id": "e8e6d4fa7dd17399",
   "outputs": [
    {
     "data": {
      "text/plain": [
       "<IPython.core.display.HTML object>"
      ],
      "text/html": []
     },
     "metadata": {},
     "output_type": "display_data"
    }
   ],
   "execution_count": 85
  },
  {
   "metadata": {
    "ExecuteTime": {
     "end_time": "2024-05-06T21:35:44.729715Z",
     "start_time": "2024-05-06T21:35:44.723076Z"
    }
   },
   "cell_type": "code",
   "source": [
    "# Display the predictions\n",
    "predictions"
   ],
   "id": "2beee24282f504bd",
   "outputs": [
    {
     "data": {
      "text/plain": [
       "PredictionOutput(predictions=array([[-2.7537951 ,  2.6960702 ],\n",
       "       [ 2.2564902 , -2.1782851 ],\n",
       "       [-2.8149562 ,  2.7001128 ],\n",
       "       [ 2.2929924 , -2.1992598 ],\n",
       "       [-2.8455863 ,  2.7175598 ],\n",
       "       [-1.6792735 ,  1.8585746 ],\n",
       "       [-2.8531985 ,  2.6728404 ],\n",
       "       [-2.814076  ,  2.724172  ],\n",
       "       [-2.822641  ,  2.6718454 ],\n",
       "       [-2.404652  ,  2.2511811 ],\n",
       "       [ 2.3376155 , -2.2045958 ],\n",
       "       [ 2.1888137 , -2.153772  ],\n",
       "       [-2.8433394 ,  2.7760806 ],\n",
       "       [-2.7414896 ,  2.6671982 ],\n",
       "       [ 2.178466  , -2.191671  ],\n",
       "       [-2.7624226 ,  2.695127  ],\n",
       "       [ 2.1937864 , -2.129368  ],\n",
       "       [-2.6260257 ,  2.6524892 ],\n",
       "       [-2.7739453 ,  2.735312  ],\n",
       "       [ 2.3074732 , -2.242183  ],\n",
       "       [-0.9572915 ,  1.0490335 ],\n",
       "       [ 1.913923  , -2.0471148 ],\n",
       "       [-2.7796946 ,  2.7153187 ],\n",
       "       [-2.8078856 ,  2.6855316 ],\n",
       "       [ 2.2476976 , -2.1765935 ],\n",
       "       [-2.644794  ,  2.5610828 ],\n",
       "       [-2.9069161 ,  2.6777687 ],\n",
       "       [-2.7884865 ,  2.694014  ],\n",
       "       [-2.7528777 ,  2.6772022 ],\n",
       "       [ 2.3376222 , -2.2327373 ],\n",
       "       [ 2.323028  , -2.2049174 ],\n",
       "       [ 2.3295398 , -2.2420676 ],\n",
       "       [-0.27675095,  0.20006531],\n",
       "       [-1.4423616 ,  1.5227767 ],\n",
       "       [-2.7710862 ,  2.667929  ],\n",
       "       [ 1.7794771 , -2.0272326 ],\n",
       "       [-1.3122038 ,  1.2506396 ],\n",
       "       [-2.83084   ,  2.733373  ],\n",
       "       [ 2.0880837 , -2.2278116 ],\n",
       "       [ 1.2197107 , -1.654125  ]], dtype=float32), label_ids=array([1, 0, 1, 0, 1, 0, 1, 1, 1, 1, 0, 0, 1, 1, 0, 1, 0, 1, 1, 0, 0, 0,\n",
       "       1, 1, 0, 1, 1, 0, 1, 0, 0, 0, 0, 1, 1, 0, 0, 1, 0, 0], dtype=int64), metrics={'test_loss': 0.3788187503814697, 'test_accuracy': 0.875, 'test_runtime': 7.4895, 'test_samples_per_second': 5.341, 'test_steps_per_second': 0.668})"
      ]
     },
     "execution_count": 86,
     "metadata": {},
     "output_type": "execute_result"
    }
   ],
   "execution_count": 86
  },
  {
   "metadata": {},
   "cell_type": "markdown",
   "source": "### Compute relevant metrics",
   "id": "7ca2c4b7f95de2dd"
  },
  {
   "metadata": {
    "ExecuteTime": {
     "end_time": "2024-05-06T21:35:44.740480Z",
     "start_time": "2024-05-06T21:35:44.729715Z"
    }
   },
   "cell_type": "code",
   "source": [
    "from sklearn.metrics import confusion_matrix\n",
    "from sklearn.metrics import accuracy_score\n",
    "from sklearn.metrics import precision_score\n",
    "from sklearn.metrics import recall_score\n",
    "from sklearn.metrics import f1_score\n",
    "\n",
    "# Get the predicted labels\n",
    "predicted_labels = np.argmax(predictions.predictions, axis=-1)\n",
    "\n",
    "# Get the true labels\n",
    "true_labels = predictions.label_ids\n",
    "\n",
    "# Compute the confusion matrix\n",
    "confusion_matrix = confusion_matrix(true_labels, predicted_labels)\n",
    "\n",
    "# Compute the accuracy\n",
    "accuracy = accuracy_score(true_labels, predicted_labels)\n",
    "\n",
    "# Compute the precision\n",
    "precision = precision_score(true_labels, predicted_labels)\n",
    "\n",
    "# Compute the recall\n",
    "recall = recall_score(true_labels, predicted_labels)\n",
    "\n",
    "# Compute the F1 score\n",
    "f1 = f1_score(true_labels, predicted_labels)"
   ],
   "id": "6c7554a9349bf7a7",
   "outputs": [],
   "execution_count": 87
  },
  {
   "metadata": {
    "ExecuteTime": {
     "end_time": "2024-05-06T21:35:44.746694Z",
     "start_time": "2024-05-06T21:35:44.740480Z"
    }
   },
   "cell_type": "code",
   "source": [
    "# Save the results to a dataframe\n",
    "results_transformer = pd.DataFrame([{\n",
    "    'Model': 'Transformer',\n",
    "    'Feature Representation': 'N/A',\n",
    "    'Columns': 'text',\n",
    "    'Accuracy': accuracy,\n",
    "    'Precision': precision,\n",
    "    'Recall': recall,\n",
    "    'F1-score': f1\n",
    "}])"
   ],
   "id": "2ac6a7929c582eff",
   "outputs": [],
   "execution_count": 88
  },
  {
   "metadata": {
    "ExecuteTime": {
     "end_time": "2024-05-06T21:35:45.045381Z",
     "start_time": "2024-05-06T21:35:44.746694Z"
    }
   },
   "cell_type": "code",
   "source": [
    "# Plot the confusion matrix\n",
    "import seaborn as sns\n",
    "import matplotlib.pyplot as plt\n",
    "\n",
    "# Define the labels\n",
    "labels = ['Negative', 'Positive']\n",
    "\n",
    "# Create the confusion matrix plot\n",
    "plt.figure(figsize=(6, 5))\n",
    "sns.heatmap(confusion_matrix, annot=True, fmt='d', xticklabels=labels, yticklabels=labels, cmap='Blues')\n",
    "plt.xlabel('Predicted labels')\n",
    "plt.ylabel('True labels')\n",
    "plt.title('Confusion Matrix')\n",
    "plt.show()"
   ],
   "id": "1bd4b822af320999",
   "outputs": [
    {
     "data": {
      "text/plain": [
       "<Figure size 600x500 with 2 Axes>"
      ],
      "image/png": "[encoded data removed]"
     },
     "metadata": {},
     "output_type": "display_data"
    }
   ],
   "execution_count": 89
  },
  {
   "metadata": {},
   "cell_type": "markdown",
   "source": "## Load results from previous assignment",
   "id": "eee507257c19662c"
  },
  {
   "metadata": {
    "ExecuteTime": {
     "end_time": "2024-05-06T21:36:17.356447Z",
     "start_time": "2024-05-06T21:36:17.333452Z"
    }
   },
   "cell_type": "code",
   "source": [
    "# Load the results from the previous assignment to a list of dictionaries\n",
    "previous_results = pd.read_csv('results/assignment1_comparison.csv')\n",
    "\n",
    "# Display the previous results\n",
    "previous_results"
   ],
   "id": "93f13e42bad5899e",
   "outputs": [
    {
     "data": {
      "text/plain": [
       "                    Model                                   Columns  \\\n",
       "0                   VADER                             combined_text   \n",
       "1  Multi-Layer Perceptron  headline_embeddings, synopsis_embeddings   \n",
       "2       Loughran-McDonald                             combined_text   \n",
       "\n",
       "  Feature Representation  F1-score  Accuracy  Precision    Recall  \n",
       "0                    NaN  0.723549     0.595   0.572973  0.981481  \n",
       "1    Word2Vec FinText AI  0.751323     0.755   0.758598  0.751341  \n",
       "2                    NaN  0.734545     0.635   0.604790  0.935185  "
      ],
      "text/html": [
       "<div>\n",
       "<style scoped>\n",
       "    .dataframe tbody tr th:only-of-type {\n",
       "        vertical-align: middle;\n",
       "    }\n",
       "\n",
       "    .dataframe tbody tr th {\n",
       "        vertical-align: top;\n",
       "    }\n",
       "\n",
       "    .dataframe thead th {\n",
       "        text-align: right;\n",
       "    }\n",
       "</style>\n",
       "<table border=\"1\" class=\"dataframe\">\n",
       "  <thead>\n",
       "    <tr style=\"text-align: right;\">\n",
       "      <th></th>\n",
       "      <th>Model</th>\n",
       "      <th>Columns</th>\n",
       "      <th>Feature Representation</th>\n",
       "      <th>F1-score</th>\n",
       "      <th>Accuracy</th>\n",
       "      <th>Precision</th>\n",
       "      <th>Recall</th>\n",
       "    </tr>\n",
       "  </thead>\n",
       "  <tbody>\n",
       "    <tr>\n",
       "      <th>0</th>\n",
       "      <td>VADER</td>\n",
       "      <td>combined_text</td>\n",
       "      <td>NaN</td>\n",
       "      <td>0.723549</td>\n",
       "      <td>0.595</td>\n",
       "      <td>0.572973</td>\n",
       "      <td>0.981481</td>\n",
       "    </tr>\n",
       "    <tr>\n",
       "      <th>1</th>\n",
       "      <td>Multi-Layer Perceptron</td>\n",
       "      <td>headline_embeddings, synopsis_embeddings</td>\n",
       "      <td>Word2Vec FinText AI</td>\n",
       "      <td>0.751323</td>\n",
       "      <td>0.755</td>\n",
       "      <td>0.758598</td>\n",
       "      <td>0.751341</td>\n",
       "    </tr>\n",
       "    <tr>\n",
       "      <th>2</th>\n",
       "      <td>Loughran-McDonald</td>\n",
       "      <td>combined_text</td>\n",
       "      <td>NaN</td>\n",
       "      <td>0.734545</td>\n",
       "      <td>0.635</td>\n",
       "      <td>0.604790</td>\n",
       "      <td>0.935185</td>\n",
       "    </tr>\n",
       "  </tbody>\n",
       "</table>\n",
       "</div>"
      ]
     },
     "execution_count": 94,
     "metadata": {},
     "output_type": "execute_result"
    }
   ],
   "execution_count": 94
  },
  {
   "metadata": {
    "ExecuteTime": {
     "end_time": "2024-05-06T21:38:16.893619Z",
     "start_time": "2024-05-06T21:38:16.882116Z"
    }
   },
   "cell_type": "code",
   "source": [
    "# Concatenate the results\n",
    "results = pd.concat([previous_results.copy(), results_transformer], ignore_index=True)\n",
    "\n",
    "# Save the results to a CSV file\n",
    "results.to_csv('results/assignment2_comparison.csv', index=False)\n",
    "\n",
    "# Sort the results by f1-score\n",
    "results = results.sort_values(by='F1-score', ascending=False)\n",
    "\n",
    "results"
   ],
   "id": "f4a79acf98eb6802",
   "outputs": [
    {
     "data": {
      "text/plain": [
       "                    Model                                   Columns  \\\n",
       "3             Transformer                                      text   \n",
       "1  Multi-Layer Perceptron  headline_embeddings, synopsis_embeddings   \n",
       "2       Loughran-McDonald                             combined_text   \n",
       "0                   VADER                             combined_text   \n",
       "\n",
       "  Feature Representation  F1-score  Accuracy  Precision    Recall  \n",
       "3                    N/A  0.888889     0.875   0.800000  1.000000  \n",
       "1    Word2Vec FinText AI  0.751323     0.755   0.758598  0.751341  \n",
       "2                    NaN  0.734545     0.635   0.604790  0.935185  \n",
       "0                    NaN  0.723549     0.595   0.572973  0.981481  "
      ],
      "text/html": [
       "<div>\n",
       "<style scoped>\n",
       "    .dataframe tbody tr th:only-of-type {\n",
       "        vertical-align: middle;\n",
       "    }\n",
       "\n",
       "    .dataframe tbody tr th {\n",
       "        vertical-align: top;\n",
       "    }\n",
       "\n",
       "    .dataframe thead th {\n",
       "        text-align: right;\n",
       "    }\n",
       "</style>\n",
       "<table border=\"1\" class=\"dataframe\">\n",
       "  <thead>\n",
       "    <tr style=\"text-align: right;\">\n",
       "      <th></th>\n",
       "      <th>Model</th>\n",
       "      <th>Columns</th>\n",
       "      <th>Feature Representation</th>\n",
       "      <th>F1-score</th>\n",
       "      <th>Accuracy</th>\n",
       "      <th>Precision</th>\n",
       "      <th>Recall</th>\n",
       "    </tr>\n",
       "  </thead>\n",
       "  <tbody>\n",
       "    <tr>\n",
       "      <th>3</th>\n",
       "      <td>Transformer</td>\n",
       "      <td>text</td>\n",
       "      <td>N/A</td>\n",
       "      <td>0.888889</td>\n",
       "      <td>0.875</td>\n",
       "      <td>0.800000</td>\n",
       "      <td>1.000000</td>\n",
       "    </tr>\n",
       "    <tr>\n",
       "      <th>1</th>\n",
       "      <td>Multi-Layer Perceptron</td>\n",
       "      <td>headline_embeddings, synopsis_embeddings</td>\n",
       "      <td>Word2Vec FinText AI</td>\n",
       "      <td>0.751323</td>\n",
       "      <td>0.755</td>\n",
       "      <td>0.758598</td>\n",
       "      <td>0.751341</td>\n",
       "    </tr>\n",
       "    <tr>\n",
       "      <th>2</th>\n",
       "      <td>Loughran-McDonald</td>\n",
       "      <td>combined_text</td>\n",
       "      <td>NaN</td>\n",
       "      <td>0.734545</td>\n",
       "      <td>0.635</td>\n",
       "      <td>0.604790</td>\n",
       "      <td>0.935185</td>\n",
       "    </tr>\n",
       "    <tr>\n",
       "      <th>0</th>\n",
       "      <td>VADER</td>\n",
       "      <td>combined_text</td>\n",
       "      <td>NaN</td>\n",
       "      <td>0.723549</td>\n",
       "      <td>0.595</td>\n",
       "      <td>0.572973</td>\n",
       "      <td>0.981481</td>\n",
       "    </tr>\n",
       "  </tbody>\n",
       "</table>\n",
       "</div>"
      ]
     },
     "execution_count": 98,
     "metadata": {},
     "output_type": "execute_result"
    }
   ],
   "execution_count": 98
  },
  {
   "metadata": {
    "ExecuteTime": {
     "end_time": "2024-05-06T21:38:37.660866Z",
     "start_time": "2024-05-06T21:38:37.276134Z"
    }
   },
   "cell_type": "code",
   "source": [
    "# Plot the results\n",
    "import matplotlib.pyplot as plt\n",
    "\n",
    "# Define the figure and the axes\n",
    "fig, ax = plt.subplots(2, 2, figsize=(15, 10))\n",
    "\n",
    "# Plot the accuracy\n",
    "ax[0, 0].bar(results['Model'], results['Accuracy'], color='skyblue')\n",
    "ax[0, 0].set_title('Accuracy')\n",
    "ax[0, 0].set_ylim(0, 1)\n",
    "\n",
    "# Plot the precision\n",
    "ax[0, 1].bar(results['Model'], results['Precision'], color='salmon')\n",
    "ax[0, 1].set_title('Precision')\n",
    "ax[0, 1].set_ylim(0, 1)\n",
    "\n",
    "# Plot the recall\n",
    "ax[1, 0].bar(results['Model'], results['Recall'], color='lightgreen')\n",
    "ax[1, 0].set_title('Recall')\n",
    "ax[1, 0].set_ylim(0, 1)\n",
    "\n",
    "# Plot the f1-score\n",
    "ax[1, 1].bar(results['Model'], results['F1-score'], color='gold')\n",
    "ax[1, 1].set_title('F1-score')\n",
    "ax[1, 1].set_ylim(0, 1)\n",
    "\n",
    "# Display the plot\n",
    "plt.tight_layout()\n",
    "plt.show()"
   ],
   "id": "908c64753af70a11",
   "outputs": [
    {
     "data": {
      "text/plain": [
       "<Figure size 1500x1000 with 4 Axes>"
      ],
      "image/png": "[encoded data removed]"
     },
     "metadata": {},
     "output_type": "display_data"
    }
   ],
   "execution_count": 100
  }
 ],
 "metadata": {
  "kernelspec": {
   "display_name": "Python 3",
   "language": "python",
   "name": "python3"
  },
  "language_info": {
   "codemirror_mode": {
    "name": "ipython",
    "version": 3
   },
   "file_extension": ".py",
   "mimetype": "text/x-python",
   "name": "python",
   "nbconvert_exporter": "python",
   "pygments_lexer": "ipython3",
   "version": "3.11.5"
  }
 },
 "nbformat": 4,
 "nbformat_minor": 5
}
