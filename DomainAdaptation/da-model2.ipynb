{
 "cells": [
  {
   "cell_type": "markdown",
   "id": "3445c9855ff311e7",
   "metadata": {},
   "source": "# Domain Adaptation - Labelled Financial News Data Using Transformer Models"
  },
  {
   "cell_type": "code",
   "execution_count": 25,
   "id": "7fe6ac1d1f0f6129",
   "metadata": {
    "ExecuteTime": {
     "end_time": "2024-05-18T13:59:14.683709Z",
     "start_time": "2024-05-18T13:59:14.679750Z"
    }
   },
   "outputs": [],
   "source": [
    "# Importing the required libraries\n",
    "import pandas as pd\n",
    "import numpy as np\n",
    "import math\n",
    "from datasets import Dataset, DatasetDict\n",
    "from transformers import AutoTokenizer\n",
    "from transformers import TrainingArguments\n",
    "from transformers import Trainer\n",
    "import evaluate"
   ]
  },
  {
   "cell_type": "markdown",
   "id": "b93ec5afcbb2d02a",
   "metadata": {},
   "source": "## Loading the data"
  },
  {
   "cell_type": "code",
   "execution_count": 26,
   "id": "aa625c70a8cfa0b8",
   "metadata": {
    "ExecuteTime": {
     "end_time": "2024-05-18T13:59:14.951888Z",
     "start_time": "2024-05-18T13:59:14.930136Z"
    }
   },
   "outputs": [
    {
     "data": {
      "text/html": [
       "<div>\n",
       "<style scoped>\n",
       "    .dataframe tbody tr th:only-of-type {\n",
       "        vertical-align: middle;\n",
       "    }\n",
       "\n",
       "    .dataframe tbody tr th {\n",
       "        vertical-align: top;\n",
       "    }\n",
       "\n",
       "    .dataframe thead th {\n",
       "        text-align: right;\n",
       "    }\n",
       "</style>\n",
       "<table border=\"1\" class=\"dataframe\">\n",
       "  <thead>\n",
       "    <tr style=\"text-align: right;\">\n",
       "      <th></th>\n",
       "      <th>Date_published</th>\n",
       "      <th>Headline</th>\n",
       "      <th>Synopsis</th>\n",
       "      <th>Full_text</th>\n",
       "      <th>Final Status</th>\n",
       "    </tr>\n",
       "  </thead>\n",
       "  <tbody>\n",
       "    <tr>\n",
       "      <th>0</th>\n",
       "      <td>2022-06-21</td>\n",
       "      <td>Banks holding on to subsidy share, say payment...</td>\n",
       "      <td>The companies have written to the National Pay...</td>\n",
       "      <td>ReutersPayments companies and banks are at log...</td>\n",
       "      <td>Negative</td>\n",
       "    </tr>\n",
       "    <tr>\n",
       "      <th>1</th>\n",
       "      <td>2022-04-19</td>\n",
       "      <td>Digitally ready Bank of Baroda aims to click o...</td>\n",
       "      <td>At present, 50% of the bank's retail loans are...</td>\n",
       "      <td>AgenciesThe bank presently has 20 million acti...</td>\n",
       "      <td>Positive</td>\n",
       "    </tr>\n",
       "    <tr>\n",
       "      <th>2</th>\n",
       "      <td>2022-05-27</td>\n",
       "      <td>Karnataka attracted investment commitment of R...</td>\n",
       "      <td>Karnataka is at the forefront in attracting in...</td>\n",
       "      <td>PTIKarnataka Chief Minister Basavaraj Bommai.K...</td>\n",
       "      <td>Positive</td>\n",
       "    </tr>\n",
       "    <tr>\n",
       "      <th>3</th>\n",
       "      <td>2022-04-06</td>\n",
       "      <td>Splitting of provident fund accounts may be de...</td>\n",
       "      <td>The EPFO is likely to split accounts only at t...</td>\n",
       "      <td>Getty ImagesThe budget for FY22 had imposed in...</td>\n",
       "      <td>Negative</td>\n",
       "    </tr>\n",
       "    <tr>\n",
       "      <th>4</th>\n",
       "      <td>2022-06-14</td>\n",
       "      <td>Irdai weighs proposal to privatise Insurance I...</td>\n",
       "      <td>Set up in 2009 as an advisory body, IIB collec...</td>\n",
       "      <td>AgenciesThere is a view in the insurance indus...</td>\n",
       "      <td>Positive</td>\n",
       "    </tr>\n",
       "    <tr>\n",
       "      <th>...</th>\n",
       "      <td>...</td>\n",
       "      <td>...</td>\n",
       "      <td>...</td>\n",
       "      <td>...</td>\n",
       "      <td>...</td>\n",
       "    </tr>\n",
       "    <tr>\n",
       "      <th>395</th>\n",
       "      <td>2022-06-10</td>\n",
       "      <td>Banks take a cue from RBI, hike lending rates</td>\n",
       "      <td>These banks raised their respective external b...</td>\n",
       "      <td>PTIICICI Bank, Bank of Baroda, Punjab National...</td>\n",
       "      <td>Negative</td>\n",
       "    </tr>\n",
       "    <tr>\n",
       "      <th>396</th>\n",
       "      <td>2022-06-29</td>\n",
       "      <td>Sebi issues Rs 27 lakh recovery notice to indi...</td>\n",
       "      <td>In the event of non-payment, it will recover t...</td>\n",
       "      <td>ReutersThe logo of the Securities and Exchange...</td>\n",
       "      <td>Negative</td>\n",
       "    </tr>\n",
       "    <tr>\n",
       "      <th>397</th>\n",
       "      <td>2022-06-06</td>\n",
       "      <td>Apollo Hospital shares  drop  0.68% as Sensex ...</td>\n",
       "      <td>A total of 10,105 shares changed hands on the ...</td>\n",
       "      <td>Getty ImagesShrikant Chouhan of Kotak Securiti...</td>\n",
       "      <td>Negative</td>\n",
       "    </tr>\n",
       "    <tr>\n",
       "      <th>398</th>\n",
       "      <td>2022-05-16</td>\n",
       "      <td>SBI at Rs 710? What makes analysts see up to 5...</td>\n",
       "      <td>Calling the stock 'attractively valued' analys...</td>\n",
       "      <td>AgenciesThe PSU bank reported a 41.27 per cent...</td>\n",
       "      <td>Positive</td>\n",
       "    </tr>\n",
       "    <tr>\n",
       "      <th>399</th>\n",
       "      <td>2022-05-27</td>\n",
       "      <td>Stock market update: Mining stocks  up  as mar...</td>\n",
       "      <td>The 30-share BSE Sensex was  up  323.71 points...</td>\n",
       "      <td>Shutterstock.comAgarwal said the global econom...</td>\n",
       "      <td>Positive</td>\n",
       "    </tr>\n",
       "  </tbody>\n",
       "</table>\n",
       "<p>400 rows × 5 columns</p>\n",
       "</div>"
      ],
      "text/plain": [
       "    Date_published                                           Headline  \\\n",
       "0       2022-06-21  Banks holding on to subsidy share, say payment...   \n",
       "1       2022-04-19  Digitally ready Bank of Baroda aims to click o...   \n",
       "2       2022-05-27  Karnataka attracted investment commitment of R...   \n",
       "3       2022-04-06  Splitting of provident fund accounts may be de...   \n",
       "4       2022-06-14  Irdai weighs proposal to privatise Insurance I...   \n",
       "..             ...                                                ...   \n",
       "395     2022-06-10      Banks take a cue from RBI, hike lending rates   \n",
       "396     2022-06-29  Sebi issues Rs 27 lakh recovery notice to indi...   \n",
       "397     2022-06-06  Apollo Hospital shares  drop  0.68% as Sensex ...   \n",
       "398     2022-05-16  SBI at Rs 710? What makes analysts see up to 5...   \n",
       "399     2022-05-27  Stock market update: Mining stocks  up  as mar...   \n",
       "\n",
       "                                              Synopsis  \\\n",
       "0    The companies have written to the National Pay...   \n",
       "1    At present, 50% of the bank's retail loans are...   \n",
       "2    Karnataka is at the forefront in attracting in...   \n",
       "3    The EPFO is likely to split accounts only at t...   \n",
       "4    Set up in 2009 as an advisory body, IIB collec...   \n",
       "..                                                 ...   \n",
       "395  These banks raised their respective external b...   \n",
       "396  In the event of non-payment, it will recover t...   \n",
       "397  A total of 10,105 shares changed hands on the ...   \n",
       "398  Calling the stock 'attractively valued' analys...   \n",
       "399  The 30-share BSE Sensex was  up  323.71 points...   \n",
       "\n",
       "                                             Full_text Final Status  \n",
       "0    ReutersPayments companies and banks are at log...     Negative  \n",
       "1    AgenciesThe bank presently has 20 million acti...     Positive  \n",
       "2    PTIKarnataka Chief Minister Basavaraj Bommai.K...     Positive  \n",
       "3    Getty ImagesThe budget for FY22 had imposed in...     Negative  \n",
       "4    AgenciesThere is a view in the insurance indus...     Positive  \n",
       "..                                                 ...          ...  \n",
       "395  PTIICICI Bank, Bank of Baroda, Punjab National...     Negative  \n",
       "396  ReutersThe logo of the Securities and Exchange...     Negative  \n",
       "397  Getty ImagesShrikant Chouhan of Kotak Securiti...     Negative  \n",
       "398  AgenciesThe PSU bank reported a 41.27 per cent...     Positive  \n",
       "399  Shutterstock.comAgarwal said the global econom...     Positive  \n",
       "\n",
       "[400 rows x 5 columns]"
      ]
     },
     "execution_count": 26,
     "metadata": {},
     "output_type": "execute_result"
    }
   ],
   "source": [
    "data = pd.read_csv('data/Fin_cleaned.csv', encoding='utf-8')\n",
    "\n",
    "# duplicate the data\n",
    "news = data.copy()\n",
    "\n",
    "news"
   ]
  },
  {
   "cell_type": "markdown",
   "id": "d5cb83a1a8d98f7a",
   "metadata": {},
   "source": "## Data Preprocessing"
  },
  {
   "cell_type": "code",
   "execution_count": 27,
   "id": "a5d6d1dadbee521b",
   "metadata": {
    "ExecuteTime": {
     "end_time": "2024-05-18T13:59:14.983111Z",
     "start_time": "2024-05-18T13:59:14.958893Z"
    }
   },
   "outputs": [
    {
     "data": {
      "text/html": [
       "<div>\n",
       "<style scoped>\n",
       "    .dataframe tbody tr th:only-of-type {\n",
       "        vertical-align: middle;\n",
       "    }\n",
       "\n",
       "    .dataframe tbody tr th {\n",
       "        vertical-align: top;\n",
       "    }\n",
       "\n",
       "    .dataframe thead th {\n",
       "        text-align: right;\n",
       "    }\n",
       "</style>\n",
       "<table border=\"1\" class=\"dataframe\">\n",
       "  <thead>\n",
       "    <tr style=\"text-align: right;\">\n",
       "      <th></th>\n",
       "      <th>date</th>\n",
       "      <th>headline</th>\n",
       "      <th>synopsis</th>\n",
       "      <th>text</th>\n",
       "      <th>label</th>\n",
       "      <th>full_text</th>\n",
       "    </tr>\n",
       "  </thead>\n",
       "  <tbody>\n",
       "    <tr>\n",
       "      <th>0</th>\n",
       "      <td>2022-06-21</td>\n",
       "      <td>Banks holding on to subsidy share, say payment...</td>\n",
       "      <td>The companies have written to the National Pay...</td>\n",
       "      <td>ReutersPayments companies and banks are at log...</td>\n",
       "      <td>0</td>\n",
       "      <td>Banks holding on to subsidy share, say payment...</td>\n",
       "    </tr>\n",
       "    <tr>\n",
       "      <th>1</th>\n",
       "      <td>2022-04-19</td>\n",
       "      <td>Digitally ready Bank of Baroda aims to click o...</td>\n",
       "      <td>At present, 50% of the bank's retail loans are...</td>\n",
       "      <td>AgenciesThe bank presently has 20 million acti...</td>\n",
       "      <td>1</td>\n",
       "      <td>Digitally ready Bank of Baroda aims to click o...</td>\n",
       "    </tr>\n",
       "    <tr>\n",
       "      <th>2</th>\n",
       "      <td>2022-05-27</td>\n",
       "      <td>Karnataka attracted investment commitment of R...</td>\n",
       "      <td>Karnataka is at the forefront in attracting in...</td>\n",
       "      <td>PTIKarnataka Chief Minister Basavaraj Bommai.K...</td>\n",
       "      <td>1</td>\n",
       "      <td>Karnataka attracted investment commitment of R...</td>\n",
       "    </tr>\n",
       "    <tr>\n",
       "      <th>3</th>\n",
       "      <td>2022-04-06</td>\n",
       "      <td>Splitting of provident fund accounts may be de...</td>\n",
       "      <td>The EPFO is likely to split accounts only at t...</td>\n",
       "      <td>Getty ImagesThe budget for FY22 had imposed in...</td>\n",
       "      <td>0</td>\n",
       "      <td>Splitting of provident fund accounts may be de...</td>\n",
       "    </tr>\n",
       "    <tr>\n",
       "      <th>4</th>\n",
       "      <td>2022-06-14</td>\n",
       "      <td>Irdai weighs proposal to privatise Insurance I...</td>\n",
       "      <td>Set up in 2009 as an advisory body, IIB collec...</td>\n",
       "      <td>AgenciesThere is a view in the insurance indus...</td>\n",
       "      <td>1</td>\n",
       "      <td>Irdai weighs proposal to privatise Insurance I...</td>\n",
       "    </tr>\n",
       "    <tr>\n",
       "      <th>...</th>\n",
       "      <td>...</td>\n",
       "      <td>...</td>\n",
       "      <td>...</td>\n",
       "      <td>...</td>\n",
       "      <td>...</td>\n",
       "      <td>...</td>\n",
       "    </tr>\n",
       "    <tr>\n",
       "      <th>395</th>\n",
       "      <td>2022-06-10</td>\n",
       "      <td>Banks take a cue from RBI, hike lending rates</td>\n",
       "      <td>These banks raised their respective external b...</td>\n",
       "      <td>PTIICICI Bank, Bank of Baroda, Punjab National...</td>\n",
       "      <td>0</td>\n",
       "      <td>Banks take a cue from RBI, hike lending rates ...</td>\n",
       "    </tr>\n",
       "    <tr>\n",
       "      <th>396</th>\n",
       "      <td>2022-06-29</td>\n",
       "      <td>Sebi issues Rs 27 lakh recovery notice to indi...</td>\n",
       "      <td>In the event of non-payment, it will recover t...</td>\n",
       "      <td>ReutersThe logo of the Securities and Exchange...</td>\n",
       "      <td>0</td>\n",
       "      <td>Sebi issues Rs 27 lakh recovery notice to indi...</td>\n",
       "    </tr>\n",
       "    <tr>\n",
       "      <th>397</th>\n",
       "      <td>2022-06-06</td>\n",
       "      <td>Apollo Hospital shares  drop  0.68% as Sensex ...</td>\n",
       "      <td>A total of 10,105 shares changed hands on the ...</td>\n",
       "      <td>Getty ImagesShrikant Chouhan of Kotak Securiti...</td>\n",
       "      <td>0</td>\n",
       "      <td>Apollo Hospital shares  drop  0.68% as Sensex ...</td>\n",
       "    </tr>\n",
       "    <tr>\n",
       "      <th>398</th>\n",
       "      <td>2022-05-16</td>\n",
       "      <td>SBI at Rs 710? What makes analysts see up to 5...</td>\n",
       "      <td>Calling the stock 'attractively valued' analys...</td>\n",
       "      <td>AgenciesThe PSU bank reported a 41.27 per cent...</td>\n",
       "      <td>1</td>\n",
       "      <td>SBI at Rs 710? What makes analysts see up to 5...</td>\n",
       "    </tr>\n",
       "    <tr>\n",
       "      <th>399</th>\n",
       "      <td>2022-05-27</td>\n",
       "      <td>Stock market update: Mining stocks  up  as mar...</td>\n",
       "      <td>The 30-share BSE Sensex was  up  323.71 points...</td>\n",
       "      <td>Shutterstock.comAgarwal said the global econom...</td>\n",
       "      <td>1</td>\n",
       "      <td>Stock market update: Mining stocks  up  as mar...</td>\n",
       "    </tr>\n",
       "  </tbody>\n",
       "</table>\n",
       "<p>400 rows × 6 columns</p>\n",
       "</div>"
      ],
      "text/plain": [
       "           date                                           headline  \\\n",
       "0    2022-06-21  Banks holding on to subsidy share, say payment...   \n",
       "1    2022-04-19  Digitally ready Bank of Baroda aims to click o...   \n",
       "2    2022-05-27  Karnataka attracted investment commitment of R...   \n",
       "3    2022-04-06  Splitting of provident fund accounts may be de...   \n",
       "4    2022-06-14  Irdai weighs proposal to privatise Insurance I...   \n",
       "..          ...                                                ...   \n",
       "395  2022-06-10      Banks take a cue from RBI, hike lending rates   \n",
       "396  2022-06-29  Sebi issues Rs 27 lakh recovery notice to indi...   \n",
       "397  2022-06-06  Apollo Hospital shares  drop  0.68% as Sensex ...   \n",
       "398  2022-05-16  SBI at Rs 710? What makes analysts see up to 5...   \n",
       "399  2022-05-27  Stock market update: Mining stocks  up  as mar...   \n",
       "\n",
       "                                              synopsis  \\\n",
       "0    The companies have written to the National Pay...   \n",
       "1    At present, 50% of the bank's retail loans are...   \n",
       "2    Karnataka is at the forefront in attracting in...   \n",
       "3    The EPFO is likely to split accounts only at t...   \n",
       "4    Set up in 2009 as an advisory body, IIB collec...   \n",
       "..                                                 ...   \n",
       "395  These banks raised their respective external b...   \n",
       "396  In the event of non-payment, it will recover t...   \n",
       "397  A total of 10,105 shares changed hands on the ...   \n",
       "398  Calling the stock 'attractively valued' analys...   \n",
       "399  The 30-share BSE Sensex was  up  323.71 points...   \n",
       "\n",
       "                                                  text  label  \\\n",
       "0    ReutersPayments companies and banks are at log...      0   \n",
       "1    AgenciesThe bank presently has 20 million acti...      1   \n",
       "2    PTIKarnataka Chief Minister Basavaraj Bommai.K...      1   \n",
       "3    Getty ImagesThe budget for FY22 had imposed in...      0   \n",
       "4    AgenciesThere is a view in the insurance indus...      1   \n",
       "..                                                 ...    ...   \n",
       "395  PTIICICI Bank, Bank of Baroda, Punjab National...      0   \n",
       "396  ReutersThe logo of the Securities and Exchange...      0   \n",
       "397  Getty ImagesShrikant Chouhan of Kotak Securiti...      0   \n",
       "398  AgenciesThe PSU bank reported a 41.27 per cent...      1   \n",
       "399  Shutterstock.comAgarwal said the global econom...      1   \n",
       "\n",
       "                                             full_text  \n",
       "0    Banks holding on to subsidy share, say payment...  \n",
       "1    Digitally ready Bank of Baroda aims to click o...  \n",
       "2    Karnataka attracted investment commitment of R...  \n",
       "3    Splitting of provident fund accounts may be de...  \n",
       "4    Irdai weighs proposal to privatise Insurance I...  \n",
       "..                                                 ...  \n",
       "395  Banks take a cue from RBI, hike lending rates ...  \n",
       "396  Sebi issues Rs 27 lakh recovery notice to indi...  \n",
       "397  Apollo Hospital shares  drop  0.68% as Sensex ...  \n",
       "398  SBI at Rs 710? What makes analysts see up to 5...  \n",
       "399  Stock market update: Mining stocks  up  as mar...  \n",
       "\n",
       "[400 rows x 6 columns]"
      ]
     },
     "execution_count": 27,
     "metadata": {},
     "output_type": "execute_result"
    }
   ],
   "source": [
    "# Fill the missing value with an empty string\n",
    "news['Synopsis'] = news['Synopsis'].fillna('')\n",
    "\n",
    "# Rename columns\n",
    "news = news.rename(\n",
    "    columns={'Date_published': 'date', 'Headline': 'headline', 'Synopsis': 'synopsis', 'Full_text': 'text',\n",
    "             'Final Status': 'label'})\n",
    "\n",
    "# Remove the spaces from the labels\n",
    "news['label'] = news['label'].str.strip()\n",
    "\n",
    "# Combine the headline, synopsis, and text columns\n",
    "news['full_text'] = news['headline'] + ' ' + news['synopsis'] + ' ' + news['text']\n",
    "\n",
    "# Convert labels to binary\n",
    "news['label'] = news['label'].apply(lambda x: 1 if x == 'Positive' else 0)\n",
    "\n",
    "news"
   ]
  },
  {
   "cell_type": "markdown",
   "id": "41318a80f738bc14",
   "metadata": {},
   "source": [
    "## Create a dataset dictionary"
   ]
  },
  {
   "cell_type": "code",
   "execution_count": 28,
   "id": "f1fff9f65bd23923",
   "metadata": {
    "ExecuteTime": {
     "end_time": "2024-05-18T13:59:15.011210Z",
     "start_time": "2024-05-18T13:59:14.988354Z"
    }
   },
   "outputs": [
    {
     "data": {
      "text/plain": [
       "Dataset({\n",
       "    features: ['full_text', 'label'],\n",
       "    num_rows: 400\n",
       "})"
      ]
     },
     "execution_count": 28,
     "metadata": {},
     "output_type": "execute_result"
    }
   ],
   "source": [
    "# Create a dataset dictionary\n",
    "dataset = Dataset.from_pandas(news[[\"full_text\", 'label']])\n",
    "\n",
    "# Display the dataset dictionary    \n",
    "dataset"
   ]
  },
  {
   "cell_type": "markdown",
   "id": "1bf44a3c66ec506d",
   "metadata": {},
   "source": [
    "## Split the dataset into training and testing sets"
   ]
  },
  {
   "cell_type": "code",
   "execution_count": 29,
   "id": "d52ffcdfbb353e31",
   "metadata": {
    "ExecuteTime": {
     "end_time": "2024-05-18T13:59:15.080802Z",
     "start_time": "2024-05-18T13:59:15.069257Z"
    }
   },
   "outputs": [],
   "source": [
    "# We will split the dataset into 80% training and 20% testing\n",
    "train_test = dataset.train_test_split(test_size=0.2, seed=42)"
   ]
  },
  {
   "cell_type": "code",
   "execution_count": 30,
   "id": "2fa832572163e894",
   "metadata": {
    "ExecuteTime": {
     "end_time": "2024-05-18T13:59:15.110825Z",
     "start_time": "2024-05-18T13:59:15.103154Z"
    }
   },
   "outputs": [],
   "source": [
    "# Now we will split the test set into 50% validation and 50% test\n",
    "valid_test = train_test['test'].train_test_split(test_size=0.5, seed=42)"
   ]
  },
  {
   "cell_type": "markdown",
   "id": "87f2c09209b67c36",
   "metadata": {},
   "source": [
    "## Defining models"
   ]
  },
  {
   "cell_type": "code",
   "execution_count": 32,
   "id": "6f37417161dce39d",
   "metadata": {
    "ExecuteTime": {
     "end_time": "2024-05-18T13:59:16.441393Z",
     "start_time": "2024-05-18T13:59:15.321008Z"
    }
   },
   "outputs": [],
   "source": [
    "# Models names\n",
    "model_names = [\n",
    "    # \"mrm8488/distilroberta-finetuned-financial-news-sentiment-analysis\",\n",
    "    \"distilbert-base-uncased\",\n",
    "    # \"ProsusAI/finbert\"\n",
    "]\n",
    "\n",
    "# Hugging Face organization name for the models saving\n",
    "huggingface_owner = \"rnribeiro/\"\n",
    "\n",
    "# Create a models dictionary\n",
    "models = {\n",
    "    model: {\n",
    "        'tokenizer': AutoTokenizer.from_pretrained(model),\n",
    "    }\n",
    "    for model in model_names\n",
    "}\n"
   ]
  },
  {
   "cell_type": "markdown",
   "id": "7944232b173f18f7",
   "metadata": {},
   "source": [
    "## Loading models"
   ]
  },
  {
   "cell_type": "markdown",
   "id": "869b1164b2d66cb2",
   "metadata": {},
   "source": [
    "This model is a distilled version of the RoBERTa-base model. It follows the same training procedure as DistilBERT.\n",
    "The model has 6 layers, 768 dimension and 12 heads, totalizing 82M parameters (compared to 125M parameters for RoBERTa-base). On average DistilRoBERTa is twice as fast as Roberta-base."
   ]
  },
  {
   "cell_type": "code",
   "execution_count": 34,
   "id": "d24baee96a243fd7",
   "metadata": {
    "ExecuteTime": {
     "end_time": "2024-05-18T13:59:22.288995Z",
     "start_time": "2024-05-18T13:59:18.037799Z"
    }
   },
   "outputs": [
    {
     "name": "stderr",
     "output_type": "stream",
     "text": [
      "Some weights of RobertaForSequenceClassification were not initialized from the model checkpoint at mrm8488/distilroberta-finetuned-financial-news-sentiment-analysis and are newly initialized because the shapes did not match:\n",
      "- classifier.out_proj.bias: found shape torch.Size([3]) in the checkpoint and torch.Size([2]) in the model instantiated\n",
      "- classifier.out_proj.weight: found shape torch.Size([3, 768]) in the checkpoint and torch.Size([2, 768]) in the model instantiated\n",
      "You should probably TRAIN this model on a down-stream task to be able to use it for predictions and inference.\n",
      "c:\\Users\\rnrib\\miniconda3\\Lib\\site-packages\\accelerate\\accelerator.py:436: FutureWarning: Passing the following arguments to `Accelerator` is deprecated and will be removed in version 1.0 of Accelerate: dict_keys(['dispatch_batches', 'split_batches', 'even_batches', 'use_seedable_sampler']). Please pass an `accelerate.DataLoaderConfiguration` instead: \n",
      "dataloader_config = DataLoaderConfiguration(dispatch_batches=None, split_batches=False, even_batches=True, use_seedable_sampler=True)\n",
      "  warnings.warn(\n",
      "Some weights of DistilBertForSequenceClassification were not initialized from the model checkpoint at distilbert-base-uncased and are newly initialized: ['classifier.bias', 'classifier.weight', 'pre_classifier.bias', 'pre_classifier.weight']\n",
      "You should probably TRAIN this model on a down-stream task to be able to use it for predictions and inference.\n",
      "Some weights of BertForSequenceClassification were not initialized from the model checkpoint at ProsusAI/finbert and are newly initialized because the shapes did not match:\n",
      "- classifier.weight: found shape torch.Size([3, 768]) in the checkpoint and torch.Size([2, 768]) in the model instantiated\n",
      "- classifier.bias: found shape torch.Size([3]) in the checkpoint and torch.Size([2]) in the model instantiated\n",
      "You should probably TRAIN this model on a down-stream task to be able to use it for predictions and inference.\n"
     ]
    }
   ],
   "source": [
    "# Load the metric\n",
    "metric = evaluate.load(\"accuracy\")\n",
    "\n",
    "# Define the function to compute the metrics\n",
    "def compute_metrics(eval_pred):\n",
    "    logits, labels = eval_pred\n",
    "    predictions = np.argmax(logits, axis=-1)\n",
    "    return metric.compute(predictions=predictions, references=labels)"
   ]
  },
  {
   "cell_type": "markdown",
   "id": "77756d374024a7f4",
   "metadata": {},
   "source": "## Creating a new dataset for Domain Adaptation"
  },
  {
   "cell_type": "code",
   "execution_count": null,
   "id": "35e1fc096985ad33",
   "metadata": {
    "jupyter": {
     "is_executing": true
    }
   },
   "outputs": [],
   "source": [
    "for model in model_names:\n",
    "    models[model]['da_dataset'] = DatasetDict({\n",
    "        'train': train_test['train'],\n",
    "        'validation': valid_test['train'],\n",
    "        'test': valid_test['test']\n",
    "    })  # Dataset for Domain Adaptation"
   ]
  },
  {
   "cell_type": "markdown",
   "id": "8a100fd2a25e6317",
   "metadata": {},
   "source": "## Tokenization of new dataset"
  },
  {
   "cell_type": "code",
   "execution_count": null,
   "id": "fe5cccb19a0932a6",
   "metadata": {
    "jupyter": {
     "is_executing": true
    }
   },
   "outputs": [],
   "source": [
    "def da_tokenize_function(model, examples):  # Tokenization function for domain adaptation dataset\n",
    "    result = model['tokenizer'](examples[\"full_text\"], truncation=True, padding='max_length')\n",
    "    if model['tokenizer'].is_fast:\n",
    "        result[\"word_ids\"] = [result.word_ids(i) for i in range(len(result[\"input_ids\"]))]\n",
    "    return result\n",
    "\n",
    "\n",
    "for model in model_names:\n",
    "    models[model]['da_dataset'] = models[model]['da_dataset'].map(\n",
    "        lambda examples: da_tokenize_function(models[model], examples),\n",
    "        batched=True,\n",
    "        remove_columns=['full_text', 'label']\n",
    "    )"
   ]
  },
  {
   "cell_type": "markdown",
   "id": "c8aa26560e5f6026",
   "metadata": {},
   "source": "## Group text"
  },
  {
   "cell_type": "code",
   "execution_count": null,
   "id": "742c7fc8b140eb53",
   "metadata": {
    "jupyter": {
     "is_executing": true
    }
   },
   "outputs": [],
   "source": [
    "chunk_size = 128\n",
    "\n",
    "\n",
    "def group_texts(examples):\n",
    "    # Concatenate all texts\n",
    "    concatenated_examples = {k: sum(examples[k], []) for k in examples.keys()}\n",
    "    # Compute length of concatenated texts\n",
    "    total_length = len(concatenated_examples[list(examples.keys())[0]])\n",
    "    # We drop the last chunk if it's smaller than chunk_size\n",
    "    total_length = (total_length // chunk_size) * chunk_size\n",
    "    # Split by chunks of max_len\n",
    "    result = {\n",
    "        k: [t[i: i + chunk_size] for i in range(0, total_length, chunk_size)]\n",
    "        for k, t in concatenated_examples.items()\n",
    "    }\n",
    "    # Create a new labels column\n",
    "    result[\"labels\"] = result[\"input_ids\"].copy()\n",
    "    return result\n",
    "\n",
    "\n",
    "# Group the texts in the dataset\n",
    "for model in model_names:\n",
    "    models[model]['lm_dataset'] = models[model]['da_dataset'].map(\n",
    "        group_texts,\n",
    "        batched=True\n",
    "    )\n",
    "\n",
    "models[model_names[0]]['lm_dataset']"
   ]
  },
  {
   "cell_type": "markdown",
   "id": "bf0136beeddce217",
   "metadata": {},
   "source": "## Defining trainers for Domain Adaptation"
  },
  {
   "cell_type": "code",
   "execution_count": null,
   "id": "d2cb7a16e1114856",
   "metadata": {
    "jupyter": {
     "is_executing": true
    }
   },
   "outputs": [],
   "source": [
    "import collections\n",
    "from transformers import DataCollatorForLanguageModeling, AutoModelForMaskedLM\n",
    "\n",
    "wwm_probability = 0.2\n",
    "\n",
    "for model in model_names:\n",
    "    models[model]['da_saving_dir'] = huggingface_owner + \"DA-\" + model.replace(\"/\", \"-\")\n",
    "\n",
    "    # Load model for DA training\n",
    "    models[model]['da_model'] = AutoModelForMaskedLM.from_pretrained(model)\n",
    "\n",
    "    models[model]['da_data_collator'] = DataCollatorForLanguageModeling(tokenizer=models[model]['tokenizer'],\n",
    "                                                                        mlm_probability=0.15)\n",
    "\n",
    "    models[model]['da_training_args'] = TrainingArguments(\n",
    "        output_dir=\"./da_training_results/\" + model.replace(\"/\", \"-\"),\n",
    "        overwrite_output_dir=True,\n",
    "        evaluation_strategy=\"epoch\",\n",
    "        save_strategy='epoch',\n",
    "        num_train_epochs=3,\n",
    "        learning_rate=2e-5,\n",
    "        weight_decay=0.01,\n",
    "        per_device_train_batch_size=8,\n",
    "        per_device_eval_batch_size=8,\n",
    "        push_to_hub=True,\n",
    "        hub_model_id=models[model]['da_saving_dir'],\n",
    "    )\n",
    "\n",
    "    models[model]['da_trainer'] = Trainer(\n",
    "        model=models[model]['da_model'],\n",
    "        args=models[model]['da_training_args'],\n",
    "        train_dataset=models[model]['da_dataset']['train'],\n",
    "        eval_dataset=models[model]['da_dataset']['validation'],\n",
    "        data_collator=models[model]['da_data_collator'],\n",
    "        tokenizer=models[model]['tokenizer'],\n",
    "    )"
   ]
  },
  {
   "cell_type": "markdown",
   "id": "6e78c9023820b6f4",
   "metadata": {},
   "source": "## Calculate perplexity before domain adaptation"
  },
  {
   "cell_type": "code",
   "execution_count": null,
   "id": "81c05875c898f161",
   "metadata": {
    "jupyter": {
     "is_executing": true
    }
   },
   "outputs": [],
   "source": [
    "for model in model_names:\n",
    "    eval_results = models[model]['da_trainer'].evaluate()\n",
    "    print(f\"{model} Perplexity: {math.exp(eval_results['eval_loss']):.2f}\")"
   ]
  },
  {
   "cell_type": "markdown",
   "id": "a0df4d49aa376390",
   "metadata": {},
   "source": "## Domain adaptation training"
  },
  {
   "cell_type": "code",
   "execution_count": null,
   "id": "88bc45f2cdfb26a2",
   "metadata": {
    "jupyter": {
     "is_executing": true
    }
   },
   "outputs": [],
   "source": [
    "da_train = False\n",
    "if da_train:\n",
    "    for model in model_names:\n",
    "        print(f\"Training {model}...\")\n",
    "        models[model]['da_trainer'].train()"
   ]
  },
  {
   "cell_type": "markdown",
   "id": "7facad5ec469cad7",
   "metadata": {},
   "source": "## Calculating perplexity after domain adaptation"
  },
  {
   "cell_type": "code",
   "execution_count": null,
   "id": "11096638e524bc93",
   "metadata": {
    "jupyter": {
     "is_executing": true
    }
   },
   "outputs": [],
   "source": [
    "if da_train:\n",
    "    for model in model_names:\n",
    "        eval_results = models[model]['da_trainer'].evaluate()\n",
    "        print(f\"{model} Perplexity: {math.exp(eval_results['eval_loss']):.2f}\")"
   ]
  },
  {
   "cell_type": "markdown",
   "id": "2d26dc68d17f3367",
   "metadata": {},
   "source": [
    "As we can see, the perplexity of the models has decreased significantly after domain adaptation."
   ]
  },
  {
   "cell_type": "markdown",
   "id": "47776bdd09a0f30b",
   "metadata": {},
   "source": "## Saving the models to the hub after domain adaptation"
  },
  {
   "cell_type": "code",
   "execution_count": null,
   "id": "b7df70379befcc8e",
   "metadata": {
    "jupyter": {
     "is_executing": true
    }
   },
   "outputs": [],
   "source": [
    "if da_train:\n",
    "    for model in model_names:\n",
    "        models[model]['da_trainer'].push_to_hub()"
   ]
  }
 ],
 "metadata": {
  "kernelspec": {
   "display_name": "Python 3",
   "language": "python",
   "name": "python3"
  },
  "language_info": {
   "codemirror_mode": {
    "name": "ipython",
    "version": 3
   },
   "file_extension": ".py",
   "mimetype": "text/x-python",
   "name": "python",
   "nbconvert_exporter": "python",
   "pygments_lexer": "ipython3",
   "version": "3.11.5"
  }
 },
 "nbformat": 4,
 "nbformat_minor": 5
}
