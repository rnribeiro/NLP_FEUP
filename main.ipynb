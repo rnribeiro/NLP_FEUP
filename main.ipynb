{
 "cells": [
  {
   "cell_type": "markdown",
   "metadata": {},
   "source": [
    "# Sentiment Analysis - Labelled Financial News Data"
   ]
  },
  {
   "cell_type": "markdown",
   "metadata": {},
   "source": [
    "This notebook focuses on conducting sentiment analysis using labeled financial news data. This involves analysing the sentiment expressed in financial news articles and categorising them as positive, negative, or neutral. The task includes understanding the characteristics of the dataset, exploring its content, preprocessing the text data, selecting appropriate feature representation techniques, training sentiment classifiers, and evaluating their performance. The objective is to develop accurate sentiment analysis models tailored to the financial domain."
   ]
  },
  {
   "cell_type": "markdown",
   "metadata": {},
   "source": [
    "The data is sourced from The Economic Times (Excluding the copyrighted Prime Articles)\n"
   ]
  },
  {
   "cell_type": "code",
   "execution_count": 214,
   "metadata": {
    "ExecuteTime": {
     "end_time": "2024-02-29T15:29:16.638202Z",
     "start_time": "2024-02-29T15:29:16.632676Z"
    }
   },
   "outputs": [
    {
     "name": "stderr",
     "output_type": "stream",
     "text": [
      "[nltk_data] Downloading package punkt to\n",
      "[nltk_data]     C:\\Users\\rnrib\\AppData\\Roaming\\nltk_data...\n",
      "[nltk_data]   Package punkt is already up-to-date!\n",
      "[nltk_data] Downloading package stopwords to\n",
      "[nltk_data]     C:\\Users\\rnrib\\AppData\\Roaming\\nltk_data...\n",
      "[nltk_data]   Package stopwords is already up-to-date!\n"
     ]
    }
   ],
   "source": [
    "import pandas as pd\n",
    "import matplotlib.pyplot as plt\n",
    "import re\n",
    "import nltk\n",
    "from nltk.tokenize import word_tokenize, sent_tokenize\n",
    "\n",
    "nltk.download('punkt')\n",
    "nltk.download('stopwords')\n",
    "from nltk.corpus import stopwords\n",
    "import string"
   ]
  },
  {
   "cell_type": "markdown",
   "metadata": {},
   "source": [
    "First let's load the dataset and take a look at the first few rows."
   ]
  },
  {
   "cell_type": "code",
   "execution_count": 215,
   "metadata": {
    "ExecuteTime": {
     "end_time": "2024-02-29T15:29:16.737058Z",
     "start_time": "2024-02-29T15:29:16.718094Z"
    }
   },
   "outputs": [
    {
     "data": {
      "text/plain": "    Date_published                                           Headline  \\\n0       2022-06-21  Banks holding on to subsidy share, say payment...   \n1       2022-04-19  Digitally ready Bank of Baroda aims to click o...   \n2       2022-05-27  Karnataka attracted investment commitment of R...   \n3       2022-04-06  Splitting of provident fund accounts may be de...   \n4       2022-06-14  Irdai weighs proposal to privatise Insurance I...   \n..             ...                                                ...   \n395     2022-06-10      Banks take a cue from RBI, hike lending rates   \n396     2022-06-29  Sebi issues Rs 27 lakh recovery notice to indi...   \n397     2022-06-06  Apollo Hospital shares  drop  0.68% as Sensex ...   \n398     2022-05-16  SBI at Rs 710? What makes analysts see up to 5...   \n399     2022-05-27  Stock market update: Mining stocks  up  as mar...   \n\n                                              Synopsis  \\\n0    The companies have written to the National Pay...   \n1    At present, 50% of the bank's retail loans are...   \n2    Karnataka is at the forefront in attracting in...   \n3    The EPFO is likely to split accounts only at t...   \n4    Set up in 2009 as an advisory body, IIB collec...   \n..                                                 ...   \n395  These banks raised their respective external b...   \n396  In the event of non-payment, it will recover t...   \n397  A total of 10,105 shares changed hands on the ...   \n398  Calling the stock 'attractively valued' analys...   \n399  The 30-share BSE Sensex was  up  323.71 points...   \n\n                                             Full_text Final Status  \n0    ReutersPayments companies and banks are at log...     Negative  \n1    AgenciesThe bank presently has 20 million acti...     Positive  \n2    PTIKarnataka Chief Minister Basavaraj Bommai.K...     Positive  \n3    Getty ImagesThe budget for FY22 had imposed in...     Negative  \n4    AgenciesThere is a view in the insurance indus...     Positive  \n..                                                 ...          ...  \n395  PTIICICI Bank, Bank of Baroda, Punjab National...     Negative  \n396  ReutersThe logo of the Securities and Exchange...     Negative  \n397  Getty ImagesShrikant Chouhan of Kotak Securiti...     Negative  \n398  AgenciesThe PSU bank reported a 41.27 per cent...     Positive  \n399  Shutterstock.comAgarwal said the global econom...     Positive  \n\n[400 rows x 5 columns]",
      "text/html": "<div>\n<style scoped>\n    .dataframe tbody tr th:only-of-type {\n        vertical-align: middle;\n    }\n\n    .dataframe tbody tr th {\n        vertical-align: top;\n    }\n\n    .dataframe thead th {\n        text-align: right;\n    }\n</style>\n<table border=\"1\" class=\"dataframe\">\n  <thead>\n    <tr style=\"text-align: right;\">\n      <th></th>\n      <th>Date_published</th>\n      <th>Headline</th>\n      <th>Synopsis</th>\n      <th>Full_text</th>\n      <th>Final Status</th>\n    </tr>\n  </thead>\n  <tbody>\n    <tr>\n      <th>0</th>\n      <td>2022-06-21</td>\n      <td>Banks holding on to subsidy share, say payment...</td>\n      <td>The companies have written to the National Pay...</td>\n      <td>ReutersPayments companies and banks are at log...</td>\n      <td>Negative</td>\n    </tr>\n    <tr>\n      <th>1</th>\n      <td>2022-04-19</td>\n      <td>Digitally ready Bank of Baroda aims to click o...</td>\n      <td>At present, 50% of the bank's retail loans are...</td>\n      <td>AgenciesThe bank presently has 20 million acti...</td>\n      <td>Positive</td>\n    </tr>\n    <tr>\n      <th>2</th>\n      <td>2022-05-27</td>\n      <td>Karnataka attracted investment commitment of R...</td>\n      <td>Karnataka is at the forefront in attracting in...</td>\n      <td>PTIKarnataka Chief Minister Basavaraj Bommai.K...</td>\n      <td>Positive</td>\n    </tr>\n    <tr>\n      <th>3</th>\n      <td>2022-04-06</td>\n      <td>Splitting of provident fund accounts may be de...</td>\n      <td>The EPFO is likely to split accounts only at t...</td>\n      <td>Getty ImagesThe budget for FY22 had imposed in...</td>\n      <td>Negative</td>\n    </tr>\n    <tr>\n      <th>4</th>\n      <td>2022-06-14</td>\n      <td>Irdai weighs proposal to privatise Insurance I...</td>\n      <td>Set up in 2009 as an advisory body, IIB collec...</td>\n      <td>AgenciesThere is a view in the insurance indus...</td>\n      <td>Positive</td>\n    </tr>\n    <tr>\n      <th>...</th>\n      <td>...</td>\n      <td>...</td>\n      <td>...</td>\n      <td>...</td>\n      <td>...</td>\n    </tr>\n    <tr>\n      <th>395</th>\n      <td>2022-06-10</td>\n      <td>Banks take a cue from RBI, hike lending rates</td>\n      <td>These banks raised their respective external b...</td>\n      <td>PTIICICI Bank, Bank of Baroda, Punjab National...</td>\n      <td>Negative</td>\n    </tr>\n    <tr>\n      <th>396</th>\n      <td>2022-06-29</td>\n      <td>Sebi issues Rs 27 lakh recovery notice to indi...</td>\n      <td>In the event of non-payment, it will recover t...</td>\n      <td>ReutersThe logo of the Securities and Exchange...</td>\n      <td>Negative</td>\n    </tr>\n    <tr>\n      <th>397</th>\n      <td>2022-06-06</td>\n      <td>Apollo Hospital shares  drop  0.68% as Sensex ...</td>\n      <td>A total of 10,105 shares changed hands on the ...</td>\n      <td>Getty ImagesShrikant Chouhan of Kotak Securiti...</td>\n      <td>Negative</td>\n    </tr>\n    <tr>\n      <th>398</th>\n      <td>2022-05-16</td>\n      <td>SBI at Rs 710? What makes analysts see up to 5...</td>\n      <td>Calling the stock 'attractively valued' analys...</td>\n      <td>AgenciesThe PSU bank reported a 41.27 per cent...</td>\n      <td>Positive</td>\n    </tr>\n    <tr>\n      <th>399</th>\n      <td>2022-05-27</td>\n      <td>Stock market update: Mining stocks  up  as mar...</td>\n      <td>The 30-share BSE Sensex was  up  323.71 points...</td>\n      <td>Shutterstock.comAgarwal said the global econom...</td>\n      <td>Positive</td>\n    </tr>\n  </tbody>\n</table>\n<p>400 rows × 5 columns</p>\n</div>"
     },
     "execution_count": 215,
     "metadata": {},
     "output_type": "execute_result"
    }
   ],
   "source": [
    "# Load the data from the CSV file with utf-8 encoding\n",
    "data = pd.read_csv('data/Fin_cleaned.csv', encoding='utf-8')\n",
    "\n",
    "# duplicate the data\n",
    "news = data.copy()\n",
    "\n",
    "news"
   ]
  },
  {
   "cell_type": "code",
   "execution_count": 216,
   "metadata": {
    "ExecuteTime": {
     "end_time": "2024-02-29T15:29:16.745893Z",
     "start_time": "2024-02-29T15:29:16.739123Z"
    }
   },
   "outputs": [
    {
     "name": "stdout",
     "output_type": "stream",
     "text": [
      "<class 'pandas.core.frame.DataFrame'>\n",
      "RangeIndex: 400 entries, 0 to 399\n",
      "Data columns (total 5 columns):\n",
      " #   Column          Non-Null Count  Dtype \n",
      "---  ------          --------------  ----- \n",
      " 0   Date_published  400 non-null    object\n",
      " 1   Headline        400 non-null    object\n",
      " 2   Synopsis        399 non-null    object\n",
      " 3   Full_text       400 non-null    object\n",
      " 4   Final Status    400 non-null    object\n",
      "dtypes: object(5)\n",
      "memory usage: 15.8+ KB\n"
     ]
    }
   ],
   "source": [
    "news.info()"
   ]
  },
  {
   "cell_type": "markdown",
   "metadata": {},
   "source": [
    "There is a missing synopsis value in the dataset."
   ]
  },
  {
   "cell_type": "code",
   "execution_count": 217,
   "metadata": {
    "ExecuteTime": {
     "end_time": "2024-02-29T15:29:16.755191Z",
     "start_time": "2024-02-29T15:29:16.748036Z"
    }
   },
   "outputs": [
    {
     "data": {
      "text/plain": "   Date_published                                           Headline Synopsis  \\\n56     2022-04-08  RBI keeps repo rate unchanged; reduces growth ...      NaN   \n\n                                            Full_text Final Status  \n56  ANIStory outlineThe benchmark repo rate stands...     Negative  ",
      "text/html": "<div>\n<style scoped>\n    .dataframe tbody tr th:only-of-type {\n        vertical-align: middle;\n    }\n\n    .dataframe tbody tr th {\n        vertical-align: top;\n    }\n\n    .dataframe thead th {\n        text-align: right;\n    }\n</style>\n<table border=\"1\" class=\"dataframe\">\n  <thead>\n    <tr style=\"text-align: right;\">\n      <th></th>\n      <th>Date_published</th>\n      <th>Headline</th>\n      <th>Synopsis</th>\n      <th>Full_text</th>\n      <th>Final Status</th>\n    </tr>\n  </thead>\n  <tbody>\n    <tr>\n      <th>56</th>\n      <td>2022-04-08</td>\n      <td>RBI keeps repo rate unchanged; reduces growth ...</td>\n      <td>NaN</td>\n      <td>ANIStory outlineThe benchmark repo rate stands...</td>\n      <td>Negative</td>\n    </tr>\n  </tbody>\n</table>\n</div>"
     },
     "execution_count": 217,
     "metadata": {},
     "output_type": "execute_result"
    }
   ],
   "source": [
    "# print the row with the missing value for the 'synopsis' column\n",
    "news[news['Synopsis'].isnull()]"
   ]
  },
  {
   "cell_type": "markdown",
   "metadata": {},
   "source": [
    "Fill the missing value with an empty string."
   ]
  },
  {
   "cell_type": "code",
   "execution_count": 218,
   "metadata": {
    "ExecuteTime": {
     "end_time": "2024-02-29T15:29:16.762402Z",
     "start_time": "2024-02-29T15:29:16.757331Z"
    }
   },
   "outputs": [],
   "source": [
    "# fill the missing value with an empty string\n",
    "news['Synopsis'] = news['Synopsis'].fillna('')"
   ]
  },
  {
   "cell_type": "markdown",
   "metadata": {},
   "source": [
    "Let's remane the columns to make it more readable."
   ]
  },
  {
   "cell_type": "code",
   "execution_count": 219,
   "metadata": {
    "ExecuteTime": {
     "end_time": "2024-02-29T15:29:16.805539Z",
     "start_time": "2024-02-29T15:29:16.796962Z"
    }
   },
   "outputs": [
    {
     "data": {
      "text/plain": "         date                                           headline  \\\n0  2022-06-21  Banks holding on to subsidy share, say payment...   \n1  2022-04-19  Digitally ready Bank of Baroda aims to click o...   \n2  2022-05-27  Karnataka attracted investment commitment of R...   \n3  2022-04-06  Splitting of provident fund accounts may be de...   \n4  2022-06-14  Irdai weighs proposal to privatise Insurance I...   \n\n                                            synopsis  \\\n0  The companies have written to the National Pay...   \n1  At present, 50% of the bank's retail loans are...   \n2  Karnataka is at the forefront in attracting in...   \n3  The EPFO is likely to split accounts only at t...   \n4  Set up in 2009 as an advisory body, IIB collec...   \n\n                                                text     label  \n0  ReutersPayments companies and banks are at log...  Negative  \n1  AgenciesThe bank presently has 20 million acti...  Positive  \n2  PTIKarnataka Chief Minister Basavaraj Bommai.K...  Positive  \n3  Getty ImagesThe budget for FY22 had imposed in...  Negative  \n4  AgenciesThere is a view in the insurance indus...  Positive  ",
      "text/html": "<div>\n<style scoped>\n    .dataframe tbody tr th:only-of-type {\n        vertical-align: middle;\n    }\n\n    .dataframe tbody tr th {\n        vertical-align: top;\n    }\n\n    .dataframe thead th {\n        text-align: right;\n    }\n</style>\n<table border=\"1\" class=\"dataframe\">\n  <thead>\n    <tr style=\"text-align: right;\">\n      <th></th>\n      <th>date</th>\n      <th>headline</th>\n      <th>synopsis</th>\n      <th>text</th>\n      <th>label</th>\n    </tr>\n  </thead>\n  <tbody>\n    <tr>\n      <th>0</th>\n      <td>2022-06-21</td>\n      <td>Banks holding on to subsidy share, say payment...</td>\n      <td>The companies have written to the National Pay...</td>\n      <td>ReutersPayments companies and banks are at log...</td>\n      <td>Negative</td>\n    </tr>\n    <tr>\n      <th>1</th>\n      <td>2022-04-19</td>\n      <td>Digitally ready Bank of Baroda aims to click o...</td>\n      <td>At present, 50% of the bank's retail loans are...</td>\n      <td>AgenciesThe bank presently has 20 million acti...</td>\n      <td>Positive</td>\n    </tr>\n    <tr>\n      <th>2</th>\n      <td>2022-05-27</td>\n      <td>Karnataka attracted investment commitment of R...</td>\n      <td>Karnataka is at the forefront in attracting in...</td>\n      <td>PTIKarnataka Chief Minister Basavaraj Bommai.K...</td>\n      <td>Positive</td>\n    </tr>\n    <tr>\n      <th>3</th>\n      <td>2022-04-06</td>\n      <td>Splitting of provident fund accounts may be de...</td>\n      <td>The EPFO is likely to split accounts only at t...</td>\n      <td>Getty ImagesThe budget for FY22 had imposed in...</td>\n      <td>Negative</td>\n    </tr>\n    <tr>\n      <th>4</th>\n      <td>2022-06-14</td>\n      <td>Irdai weighs proposal to privatise Insurance I...</td>\n      <td>Set up in 2009 as an advisory body, IIB collec...</td>\n      <td>AgenciesThere is a view in the insurance indus...</td>\n      <td>Positive</td>\n    </tr>\n  </tbody>\n</table>\n</div>"
     },
     "execution_count": 219,
     "metadata": {},
     "output_type": "execute_result"
    }
   ],
   "source": [
    "# rename columns\n",
    "news = news.rename(\n",
    "    columns={'Date_published': 'date', 'Headline': 'headline', 'Synopsis': 'synopsis', 'Full_text': 'text',\n",
    "             'Final Status': 'label'})\n",
    "news.head()"
   ]
  },
  {
   "cell_type": "markdown",
   "metadata": {},
   "source": [
    "Check what kind of labels we have"
   ]
  },
  {
   "cell_type": "code",
   "execution_count": 220,
   "metadata": {
    "ExecuteTime": {
     "end_time": "2024-02-29T15:29:16.827198Z",
     "start_time": "2024-02-29T15:29:16.820638Z"
    }
   },
   "outputs": [
    {
     "data": {
      "text/plain": "label\nPositive     215\nNegative     184\nPositive       1\nName: count, dtype: int64"
     },
     "execution_count": 220,
     "metadata": {},
     "output_type": "execute_result"
    }
   ],
   "source": [
    "# print unique labels and their counts\n",
    "news.label.value_counts()"
   ]
  },
  {
   "cell_type": "markdown",
   "metadata": {},
   "source": [
    "There are 2 labels for positive values: 'Positive' and 'Positive '. "
   ]
  },
  {
   "cell_type": "code",
   "execution_count": 221,
   "metadata": {
    "ExecuteTime": {
     "end_time": "2024-02-29T15:29:16.889440Z",
     "start_time": "2024-02-29T15:29:16.885912Z"
    }
   },
   "outputs": [],
   "source": [
    "# remove the spaces from the labels\n",
    "news['label'] = news['label'].str.strip()"
   ]
  },
  {
   "cell_type": "markdown",
   "metadata": {},
   "source": [
    "Now, there are only two correct labels: 'Positive' and 'Negative'. Let's analyse the final class distribution."
   ]
  },
  {
   "cell_type": "code",
   "execution_count": 222,
   "metadata": {
    "ExecuteTime": {
     "end_time": "2024-02-29T15:29:16.998580Z",
     "start_time": "2024-02-29T15:29:16.924694Z"
    }
   },
   "outputs": [
    {
     "data": {
      "text/plain": "<Figure size 600x500 with 1 Axes>",
      "image/png": "[encoded data removed]"
     },
     "metadata": {},
     "output_type": "display_data"
    }
   ],
   "source": [
    "# plot the number of news articles for each label\n",
    "fig = plt.figure(figsize=(6, 5))\n",
    "plt.bar(news.label.unique(), news.label.value_counts(), width=0.4)\n",
    "plt.title('Number of news articles for each label')\n",
    "plt.xlabel('Label')\n",
    "plt.ylabel('Number of news articles')\n",
    "# add the number of news articles on top of each bar\n",
    "for i, count in enumerate(news.label.value_counts()):\n",
    "    plt.text(i, count, str(count), ha='center', va='bottom')\n",
    "# increase the margin at the top of each bar\n",
    "plt.ylim(0, 250)\n",
    "plt.show()"
   ]
  },
  {
   "cell_type": "markdown",
   "metadata": {},
   "source": [
    "#### Let's clean the text columns:\n",
    "    - Remove punctuation\n",
    "    - Convert the text to lowercase\n",
    "    - Tokenize the text\n",
    "    - Remove stopwords\n",
    "    - Apply PorterStemmer to the tokens"
   ]
  },
  {
   "cell_type": "code",
   "outputs": [
    {
     "data": {
      "text/plain": "                                  headline_word_tokens  \\\n0     [bank, hold, subsidi, share, say, payment, firm]   \n1       [digit, readi, bank, baroda, aim, click, loan]   \n2    [karnataka, attract, invest, commit, rs, crore...   \n3           [split, provid, fund, account, may, delay]   \n4    [irdai, weigh, propos, privatis, insur, inform...   \n..                                                 ...   \n395           [bank, take, cue, rbi, hike, lend, rate]   \n396  [sebi, issu, rs, lakh, recoveri, notic, indivi...   \n397        [apollo, hospit, share, drop, sensex, fall]   \n398  [sbi, rs, what, make, analyst, see, upsid, stock]   \n399  [stock, market, updat, mine, stock, market, rise]   \n\n                                  synopsis_word_tokens  \\\n0    [the, compani, written, nation, payment, corp,...   \n1    [at, present, bank, retail, loan, sourc, digit...   \n2    [karnataka, forefront, attract, invest, wef, m...   \n3    [the, epfo, like, split, account, time, credit...   \n4    [set, advisori, bodi, iib, collect, transact, ...   \n..                                                 ...   \n395  [these, bank, rais, respect, extern, benchmark...   \n396  [in, event, non, payment, recov, amount, attac...   \n397  [a, total, share, chang, hand, counter, till, ...   \n398  [call, stock, attract, valu, analyst, price, t...   \n399                   [the, share, bse, sensex, point]   \n\n                                      text_word_tokens     label  \n0    [reuterspay, compani, bank, loggerhead, share,...  Negative  \n1    [agenciesth, bank, present, million, activ, us...  Positive  \n2    [ptikarnataka, chief, minist, basavaraj, bomma...  Positive  \n3    [getti, imagesth, budget, fy, impos, incom, ta...  Negative  \n4    [agenciesther, view, insur, industri, iib, abl...  Positive  \n..                                                 ...       ...  \n395  [ptiicici, bank, bank, baroda, punjab, nation,...  Negative  \n396  [reutersth, logo, secur, exchang, board, india...  Negative  \n397  [getti, imagesshrik, chouhan, kotak, secur, sa...  Negative  \n398  [agenciesth, psu, bank, report, per, cent, yoy...  Positive  \n399  [shutterstock, comagarw, said, global, economi...  Positive  \n\n[400 rows x 4 columns]",
      "text/html": "<div>\n<style scoped>\n    .dataframe tbody tr th:only-of-type {\n        vertical-align: middle;\n    }\n\n    .dataframe tbody tr th {\n        vertical-align: top;\n    }\n\n    .dataframe thead th {\n        text-align: right;\n    }\n</style>\n<table border=\"1\" class=\"dataframe\">\n  <thead>\n    <tr style=\"text-align: right;\">\n      <th></th>\n      <th>headline_word_tokens</th>\n      <th>synopsis_word_tokens</th>\n      <th>text_word_tokens</th>\n      <th>label</th>\n    </tr>\n  </thead>\n  <tbody>\n    <tr>\n      <th>0</th>\n      <td>[bank, hold, subsidi, share, say, payment, firm]</td>\n      <td>[the, compani, written, nation, payment, corp,...</td>\n      <td>[reuterspay, compani, bank, loggerhead, share,...</td>\n      <td>Negative</td>\n    </tr>\n    <tr>\n      <th>1</th>\n      <td>[digit, readi, bank, baroda, aim, click, loan]</td>\n      <td>[at, present, bank, retail, loan, sourc, digit...</td>\n      <td>[agenciesth, bank, present, million, activ, us...</td>\n      <td>Positive</td>\n    </tr>\n    <tr>\n      <th>2</th>\n      <td>[karnataka, attract, invest, commit, rs, crore...</td>\n      <td>[karnataka, forefront, attract, invest, wef, m...</td>\n      <td>[ptikarnataka, chief, minist, basavaraj, bomma...</td>\n      <td>Positive</td>\n    </tr>\n    <tr>\n      <th>3</th>\n      <td>[split, provid, fund, account, may, delay]</td>\n      <td>[the, epfo, like, split, account, time, credit...</td>\n      <td>[getti, imagesth, budget, fy, impos, incom, ta...</td>\n      <td>Negative</td>\n    </tr>\n    <tr>\n      <th>4</th>\n      <td>[irdai, weigh, propos, privatis, insur, inform...</td>\n      <td>[set, advisori, bodi, iib, collect, transact, ...</td>\n      <td>[agenciesther, view, insur, industri, iib, abl...</td>\n      <td>Positive</td>\n    </tr>\n    <tr>\n      <th>...</th>\n      <td>...</td>\n      <td>...</td>\n      <td>...</td>\n      <td>...</td>\n    </tr>\n    <tr>\n      <th>395</th>\n      <td>[bank, take, cue, rbi, hike, lend, rate]</td>\n      <td>[these, bank, rais, respect, extern, benchmark...</td>\n      <td>[ptiicici, bank, bank, baroda, punjab, nation,...</td>\n      <td>Negative</td>\n    </tr>\n    <tr>\n      <th>396</th>\n      <td>[sebi, issu, rs, lakh, recoveri, notic, indivi...</td>\n      <td>[in, event, non, payment, recov, amount, attac...</td>\n      <td>[reutersth, logo, secur, exchang, board, india...</td>\n      <td>Negative</td>\n    </tr>\n    <tr>\n      <th>397</th>\n      <td>[apollo, hospit, share, drop, sensex, fall]</td>\n      <td>[a, total, share, chang, hand, counter, till, ...</td>\n      <td>[getti, imagesshrik, chouhan, kotak, secur, sa...</td>\n      <td>Negative</td>\n    </tr>\n    <tr>\n      <th>398</th>\n      <td>[sbi, rs, what, make, analyst, see, upsid, stock]</td>\n      <td>[call, stock, attract, valu, analyst, price, t...</td>\n      <td>[agenciesth, psu, bank, report, per, cent, yoy...</td>\n      <td>Positive</td>\n    </tr>\n    <tr>\n      <th>399</th>\n      <td>[stock, market, updat, mine, stock, market, rise]</td>\n      <td>[the, share, bse, sensex, point]</td>\n      <td>[shutterstock, comagarw, said, global, economi...</td>\n      <td>Positive</td>\n    </tr>\n  </tbody>\n</table>\n<p>400 rows × 4 columns</p>\n</div>"
     },
     "execution_count": 223,
     "metadata": {},
     "output_type": "execute_result"
    }
   ],
   "source": [
    "# list of text columns\n",
    "text_columns = ['headline', 'synopsis', 'text']\n",
    "# list to store the word tokens columns\n",
    "word_tokens_columns = []\n",
    "\n",
    "# stop words\n",
    "stop_words = set(stopwords.words('english'))\n",
    "\n",
    "# initialize the stemmer\n",
    "stemmer = nltk.PorterStemmer()\n",
    "\n",
    "# duplicate the data\n",
    "news_cleaned = news.copy()\n",
    "\n",
    "for col in text_columns:\n",
    "    # covert each text column to a string\n",
    "    news_cleaned[col] = news_cleaned[col].astype(str)\n",
    "    # remove punctuation and non-alpha characters\n",
    "    news_cleaned[col] = news_cleaned[col].apply(lambda x: re.sub('[^a-zA-Z]', ' ', x))\n",
    "    # create a word token column for each text column\n",
    "    news_cleaned[col + '_word_tokens'] = news_cleaned[col].apply(word_tokenize)\n",
    "    # add the column to the list\n",
    "    word_tokens_columns.append(col + '_word_tokens')\n",
    "    # remove stopwords from the tokens\n",
    "    news_cleaned[col + '_word_tokens'] = news_cleaned[col + '_word_tokens'].apply(\n",
    "        lambda tokens: [token for token in tokens if token not in stop_words])\n",
    "    # apply PorterStemmer to the tokens\n",
    "    news_cleaned[col + '_word_tokens'] = news_cleaned[col + '_word_tokens'].apply(\n",
    "        lambda tokens: [stemmer.stem(token) for token in tokens])\n",
    "\n",
    "# drop not needed columns\n",
    "news_cleaned = news_cleaned[word_tokens_columns + ['label']]\n",
    "\n",
    "news_cleaned"
   ],
   "metadata": {
    "collapsed": false,
    "ExecuteTime": {
     "end_time": "2024-02-29T15:29:18.531159Z",
     "start_time": "2024-02-29T15:29:16.999618Z"
    }
   },
   "execution_count": 223
  },
  {
   "cell_type": "code",
   "execution_count": 224,
   "metadata": {
    "ExecuteTime": {
     "end_time": "2024-02-29T15:29:18.545958Z",
     "start_time": "2024-02-29T15:29:18.532163Z"
    }
   },
   "outputs": [
    {
     "data": {
      "text/plain": "                                  headline_word_tokens  \\\n0     [bank, hold, subsidi, share, say, payment, firm]   \n1       [digit, readi, bank, baroda, aim, click, loan]   \n2    [karnataka, attract, invest, commit, rs, crore...   \n3           [split, provid, fund, account, may, delay]   \n4    [irdai, weigh, propos, privatis, insur, inform...   \n..                                                 ...   \n395           [bank, take, cue, rbi, hike, lend, rate]   \n396  [sebi, issu, rs, lakh, recoveri, notic, indivi...   \n397        [apollo, hospit, share, drop, sensex, fall]   \n398  [sbi, rs, what, make, analyst, see, upsid, stock]   \n399  [stock, market, updat, mine, stock, market, rise]   \n\n                                  synopsis_word_tokens  \\\n0    [the, compani, written, nation, payment, corp,...   \n1    [at, present, bank, retail, loan, sourc, digit...   \n2    [karnataka, forefront, attract, invest, wef, m...   \n3    [the, epfo, like, split, account, time, credit...   \n4    [set, advisori, bodi, iib, collect, transact, ...   \n..                                                 ...   \n395  [these, bank, rais, respect, extern, benchmark...   \n396  [in, event, non, payment, recov, amount, attac...   \n397  [a, total, share, chang, hand, counter, till, ...   \n398  [call, stock, attract, valu, analyst, price, t...   \n399                   [the, share, bse, sensex, point]   \n\n                                      text_word_tokens     label  \n0    [reuterspay, compani, bank, loggerhead, share,...  Negative  \n1    [agenciesth, bank, present, million, activ, us...  Positive  \n2    [ptikarnataka, chief, minist, basavaraj, bomma...  Positive  \n3    [getti, imagesth, budget, fy, impos, incom, ta...  Negative  \n4    [agenciesther, view, insur, industri, iib, abl...  Positive  \n..                                                 ...       ...  \n395  [ptiicici, bank, bank, baroda, punjab, nation,...  Negative  \n396  [reutersth, logo, secur, exchang, board, india...  Negative  \n397  [getti, imagesshrik, chouhan, kotak, secur, sa...  Negative  \n398  [agenciesth, psu, bank, report, per, cent, yoy...  Positive  \n399  [shutterstock, comagarw, said, global, economi...  Positive  \n\n[400 rows x 4 columns]",
      "text/html": "<div>\n<style scoped>\n    .dataframe tbody tr th:only-of-type {\n        vertical-align: middle;\n    }\n\n    .dataframe tbody tr th {\n        vertical-align: top;\n    }\n\n    .dataframe thead th {\n        text-align: right;\n    }\n</style>\n<table border=\"1\" class=\"dataframe\">\n  <thead>\n    <tr style=\"text-align: right;\">\n      <th></th>\n      <th>headline_word_tokens</th>\n      <th>synopsis_word_tokens</th>\n      <th>text_word_tokens</th>\n      <th>label</th>\n    </tr>\n  </thead>\n  <tbody>\n    <tr>\n      <th>0</th>\n      <td>[bank, hold, subsidi, share, say, payment, firm]</td>\n      <td>[the, compani, written, nation, payment, corp,...</td>\n      <td>[reuterspay, compani, bank, loggerhead, share,...</td>\n      <td>Negative</td>\n    </tr>\n    <tr>\n      <th>1</th>\n      <td>[digit, readi, bank, baroda, aim, click, loan]</td>\n      <td>[at, present, bank, retail, loan, sourc, digit...</td>\n      <td>[agenciesth, bank, present, million, activ, us...</td>\n      <td>Positive</td>\n    </tr>\n    <tr>\n      <th>2</th>\n      <td>[karnataka, attract, invest, commit, rs, crore...</td>\n      <td>[karnataka, forefront, attract, invest, wef, m...</td>\n      <td>[ptikarnataka, chief, minist, basavaraj, bomma...</td>\n      <td>Positive</td>\n    </tr>\n    <tr>\n      <th>3</th>\n      <td>[split, provid, fund, account, may, delay]</td>\n      <td>[the, epfo, like, split, account, time, credit...</td>\n      <td>[getti, imagesth, budget, fy, impos, incom, ta...</td>\n      <td>Negative</td>\n    </tr>\n    <tr>\n      <th>4</th>\n      <td>[irdai, weigh, propos, privatis, insur, inform...</td>\n      <td>[set, advisori, bodi, iib, collect, transact, ...</td>\n      <td>[agenciesther, view, insur, industri, iib, abl...</td>\n      <td>Positive</td>\n    </tr>\n    <tr>\n      <th>...</th>\n      <td>...</td>\n      <td>...</td>\n      <td>...</td>\n      <td>...</td>\n    </tr>\n    <tr>\n      <th>395</th>\n      <td>[bank, take, cue, rbi, hike, lend, rate]</td>\n      <td>[these, bank, rais, respect, extern, benchmark...</td>\n      <td>[ptiicici, bank, bank, baroda, punjab, nation,...</td>\n      <td>Negative</td>\n    </tr>\n    <tr>\n      <th>396</th>\n      <td>[sebi, issu, rs, lakh, recoveri, notic, indivi...</td>\n      <td>[in, event, non, payment, recov, amount, attac...</td>\n      <td>[reutersth, logo, secur, exchang, board, india...</td>\n      <td>Negative</td>\n    </tr>\n    <tr>\n      <th>397</th>\n      <td>[apollo, hospit, share, drop, sensex, fall]</td>\n      <td>[a, total, share, chang, hand, counter, till, ...</td>\n      <td>[getti, imagesshrik, chouhan, kotak, secur, sa...</td>\n      <td>Negative</td>\n    </tr>\n    <tr>\n      <th>398</th>\n      <td>[sbi, rs, what, make, analyst, see, upsid, stock]</td>\n      <td>[call, stock, attract, valu, analyst, price, t...</td>\n      <td>[agenciesth, psu, bank, report, per, cent, yoy...</td>\n      <td>Positive</td>\n    </tr>\n    <tr>\n      <th>399</th>\n      <td>[stock, market, updat, mine, stock, market, rise]</td>\n      <td>[the, share, bse, sensex, point]</td>\n      <td>[shutterstock, comagarw, said, global, economi...</td>\n      <td>Positive</td>\n    </tr>\n  </tbody>\n</table>\n<p>400 rows × 4 columns</p>\n</div>"
     },
     "execution_count": 224,
     "metadata": {},
     "output_type": "execute_result"
    }
   ],
   "source": [
    "# import the required libraries\n",
    "from sklearn.model_selection import train_test_split\n",
    "from sklearn.feature_extraction.text import CountVectorizer, TfidfVectorizer\n",
    "from sklearn.naive_bayes import MultinomialNB\n",
    "from sklearn.linear_model import LogisticRegression\n",
    "from sklearn.tree import DecisionTreeClassifier\n",
    "from sklearn.ensemble import RandomForestClassifier\n",
    "from sklearn.svm import SVC\n",
    "from sklearn.neural_network import MLPClassifier\n",
    "from xgboost import XGBClassifier\n",
    "from sklearn.metrics import confusion_matrix, precision_score, recall_score, f1_score\n",
    "from gensim.models import Word2Vec\n",
    "\n",
    "# duplicate the cleaned data\n",
    "df = news_cleaned.copy()\n",
    "\n",
    "df\n"
   ]
  },
  {
   "cell_type": "code",
   "execution_count": 225,
   "metadata": {
    "ExecuteTime": {
     "end_time": "2024-02-29T15:29:18.561927Z",
     "start_time": "2024-02-29T15:29:18.547473Z"
    }
   },
   "outputs": [
    {
     "data": {
      "text/plain": "                                  headline_word_tokens  \\\n0     [bank, hold, subsidi, share, say, payment, firm]   \n1       [digit, readi, bank, baroda, aim, click, loan]   \n2    [karnataka, attract, invest, commit, rs, crore...   \n3           [split, provid, fund, account, may, delay]   \n4    [irdai, weigh, propos, privatis, insur, inform...   \n..                                                 ...   \n395           [bank, take, cue, rbi, hike, lend, rate]   \n396  [sebi, issu, rs, lakh, recoveri, notic, indivi...   \n397        [apollo, hospit, share, drop, sensex, fall]   \n398  [sbi, rs, what, make, analyst, see, upsid, stock]   \n399  [stock, market, updat, mine, stock, market, rise]   \n\n                                  synopsis_word_tokens  \\\n0    [the, compani, written, nation, payment, corp,...   \n1    [at, present, bank, retail, loan, sourc, digit...   \n2    [karnataka, forefront, attract, invest, wef, m...   \n3    [the, epfo, like, split, account, time, credit...   \n4    [set, advisori, bodi, iib, collect, transact, ...   \n..                                                 ...   \n395  [these, bank, rais, respect, extern, benchmark...   \n396  [in, event, non, payment, recov, amount, attac...   \n397  [a, total, share, chang, hand, counter, till, ...   \n398  [call, stock, attract, valu, analyst, price, t...   \n399                   [the, share, bse, sensex, point]   \n\n                                      text_word_tokens  label  \n0    [reuterspay, compani, bank, loggerhead, share,...      0  \n1    [agenciesth, bank, present, million, activ, us...      1  \n2    [ptikarnataka, chief, minist, basavaraj, bomma...      1  \n3    [getti, imagesth, budget, fy, impos, incom, ta...      0  \n4    [agenciesther, view, insur, industri, iib, abl...      1  \n..                                                 ...    ...  \n395  [ptiicici, bank, bank, baroda, punjab, nation,...      0  \n396  [reutersth, logo, secur, exchang, board, india...      0  \n397  [getti, imagesshrik, chouhan, kotak, secur, sa...      0  \n398  [agenciesth, psu, bank, report, per, cent, yoy...      1  \n399  [shutterstock, comagarw, said, global, economi...      1  \n\n[400 rows x 4 columns]",
      "text/html": "<div>\n<style scoped>\n    .dataframe tbody tr th:only-of-type {\n        vertical-align: middle;\n    }\n\n    .dataframe tbody tr th {\n        vertical-align: top;\n    }\n\n    .dataframe thead th {\n        text-align: right;\n    }\n</style>\n<table border=\"1\" class=\"dataframe\">\n  <thead>\n    <tr style=\"text-align: right;\">\n      <th></th>\n      <th>headline_word_tokens</th>\n      <th>synopsis_word_tokens</th>\n      <th>text_word_tokens</th>\n      <th>label</th>\n    </tr>\n  </thead>\n  <tbody>\n    <tr>\n      <th>0</th>\n      <td>[bank, hold, subsidi, share, say, payment, firm]</td>\n      <td>[the, compani, written, nation, payment, corp,...</td>\n      <td>[reuterspay, compani, bank, loggerhead, share,...</td>\n      <td>0</td>\n    </tr>\n    <tr>\n      <th>1</th>\n      <td>[digit, readi, bank, baroda, aim, click, loan]</td>\n      <td>[at, present, bank, retail, loan, sourc, digit...</td>\n      <td>[agenciesth, bank, present, million, activ, us...</td>\n      <td>1</td>\n    </tr>\n    <tr>\n      <th>2</th>\n      <td>[karnataka, attract, invest, commit, rs, crore...</td>\n      <td>[karnataka, forefront, attract, invest, wef, m...</td>\n      <td>[ptikarnataka, chief, minist, basavaraj, bomma...</td>\n      <td>1</td>\n    </tr>\n    <tr>\n      <th>3</th>\n      <td>[split, provid, fund, account, may, delay]</td>\n      <td>[the, epfo, like, split, account, time, credit...</td>\n      <td>[getti, imagesth, budget, fy, impos, incom, ta...</td>\n      <td>0</td>\n    </tr>\n    <tr>\n      <th>4</th>\n      <td>[irdai, weigh, propos, privatis, insur, inform...</td>\n      <td>[set, advisori, bodi, iib, collect, transact, ...</td>\n      <td>[agenciesther, view, insur, industri, iib, abl...</td>\n      <td>1</td>\n    </tr>\n    <tr>\n      <th>...</th>\n      <td>...</td>\n      <td>...</td>\n      <td>...</td>\n      <td>...</td>\n    </tr>\n    <tr>\n      <th>395</th>\n      <td>[bank, take, cue, rbi, hike, lend, rate]</td>\n      <td>[these, bank, rais, respect, extern, benchmark...</td>\n      <td>[ptiicici, bank, bank, baroda, punjab, nation,...</td>\n      <td>0</td>\n    </tr>\n    <tr>\n      <th>396</th>\n      <td>[sebi, issu, rs, lakh, recoveri, notic, indivi...</td>\n      <td>[in, event, non, payment, recov, amount, attac...</td>\n      <td>[reutersth, logo, secur, exchang, board, india...</td>\n      <td>0</td>\n    </tr>\n    <tr>\n      <th>397</th>\n      <td>[apollo, hospit, share, drop, sensex, fall]</td>\n      <td>[a, total, share, chang, hand, counter, till, ...</td>\n      <td>[getti, imagesshrik, chouhan, kotak, secur, sa...</td>\n      <td>0</td>\n    </tr>\n    <tr>\n      <th>398</th>\n      <td>[sbi, rs, what, make, analyst, see, upsid, stock]</td>\n      <td>[call, stock, attract, valu, analyst, price, t...</td>\n      <td>[agenciesth, psu, bank, report, per, cent, yoy...</td>\n      <td>1</td>\n    </tr>\n    <tr>\n      <th>399</th>\n      <td>[stock, market, updat, mine, stock, market, rise]</td>\n      <td>[the, share, bse, sensex, point]</td>\n      <td>[shutterstock, comagarw, said, global, economi...</td>\n      <td>1</td>\n    </tr>\n  </tbody>\n</table>\n<p>400 rows × 4 columns</p>\n</div>"
     },
     "execution_count": 225,
     "metadata": {},
     "output_type": "execute_result"
    }
   ],
   "source": [
    "# transform the label column to binary\n",
    "df['label'] = df['label'].apply(lambda x: 1 if x == 'Positive' else 0)\n",
    "\n",
    "df"
   ]
  },
  {
   "cell_type": "markdown",
   "source": [
    "Function to train and evaluate models"
   ],
   "metadata": {
    "collapsed": false
   }
  },
  {
   "cell_type": "code",
   "execution_count": 226,
   "metadata": {
    "ExecuteTime": {
     "end_time": "2024-02-29T15:29:18.567602Z",
     "start_time": "2024-02-29T15:29:18.562959Z"
    }
   },
   "outputs": [],
   "source": [
    "# Function to train and evaluate models\n",
    "def train_and_evaluate_model(X_train, X_test, y_train, y_test, model):\n",
    "    model.fit(X_train, y_train)\n",
    "    y_pred = model.predict(X_test)\n",
    "    cm = confusion_matrix(y_test, y_pred)\n",
    "    precision = precision_score(y_test, y_pred)\n",
    "    recall = recall_score(y_test, y_pred)\n",
    "    f1 = f1_score(y_test, y_pred)\n",
    "    return cm, precision, recall, f1\n"
   ]
  },
  {
   "cell_type": "markdown",
   "source": [
    "Let's define the models, token columns combinations, and feature representation methods."
   ],
   "metadata": {
    "collapsed": false
   }
  },
  {
   "cell_type": "code",
   "execution_count": 227,
   "metadata": {
    "ExecuteTime": {
     "end_time": "2024-02-29T15:29:18.575651Z",
     "start_time": "2024-02-29T15:29:18.569844Z"
    }
   },
   "outputs": [],
   "source": [
    "# Define models\n",
    "models = {\n",
    "    'Naive Bayes': MultinomialNB(),\n",
    "    'Logistic Regression': LogisticRegression(max_iter=10000),\n",
    "    'Decision Trees': DecisionTreeClassifier(),\n",
    "    'Random Forest': RandomForestClassifier(),\n",
    "    'Support Vector Machine': SVC(max_iter=1000),\n",
    "    'Multi-Layer Perceptron': MLPClassifier(max_iter=5000),\n",
    "    'XGBoost': XGBClassifier()\n",
    "}\n",
    "\n",
    "# Define feature representation methods\n",
    "feature_methods = {\n",
    "    'Bag of Words': CountVectorizer(),\n",
    "    'TF-IDF': TfidfVectorizer(),\n",
    "    'Word2Vec': Word2Vec()\n",
    "}\n"
   ]
  },
  {
   "cell_type": "code",
   "execution_count": 228,
   "metadata": {
    "ExecuteTime": {
     "end_time": "2024-02-29T15:30:48.685327Z",
     "start_time": "2024-02-29T15:29:18.576159Z"
    }
   },
   "outputs": [
    {
     "data": {
      "text/plain": "           Model                                      Token Columns  \\\n0    Naive Bayes                               headline_word_tokens   \n1    Naive Bayes                               headline_word_tokens   \n2    Naive Bayes                               synopsis_word_tokens   \n3    Naive Bayes                               synopsis_word_tokens   \n4    Naive Bayes                                   text_word_tokens   \n..           ...                                                ...   \n103      XGBoost             synopsis_word_tokens, text_word_tokens   \n104      XGBoost             synopsis_word_tokens, text_word_tokens   \n105      XGBoost  headline_word_tokens, synopsis_word_tokens, te...   \n106      XGBoost  headline_word_tokens, synopsis_word_tokens, te...   \n107      XGBoost  headline_word_tokens, synopsis_word_tokens, te...   \n\n    Feature Representation      Confusion Matrix  Precision    Recall  \\\n0             Bag of Words  [[41, 14], [28, 37]]   0.725490  0.569231   \n1                   TF-IDF  [[35, 20], [26, 39]]   0.661017  0.600000   \n2             Bag of Words  [[29, 26], [35, 30]]   0.535714  0.461538   \n3                   TF-IDF  [[25, 30], [25, 40]]   0.571429  0.615385   \n4             Bag of Words  [[42, 13], [35, 30]]   0.697674  0.461538   \n..                     ...                   ...        ...       ...   \n103                 TF-IDF  [[34, 21], [19, 46]]   0.686567  0.707692   \n104               Word2Vec  [[26, 29], [25, 40]]   0.579710  0.615385   \n105           Bag of Words  [[38, 17], [10, 55]]   0.763889  0.846154   \n106                 TF-IDF  [[32, 23], [12, 53]]   0.697368  0.815385   \n107               Word2Vec  [[29, 26], [27, 38]]   0.593750  0.584615   \n\n     F1-score  \n0    0.637931  \n1    0.629032  \n2    0.495868  \n3    0.592593  \n4    0.555556  \n..        ...  \n103  0.696970  \n104  0.597015  \n105  0.802920  \n106  0.751773  \n107  0.589147  \n\n[108 rows x 7 columns]",
      "text/html": "<div>\n<style scoped>\n    .dataframe tbody tr th:only-of-type {\n        vertical-align: middle;\n    }\n\n    .dataframe tbody tr th {\n        vertical-align: top;\n    }\n\n    .dataframe thead th {\n        text-align: right;\n    }\n</style>\n<table border=\"1\" class=\"dataframe\">\n  <thead>\n    <tr style=\"text-align: right;\">\n      <th></th>\n      <th>Model</th>\n      <th>Token Columns</th>\n      <th>Feature Representation</th>\n      <th>Confusion Matrix</th>\n      <th>Precision</th>\n      <th>Recall</th>\n      <th>F1-score</th>\n    </tr>\n  </thead>\n  <tbody>\n    <tr>\n      <th>0</th>\n      <td>Naive Bayes</td>\n      <td>headline_word_tokens</td>\n      <td>Bag of Words</td>\n      <td>[[41, 14], [28, 37]]</td>\n      <td>0.725490</td>\n      <td>0.569231</td>\n      <td>0.637931</td>\n    </tr>\n    <tr>\n      <th>1</th>\n      <td>Naive Bayes</td>\n      <td>headline_word_tokens</td>\n      <td>TF-IDF</td>\n      <td>[[35, 20], [26, 39]]</td>\n      <td>0.661017</td>\n      <td>0.600000</td>\n      <td>0.629032</td>\n    </tr>\n    <tr>\n      <th>2</th>\n      <td>Naive Bayes</td>\n      <td>synopsis_word_tokens</td>\n      <td>Bag of Words</td>\n      <td>[[29, 26], [35, 30]]</td>\n      <td>0.535714</td>\n      <td>0.461538</td>\n      <td>0.495868</td>\n    </tr>\n    <tr>\n      <th>3</th>\n      <td>Naive Bayes</td>\n      <td>synopsis_word_tokens</td>\n      <td>TF-IDF</td>\n      <td>[[25, 30], [25, 40]]</td>\n      <td>0.571429</td>\n      <td>0.615385</td>\n      <td>0.592593</td>\n    </tr>\n    <tr>\n      <th>4</th>\n      <td>Naive Bayes</td>\n      <td>text_word_tokens</td>\n      <td>Bag of Words</td>\n      <td>[[42, 13], [35, 30]]</td>\n      <td>0.697674</td>\n      <td>0.461538</td>\n      <td>0.555556</td>\n    </tr>\n    <tr>\n      <th>...</th>\n      <td>...</td>\n      <td>...</td>\n      <td>...</td>\n      <td>...</td>\n      <td>...</td>\n      <td>...</td>\n      <td>...</td>\n    </tr>\n    <tr>\n      <th>103</th>\n      <td>XGBoost</td>\n      <td>synopsis_word_tokens, text_word_tokens</td>\n      <td>TF-IDF</td>\n      <td>[[34, 21], [19, 46]]</td>\n      <td>0.686567</td>\n      <td>0.707692</td>\n      <td>0.696970</td>\n    </tr>\n    <tr>\n      <th>104</th>\n      <td>XGBoost</td>\n      <td>synopsis_word_tokens, text_word_tokens</td>\n      <td>Word2Vec</td>\n      <td>[[26, 29], [25, 40]]</td>\n      <td>0.579710</td>\n      <td>0.615385</td>\n      <td>0.597015</td>\n    </tr>\n    <tr>\n      <th>105</th>\n      <td>XGBoost</td>\n      <td>headline_word_tokens, synopsis_word_tokens, te...</td>\n      <td>Bag of Words</td>\n      <td>[[38, 17], [10, 55]]</td>\n      <td>0.763889</td>\n      <td>0.846154</td>\n      <td>0.802920</td>\n    </tr>\n    <tr>\n      <th>106</th>\n      <td>XGBoost</td>\n      <td>headline_word_tokens, synopsis_word_tokens, te...</td>\n      <td>TF-IDF</td>\n      <td>[[32, 23], [12, 53]]</td>\n      <td>0.697368</td>\n      <td>0.815385</td>\n      <td>0.751773</td>\n    </tr>\n    <tr>\n      <th>107</th>\n      <td>XGBoost</td>\n      <td>headline_word_tokens, synopsis_word_tokens, te...</td>\n      <td>Word2Vec</td>\n      <td>[[29, 26], [27, 38]]</td>\n      <td>0.593750</td>\n      <td>0.584615</td>\n      <td>0.589147</td>\n    </tr>\n  </tbody>\n</table>\n<p>108 rows × 7 columns</p>\n</div>"
     },
     "execution_count": 228,
     "metadata": {},
     "output_type": "execute_result"
    }
   ],
   "source": [
    "# Iterate through all models\n",
    "results = []\n",
    "for model_name, model in models.items():  # Iterate through all models\n",
    "    for i in range(1, len(word_tokens_columns) + 1):  # Iterate through all token columns combinations\n",
    "        for j in range(len(word_tokens_columns) - i + 1):\n",
    "            # Select token columns\n",
    "            selected_columns = word_tokens_columns[j:j + i]\n",
    "\n",
    "            # Concatenate tokens within each list\n",
    "            X = df[selected_columns].apply(lambda x: ' '.join([' '.join(item) for item in x]), axis=1)\n",
    "            y = df['label']\n",
    "\n",
    "            # Split the data into training and testing sets (70% training, 30% testing)\n",
    "            # Ensuring that the class distribution is preserved in the training and testing sets\n",
    "            X_train, X_test, y_train, y_test = train_test_split(X, y, test_size=0.3, random_state=42, stratify=y)\n",
    "            for method_name, method in feature_methods.items():\n",
    "                if method_name == 'Word2Vec':\n",
    "                    if model_name in ['Logistic Regression', 'Support Vector Machine', 'Multi-Layer Perceptron', 'XGBoost']:\n",
    "                        # Train Word2Vec model\n",
    "                        sentences = [text.split() for text in X_train]\n",
    "                        w2v_model = Word2Vec(sentences, vector_size=100, window=5, min_count=1, workers=4)\n",
    "\n",
    "                        # Generate embeddings\n",
    "                        X_train_embeddings = []\n",
    "                        for text in X_train:\n",
    "                            embedding = [w2v_model.wv[word] for word in text.split() if word in w2v_model.wv]\n",
    "                            if embedding:\n",
    "                                X_train_embeddings.append(sum(embedding)/len(embedding))\n",
    "                            else:\n",
    "                                # Handle out-of-vocabulary words (e.g., by using a special token or skipping)\n",
    "                                # Here, we're skipping the sentence if all words are out-of-vocabulary\n",
    "                                X_train_embeddings.append([0] * w2v_model.vector_size)  # or any other placeholder value\n",
    "\n",
    "                        # Similarly, generate embeddings for the test set\n",
    "                        X_test_embeddings = []\n",
    "                        for text in X_test:\n",
    "                            embedding = [w2v_model.wv[word] for word in text.split() if word in w2v_model.wv]\n",
    "                            if embedding:\n",
    "                                X_test_embeddings.append(sum(embedding) / len(embedding))\n",
    "                            else:\n",
    "                                # Handle out-of-vocabulary words\n",
    "                                X_test_embeddings.append([0] * w2v_model.vector_size)\n",
    "\n",
    "                        # Train and evaluate the model using the generated embeddings\n",
    "                        cm, precision, recall, f1 = train_and_evaluate_model(X_train_embeddings, X_test_embeddings, y_train, y_test, model)\n",
    "                    else:\n",
    "                        # Skip Word2Vec for models that don't support embeddings\n",
    "                        continue\n",
    "                else:\n",
    "                    # Vectorize text data\n",
    "                    X_train_vec = method.fit_transform(X_train)\n",
    "                    X_test_vec = method.transform(X_test)\n",
    "                    cm, precision, recall, f1 = train_and_evaluate_model(X_train_vec, X_test_vec, y_train, y_test, model)\n",
    "                result = {\n",
    "                    'Model': model_name,\n",
    "                    'Token Columns': ', '.join(selected_columns),\n",
    "                    'Feature Representation': method_name,\n",
    "                    'Confusion Matrix': cm,\n",
    "                    'Precision': precision,\n",
    "                    'Recall': recall,\n",
    "                    'F1-score': f1\n",
    "                }\n",
    "                # print(result)\n",
    "                results.append(result)\n",
    "\n",
    "# Visualize results\n",
    "results_df = pd.DataFrame(results)\n",
    "\n",
    "results_df\n"
   ]
  },
  {
   "cell_type": "code",
   "outputs": [
    {
     "data": {
      "text/plain": "             Model                               Token Columns  \\\n36  Decision Trees  headline_word_tokens, synopsis_word_tokens   \n\n   Feature Representation     Confusion Matrix  Precision    Recall  F1-score  \n36           Bag of Words  [[37, 18], [9, 56]]   0.756757  0.861538  0.805755  ",
      "text/html": "<div>\n<style scoped>\n    .dataframe tbody tr th:only-of-type {\n        vertical-align: middle;\n    }\n\n    .dataframe tbody tr th {\n        vertical-align: top;\n    }\n\n    .dataframe thead th {\n        text-align: right;\n    }\n</style>\n<table border=\"1\" class=\"dataframe\">\n  <thead>\n    <tr style=\"text-align: right;\">\n      <th></th>\n      <th>Model</th>\n      <th>Token Columns</th>\n      <th>Feature Representation</th>\n      <th>Confusion Matrix</th>\n      <th>Precision</th>\n      <th>Recall</th>\n      <th>F1-score</th>\n    </tr>\n  </thead>\n  <tbody>\n    <tr>\n      <th>36</th>\n      <td>Decision Trees</td>\n      <td>headline_word_tokens, synopsis_word_tokens</td>\n      <td>Bag of Words</td>\n      <td>[[37, 18], [9, 56]]</td>\n      <td>0.756757</td>\n      <td>0.861538</td>\n      <td>0.805755</td>\n    </tr>\n  </tbody>\n</table>\n</div>"
     },
     "execution_count": 230,
     "metadata": {},
     "output_type": "execute_result"
    }
   ],
   "source": [
    "# get the best performing model\n",
    "best_model = results_df[results_df['F1-score'] == results_df['F1-score'].max()]\n",
    "best_model"
   ],
   "metadata": {
    "collapsed": false,
    "ExecuteTime": {
     "end_time": "2024-02-29T15:50:37.003285Z",
     "start_time": "2024-02-29T15:50:36.994461Z"
    }
   },
   "execution_count": 230
  },
  {
   "cell_type": "code",
   "execution_count": null,
   "metadata": {},
   "outputs": [],
   "source": [
    "from collections import Counter\n",
    "from itertools import chain\n",
    "\n",
    "# Flatten the list of lists\n",
    "all_words = list(chain.from_iterable(news['headline_word_tokens']))\n",
    "\n",
    "# Count the frequency of each word\n",
    "word_freq = Counter(all_words)\n",
    "\n",
    "# Get the top N words and their frequencies\n",
    "top_words = word_freq.most_common(10)\n",
    "\n",
    "# Extract words and frequencies\n",
    "top_words, freq = zip(*top_words)\n",
    "\n",
    "# Plot the bar chart\n",
    "plt.figure(figsize=(10, 5))\n",
    "plt.bar(top_words, freq)\n",
    "plt.xlabel('Words')\n",
    "plt.ylabel('Frequency')\n",
    "plt.title('Top 10 Words Frequency')\n",
    "plt.xticks(rotation=45)\n",
    "plt.show()"
   ]
  },
  {
   "cell_type": "code",
   "execution_count": null,
   "metadata": {},
   "outputs": [],
   "source": [
    "import matplotlib.pyplot as plt\n",
    "from collections import Counter\n",
    "from itertools import chain\n",
    "\n",
    "# Flatten the list of lists\n",
    "all_words = list(chain.from_iterable(news['headline_word_tokens']))\n",
    "\n",
    "# Count the frequency of each word\n",
    "word_freq = Counter(all_words)\n",
    "\n",
    "# Sort words by frequency\n",
    "sorted_words = sorted(word_freq.items(), key=lambda x: x[1], reverse=True)\n",
    "\n",
    "# Extract sorted words and frequencies\n",
    "words, freq = zip(*sorted_words)\n",
    "\n",
    "# Plot the bar chart with all words sorted by frequency\n",
    "plt.figure(figsize=(12, 6))\n",
    "plt.bar(words, freq)\n",
    "plt.xlabel('Words')\n",
    "plt.ylabel('Frequency')\n",
    "plt.title('Words Frequency (Sorted by Frequency)')\n",
    "plt.xticks(rotation=90)  # Rotate x-axis labels for better readability\n",
    "plt.show()"
   ]
  },
  {
   "cell_type": "code",
   "execution_count": null,
   "metadata": {},
   "outputs": [],
   "source": [
    "from vaderSentiment.vaderSentiment import SentimentIntensityAnalyzer\n",
    "import pandas as pd\n",
    "\n",
    "# Initialize VADER sentiment analyzer\n",
    "vader_analyzer = SentimentIntensityAnalyzer()\n",
    "news_2 = pd.read_csv('data/Fin_cleaned.csv', encoding='utf-8')\n",
    "news_2.isna().sum()\n",
    "news_2.dropna(inplace=True)\n",
    "\n",
    "news_2 = news_2.drop(['Date_published', 'Headline', 'Synopsis'], axis=1)"
   ]
  },
  {
   "cell_type": "code",
   "execution_count": null,
   "metadata": {},
   "outputs": [],
   "source": [
    "news_2['Scores'] = news_2['Full_text'].apply(lambda Full_text: vader_analyzer.polarity_scores(Full_text))\n",
    "news_2['Compound'] = news_2['Scores'].apply(lambda d: d['compound'])\n",
    "\n",
    "news_2"
   ]
  },
  {
   "cell_type": "code",
   "execution_count": null,
   "metadata": {},
   "outputs": [],
   "source": [
    "import matplotlib.pyplot as plt\n",
    "\n",
    "# Plot scores of each category\n",
    "plt.figure(figsize=(10, 6))\n",
    "for score_name in ['neg', 'neu', 'pos']:\n",
    "    plt.plot(news_2['Scores'].apply(lambda x: x[score_name]), label=score_name)\n",
    "\n",
    "plt.title('VADER Scores')\n",
    "plt.xlabel('Record Index')\n",
    "plt.ylabel('Score')\n",
    "plt.legend()\n",
    "plt.show()"
   ]
  },
  {
   "cell_type": "code",
   "execution_count": null,
   "metadata": {},
   "outputs": [],
   "source": [
    "# Plot compound score\n",
    "plt.figure(figsize=(10, 6))\n",
    "plt.plot(news_2['Compound'], label='Compound')\n",
    "\n",
    "plt.title('VADER Compound Score')\n",
    "plt.xlabel('Record Index')\n",
    "plt.ylabel('Score')\n",
    "plt.legend()\n",
    "plt.show()"
   ]
  }
 ],
 "metadata": {
  "kernelspec": {
   "display_name": "base",
   "language": "python",
   "name": "python3"
  },
  "language_info": {
   "codemirror_mode": {
    "name": "ipython",
    "version": 3
   },
   "file_extension": ".py",
   "mimetype": "text/x-python",
   "name": "python",
   "nbconvert_exporter": "python",
   "pygments_lexer": "ipython3",
   "version": "3.11.5"
  }
 },
 "nbformat": 4,
 "nbformat_minor": 2
}
